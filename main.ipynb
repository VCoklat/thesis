import os
from kaggle.api.kaggle_api_extended import KaggleApi

# Initialize Kaggle API
api = KaggleApi()
api.authenticate()

# Define the dataset and the download location
dataset = 'kmader/skin-cancer-mnist-ham10000'
download_location = 'datasets/ham10000'

# Create the download directory if it doesn't exist
if not os.path.exists(download_location):
    os.makedirs(download_location)

# Download the dataset
api.dataset_download_files(dataset, path=download_location, unzip=True)

print("HAM10000 dataset downloaded successfully.")
