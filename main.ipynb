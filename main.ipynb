{
 "cells": [
  {
   "cell_type": "code",
   "execution_count": null,
   "metadata": {},
   "outputs": [],
   "source": [
    "import os\n",
    "import pandas as pd\n",
    "from sklearn.model_selection import train_test_split\n",
    "from torchvision import transforms, datasets\n",
    "from torch.utils.data import Dataset, DataLoader\n",
    "from PIL import Image"
   ]
  },
  {
   "cell_type": "code",
   "execution_count": null,
   "metadata": {},
   "outputs": [],
   "source": [
    "class HAM10000Dataset(Dataset):\n",
    "    def __init__(self, csv_file, img_dirs, transform=None):\n",
    "        self.data = pd.read_csv(csv_file)\n",
    "        self.img_dirs = img_dirs\n",
    "        self.transform = transform\n",
    "        self.label_map = {label: idx for idx, label in enumerate(self.data['dx'].unique())}\n",
    "\n",
    "    def __len__(self):\n",
    "        return len(self.data)\n",
    "\n",
    "    def __getitem__(self, idx):\n",
    "        img_name = self.data.iloc[idx]['image_id'] + '.jpg'\n",
    "        img_path = None\n",
    "        for dir in self.img_dirs:\n",
    "            if os.path.exists(os.path.join(dir, img_name)):\n",
    "                img_path = os.path.join(dir, img_name)\n",
    "                break\n",
    "        if img_path is None:\n",
    "            raise FileNotFoundError(f\"Image {img_name} not found in any of the specified directories.\")\n",
    "        \n",
    "        image = Image.open(img_path).convert('RGB')\n",
    "        label = self.label_map[self.data.iloc[idx]['dx']]\n",
    "        \n",
    "        if self.transform:\n",
    "            image = self.transform(image)\n",
    "        \n",
    "        return image, label"
   ]
  },
  {
   "cell_type": "code",
   "execution_count": null,
   "metadata": {},
   "outputs": [],
   "source": [
    "# Setting the Metadata Path\n",
    "metadata_path = '../input/skin-cancer-mnist-ham10000/HAM10000_metadata.csv'\n",
    "\n",
    "# Loading the Metadata\n",
    "metadata = pd.read_csv(metadata_path)\n",
    "\n",
    "# Checking the Number of Unique Images\n",
    "print(f'Total number of images: {len(metadata)}')"
   ]
  },
  {
   "cell_type": "code",
   "execution_count": null,
   "metadata": {},
   "outputs": [],
   "source": [
    "# Splitting the metadata into training and testing sets\n",
    "train_metadata, test_metadata = train_test_split(metadata, test_size=0.99, random_state=42)\n",
    "\n",
    "# Saving the split metadata to CSV files\n",
    "train_metadata.to_csv('train_metadata.csv', index=False)\n",
    "test_metadata.to_csv('test_metadata.csv', index=False)"
   ]
  },
  {
   "cell_type": "code",
   "execution_count": null,
   "metadata": {},
   "outputs": [],
   "source": [
    "# Defining Image Directories\n",
    "img_dirs = [\n",
    "    '../input/skin-cancer-mnist-ham10000/HAM10000_images_part_1',\n",
    "    '../input/skin-cancer-mnist-ham10000/HAM10000_images_part_2'\n",
    "]\n",
    "\n",
    "# Purpose of Image Directories\n",
    "# These directories are likely part of the dataset's structure, where the images have been split into multiple parts for organizational purposes.\n",
    "# By listing these directories, the code can later iterate through them to locate and load the images as needed.\n",
    "\n",
    "# This setup is crucial for managing and accessing the image files efficiently.\n",
    "# By specifying the directories in a list, the code can easily handle the images regardless of their distribution across multiple folders.\n",
    "# This approach simplifies the process of loading and preprocessing the images for further analysis or model training."
   ]
  },
  {
   "cell_type": "code",
   "execution_count": null,
   "metadata": {},
   "outputs": [],
   "source": [
    "transform = transforms.Compose([\n",
    "    transforms.Resize((64, 64)),  # Resize images to 64x64\n",
    "    transforms.ToTensor(),        # Convert to PyTorch tensor\n",
    "    transforms.Normalize(mean=[0.5, 0.5, 0.5], std=[0.5, 0.5, 0.5])  # Normalize\n",
    "])"
   ]
  },
  {
   "cell_type": "code",
   "execution_count": null,
   "metadata": {
    "vscode": {
     "languageId": "julia"
    }
   },
   "outputs": [],
   "source": [
    "# Creating Datasets\n",
    "train_dataset = HAM10000Dataset(csv_file='train_metadata.csv', img_dirs=img_dirs, transform=transform)\n",
    "test_dataset = HAM10000Dataset(csv_file='test_metadata.csv', img_dirs=img_dirs, transform=transform)\n",
    "\n",
    "# Creating DataLoaders\n",
    "train_loader = DataLoader(train_dataset, batch_size=4, shuffle=True, num_workers=2)\n",
    "test_loader = DataLoader(test_dataset, batch_size=4, shuffle=False, num_workers=2)\n",
    "\n",
    "# Printing Dataset Sizes\n",
    "print(f'Training dataset size: {len(train_dataset)}')\n",
    "print(f'Testing dataset size: {len(test_dataset)}')"
   ]
  },
  {
   "cell_type": "code",
   "execution_count": null,
   "metadata": {},
   "outputs": [],
   "source": [
    "# Importing Matplotlib\n",
    "import matplotlib.pyplot as plt\n",
    "\n",
    "# Loading a Batch of Images\n",
    "images, labels = next(iter(train_loader))\n",
    "\n",
    "# Printing the shapes of the image and label batches\n",
    "print(f'Image batch shape: {images.shape}')\n",
    "print(f'Label batch shape: {labels.shape}')\n",
    "\n",
    "# Creating a Figure for Display\n",
    "fig, axes = plt.subplots(1, 4, figsize=(12, 4))\n",
    "\n",
    "# Displaying the First 4 Images\n",
    "for i in range(4):\n",
    "    axes[i].imshow(images[i].permute(1, 2, 0).numpy() * 0.5 + 0.5)\n",
    "    axes[i].set_title(f\"Label: {labels[i].item()}\")\n",
    "    axes[i].axis(\"off\")\n",
    "\n",
    "# Showing the Figure\n",
    "plt.show()"
   ]
  },
  {
   "cell_type": "code",
   "execution_count": null,
   "metadata": {},
   "outputs": [],
   "source": [
    "import torch\n",
    "\n",
    "import torch.nn as nn\n",
    "\n",
    "# Self-Attention Class\n",
    "class SelfAttention(nn.Module):\n",
    "    def __init__(self, in_dim):\n",
    "        super(SelfAttention, self).__init__()\n",
    "        self.query_conv = nn.Conv2d(in_channels=in_dim, out_channels=in_dim // 8, kernel_size=1)\n",
    "        self.key_conv = nn.Conv2d(in_channels=in_dim, out_channels=in_dim // 8, kernel_size=1)\n",
    "        self.value_conv = nn.Conv2d(in_channels=in_dim, out_channels=in_dim, kernel_size=1)\n",
    "        self.gamma = nn.Parameter(torch.zeros(1))\n",
    "\n",
    "    def forward(self, x):\n",
    "        batch_size, C, width, height = x.size()\n",
    "        proj_query = self.query_conv(x).view(batch_size, -1, width * height).permute(0, 2, 1)\n",
    "        proj_key = self.key_conv(x).view(batch_size, -1, width * height)\n",
    "        energy = torch.bmm(proj_query, proj_key)\n",
    "        attention = torch.softmax(energy, dim=-1)\n",
    "        proj_value = self.value_conv(x).view(batch_size, -1, width * height)\n",
    "        out = torch.bmm(proj_value, attention.permute(0, 2, 1))\n",
    "        out = out.view(batch_size, C, width, height)\n",
    "        out = self.gamma * out + x\n",
    "        return out\n",
    "\n",
    "# Residual Block Class\n",
    "class ResidualBlock(nn.Module):\n",
    "    def __init__(self, in_channels):\n",
    "        super(ResidualBlock, self).__init__()\n",
    "        self.block = nn.Sequential(\n",
    "            nn.Conv2d(in_channels, in_channels, kernel_size=3, stride=1, padding=1),\n",
    "            nn.BatchNorm2d(in_channels),\n",
    "            nn.ReLU(inplace=True),\n",
    "            nn.Conv2d(in_channels, in_channels, kernel_size=3, stride=1, padding=1),\n",
    "            nn.BatchNorm2d(in_channels)\n",
    "        )\n",
    "\n",
    "    def forward(self, x):\n",
    "        return x + self.block(x)\n",
    "\n",
    "# Generator Class\n",
    "class Generator(nn.Module):\n",
    "    def __init__(self, latent_dim, img_channels, img_size):\n",
    "        super(Generator, self).__init__()\n",
    "        self.init_size = img_size // 4\n",
    "        self.l1 = nn.Sequential(nn.Linear(latent_dim, 128 * self.init_size ** 2))\n",
    "\n",
    "        self.conv_blocks = nn.Sequential(\n",
    "            nn.BatchNorm2d(128),\n",
    "            nn.Upsample(scale_factor=2),\n",
    "            nn.Conv2d(128, 128, kernel_size=3, stride=1, padding=1),\n",
    "            nn.BatchNorm2d(128, 0.8),\n",
    "            nn.ReLU(inplace=True),\n",
    "            nn.Upsample(scale_factor=2),\n",
    "            nn.Conv2d(128, 64, kernel_size=3, stride=1, padding=1),\n",
    "            nn.BatchNorm2d(64, 0.8),\n",
    "            nn.ReLU(inplace=True),\n",
    "            nn.Conv2d(64, img_channels, kernel_size=3, stride=1, padding=1),\n",
    "            nn.Tanh()\n",
    "        )\n",
    "\n",
    "        self.res_block = ResidualBlock(128)\n",
    "        self.attention = SelfAttention(128)\n",
    "\n",
    "    def forward(self, z):\n",
    "        out = self.l1(z)\n",
    "        out = out.view(out.shape[0], 128, self.init_size, self.init_size)\n",
    "        out = self.res_block(out)\n",
    "        out = self.attention(out)\n",
    "        img = self.conv_blocks(out)\n",
    "        return img\n",
    "\n",
    "# Instantiating and Testing the Generator\n",
    "latent_dim = 100\n",
    "img_channels = 3\n",
    "img_size = 64\n",
    "\n",
    "device = torch.device(\"cuda\" if torch.cuda.is_available() else \"cpu\")\n",
    "generator = Generator(latent_dim, img_channels, img_size).to(device)\n",
    "\n",
    "# Generate a batch of images\n",
    "z = torch.randn(4, latent_dim).to(device)\n",
    "generated_images = generator(z)\n",
    "\n",
    "# Print the shape of the generated images\n",
    "print(f'Generated images shape: {generated_images.shape}')"
   ]
  },
  {
   "cell_type": "code",
   "execution_count": null,
   "metadata": {},
   "outputs": [],
   "source": []
  }
 ],
 "metadata": {
  "kaggle": {
   "accelerator": "nvidiaTeslaT4",
   "dataSources": [
    {
     "datasetId": 54339,
     "sourceId": 104884,
     "sourceType": "datasetVersion"
    }
   ],
   "dockerImageVersionId": 30787,
   "isGpuEnabled": true,
   "isInternetEnabled": true,
   "language": "python",
   "sourceType": "notebook"
  },
  "kernelspec": {
   "display_name": "Python 3",
   "language": "python",
   "name": "python3"
  },
  "language_info": {
   "codemirror_mode": {
    "name": "ipython",
    "version": 3
   },
   "file_extension": ".py",
   "mimetype": "text/x-python",
   "name": "python",
   "nbconvert_exporter": "python",
   "pygments_lexer": "ipython3",
   "version": "3.10.14"
  }
 },
 "nbformat": 4,
 "nbformat_minor": 4
}
