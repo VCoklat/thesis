{
 "cells": [
  {
   "cell_type": "code",
   "execution_count": 1,
   "id": "71b76eb7",
   "metadata": {
    "collapsed": true,
    "execution": {
     "iopub.execute_input": "2025-01-03T13:24:00.793703Z",
     "iopub.status.busy": "2025-01-03T13:24:00.793034Z",
     "iopub.status.idle": "2025-01-03T13:24:10.414151Z",
     "shell.execute_reply": "2025-01-03T13:24:10.413306Z"
    },
    "jupyter": {
     "outputs_hidden": true
    },
    "papermill": {
     "duration": 9.626896,
     "end_time": "2025-01-03T13:24:10.416240",
     "exception": false,
     "start_time": "2025-01-03T13:24:00.789344",
     "status": "completed"
    },
    "tags": []
   },
   "outputs": [
    {
     "name": "stdout",
     "output_type": "stream",
     "text": [
      "Requirement already satisfied: torch in /opt/conda/lib/python3.10/site-packages (2.4.0)\r\n",
      "Requirement already satisfied: torchvision in /opt/conda/lib/python3.10/site-packages (0.19.0)\r\n",
      "Requirement already satisfied: tqdm in /opt/conda/lib/python3.10/site-packages (4.66.4)\r\n",
      "Requirement already satisfied: pillow in /opt/conda/lib/python3.10/site-packages (10.3.0)\r\n",
      "Requirement already satisfied: filelock in /opt/conda/lib/python3.10/site-packages (from torch) (3.15.1)\r\n",
      "Requirement already satisfied: typing-extensions>=4.8.0 in /opt/conda/lib/python3.10/site-packages (from torch) (4.12.2)\r\n",
      "Requirement already satisfied: sympy in /opt/conda/lib/python3.10/site-packages (from torch) (1.13.3)\r\n",
      "Requirement already satisfied: networkx in /opt/conda/lib/python3.10/site-packages (from torch) (3.3)\r\n",
      "Requirement already satisfied: jinja2 in /opt/conda/lib/python3.10/site-packages (from torch) (3.1.4)\r\n",
      "Requirement already satisfied: fsspec in /opt/conda/lib/python3.10/site-packages (from torch) (2024.6.0)\r\n",
      "Requirement already satisfied: numpy in /opt/conda/lib/python3.10/site-packages (from torchvision) (1.26.4)\r\n",
      "Requirement already satisfied: MarkupSafe>=2.0 in /opt/conda/lib/python3.10/site-packages (from jinja2->torch) (2.1.5)\r\n",
      "Requirement already satisfied: mpmath<1.4,>=1.1.0 in /opt/conda/lib/python3.10/site-packages (from sympy->torch) (1.3.0)\r\n"
     ]
    }
   ],
   "source": [
    "!pip install torch torchvision tqdm pillow"
   ]
  },
  {
   "cell_type": "code",
   "execution_count": 2,
   "id": "59e77ef2",
   "metadata": {
    "execution": {
     "iopub.execute_input": "2025-01-03T13:24:10.422504Z",
     "iopub.status.busy": "2025-01-03T13:24:10.422182Z",
     "iopub.status.idle": "2025-01-03T17:49:54.418621Z",
     "shell.execute_reply": "2025-01-03T17:49:54.417487Z"
    },
    "papermill": {
     "duration": 15944.00259,
     "end_time": "2025-01-03T17:49:54.421128",
     "exception": false,
     "start_time": "2025-01-03T13:24:10.418538",
     "status": "completed"
    },
    "tags": []
   },
   "outputs": [
    {
     "name": "stdout",
     "output_type": "stream",
     "text": [
      "Using device: cuda\n"
     ]
    },
    {
     "name": "stderr",
     "output_type": "stream",
     "text": [
      "/opt/conda/lib/python3.10/site-packages/torchvision/models/_utils.py:208: UserWarning: The parameter 'pretrained' is deprecated since 0.13 and may be removed in the future, please use 'weights' instead.\n",
      "  warnings.warn(\n",
      "/opt/conda/lib/python3.10/site-packages/torchvision/models/_utils.py:223: UserWarning: Arguments other than a weight enum or `None` for 'weights' are deprecated since 0.13 and may be removed in the future. The current behavior is equivalent to passing `weights=ResNet50_Weights.IMAGENET1K_V1`. You can also use `weights=ResNet50_Weights.DEFAULT` to get the most up-to-date weights.\n",
      "  warnings.warn(msg)\n",
      "Downloading: \"https://download.pytorch.org/models/resnet50-0676ba61.pth\" to /root/.cache/torch/hub/checkpoints/resnet50-0676ba61.pth\n",
      "100%|██████████| 97.8M/97.8M [00:00<00:00, 208MB/s]\n"
     ]
    },
    {
     "name": "stdout",
     "output_type": "stream",
     "text": [
      "\n",
      "Epoch 1/50\n"
     ]
    },
    {
     "name": "stderr",
     "output_type": "stream",
     "text": [
      "  0%|          | 1/313 [00:02<14:40,  2.82s/it]"
     ]
    },
    {
     "name": "stdout",
     "output_type": "stream",
     "text": [
      "Batch [0/313], Loss: 1.9037, Class Loss: 1.9033, G Loss: 0.0038\n"
     ]
    },
    {
     "name": "stderr",
     "output_type": "stream",
     "text": [
      " 32%|███▏      | 101/313 [00:45<01:30,  2.33it/s]"
     ]
    },
    {
     "name": "stdout",
     "output_type": "stream",
     "text": [
      "Batch [100/313], Loss: 0.7520, Class Loss: 0.7520, G Loss: 0.0000\n"
     ]
    },
    {
     "name": "stderr",
     "output_type": "stream",
     "text": [
      " 64%|██████▍   | 201/313 [01:28<00:48,  2.33it/s]"
     ]
    },
    {
     "name": "stdout",
     "output_type": "stream",
     "text": [
      "Batch [200/313], Loss: 0.8224, Class Loss: 0.8224, G Loss: 0.0000\n"
     ]
    },
    {
     "name": "stderr",
     "output_type": "stream",
     "text": [
      " 96%|█████████▌| 301/313 [02:11<00:05,  2.33it/s]"
     ]
    },
    {
     "name": "stdout",
     "output_type": "stream",
     "text": [
      "Batch [300/313], Loss: 0.7610, Class Loss: 0.7610, G Loss: 0.0000\n"
     ]
    },
    {
     "name": "stderr",
     "output_type": "stream",
     "text": [
      "100%|██████████| 313/313 [02:16<00:00,  2.29it/s]\n"
     ]
    },
    {
     "name": "stdout",
     "output_type": "stream",
     "text": [
      "Average loss: 0.8914\n",
      "\n",
      "Evaluating 2-way tasks...\n",
      "Episode 100/2000, Running Avg Accuracy: 0.7000\n",
      "Episode 200/2000, Running Avg Accuracy: 0.6900\n",
      "Episode 300/2000, Running Avg Accuracy: 0.7067\n",
      "Episode 400/2000, Running Avg Accuracy: 0.6975\n",
      "Episode 500/2000, Running Avg Accuracy: 0.6960\n",
      "Episode 600/2000, Running Avg Accuracy: 0.7008\n",
      "Episode 700/2000, Running Avg Accuracy: 0.7064\n",
      "Episode 800/2000, Running Avg Accuracy: 0.7131\n",
      "Episode 900/2000, Running Avg Accuracy: 0.7167\n",
      "Episode 1000/2000, Running Avg Accuracy: 0.7130\n",
      "Episode 1100/2000, Running Avg Accuracy: 0.7118\n",
      "Episode 1200/2000, Running Avg Accuracy: 0.7108\n",
      "Episode 1300/2000, Running Avg Accuracy: 0.7127\n",
      "Episode 1400/2000, Running Avg Accuracy: 0.7143\n",
      "Episode 1500/2000, Running Avg Accuracy: 0.7183\n",
      "Episode 1600/2000, Running Avg Accuracy: 0.7172\n",
      "Episode 1700/2000, Running Avg Accuracy: 0.7159\n",
      "Episode 1800/2000, Running Avg Accuracy: 0.7144\n",
      "Episode 1900/2000, Running Avg Accuracy: 0.7139\n",
      "Episode 2000/2000, Running Avg Accuracy: 0.7137\n",
      "\n",
      "Final Average Accuracy over 2000 episodes: 0.7137\n",
      "Average accuracy over 2000 episodes: 0.7137\n",
      "\n",
      "Epoch 2/50\n"
     ]
    },
    {
     "name": "stderr",
     "output_type": "stream",
     "text": [
      "  0%|          | 1/313 [00:01<05:47,  1.11s/it]"
     ]
    },
    {
     "name": "stdout",
     "output_type": "stream",
     "text": [
      "Batch [0/313], Loss: 0.6947, Class Loss: 0.6947, G Loss: 0.0000\n"
     ]
    },
    {
     "name": "stderr",
     "output_type": "stream",
     "text": [
      " 32%|███▏      | 101/313 [00:43<01:30,  2.33it/s]"
     ]
    },
    {
     "name": "stdout",
     "output_type": "stream",
     "text": [
      "Batch [100/313], Loss: 0.6296, Class Loss: 0.6296, G Loss: 0.0000\n"
     ]
    },
    {
     "name": "stderr",
     "output_type": "stream",
     "text": [
      " 64%|██████▍   | 201/313 [01:26<00:48,  2.33it/s]"
     ]
    },
    {
     "name": "stdout",
     "output_type": "stream",
     "text": [
      "Batch [200/313], Loss: 0.5115, Class Loss: 0.5115, G Loss: 0.0000\n"
     ]
    },
    {
     "name": "stderr",
     "output_type": "stream",
     "text": [
      " 96%|█████████▌| 301/313 [02:09<00:05,  2.32it/s]"
     ]
    },
    {
     "name": "stdout",
     "output_type": "stream",
     "text": [
      "Batch [300/313], Loss: 0.8253, Class Loss: 0.8253, G Loss: 0.0000\n"
     ]
    },
    {
     "name": "stderr",
     "output_type": "stream",
     "text": [
      "100%|██████████| 313/313 [02:14<00:00,  2.32it/s]\n"
     ]
    },
    {
     "name": "stdout",
     "output_type": "stream",
     "text": [
      "Average loss: 0.6716\n",
      "\n",
      "Evaluating 2-way tasks...\n",
      "Episode 100/2000, Running Avg Accuracy: 0.7750\n",
      "Episode 200/2000, Running Avg Accuracy: 0.7775\n",
      "Episode 300/2000, Running Avg Accuracy: 0.7850\n",
      "Episode 400/2000, Running Avg Accuracy: 0.7762\n",
      "Episode 500/2000, Running Avg Accuracy: 0.7770\n",
      "Episode 600/2000, Running Avg Accuracy: 0.7683\n",
      "Episode 700/2000, Running Avg Accuracy: 0.7693\n",
      "Episode 800/2000, Running Avg Accuracy: 0.7694\n",
      "Episode 900/2000, Running Avg Accuracy: 0.7789\n",
      "Episode 1000/2000, Running Avg Accuracy: 0.7725\n",
      "Episode 1100/2000, Running Avg Accuracy: 0.7768\n",
      "Episode 1200/2000, Running Avg Accuracy: 0.7783\n",
      "Episode 1300/2000, Running Avg Accuracy: 0.7758\n",
      "Episode 1400/2000, Running Avg Accuracy: 0.7779\n",
      "Episode 1500/2000, Running Avg Accuracy: 0.7770\n",
      "Episode 1600/2000, Running Avg Accuracy: 0.7800\n",
      "Episode 1700/2000, Running Avg Accuracy: 0.7774\n",
      "Episode 1800/2000, Running Avg Accuracy: 0.7794\n",
      "Episode 1900/2000, Running Avg Accuracy: 0.7792\n",
      "Episode 2000/2000, Running Avg Accuracy: 0.7792\n",
      "\n",
      "Final Average Accuracy over 2000 episodes: 0.7792\n",
      "Average accuracy over 2000 episodes: 0.7792\n",
      "\n",
      "Epoch 3/50\n"
     ]
    },
    {
     "name": "stderr",
     "output_type": "stream",
     "text": [
      "  0%|          | 1/313 [00:01<05:55,  1.14s/it]"
     ]
    },
    {
     "name": "stdout",
     "output_type": "stream",
     "text": [
      "Batch [0/313], Loss: 0.4177, Class Loss: 0.4177, G Loss: 0.0000\n"
     ]
    },
    {
     "name": "stderr",
     "output_type": "stream",
     "text": [
      " 32%|███▏      | 101/313 [00:43<01:30,  2.34it/s]"
     ]
    },
    {
     "name": "stdout",
     "output_type": "stream",
     "text": [
      "Batch [100/313], Loss: 0.5645, Class Loss: 0.5645, G Loss: 0.0000\n"
     ]
    },
    {
     "name": "stderr",
     "output_type": "stream",
     "text": [
      " 64%|██████▍   | 201/313 [01:26<00:47,  2.33it/s]"
     ]
    },
    {
     "name": "stdout",
     "output_type": "stream",
     "text": [
      "Batch [200/313], Loss: 0.6308, Class Loss: 0.6308, G Loss: 0.0000\n"
     ]
    },
    {
     "name": "stderr",
     "output_type": "stream",
     "text": [
      " 96%|█████████▌| 301/313 [02:09<00:05,  2.34it/s]"
     ]
    },
    {
     "name": "stdout",
     "output_type": "stream",
     "text": [
      "Batch [300/313], Loss: 0.3072, Class Loss: 0.3072, G Loss: 0.0000\n"
     ]
    },
    {
     "name": "stderr",
     "output_type": "stream",
     "text": [
      "100%|██████████| 313/313 [02:14<00:00,  2.32it/s]\n"
     ]
    },
    {
     "name": "stdout",
     "output_type": "stream",
     "text": [
      "Average loss: 0.5257\n",
      "\n",
      "Evaluating 2-way tasks...\n",
      "Episode 100/2000, Running Avg Accuracy: 0.8000\n",
      "Episode 200/2000, Running Avg Accuracy: 0.7850\n",
      "Episode 300/2000, Running Avg Accuracy: 0.7867\n",
      "Episode 400/2000, Running Avg Accuracy: 0.7913\n",
      "Episode 500/2000, Running Avg Accuracy: 0.7840\n",
      "Episode 600/2000, Running Avg Accuracy: 0.7892\n",
      "Episode 700/2000, Running Avg Accuracy: 0.7843\n",
      "Episode 800/2000, Running Avg Accuracy: 0.7831\n",
      "Episode 900/2000, Running Avg Accuracy: 0.7856\n",
      "Episode 1000/2000, Running Avg Accuracy: 0.7905\n",
      "Episode 1100/2000, Running Avg Accuracy: 0.7927\n",
      "Episode 1200/2000, Running Avg Accuracy: 0.7942\n",
      "Episode 1300/2000, Running Avg Accuracy: 0.7927\n",
      "Episode 1400/2000, Running Avg Accuracy: 0.7957\n",
      "Episode 1500/2000, Running Avg Accuracy: 0.7963\n",
      "Episode 1600/2000, Running Avg Accuracy: 0.7994\n",
      "Episode 1700/2000, Running Avg Accuracy: 0.8032\n",
      "Episode 1800/2000, Running Avg Accuracy: 0.8050\n",
      "Episode 1900/2000, Running Avg Accuracy: 0.8050\n",
      "Episode 2000/2000, Running Avg Accuracy: 0.8073\n",
      "\n",
      "Final Average Accuracy over 2000 episodes: 0.8073\n",
      "Average accuracy over 2000 episodes: 0.8073\n",
      "\n",
      "Epoch 4/50\n"
     ]
    },
    {
     "name": "stderr",
     "output_type": "stream",
     "text": [
      "  0%|          | 1/313 [00:01<05:53,  1.13s/it]"
     ]
    },
    {
     "name": "stdout",
     "output_type": "stream",
     "text": [
      "Batch [0/313], Loss: 0.3785, Class Loss: 0.3785, G Loss: 0.0000\n"
     ]
    },
    {
     "name": "stderr",
     "output_type": "stream",
     "text": [
      " 32%|███▏      | 101/313 [00:43<01:31,  2.33it/s]"
     ]
    },
    {
     "name": "stdout",
     "output_type": "stream",
     "text": [
      "Batch [100/313], Loss: 0.4156, Class Loss: 0.4156, G Loss: 0.0000\n"
     ]
    },
    {
     "name": "stderr",
     "output_type": "stream",
     "text": [
      " 64%|██████▍   | 201/313 [01:26<00:47,  2.34it/s]"
     ]
    },
    {
     "name": "stdout",
     "output_type": "stream",
     "text": [
      "Batch [200/313], Loss: 0.3547, Class Loss: 0.3547, G Loss: 0.0000\n"
     ]
    },
    {
     "name": "stderr",
     "output_type": "stream",
     "text": [
      " 96%|█████████▌| 301/313 [02:09<00:05,  2.34it/s]"
     ]
    },
    {
     "name": "stdout",
     "output_type": "stream",
     "text": [
      "Batch [300/313], Loss: 0.3245, Class Loss: 0.3245, G Loss: 0.0000\n"
     ]
    },
    {
     "name": "stderr",
     "output_type": "stream",
     "text": [
      "100%|██████████| 313/313 [02:14<00:00,  2.32it/s]\n"
     ]
    },
    {
     "name": "stdout",
     "output_type": "stream",
     "text": [
      "Average loss: 0.4124\n",
      "\n",
      "Evaluating 2-way tasks...\n",
      "Episode 100/2000, Running Avg Accuracy: 0.8800\n",
      "Episode 200/2000, Running Avg Accuracy: 0.8800\n",
      "Episode 300/2000, Running Avg Accuracy: 0.8900\n",
      "Episode 400/2000, Running Avg Accuracy: 0.8788\n",
      "Episode 500/2000, Running Avg Accuracy: 0.8750\n",
      "Episode 600/2000, Running Avg Accuracy: 0.8758\n",
      "Episode 700/2000, Running Avg Accuracy: 0.8657\n",
      "Episode 800/2000, Running Avg Accuracy: 0.8669\n",
      "Episode 900/2000, Running Avg Accuracy: 0.8689\n",
      "Episode 1000/2000, Running Avg Accuracy: 0.8695\n",
      "Episode 1100/2000, Running Avg Accuracy: 0.8709\n",
      "Episode 1200/2000, Running Avg Accuracy: 0.8725\n",
      "Episode 1300/2000, Running Avg Accuracy: 0.8723\n",
      "Episode 1400/2000, Running Avg Accuracy: 0.8743\n",
      "Episode 1500/2000, Running Avg Accuracy: 0.8747\n",
      "Episode 1600/2000, Running Avg Accuracy: 0.8734\n",
      "Episode 1700/2000, Running Avg Accuracy: 0.8732\n",
      "Episode 1800/2000, Running Avg Accuracy: 0.8758\n",
      "Episode 1900/2000, Running Avg Accuracy: 0.8766\n",
      "Episode 2000/2000, Running Avg Accuracy: 0.8775\n",
      "\n",
      "Final Average Accuracy over 2000 episodes: 0.8775\n",
      "Average accuracy over 2000 episodes: 0.8775\n",
      "\n",
      "Epoch 5/50\n"
     ]
    },
    {
     "name": "stderr",
     "output_type": "stream",
     "text": [
      "  0%|          | 1/313 [00:01<05:42,  1.10s/it]"
     ]
    },
    {
     "name": "stdout",
     "output_type": "stream",
     "text": [
      "Batch [0/313], Loss: 0.3942, Class Loss: 0.3942, G Loss: 0.0000\n"
     ]
    },
    {
     "name": "stderr",
     "output_type": "stream",
     "text": [
      " 32%|███▏      | 101/313 [00:43<01:30,  2.34it/s]"
     ]
    },
    {
     "name": "stdout",
     "output_type": "stream",
     "text": [
      "Batch [100/313], Loss: 0.1713, Class Loss: 0.1713, G Loss: 0.0000\n"
     ]
    },
    {
     "name": "stderr",
     "output_type": "stream",
     "text": [
      " 64%|██████▍   | 201/313 [01:26<00:47,  2.33it/s]"
     ]
    },
    {
     "name": "stdout",
     "output_type": "stream",
     "text": [
      "Batch [200/313], Loss: 0.1759, Class Loss: 0.1759, G Loss: 0.0000\n"
     ]
    },
    {
     "name": "stderr",
     "output_type": "stream",
     "text": [
      " 96%|█████████▌| 301/313 [02:09<00:05,  2.33it/s]"
     ]
    },
    {
     "name": "stdout",
     "output_type": "stream",
     "text": [
      "Batch [300/313], Loss: 0.4328, Class Loss: 0.4328, G Loss: 0.0000\n"
     ]
    },
    {
     "name": "stderr",
     "output_type": "stream",
     "text": [
      "100%|██████████| 313/313 [02:14<00:00,  2.32it/s]\n"
     ]
    },
    {
     "name": "stdout",
     "output_type": "stream",
     "text": [
      "Average loss: 0.3168\n",
      "\n",
      "Evaluating 2-way tasks...\n",
      "Episode 100/2000, Running Avg Accuracy: 0.8800\n",
      "Episode 200/2000, Running Avg Accuracy: 0.8850\n",
      "Episode 300/2000, Running Avg Accuracy: 0.8850\n",
      "Episode 400/2000, Running Avg Accuracy: 0.8850\n",
      "Episode 500/2000, Running Avg Accuracy: 0.8870\n",
      "Episode 600/2000, Running Avg Accuracy: 0.8883\n",
      "Episode 700/2000, Running Avg Accuracy: 0.8864\n",
      "Episode 800/2000, Running Avg Accuracy: 0.8894\n",
      "Episode 900/2000, Running Avg Accuracy: 0.8839\n",
      "Episode 1000/2000, Running Avg Accuracy: 0.8850\n",
      "Episode 1100/2000, Running Avg Accuracy: 0.8855\n",
      "Episode 1200/2000, Running Avg Accuracy: 0.8867\n",
      "Episode 1300/2000, Running Avg Accuracy: 0.8869\n",
      "Episode 1400/2000, Running Avg Accuracy: 0.8839\n",
      "Episode 1500/2000, Running Avg Accuracy: 0.8843\n",
      "Episode 1600/2000, Running Avg Accuracy: 0.8850\n",
      "Episode 1700/2000, Running Avg Accuracy: 0.8835\n",
      "Episode 1800/2000, Running Avg Accuracy: 0.8842\n",
      "Episode 1900/2000, Running Avg Accuracy: 0.8834\n",
      "Episode 2000/2000, Running Avg Accuracy: 0.8835\n",
      "\n",
      "Final Average Accuracy over 2000 episodes: 0.8835\n",
      "Average accuracy over 2000 episodes: 0.8835\n",
      "\n",
      "Epoch 6/50\n"
     ]
    },
    {
     "name": "stderr",
     "output_type": "stream",
     "text": [
      "  0%|          | 1/313 [00:01<05:34,  1.07s/it]"
     ]
    },
    {
     "name": "stdout",
     "output_type": "stream",
     "text": [
      "Batch [0/313], Loss: 0.4434, Class Loss: 0.4434, G Loss: 0.0000\n"
     ]
    },
    {
     "name": "stderr",
     "output_type": "stream",
     "text": [
      " 32%|███▏      | 101/313 [00:43<01:30,  2.33it/s]"
     ]
    },
    {
     "name": "stdout",
     "output_type": "stream",
     "text": [
      "Batch [100/313], Loss: 0.1658, Class Loss: 0.1658, G Loss: 0.0000\n"
     ]
    },
    {
     "name": "stderr",
     "output_type": "stream",
     "text": [
      " 64%|██████▍   | 201/313 [01:26<00:47,  2.34it/s]"
     ]
    },
    {
     "name": "stdout",
     "output_type": "stream",
     "text": [
      "Batch [200/313], Loss: 0.1974, Class Loss: 0.1974, G Loss: 0.0000\n"
     ]
    },
    {
     "name": "stderr",
     "output_type": "stream",
     "text": [
      " 96%|█████████▌| 301/313 [02:09<00:05,  2.33it/s]"
     ]
    },
    {
     "name": "stdout",
     "output_type": "stream",
     "text": [
      "Batch [300/313], Loss: 0.3371, Class Loss: 0.3371, G Loss: 0.0000\n"
     ]
    },
    {
     "name": "stderr",
     "output_type": "stream",
     "text": [
      "100%|██████████| 313/313 [02:14<00:00,  2.32it/s]\n"
     ]
    },
    {
     "name": "stdout",
     "output_type": "stream",
     "text": [
      "Average loss: 0.2359\n",
      "\n",
      "Evaluating 2-way tasks...\n",
      "Episode 100/2000, Running Avg Accuracy: 0.9000\n",
      "Episode 200/2000, Running Avg Accuracy: 0.8825\n",
      "Episode 300/2000, Running Avg Accuracy: 0.8867\n",
      "Episode 400/2000, Running Avg Accuracy: 0.8775\n",
      "Episode 500/2000, Running Avg Accuracy: 0.8830\n",
      "Episode 600/2000, Running Avg Accuracy: 0.8825\n",
      "Episode 700/2000, Running Avg Accuracy: 0.8814\n",
      "Episode 800/2000, Running Avg Accuracy: 0.8806\n",
      "Episode 900/2000, Running Avg Accuracy: 0.8794\n",
      "Episode 1000/2000, Running Avg Accuracy: 0.8755\n",
      "Episode 1100/2000, Running Avg Accuracy: 0.8759\n",
      "Episode 1200/2000, Running Avg Accuracy: 0.8733\n",
      "Episode 1300/2000, Running Avg Accuracy: 0.8738\n",
      "Episode 1400/2000, Running Avg Accuracy: 0.8746\n",
      "Episode 1500/2000, Running Avg Accuracy: 0.8740\n",
      "Episode 1600/2000, Running Avg Accuracy: 0.8756\n",
      "Episode 1700/2000, Running Avg Accuracy: 0.8762\n",
      "Episode 1800/2000, Running Avg Accuracy: 0.8767\n",
      "Episode 1900/2000, Running Avg Accuracy: 0.8782\n",
      "Episode 2000/2000, Running Avg Accuracy: 0.8772\n",
      "\n",
      "Final Average Accuracy over 2000 episodes: 0.8772\n",
      "Average accuracy over 2000 episodes: 0.8772\n",
      "\n",
      "Epoch 7/50\n"
     ]
    },
    {
     "name": "stderr",
     "output_type": "stream",
     "text": [
      "  0%|          | 1/313 [00:01<05:41,  1.09s/it]"
     ]
    },
    {
     "name": "stdout",
     "output_type": "stream",
     "text": [
      "Batch [0/313], Loss: 0.0647, Class Loss: 0.0647, G Loss: 0.0000\n"
     ]
    },
    {
     "name": "stderr",
     "output_type": "stream",
     "text": [
      " 32%|███▏      | 101/313 [00:43<01:30,  2.34it/s]"
     ]
    },
    {
     "name": "stdout",
     "output_type": "stream",
     "text": [
      "Batch [100/313], Loss: 0.2777, Class Loss: 0.2777, G Loss: 0.0000\n"
     ]
    },
    {
     "name": "stderr",
     "output_type": "stream",
     "text": [
      " 64%|██████▍   | 201/313 [01:26<00:47,  2.34it/s]"
     ]
    },
    {
     "name": "stdout",
     "output_type": "stream",
     "text": [
      "Batch [200/313], Loss: 0.0869, Class Loss: 0.0869, G Loss: 0.0000\n"
     ]
    },
    {
     "name": "stderr",
     "output_type": "stream",
     "text": [
      " 96%|█████████▌| 301/313 [02:09<00:05,  2.34it/s]"
     ]
    },
    {
     "name": "stdout",
     "output_type": "stream",
     "text": [
      "Batch [300/313], Loss: 0.1194, Class Loss: 0.1194, G Loss: 0.0000\n"
     ]
    },
    {
     "name": "stderr",
     "output_type": "stream",
     "text": [
      "100%|██████████| 313/313 [02:14<00:00,  2.33it/s]\n"
     ]
    },
    {
     "name": "stdout",
     "output_type": "stream",
     "text": [
      "Average loss: 0.1772\n",
      "\n",
      "Evaluating 2-way tasks...\n",
      "Episode 100/2000, Running Avg Accuracy: 0.9450\n",
      "Episode 200/2000, Running Avg Accuracy: 0.9300\n",
      "Episode 300/2000, Running Avg Accuracy: 0.9267\n",
      "Episode 400/2000, Running Avg Accuracy: 0.9325\n",
      "Episode 500/2000, Running Avg Accuracy: 0.9270\n",
      "Episode 600/2000, Running Avg Accuracy: 0.9275\n",
      "Episode 700/2000, Running Avg Accuracy: 0.9271\n",
      "Episode 800/2000, Running Avg Accuracy: 0.9306\n",
      "Episode 900/2000, Running Avg Accuracy: 0.9317\n",
      "Episode 1000/2000, Running Avg Accuracy: 0.9285\n",
      "Episode 1100/2000, Running Avg Accuracy: 0.9291\n",
      "Episode 1200/2000, Running Avg Accuracy: 0.9300\n",
      "Episode 1300/2000, Running Avg Accuracy: 0.9308\n",
      "Episode 1400/2000, Running Avg Accuracy: 0.9300\n",
      "Episode 1500/2000, Running Avg Accuracy: 0.9303\n",
      "Episode 1600/2000, Running Avg Accuracy: 0.9306\n",
      "Episode 1700/2000, Running Avg Accuracy: 0.9312\n",
      "Episode 1800/2000, Running Avg Accuracy: 0.9306\n",
      "Episode 1900/2000, Running Avg Accuracy: 0.9297\n",
      "Episode 2000/2000, Running Avg Accuracy: 0.9295\n",
      "\n",
      "Final Average Accuracy over 2000 episodes: 0.9295\n",
      "Average accuracy over 2000 episodes: 0.9295\n",
      "\n",
      "Epoch 8/50\n"
     ]
    },
    {
     "name": "stderr",
     "output_type": "stream",
     "text": [
      "  0%|          | 1/313 [00:01<06:01,  1.16s/it]"
     ]
    },
    {
     "name": "stdout",
     "output_type": "stream",
     "text": [
      "Batch [0/313], Loss: 0.1505, Class Loss: 0.1505, G Loss: 0.0000\n"
     ]
    },
    {
     "name": "stderr",
     "output_type": "stream",
     "text": [
      " 32%|███▏      | 101/313 [00:43<01:30,  2.34it/s]"
     ]
    },
    {
     "name": "stdout",
     "output_type": "stream",
     "text": [
      "Batch [100/313], Loss: 0.0826, Class Loss: 0.0826, G Loss: 0.0000\n"
     ]
    },
    {
     "name": "stderr",
     "output_type": "stream",
     "text": [
      " 64%|██████▍   | 201/313 [01:26<00:48,  2.32it/s]"
     ]
    },
    {
     "name": "stdout",
     "output_type": "stream",
     "text": [
      "Batch [200/313], Loss: 0.0451, Class Loss: 0.0451, G Loss: 0.0000\n"
     ]
    },
    {
     "name": "stderr",
     "output_type": "stream",
     "text": [
      " 96%|█████████▌| 301/313 [02:09<00:05,  2.33it/s]"
     ]
    },
    {
     "name": "stdout",
     "output_type": "stream",
     "text": [
      "Batch [300/313], Loss: 0.0440, Class Loss: 0.0440, G Loss: 0.0000\n"
     ]
    },
    {
     "name": "stderr",
     "output_type": "stream",
     "text": [
      "100%|██████████| 313/313 [02:14<00:00,  2.32it/s]\n"
     ]
    },
    {
     "name": "stdout",
     "output_type": "stream",
     "text": [
      "Average loss: 0.1432\n",
      "\n",
      "Evaluating 2-way tasks...\n",
      "Episode 100/2000, Running Avg Accuracy: 0.9500\n",
      "Episode 200/2000, Running Avg Accuracy: 0.9500\n",
      "Episode 300/2000, Running Avg Accuracy: 0.9500\n",
      "Episode 400/2000, Running Avg Accuracy: 0.9513\n",
      "Episode 500/2000, Running Avg Accuracy: 0.9510\n",
      "Episode 600/2000, Running Avg Accuracy: 0.9467\n",
      "Episode 700/2000, Running Avg Accuracy: 0.9443\n",
      "Episode 800/2000, Running Avg Accuracy: 0.9450\n",
      "Episode 900/2000, Running Avg Accuracy: 0.9467\n",
      "Episode 1000/2000, Running Avg Accuracy: 0.9465\n",
      "Episode 1100/2000, Running Avg Accuracy: 0.9468\n",
      "Episode 1200/2000, Running Avg Accuracy: 0.9483\n",
      "Episode 1300/2000, Running Avg Accuracy: 0.9477\n",
      "Episode 1400/2000, Running Avg Accuracy: 0.9486\n",
      "Episode 1500/2000, Running Avg Accuracy: 0.9477\n",
      "Episode 1600/2000, Running Avg Accuracy: 0.9472\n",
      "Episode 1700/2000, Running Avg Accuracy: 0.9462\n",
      "Episode 1800/2000, Running Avg Accuracy: 0.9464\n",
      "Episode 1900/2000, Running Avg Accuracy: 0.9463\n",
      "Episode 2000/2000, Running Avg Accuracy: 0.9463\n",
      "\n",
      "Final Average Accuracy over 2000 episodes: 0.9463\n",
      "Average accuracy over 2000 episodes: 0.9463\n",
      "\n",
      "Epoch 9/50\n"
     ]
    },
    {
     "name": "stderr",
     "output_type": "stream",
     "text": [
      "  0%|          | 1/313 [00:01<05:42,  1.10s/it]"
     ]
    },
    {
     "name": "stdout",
     "output_type": "stream",
     "text": [
      "Batch [0/313], Loss: 0.0109, Class Loss: 0.0109, G Loss: 0.0000\n"
     ]
    },
    {
     "name": "stderr",
     "output_type": "stream",
     "text": [
      " 32%|███▏      | 101/313 [00:43<01:30,  2.33it/s]"
     ]
    },
    {
     "name": "stdout",
     "output_type": "stream",
     "text": [
      "Batch [100/313], Loss: 0.4031, Class Loss: 0.4031, G Loss: 0.0000\n"
     ]
    },
    {
     "name": "stderr",
     "output_type": "stream",
     "text": [
      " 64%|██████▍   | 201/313 [01:26<00:48,  2.33it/s]"
     ]
    },
    {
     "name": "stdout",
     "output_type": "stream",
     "text": [
      "Batch [200/313], Loss: 0.2111, Class Loss: 0.2111, G Loss: 0.0000\n"
     ]
    },
    {
     "name": "stderr",
     "output_type": "stream",
     "text": [
      " 96%|█████████▌| 301/313 [02:09<00:05,  2.33it/s]"
     ]
    },
    {
     "name": "stdout",
     "output_type": "stream",
     "text": [
      "Batch [300/313], Loss: 0.2415, Class Loss: 0.2415, G Loss: 0.0000\n"
     ]
    },
    {
     "name": "stderr",
     "output_type": "stream",
     "text": [
      "100%|██████████| 313/313 [02:14<00:00,  2.32it/s]\n"
     ]
    },
    {
     "name": "stdout",
     "output_type": "stream",
     "text": [
      "Average loss: 0.1184\n",
      "\n",
      "Evaluating 2-way tasks...\n",
      "Episode 100/2000, Running Avg Accuracy: 0.9350\n",
      "Episode 200/2000, Running Avg Accuracy: 0.9500\n",
      "Episode 300/2000, Running Avg Accuracy: 0.9450\n",
      "Episode 400/2000, Running Avg Accuracy: 0.9413\n",
      "Episode 500/2000, Running Avg Accuracy: 0.9320\n",
      "Episode 600/2000, Running Avg Accuracy: 0.9358\n",
      "Episode 700/2000, Running Avg Accuracy: 0.9357\n",
      "Episode 800/2000, Running Avg Accuracy: 0.9363\n",
      "Episode 900/2000, Running Avg Accuracy: 0.9361\n",
      "Episode 1000/2000, Running Avg Accuracy: 0.9365\n",
      "Episode 1100/2000, Running Avg Accuracy: 0.9341\n",
      "Episode 1200/2000, Running Avg Accuracy: 0.9346\n",
      "Episode 1300/2000, Running Avg Accuracy: 0.9335\n",
      "Episode 1400/2000, Running Avg Accuracy: 0.9296\n",
      "Episode 1500/2000, Running Avg Accuracy: 0.9293\n",
      "Episode 1600/2000, Running Avg Accuracy: 0.9300\n",
      "Episode 1700/2000, Running Avg Accuracy: 0.9300\n",
      "Episode 1800/2000, Running Avg Accuracy: 0.9286\n",
      "Episode 1900/2000, Running Avg Accuracy: 0.9274\n",
      "Episode 2000/2000, Running Avg Accuracy: 0.9277\n",
      "\n",
      "Final Average Accuracy over 2000 episodes: 0.9277\n",
      "Average accuracy over 2000 episodes: 0.9277\n",
      "\n",
      "Epoch 10/50\n"
     ]
    },
    {
     "name": "stderr",
     "output_type": "stream",
     "text": [
      "  0%|          | 1/313 [00:01<07:28,  1.44s/it]"
     ]
    },
    {
     "name": "stdout",
     "output_type": "stream",
     "text": [
      "Batch [0/313], Loss: 0.1286, Class Loss: 0.1286, G Loss: 0.0000\n"
     ]
    },
    {
     "name": "stderr",
     "output_type": "stream",
     "text": [
      " 32%|███▏      | 101/313 [00:44<01:30,  2.34it/s]"
     ]
    },
    {
     "name": "stdout",
     "output_type": "stream",
     "text": [
      "Batch [100/313], Loss: 0.1560, Class Loss: 0.1560, G Loss: 0.0000\n"
     ]
    },
    {
     "name": "stderr",
     "output_type": "stream",
     "text": [
      " 64%|██████▍   | 201/313 [01:27<00:47,  2.34it/s]"
     ]
    },
    {
     "name": "stdout",
     "output_type": "stream",
     "text": [
      "Batch [200/313], Loss: 0.0928, Class Loss: 0.0928, G Loss: 0.0000\n"
     ]
    },
    {
     "name": "stderr",
     "output_type": "stream",
     "text": [
      " 96%|█████████▌| 301/313 [02:09<00:05,  2.33it/s]"
     ]
    },
    {
     "name": "stdout",
     "output_type": "stream",
     "text": [
      "Batch [300/313], Loss: 0.0392, Class Loss: 0.0392, G Loss: 0.0000\n"
     ]
    },
    {
     "name": "stderr",
     "output_type": "stream",
     "text": [
      "100%|██████████| 313/313 [02:15<00:00,  2.32it/s]\n"
     ]
    },
    {
     "name": "stdout",
     "output_type": "stream",
     "text": [
      "Average loss: 0.1085\n",
      "\n",
      "Evaluating 2-way tasks...\n",
      "Episode 100/2000, Running Avg Accuracy: 0.9400\n",
      "Episode 200/2000, Running Avg Accuracy: 0.9375\n",
      "Episode 300/2000, Running Avg Accuracy: 0.9400\n",
      "Episode 400/2000, Running Avg Accuracy: 0.9387\n",
      "Episode 500/2000, Running Avg Accuracy: 0.9410\n",
      "Episode 600/2000, Running Avg Accuracy: 0.9408\n",
      "Episode 700/2000, Running Avg Accuracy: 0.9400\n",
      "Episode 800/2000, Running Avg Accuracy: 0.9375\n",
      "Episode 900/2000, Running Avg Accuracy: 0.9367\n",
      "Episode 1000/2000, Running Avg Accuracy: 0.9325\n",
      "Episode 1100/2000, Running Avg Accuracy: 0.9345\n",
      "Episode 1200/2000, Running Avg Accuracy: 0.9346\n",
      "Episode 1300/2000, Running Avg Accuracy: 0.9354\n",
      "Episode 1400/2000, Running Avg Accuracy: 0.9346\n",
      "Episode 1500/2000, Running Avg Accuracy: 0.9353\n",
      "Episode 1600/2000, Running Avg Accuracy: 0.9363\n",
      "Episode 1700/2000, Running Avg Accuracy: 0.9347\n",
      "Episode 1800/2000, Running Avg Accuracy: 0.9347\n",
      "Episode 1900/2000, Running Avg Accuracy: 0.9347\n",
      "Episode 2000/2000, Running Avg Accuracy: 0.9347\n",
      "\n",
      "Final Average Accuracy over 2000 episodes: 0.9347\n",
      "Average accuracy over 2000 episodes: 0.9347\n",
      "\n",
      "Epoch 11/50\n"
     ]
    },
    {
     "name": "stderr",
     "output_type": "stream",
     "text": [
      "  0%|          | 1/313 [00:01<05:32,  1.07s/it]"
     ]
    },
    {
     "name": "stdout",
     "output_type": "stream",
     "text": [
      "Batch [0/313], Loss: 0.0143, Class Loss: 0.0143, G Loss: 0.0000\n"
     ]
    },
    {
     "name": "stderr",
     "output_type": "stream",
     "text": [
      " 32%|███▏      | 101/313 [00:43<01:31,  2.33it/s]"
     ]
    },
    {
     "name": "stdout",
     "output_type": "stream",
     "text": [
      "Batch [100/313], Loss: 0.0402, Class Loss: 0.0402, G Loss: 0.0000\n"
     ]
    },
    {
     "name": "stderr",
     "output_type": "stream",
     "text": [
      " 64%|██████▍   | 201/313 [01:26<00:47,  2.33it/s]"
     ]
    },
    {
     "name": "stdout",
     "output_type": "stream",
     "text": [
      "Batch [200/313], Loss: 0.1498, Class Loss: 0.1498, G Loss: 0.0000\n"
     ]
    },
    {
     "name": "stderr",
     "output_type": "stream",
     "text": [
      " 96%|█████████▌| 301/313 [02:09<00:05,  2.34it/s]"
     ]
    },
    {
     "name": "stdout",
     "output_type": "stream",
     "text": [
      "Batch [300/313], Loss: 0.3276, Class Loss: 0.3276, G Loss: 0.0000\n"
     ]
    },
    {
     "name": "stderr",
     "output_type": "stream",
     "text": [
      "100%|██████████| 313/313 [02:14<00:00,  2.32it/s]\n"
     ]
    },
    {
     "name": "stdout",
     "output_type": "stream",
     "text": [
      "Average loss: 0.0871\n",
      "\n",
      "Evaluating 2-way tasks...\n",
      "Episode 100/2000, Running Avg Accuracy: 0.9450\n",
      "Episode 200/2000, Running Avg Accuracy: 0.9475\n",
      "Episode 300/2000, Running Avg Accuracy: 0.9367\n",
      "Episode 400/2000, Running Avg Accuracy: 0.9350\n",
      "Episode 500/2000, Running Avg Accuracy: 0.9330\n",
      "Episode 600/2000, Running Avg Accuracy: 0.9308\n",
      "Episode 700/2000, Running Avg Accuracy: 0.9286\n",
      "Episode 800/2000, Running Avg Accuracy: 0.9306\n",
      "Episode 900/2000, Running Avg Accuracy: 0.9328\n",
      "Episode 1000/2000, Running Avg Accuracy: 0.9325\n",
      "Episode 1100/2000, Running Avg Accuracy: 0.9336\n",
      "Episode 1200/2000, Running Avg Accuracy: 0.9367\n",
      "Episode 1300/2000, Running Avg Accuracy: 0.9373\n",
      "Episode 1400/2000, Running Avg Accuracy: 0.9389\n",
      "Episode 1500/2000, Running Avg Accuracy: 0.9397\n",
      "Episode 1600/2000, Running Avg Accuracy: 0.9416\n",
      "Episode 1700/2000, Running Avg Accuracy: 0.9432\n",
      "Episode 1800/2000, Running Avg Accuracy: 0.9422\n",
      "Episode 1900/2000, Running Avg Accuracy: 0.9418\n",
      "Episode 2000/2000, Running Avg Accuracy: 0.9417\n",
      "\n",
      "Final Average Accuracy over 2000 episodes: 0.9417\n",
      "Average accuracy over 2000 episodes: 0.9417\n",
      "\n",
      "Epoch 12/50\n"
     ]
    },
    {
     "name": "stderr",
     "output_type": "stream",
     "text": [
      "  0%|          | 1/313 [00:01<06:03,  1.17s/it]"
     ]
    },
    {
     "name": "stdout",
     "output_type": "stream",
     "text": [
      "Batch [0/313], Loss: 0.0311, Class Loss: 0.0311, G Loss: 0.0000\n"
     ]
    },
    {
     "name": "stderr",
     "output_type": "stream",
     "text": [
      " 32%|███▏      | 101/313 [00:44<01:30,  2.33it/s]"
     ]
    },
    {
     "name": "stdout",
     "output_type": "stream",
     "text": [
      "Batch [100/313], Loss: 0.0028, Class Loss: 0.0028, G Loss: 0.0000\n"
     ]
    },
    {
     "name": "stderr",
     "output_type": "stream",
     "text": [
      " 64%|██████▍   | 201/313 [01:26<00:47,  2.34it/s]"
     ]
    },
    {
     "name": "stdout",
     "output_type": "stream",
     "text": [
      "Batch [200/313], Loss: 0.0372, Class Loss: 0.0372, G Loss: 0.0000\n"
     ]
    },
    {
     "name": "stderr",
     "output_type": "stream",
     "text": [
      " 96%|█████████▌| 301/313 [02:09<00:05,  2.34it/s]"
     ]
    },
    {
     "name": "stdout",
     "output_type": "stream",
     "text": [
      "Batch [300/313], Loss: 0.0174, Class Loss: 0.0174, G Loss: 0.0000\n"
     ]
    },
    {
     "name": "stderr",
     "output_type": "stream",
     "text": [
      "100%|██████████| 313/313 [02:14<00:00,  2.32it/s]\n"
     ]
    },
    {
     "name": "stdout",
     "output_type": "stream",
     "text": [
      "Average loss: 0.0698\n",
      "\n",
      "Evaluating 2-way tasks...\n",
      "Episode 100/2000, Running Avg Accuracy: 0.9750\n",
      "Episode 200/2000, Running Avg Accuracy: 0.9450\n",
      "Episode 300/2000, Running Avg Accuracy: 0.9333\n",
      "Episode 400/2000, Running Avg Accuracy: 0.9350\n",
      "Episode 500/2000, Running Avg Accuracy: 0.9330\n",
      "Episode 600/2000, Running Avg Accuracy: 0.9392\n",
      "Episode 700/2000, Running Avg Accuracy: 0.9421\n",
      "Episode 800/2000, Running Avg Accuracy: 0.9444\n",
      "Episode 900/2000, Running Avg Accuracy: 0.9483\n",
      "Episode 1000/2000, Running Avg Accuracy: 0.9475\n",
      "Episode 1100/2000, Running Avg Accuracy: 0.9477\n",
      "Episode 1200/2000, Running Avg Accuracy: 0.9487\n",
      "Episode 1300/2000, Running Avg Accuracy: 0.9488\n",
      "Episode 1400/2000, Running Avg Accuracy: 0.9457\n",
      "Episode 1500/2000, Running Avg Accuracy: 0.9440\n",
      "Episode 1600/2000, Running Avg Accuracy: 0.9441\n",
      "Episode 1700/2000, Running Avg Accuracy: 0.9447\n",
      "Episode 1800/2000, Running Avg Accuracy: 0.9447\n",
      "Episode 1900/2000, Running Avg Accuracy: 0.9461\n",
      "Episode 2000/2000, Running Avg Accuracy: 0.9470\n",
      "\n",
      "Final Average Accuracy over 2000 episodes: 0.9470\n",
      "Average accuracy over 2000 episodes: 0.9470\n",
      "\n",
      "Epoch 13/50\n"
     ]
    },
    {
     "name": "stderr",
     "output_type": "stream",
     "text": [
      "  0%|          | 1/313 [00:01<05:44,  1.10s/it]"
     ]
    },
    {
     "name": "stdout",
     "output_type": "stream",
     "text": [
      "Batch [0/313], Loss: 0.0215, Class Loss: 0.0215, G Loss: 0.0000\n"
     ]
    },
    {
     "name": "stderr",
     "output_type": "stream",
     "text": [
      " 32%|███▏      | 101/313 [00:43<01:30,  2.34it/s]"
     ]
    },
    {
     "name": "stdout",
     "output_type": "stream",
     "text": [
      "Batch [100/313], Loss: 0.2569, Class Loss: 0.2569, G Loss: 0.0000\n"
     ]
    },
    {
     "name": "stderr",
     "output_type": "stream",
     "text": [
      " 64%|██████▍   | 201/313 [01:26<00:47,  2.34it/s]"
     ]
    },
    {
     "name": "stdout",
     "output_type": "stream",
     "text": [
      "Batch [200/313], Loss: 0.2953, Class Loss: 0.2953, G Loss: 0.0000\n"
     ]
    },
    {
     "name": "stderr",
     "output_type": "stream",
     "text": [
      " 96%|█████████▌| 301/313 [02:09<00:05,  2.33it/s]"
     ]
    },
    {
     "name": "stdout",
     "output_type": "stream",
     "text": [
      "Batch [300/313], Loss: 0.0080, Class Loss: 0.0080, G Loss: 0.0000\n"
     ]
    },
    {
     "name": "stderr",
     "output_type": "stream",
     "text": [
      "100%|██████████| 313/313 [02:14<00:00,  2.32it/s]\n"
     ]
    },
    {
     "name": "stdout",
     "output_type": "stream",
     "text": [
      "Average loss: 0.0619\n",
      "\n",
      "Evaluating 2-way tasks...\n",
      "Episode 100/2000, Running Avg Accuracy: 0.9500\n",
      "Episode 200/2000, Running Avg Accuracy: 0.9525\n",
      "Episode 300/2000, Running Avg Accuracy: 0.9517\n",
      "Episode 400/2000, Running Avg Accuracy: 0.9625\n",
      "Episode 500/2000, Running Avg Accuracy: 0.9620\n",
      "Episode 600/2000, Running Avg Accuracy: 0.9617\n",
      "Episode 700/2000, Running Avg Accuracy: 0.9636\n",
      "Episode 800/2000, Running Avg Accuracy: 0.9631\n",
      "Episode 900/2000, Running Avg Accuracy: 0.9644\n",
      "Episode 1000/2000, Running Avg Accuracy: 0.9660\n",
      "Episode 1100/2000, Running Avg Accuracy: 0.9673\n",
      "Episode 1200/2000, Running Avg Accuracy: 0.9667\n",
      "Episode 1300/2000, Running Avg Accuracy: 0.9662\n",
      "Episode 1400/2000, Running Avg Accuracy: 0.9657\n",
      "Episode 1500/2000, Running Avg Accuracy: 0.9657\n",
      "Episode 1600/2000, Running Avg Accuracy: 0.9637\n",
      "Episode 1700/2000, Running Avg Accuracy: 0.9618\n",
      "Episode 1800/2000, Running Avg Accuracy: 0.9622\n",
      "Episode 1900/2000, Running Avg Accuracy: 0.9616\n",
      "Episode 2000/2000, Running Avg Accuracy: 0.9620\n",
      "\n",
      "Final Average Accuracy over 2000 episodes: 0.9620\n",
      "Average accuracy over 2000 episodes: 0.9620\n",
      "\n",
      "Epoch 14/50\n"
     ]
    },
    {
     "name": "stderr",
     "output_type": "stream",
     "text": [
      "  0%|          | 1/313 [00:01<05:45,  1.11s/it]"
     ]
    },
    {
     "name": "stdout",
     "output_type": "stream",
     "text": [
      "Batch [0/313], Loss: 0.0140, Class Loss: 0.0140, G Loss: 0.0000\n"
     ]
    },
    {
     "name": "stderr",
     "output_type": "stream",
     "text": [
      " 32%|███▏      | 101/313 [00:43<01:30,  2.34it/s]"
     ]
    },
    {
     "name": "stdout",
     "output_type": "stream",
     "text": [
      "Batch [100/313], Loss: 0.0090, Class Loss: 0.0090, G Loss: 0.0000\n"
     ]
    },
    {
     "name": "stderr",
     "output_type": "stream",
     "text": [
      " 64%|██████▍   | 201/313 [01:26<00:47,  2.34it/s]"
     ]
    },
    {
     "name": "stdout",
     "output_type": "stream",
     "text": [
      "Batch [200/313], Loss: 0.1442, Class Loss: 0.1442, G Loss: 0.0000\n"
     ]
    },
    {
     "name": "stderr",
     "output_type": "stream",
     "text": [
      " 96%|█████████▌| 301/313 [02:09<00:05,  2.34it/s]"
     ]
    },
    {
     "name": "stdout",
     "output_type": "stream",
     "text": [
      "Batch [300/313], Loss: 0.0252, Class Loss: 0.0252, G Loss: 0.0000\n"
     ]
    },
    {
     "name": "stderr",
     "output_type": "stream",
     "text": [
      "100%|██████████| 313/313 [02:14<00:00,  2.32it/s]\n"
     ]
    },
    {
     "name": "stdout",
     "output_type": "stream",
     "text": [
      "Average loss: 0.0625\n",
      "\n",
      "Evaluating 2-way tasks...\n",
      "Episode 100/2000, Running Avg Accuracy: 0.9450\n",
      "Episode 200/2000, Running Avg Accuracy: 0.9425\n",
      "Episode 300/2000, Running Avg Accuracy: 0.9350\n",
      "Episode 400/2000, Running Avg Accuracy: 0.9337\n",
      "Episode 500/2000, Running Avg Accuracy: 0.9290\n",
      "Episode 600/2000, Running Avg Accuracy: 0.9367\n",
      "Episode 700/2000, Running Avg Accuracy: 0.9379\n",
      "Episode 800/2000, Running Avg Accuracy: 0.9387\n",
      "Episode 900/2000, Running Avg Accuracy: 0.9389\n",
      "Episode 1000/2000, Running Avg Accuracy: 0.9395\n",
      "Episode 1100/2000, Running Avg Accuracy: 0.9414\n",
      "Episode 1200/2000, Running Avg Accuracy: 0.9413\n",
      "Episode 1300/2000, Running Avg Accuracy: 0.9423\n",
      "Episode 1400/2000, Running Avg Accuracy: 0.9429\n",
      "Episode 1500/2000, Running Avg Accuracy: 0.9430\n",
      "Episode 1600/2000, Running Avg Accuracy: 0.9428\n",
      "Episode 1700/2000, Running Avg Accuracy: 0.9438\n",
      "Episode 1800/2000, Running Avg Accuracy: 0.9433\n",
      "Episode 1900/2000, Running Avg Accuracy: 0.9426\n",
      "Episode 2000/2000, Running Avg Accuracy: 0.9430\n",
      "\n",
      "Final Average Accuracy over 2000 episodes: 0.9430\n",
      "Average accuracy over 2000 episodes: 0.9430\n",
      "\n",
      "Epoch 15/50\n"
     ]
    },
    {
     "name": "stderr",
     "output_type": "stream",
     "text": [
      "  0%|          | 1/313 [00:01<05:37,  1.08s/it]"
     ]
    },
    {
     "name": "stdout",
     "output_type": "stream",
     "text": [
      "Batch [0/313], Loss: 0.0074, Class Loss: 0.0074, G Loss: 0.0000\n"
     ]
    },
    {
     "name": "stderr",
     "output_type": "stream",
     "text": [
      " 32%|███▏      | 101/313 [00:43<01:30,  2.34it/s]"
     ]
    },
    {
     "name": "stdout",
     "output_type": "stream",
     "text": [
      "Batch [100/313], Loss: 0.0186, Class Loss: 0.0186, G Loss: 0.0000\n"
     ]
    },
    {
     "name": "stderr",
     "output_type": "stream",
     "text": [
      " 64%|██████▍   | 201/313 [01:26<00:47,  2.34it/s]"
     ]
    },
    {
     "name": "stdout",
     "output_type": "stream",
     "text": [
      "Batch [200/313], Loss: 0.0995, Class Loss: 0.0995, G Loss: 0.0000\n"
     ]
    },
    {
     "name": "stderr",
     "output_type": "stream",
     "text": [
      " 96%|█████████▌| 301/313 [02:09<00:05,  2.33it/s]"
     ]
    },
    {
     "name": "stdout",
     "output_type": "stream",
     "text": [
      "Batch [300/313], Loss: 0.0207, Class Loss: 0.0207, G Loss: 0.0000\n"
     ]
    },
    {
     "name": "stderr",
     "output_type": "stream",
     "text": [
      "100%|██████████| 313/313 [02:14<00:00,  2.32it/s]\n"
     ]
    },
    {
     "name": "stdout",
     "output_type": "stream",
     "text": [
      "Average loss: 0.0540\n",
      "\n",
      "Evaluating 2-way tasks...\n",
      "Episode 100/2000, Running Avg Accuracy: 0.9550\n",
      "Episode 200/2000, Running Avg Accuracy: 0.9500\n",
      "Episode 300/2000, Running Avg Accuracy: 0.9550\n",
      "Episode 400/2000, Running Avg Accuracy: 0.9500\n",
      "Episode 500/2000, Running Avg Accuracy: 0.9560\n",
      "Episode 600/2000, Running Avg Accuracy: 0.9558\n",
      "Episode 700/2000, Running Avg Accuracy: 0.9579\n",
      "Episode 800/2000, Running Avg Accuracy: 0.9569\n",
      "Episode 900/2000, Running Avg Accuracy: 0.9544\n",
      "Episode 1000/2000, Running Avg Accuracy: 0.9545\n",
      "Episode 1100/2000, Running Avg Accuracy: 0.9541\n",
      "Episode 1200/2000, Running Avg Accuracy: 0.9542\n",
      "Episode 1300/2000, Running Avg Accuracy: 0.9554\n",
      "Episode 1400/2000, Running Avg Accuracy: 0.9557\n",
      "Episode 1500/2000, Running Avg Accuracy: 0.9553\n",
      "Episode 1600/2000, Running Avg Accuracy: 0.9547\n",
      "Episode 1700/2000, Running Avg Accuracy: 0.9568\n",
      "Episode 1800/2000, Running Avg Accuracy: 0.9572\n",
      "Episode 1900/2000, Running Avg Accuracy: 0.9558\n",
      "Episode 2000/2000, Running Avg Accuracy: 0.9557\n",
      "\n",
      "Final Average Accuracy over 2000 episodes: 0.9557\n",
      "Average accuracy over 2000 episodes: 0.9557\n",
      "\n",
      "Epoch 16/50\n"
     ]
    },
    {
     "name": "stderr",
     "output_type": "stream",
     "text": [
      "  0%|          | 1/313 [00:01<05:31,  1.06s/it]"
     ]
    },
    {
     "name": "stdout",
     "output_type": "stream",
     "text": [
      "Batch [0/313], Loss: 0.0061, Class Loss: 0.0061, G Loss: 0.0000\n"
     ]
    },
    {
     "name": "stderr",
     "output_type": "stream",
     "text": [
      " 32%|███▏      | 101/313 [00:43<01:30,  2.34it/s]"
     ]
    },
    {
     "name": "stdout",
     "output_type": "stream",
     "text": [
      "Batch [100/313], Loss: 0.2265, Class Loss: 0.2265, G Loss: 0.0000\n"
     ]
    },
    {
     "name": "stderr",
     "output_type": "stream",
     "text": [
      " 64%|██████▍   | 201/313 [01:26<00:47,  2.34it/s]"
     ]
    },
    {
     "name": "stdout",
     "output_type": "stream",
     "text": [
      "Batch [200/313], Loss: 0.0156, Class Loss: 0.0156, G Loss: 0.0000\n"
     ]
    },
    {
     "name": "stderr",
     "output_type": "stream",
     "text": [
      " 96%|█████████▌| 301/313 [02:09<00:05,  2.33it/s]"
     ]
    },
    {
     "name": "stdout",
     "output_type": "stream",
     "text": [
      "Batch [300/313], Loss: 0.0005, Class Loss: 0.0005, G Loss: 0.0000\n"
     ]
    },
    {
     "name": "stderr",
     "output_type": "stream",
     "text": [
      "100%|██████████| 313/313 [02:14<00:00,  2.32it/s]\n"
     ]
    },
    {
     "name": "stdout",
     "output_type": "stream",
     "text": [
      "Average loss: 0.0391\n",
      "\n",
      "Evaluating 2-way tasks...\n",
      "Episode 100/2000, Running Avg Accuracy: 0.9500\n",
      "Episode 200/2000, Running Avg Accuracy: 0.9525\n",
      "Episode 300/2000, Running Avg Accuracy: 0.9550\n",
      "Episode 400/2000, Running Avg Accuracy: 0.9513\n",
      "Episode 500/2000, Running Avg Accuracy: 0.9510\n",
      "Episode 600/2000, Running Avg Accuracy: 0.9525\n",
      "Episode 700/2000, Running Avg Accuracy: 0.9564\n",
      "Episode 800/2000, Running Avg Accuracy: 0.9569\n",
      "Episode 900/2000, Running Avg Accuracy: 0.9550\n",
      "Episode 1000/2000, Running Avg Accuracy: 0.9570\n",
      "Episode 1100/2000, Running Avg Accuracy: 0.9568\n",
      "Episode 1200/2000, Running Avg Accuracy: 0.9567\n",
      "Episode 1300/2000, Running Avg Accuracy: 0.9573\n",
      "Episode 1400/2000, Running Avg Accuracy: 0.9575\n",
      "Episode 1500/2000, Running Avg Accuracy: 0.9560\n",
      "Episode 1600/2000, Running Avg Accuracy: 0.9566\n",
      "Episode 1700/2000, Running Avg Accuracy: 0.9565\n",
      "Episode 1800/2000, Running Avg Accuracy: 0.9550\n",
      "Episode 1900/2000, Running Avg Accuracy: 0.9547\n",
      "Episode 2000/2000, Running Avg Accuracy: 0.9540\n",
      "\n",
      "Final Average Accuracy over 2000 episodes: 0.9540\n",
      "Average accuracy over 2000 episodes: 0.9540\n",
      "\n",
      "Epoch 17/50\n"
     ]
    },
    {
     "name": "stderr",
     "output_type": "stream",
     "text": [
      "  0%|          | 1/313 [00:01<05:43,  1.10s/it]"
     ]
    },
    {
     "name": "stdout",
     "output_type": "stream",
     "text": [
      "Batch [0/313], Loss: 0.0614, Class Loss: 0.0614, G Loss: 0.0000\n"
     ]
    },
    {
     "name": "stderr",
     "output_type": "stream",
     "text": [
      " 32%|███▏      | 101/313 [00:43<01:30,  2.34it/s]"
     ]
    },
    {
     "name": "stdout",
     "output_type": "stream",
     "text": [
      "Batch [100/313], Loss: 0.0127, Class Loss: 0.0127, G Loss: 0.0000\n"
     ]
    },
    {
     "name": "stderr",
     "output_type": "stream",
     "text": [
      " 64%|██████▍   | 201/313 [01:26<00:47,  2.34it/s]"
     ]
    },
    {
     "name": "stdout",
     "output_type": "stream",
     "text": [
      "Batch [200/313], Loss: 0.0617, Class Loss: 0.0617, G Loss: 0.0000\n"
     ]
    },
    {
     "name": "stderr",
     "output_type": "stream",
     "text": [
      " 96%|█████████▌| 301/313 [02:09<00:05,  2.33it/s]"
     ]
    },
    {
     "name": "stdout",
     "output_type": "stream",
     "text": [
      "Batch [300/313], Loss: 0.0963, Class Loss: 0.0963, G Loss: 0.0000\n"
     ]
    },
    {
     "name": "stderr",
     "output_type": "stream",
     "text": [
      "100%|██████████| 313/313 [02:14<00:00,  2.32it/s]\n"
     ]
    },
    {
     "name": "stdout",
     "output_type": "stream",
     "text": [
      "Average loss: 0.0568\n",
      "\n",
      "Evaluating 2-way tasks...\n",
      "Episode 100/2000, Running Avg Accuracy: 0.9750\n",
      "Episode 200/2000, Running Avg Accuracy: 0.9700\n",
      "Episode 300/2000, Running Avg Accuracy: 0.9683\n",
      "Episode 400/2000, Running Avg Accuracy: 0.9688\n",
      "Episode 500/2000, Running Avg Accuracy: 0.9710\n",
      "Episode 600/2000, Running Avg Accuracy: 0.9708\n",
      "Episode 700/2000, Running Avg Accuracy: 0.9729\n",
      "Episode 800/2000, Running Avg Accuracy: 0.9731\n",
      "Episode 900/2000, Running Avg Accuracy: 0.9694\n",
      "Episode 1000/2000, Running Avg Accuracy: 0.9715\n",
      "Episode 1100/2000, Running Avg Accuracy: 0.9709\n",
      "Episode 1200/2000, Running Avg Accuracy: 0.9708\n",
      "Episode 1300/2000, Running Avg Accuracy: 0.9704\n",
      "Episode 1400/2000, Running Avg Accuracy: 0.9704\n",
      "Episode 1500/2000, Running Avg Accuracy: 0.9713\n",
      "Episode 1600/2000, Running Avg Accuracy: 0.9725\n",
      "Episode 1700/2000, Running Avg Accuracy: 0.9726\n",
      "Episode 1800/2000, Running Avg Accuracy: 0.9731\n",
      "Episode 1900/2000, Running Avg Accuracy: 0.9737\n",
      "Episode 2000/2000, Running Avg Accuracy: 0.9732\n",
      "\n",
      "Final Average Accuracy over 2000 episodes: 0.9732\n",
      "Average accuracy over 2000 episodes: 0.9732\n",
      "\n",
      "Epoch 18/50\n"
     ]
    },
    {
     "name": "stderr",
     "output_type": "stream",
     "text": [
      "  0%|          | 1/313 [00:01<05:49,  1.12s/it]"
     ]
    },
    {
     "name": "stdout",
     "output_type": "stream",
     "text": [
      "Batch [0/313], Loss: 0.0037, Class Loss: 0.0037, G Loss: 0.0000\n"
     ]
    },
    {
     "name": "stderr",
     "output_type": "stream",
     "text": [
      " 32%|███▏      | 101/313 [00:43<01:30,  2.33it/s]"
     ]
    },
    {
     "name": "stdout",
     "output_type": "stream",
     "text": [
      "Batch [100/313], Loss: 0.0003, Class Loss: 0.0003, G Loss: 0.0000\n"
     ]
    },
    {
     "name": "stderr",
     "output_type": "stream",
     "text": [
      " 64%|██████▍   | 201/313 [01:26<00:48,  2.32it/s]"
     ]
    },
    {
     "name": "stdout",
     "output_type": "stream",
     "text": [
      "Batch [200/313], Loss: 0.1171, Class Loss: 0.1171, G Loss: 0.0000\n"
     ]
    },
    {
     "name": "stderr",
     "output_type": "stream",
     "text": [
      " 96%|█████████▌| 301/313 [02:09<00:05,  2.34it/s]"
     ]
    },
    {
     "name": "stdout",
     "output_type": "stream",
     "text": [
      "Batch [300/313], Loss: 0.0728, Class Loss: 0.0728, G Loss: 0.0000\n"
     ]
    },
    {
     "name": "stderr",
     "output_type": "stream",
     "text": [
      "100%|██████████| 313/313 [02:14<00:00,  2.32it/s]\n"
     ]
    },
    {
     "name": "stdout",
     "output_type": "stream",
     "text": [
      "Average loss: 0.0646\n",
      "\n",
      "Evaluating 2-way tasks...\n",
      "Episode 100/2000, Running Avg Accuracy: 0.9700\n",
      "Episode 200/2000, Running Avg Accuracy: 0.9550\n",
      "Episode 300/2000, Running Avg Accuracy: 0.9533\n",
      "Episode 400/2000, Running Avg Accuracy: 0.9537\n",
      "Episode 500/2000, Running Avg Accuracy: 0.9560\n",
      "Episode 600/2000, Running Avg Accuracy: 0.9583\n",
      "Episode 700/2000, Running Avg Accuracy: 0.9607\n",
      "Episode 800/2000, Running Avg Accuracy: 0.9600\n",
      "Episode 900/2000, Running Avg Accuracy: 0.9617\n",
      "Episode 1000/2000, Running Avg Accuracy: 0.9615\n",
      "Episode 1100/2000, Running Avg Accuracy: 0.9600\n",
      "Episode 1200/2000, Running Avg Accuracy: 0.9600\n",
      "Episode 1300/2000, Running Avg Accuracy: 0.9604\n",
      "Episode 1400/2000, Running Avg Accuracy: 0.9593\n",
      "Episode 1500/2000, Running Avg Accuracy: 0.9590\n",
      "Episode 1600/2000, Running Avg Accuracy: 0.9600\n",
      "Episode 1700/2000, Running Avg Accuracy: 0.9600\n",
      "Episode 1800/2000, Running Avg Accuracy: 0.9597\n",
      "Episode 1900/2000, Running Avg Accuracy: 0.9597\n",
      "Episode 2000/2000, Running Avg Accuracy: 0.9600\n",
      "\n",
      "Final Average Accuracy over 2000 episodes: 0.9600\n",
      "Average accuracy over 2000 episodes: 0.9600\n",
      "\n",
      "Epoch 19/50\n"
     ]
    },
    {
     "name": "stderr",
     "output_type": "stream",
     "text": [
      "  0%|          | 1/313 [00:01<06:30,  1.25s/it]"
     ]
    },
    {
     "name": "stdout",
     "output_type": "stream",
     "text": [
      "Batch [0/313], Loss: 0.0022, Class Loss: 0.0022, G Loss: 0.0000\n"
     ]
    },
    {
     "name": "stderr",
     "output_type": "stream",
     "text": [
      " 32%|███▏      | 101/313 [00:44<01:30,  2.34it/s]"
     ]
    },
    {
     "name": "stdout",
     "output_type": "stream",
     "text": [
      "Batch [100/313], Loss: 0.0780, Class Loss: 0.0780, G Loss: 0.0000\n"
     ]
    },
    {
     "name": "stderr",
     "output_type": "stream",
     "text": [
      " 64%|██████▍   | 201/313 [01:26<00:48,  2.33it/s]"
     ]
    },
    {
     "name": "stdout",
     "output_type": "stream",
     "text": [
      "Batch [200/313], Loss: 0.0051, Class Loss: 0.0051, G Loss: 0.0000\n"
     ]
    },
    {
     "name": "stderr",
     "output_type": "stream",
     "text": [
      " 96%|█████████▌| 301/313 [02:09<00:05,  2.34it/s]"
     ]
    },
    {
     "name": "stdout",
     "output_type": "stream",
     "text": [
      "Batch [300/313], Loss: 0.0086, Class Loss: 0.0086, G Loss: 0.0000\n"
     ]
    },
    {
     "name": "stderr",
     "output_type": "stream",
     "text": [
      "100%|██████████| 313/313 [02:14<00:00,  2.32it/s]\n"
     ]
    },
    {
     "name": "stdout",
     "output_type": "stream",
     "text": [
      "Average loss: 0.0458\n",
      "\n",
      "Evaluating 2-way tasks...\n",
      "Episode 100/2000, Running Avg Accuracy: 0.9550\n",
      "Episode 200/2000, Running Avg Accuracy: 0.9525\n",
      "Episode 300/2000, Running Avg Accuracy: 0.9500\n",
      "Episode 400/2000, Running Avg Accuracy: 0.9425\n",
      "Episode 500/2000, Running Avg Accuracy: 0.9470\n",
      "Episode 600/2000, Running Avg Accuracy: 0.9483\n",
      "Episode 700/2000, Running Avg Accuracy: 0.9471\n",
      "Episode 800/2000, Running Avg Accuracy: 0.9487\n",
      "Episode 900/2000, Running Avg Accuracy: 0.9500\n",
      "Episode 1000/2000, Running Avg Accuracy: 0.9480\n",
      "Episode 1100/2000, Running Avg Accuracy: 0.9473\n",
      "Episode 1200/2000, Running Avg Accuracy: 0.9471\n",
      "Episode 1300/2000, Running Avg Accuracy: 0.9465\n",
      "Episode 1400/2000, Running Avg Accuracy: 0.9479\n",
      "Episode 1500/2000, Running Avg Accuracy: 0.9480\n",
      "Episode 1600/2000, Running Avg Accuracy: 0.9487\n",
      "Episode 1700/2000, Running Avg Accuracy: 0.9482\n",
      "Episode 1800/2000, Running Avg Accuracy: 0.9489\n",
      "Episode 1900/2000, Running Avg Accuracy: 0.9487\n",
      "Episode 2000/2000, Running Avg Accuracy: 0.9475\n",
      "\n",
      "Final Average Accuracy over 2000 episodes: 0.9475\n",
      "Average accuracy over 2000 episodes: 0.9475\n",
      "\n",
      "Epoch 20/50\n"
     ]
    },
    {
     "name": "stderr",
     "output_type": "stream",
     "text": [
      "  0%|          | 1/313 [00:01<06:28,  1.25s/it]"
     ]
    },
    {
     "name": "stdout",
     "output_type": "stream",
     "text": [
      "Batch [0/313], Loss: 0.0031, Class Loss: 0.0031, G Loss: 0.0000\n"
     ]
    },
    {
     "name": "stderr",
     "output_type": "stream",
     "text": [
      " 32%|███▏      | 101/313 [00:44<01:30,  2.33it/s]"
     ]
    },
    {
     "name": "stdout",
     "output_type": "stream",
     "text": [
      "Batch [100/313], Loss: 0.0223, Class Loss: 0.0223, G Loss: 0.0000\n"
     ]
    },
    {
     "name": "stderr",
     "output_type": "stream",
     "text": [
      " 64%|██████▍   | 201/313 [01:26<00:47,  2.34it/s]"
     ]
    },
    {
     "name": "stdout",
     "output_type": "stream",
     "text": [
      "Batch [200/313], Loss: 0.0074, Class Loss: 0.0074, G Loss: 0.0000\n"
     ]
    },
    {
     "name": "stderr",
     "output_type": "stream",
     "text": [
      " 96%|█████████▌| 301/313 [02:09<00:05,  2.34it/s]"
     ]
    },
    {
     "name": "stdout",
     "output_type": "stream",
     "text": [
      "Batch [300/313], Loss: 0.1207, Class Loss: 0.1207, G Loss: 0.0000\n"
     ]
    },
    {
     "name": "stderr",
     "output_type": "stream",
     "text": [
      "100%|██████████| 313/313 [02:14<00:00,  2.32it/s]\n"
     ]
    },
    {
     "name": "stdout",
     "output_type": "stream",
     "text": [
      "Average loss: 0.0598\n",
      "\n",
      "Evaluating 2-way tasks...\n",
      "Episode 100/2000, Running Avg Accuracy: 0.9400\n",
      "Episode 200/2000, Running Avg Accuracy: 0.9300\n",
      "Episode 300/2000, Running Avg Accuracy: 0.9417\n",
      "Episode 400/2000, Running Avg Accuracy: 0.9463\n",
      "Episode 500/2000, Running Avg Accuracy: 0.9470\n",
      "Episode 600/2000, Running Avg Accuracy: 0.9467\n",
      "Episode 700/2000, Running Avg Accuracy: 0.9457\n",
      "Episode 800/2000, Running Avg Accuracy: 0.9463\n",
      "Episode 900/2000, Running Avg Accuracy: 0.9461\n",
      "Episode 1000/2000, Running Avg Accuracy: 0.9470\n",
      "Episode 1100/2000, Running Avg Accuracy: 0.9468\n",
      "Episode 1200/2000, Running Avg Accuracy: 0.9492\n",
      "Episode 1300/2000, Running Avg Accuracy: 0.9504\n",
      "Episode 1400/2000, Running Avg Accuracy: 0.9486\n",
      "Episode 1500/2000, Running Avg Accuracy: 0.9503\n",
      "Episode 1600/2000, Running Avg Accuracy: 0.9491\n",
      "Episode 1700/2000, Running Avg Accuracy: 0.9491\n",
      "Episode 1800/2000, Running Avg Accuracy: 0.9489\n",
      "Episode 1900/2000, Running Avg Accuracy: 0.9482\n",
      "Episode 2000/2000, Running Avg Accuracy: 0.9457\n",
      "\n",
      "Final Average Accuracy over 2000 episodes: 0.9457\n",
      "Average accuracy over 2000 episodes: 0.9457\n",
      "\n",
      "Epoch 21/50\n"
     ]
    },
    {
     "name": "stderr",
     "output_type": "stream",
     "text": [
      "  0%|          | 1/313 [00:01<05:35,  1.08s/it]"
     ]
    },
    {
     "name": "stdout",
     "output_type": "stream",
     "text": [
      "Batch [0/313], Loss: 0.0009, Class Loss: 0.0009, G Loss: 0.0000\n"
     ]
    },
    {
     "name": "stderr",
     "output_type": "stream",
     "text": [
      " 32%|███▏      | 101/313 [00:43<01:30,  2.33it/s]"
     ]
    },
    {
     "name": "stdout",
     "output_type": "stream",
     "text": [
      "Batch [100/313], Loss: 0.0346, Class Loss: 0.0346, G Loss: 0.0000\n"
     ]
    },
    {
     "name": "stderr",
     "output_type": "stream",
     "text": [
      " 64%|██████▍   | 201/313 [01:26<00:47,  2.34it/s]"
     ]
    },
    {
     "name": "stdout",
     "output_type": "stream",
     "text": [
      "Batch [200/313], Loss: 0.0205, Class Loss: 0.0205, G Loss: 0.0000\n"
     ]
    },
    {
     "name": "stderr",
     "output_type": "stream",
     "text": [
      " 96%|█████████▌| 301/313 [02:09<00:05,  2.34it/s]"
     ]
    },
    {
     "name": "stdout",
     "output_type": "stream",
     "text": [
      "Batch [300/313], Loss: 0.0225, Class Loss: 0.0225, G Loss: 0.0000\n"
     ]
    },
    {
     "name": "stderr",
     "output_type": "stream",
     "text": [
      "100%|██████████| 313/313 [02:14<00:00,  2.32it/s]\n"
     ]
    },
    {
     "name": "stdout",
     "output_type": "stream",
     "text": [
      "Average loss: 0.0484\n",
      "\n",
      "Evaluating 2-way tasks...\n",
      "Episode 100/2000, Running Avg Accuracy: 0.9350\n",
      "Episode 200/2000, Running Avg Accuracy: 0.9375\n",
      "Episode 300/2000, Running Avg Accuracy: 0.9383\n",
      "Episode 400/2000, Running Avg Accuracy: 0.9400\n",
      "Episode 500/2000, Running Avg Accuracy: 0.9390\n",
      "Episode 600/2000, Running Avg Accuracy: 0.9408\n",
      "Episode 700/2000, Running Avg Accuracy: 0.9421\n",
      "Episode 800/2000, Running Avg Accuracy: 0.9400\n",
      "Episode 900/2000, Running Avg Accuracy: 0.9439\n",
      "Episode 1000/2000, Running Avg Accuracy: 0.9425\n",
      "Episode 1100/2000, Running Avg Accuracy: 0.9427\n",
      "Episode 1200/2000, Running Avg Accuracy: 0.9450\n",
      "Episode 1300/2000, Running Avg Accuracy: 0.9442\n",
      "Episode 1400/2000, Running Avg Accuracy: 0.9418\n",
      "Episode 1500/2000, Running Avg Accuracy: 0.9433\n",
      "Episode 1600/2000, Running Avg Accuracy: 0.9425\n",
      "Episode 1700/2000, Running Avg Accuracy: 0.9429\n",
      "Episode 1800/2000, Running Avg Accuracy: 0.9433\n",
      "Episode 1900/2000, Running Avg Accuracy: 0.9434\n",
      "Episode 2000/2000, Running Avg Accuracy: 0.9425\n",
      "\n",
      "Final Average Accuracy over 2000 episodes: 0.9425\n",
      "Average accuracy over 2000 episodes: 0.9425\n",
      "\n",
      "Epoch 22/50\n"
     ]
    },
    {
     "name": "stderr",
     "output_type": "stream",
     "text": [
      "  0%|          | 1/313 [00:01<05:44,  1.10s/it]"
     ]
    },
    {
     "name": "stdout",
     "output_type": "stream",
     "text": [
      "Batch [0/313], Loss: 0.3835, Class Loss: 0.3835, G Loss: 0.0000\n"
     ]
    },
    {
     "name": "stderr",
     "output_type": "stream",
     "text": [
      " 32%|███▏      | 101/313 [00:43<01:30,  2.34it/s]"
     ]
    },
    {
     "name": "stdout",
     "output_type": "stream",
     "text": [
      "Batch [100/313], Loss: 0.0076, Class Loss: 0.0076, G Loss: 0.0000\n"
     ]
    },
    {
     "name": "stderr",
     "output_type": "stream",
     "text": [
      " 64%|██████▍   | 201/313 [01:26<00:47,  2.34it/s]"
     ]
    },
    {
     "name": "stdout",
     "output_type": "stream",
     "text": [
      "Batch [200/313], Loss: 0.0074, Class Loss: 0.0074, G Loss: 0.0000\n"
     ]
    },
    {
     "name": "stderr",
     "output_type": "stream",
     "text": [
      " 96%|█████████▌| 301/313 [02:09<00:05,  2.34it/s]"
     ]
    },
    {
     "name": "stdout",
     "output_type": "stream",
     "text": [
      "Batch [300/313], Loss: 0.0240, Class Loss: 0.0240, G Loss: 0.0000\n"
     ]
    },
    {
     "name": "stderr",
     "output_type": "stream",
     "text": [
      "100%|██████████| 313/313 [02:14<00:00,  2.32it/s]\n"
     ]
    },
    {
     "name": "stdout",
     "output_type": "stream",
     "text": [
      "Average loss: 0.0380\n",
      "\n",
      "Evaluating 2-way tasks...\n",
      "Episode 100/2000, Running Avg Accuracy: 0.9600\n",
      "Episode 200/2000, Running Avg Accuracy: 0.9600\n",
      "Episode 300/2000, Running Avg Accuracy: 0.9567\n",
      "Episode 400/2000, Running Avg Accuracy: 0.9537\n",
      "Episode 500/2000, Running Avg Accuracy: 0.9590\n",
      "Episode 600/2000, Running Avg Accuracy: 0.9592\n",
      "Episode 700/2000, Running Avg Accuracy: 0.9600\n",
      "Episode 800/2000, Running Avg Accuracy: 0.9587\n",
      "Episode 900/2000, Running Avg Accuracy: 0.9589\n",
      "Episode 1000/2000, Running Avg Accuracy: 0.9590\n",
      "Episode 1100/2000, Running Avg Accuracy: 0.9614\n",
      "Episode 1200/2000, Running Avg Accuracy: 0.9600\n",
      "Episode 1300/2000, Running Avg Accuracy: 0.9592\n",
      "Episode 1400/2000, Running Avg Accuracy: 0.9586\n",
      "Episode 1500/2000, Running Avg Accuracy: 0.9600\n",
      "Episode 1600/2000, Running Avg Accuracy: 0.9600\n",
      "Episode 1700/2000, Running Avg Accuracy: 0.9609\n",
      "Episode 1800/2000, Running Avg Accuracy: 0.9617\n",
      "Episode 1900/2000, Running Avg Accuracy: 0.9616\n",
      "Episode 2000/2000, Running Avg Accuracy: 0.9617\n",
      "\n",
      "Final Average Accuracy over 2000 episodes: 0.9617\n",
      "Average accuracy over 2000 episodes: 0.9617\n",
      "\n",
      "Epoch 23/50\n"
     ]
    },
    {
     "name": "stderr",
     "output_type": "stream",
     "text": [
      "  0%|          | 1/313 [00:01<05:47,  1.11s/it]"
     ]
    },
    {
     "name": "stdout",
     "output_type": "stream",
     "text": [
      "Batch [0/313], Loss: 0.0166, Class Loss: 0.0166, G Loss: 0.0000\n"
     ]
    },
    {
     "name": "stderr",
     "output_type": "stream",
     "text": [
      " 32%|███▏      | 101/313 [00:43<01:30,  2.34it/s]"
     ]
    },
    {
     "name": "stdout",
     "output_type": "stream",
     "text": [
      "Batch [100/313], Loss: 0.0120, Class Loss: 0.0120, G Loss: 0.0000\n"
     ]
    },
    {
     "name": "stderr",
     "output_type": "stream",
     "text": [
      " 64%|██████▍   | 201/313 [01:26<00:47,  2.33it/s]"
     ]
    },
    {
     "name": "stdout",
     "output_type": "stream",
     "text": [
      "Batch [200/313], Loss: 0.0040, Class Loss: 0.0040, G Loss: 0.0000\n"
     ]
    },
    {
     "name": "stderr",
     "output_type": "stream",
     "text": [
      " 96%|█████████▌| 301/313 [02:09<00:05,  2.34it/s]"
     ]
    },
    {
     "name": "stdout",
     "output_type": "stream",
     "text": [
      "Batch [300/313], Loss: 0.0389, Class Loss: 0.0389, G Loss: 0.0000\n"
     ]
    },
    {
     "name": "stderr",
     "output_type": "stream",
     "text": [
      "100%|██████████| 313/313 [02:14<00:00,  2.32it/s]\n"
     ]
    },
    {
     "name": "stdout",
     "output_type": "stream",
     "text": [
      "Average loss: 0.0359\n",
      "\n",
      "Evaluating 2-way tasks...\n",
      "Episode 100/2000, Running Avg Accuracy: 0.9250\n",
      "Episode 200/2000, Running Avg Accuracy: 0.9425\n",
      "Episode 300/2000, Running Avg Accuracy: 0.9483\n",
      "Episode 400/2000, Running Avg Accuracy: 0.9563\n",
      "Episode 500/2000, Running Avg Accuracy: 0.9590\n",
      "Episode 600/2000, Running Avg Accuracy: 0.9617\n",
      "Episode 700/2000, Running Avg Accuracy: 0.9621\n",
      "Episode 800/2000, Running Avg Accuracy: 0.9631\n",
      "Episode 900/2000, Running Avg Accuracy: 0.9628\n",
      "Episode 1000/2000, Running Avg Accuracy: 0.9620\n",
      "Episode 1100/2000, Running Avg Accuracy: 0.9641\n",
      "Episode 1200/2000, Running Avg Accuracy: 0.9633\n",
      "Episode 1300/2000, Running Avg Accuracy: 0.9642\n",
      "Episode 1400/2000, Running Avg Accuracy: 0.9646\n",
      "Episode 1500/2000, Running Avg Accuracy: 0.9650\n",
      "Episode 1600/2000, Running Avg Accuracy: 0.9637\n",
      "Episode 1700/2000, Running Avg Accuracy: 0.9644\n",
      "Episode 1800/2000, Running Avg Accuracy: 0.9650\n",
      "Episode 1900/2000, Running Avg Accuracy: 0.9642\n",
      "Episode 2000/2000, Running Avg Accuracy: 0.9640\n",
      "\n",
      "Final Average Accuracy over 2000 episodes: 0.9640\n",
      "Average accuracy over 2000 episodes: 0.9640\n",
      "\n",
      "Epoch 24/50\n"
     ]
    },
    {
     "name": "stderr",
     "output_type": "stream",
     "text": [
      "  0%|          | 1/313 [00:01<05:36,  1.08s/it]"
     ]
    },
    {
     "name": "stdout",
     "output_type": "stream",
     "text": [
      "Batch [0/313], Loss: 0.0068, Class Loss: 0.0068, G Loss: 0.0000\n"
     ]
    },
    {
     "name": "stderr",
     "output_type": "stream",
     "text": [
      " 32%|███▏      | 101/313 [00:43<01:30,  2.34it/s]"
     ]
    },
    {
     "name": "stdout",
     "output_type": "stream",
     "text": [
      "Batch [100/313], Loss: 0.0002, Class Loss: 0.0002, G Loss: 0.0000\n"
     ]
    },
    {
     "name": "stderr",
     "output_type": "stream",
     "text": [
      " 64%|██████▍   | 201/313 [01:26<00:47,  2.34it/s]"
     ]
    },
    {
     "name": "stdout",
     "output_type": "stream",
     "text": [
      "Batch [200/313], Loss: 0.0747, Class Loss: 0.0747, G Loss: 0.0000\n"
     ]
    },
    {
     "name": "stderr",
     "output_type": "stream",
     "text": [
      " 96%|█████████▌| 301/313 [02:09<00:05,  2.33it/s]"
     ]
    },
    {
     "name": "stdout",
     "output_type": "stream",
     "text": [
      "Batch [300/313], Loss: 0.0006, Class Loss: 0.0006, G Loss: 0.0000\n"
     ]
    },
    {
     "name": "stderr",
     "output_type": "stream",
     "text": [
      "100%|██████████| 313/313 [02:14<00:00,  2.32it/s]\n"
     ]
    },
    {
     "name": "stdout",
     "output_type": "stream",
     "text": [
      "Average loss: 0.0272\n",
      "\n",
      "Evaluating 2-way tasks...\n",
      "Episode 100/2000, Running Avg Accuracy: 0.9300\n",
      "Episode 200/2000, Running Avg Accuracy: 0.9400\n",
      "Episode 300/2000, Running Avg Accuracy: 0.9467\n",
      "Episode 400/2000, Running Avg Accuracy: 0.9375\n",
      "Episode 500/2000, Running Avg Accuracy: 0.9350\n",
      "Episode 600/2000, Running Avg Accuracy: 0.9400\n",
      "Episode 700/2000, Running Avg Accuracy: 0.9450\n",
      "Episode 800/2000, Running Avg Accuracy: 0.9450\n",
      "Episode 900/2000, Running Avg Accuracy: 0.9444\n",
      "Episode 1000/2000, Running Avg Accuracy: 0.9450\n",
      "Episode 1100/2000, Running Avg Accuracy: 0.9445\n",
      "Episode 1200/2000, Running Avg Accuracy: 0.9454\n",
      "Episode 1300/2000, Running Avg Accuracy: 0.9465\n",
      "Episode 1400/2000, Running Avg Accuracy: 0.9450\n",
      "Episode 1500/2000, Running Avg Accuracy: 0.9453\n",
      "Episode 1600/2000, Running Avg Accuracy: 0.9447\n",
      "Episode 1700/2000, Running Avg Accuracy: 0.9453\n",
      "Episode 1800/2000, Running Avg Accuracy: 0.9458\n",
      "Episode 1900/2000, Running Avg Accuracy: 0.9471\n",
      "Episode 2000/2000, Running Avg Accuracy: 0.9485\n",
      "\n",
      "Final Average Accuracy over 2000 episodes: 0.9485\n",
      "Average accuracy over 2000 episodes: 0.9485\n",
      "\n",
      "Epoch 25/50\n"
     ]
    },
    {
     "name": "stderr",
     "output_type": "stream",
     "text": [
      "  0%|          | 1/313 [00:01<05:51,  1.13s/it]"
     ]
    },
    {
     "name": "stdout",
     "output_type": "stream",
     "text": [
      "Batch [0/313], Loss: 0.0115, Class Loss: 0.0115, G Loss: 0.0000\n"
     ]
    },
    {
     "name": "stderr",
     "output_type": "stream",
     "text": [
      " 32%|███▏      | 101/313 [00:44<01:30,  2.34it/s]"
     ]
    },
    {
     "name": "stdout",
     "output_type": "stream",
     "text": [
      "Batch [100/313], Loss: 0.0029, Class Loss: 0.0029, G Loss: 0.0000\n"
     ]
    },
    {
     "name": "stderr",
     "output_type": "stream",
     "text": [
      " 64%|██████▍   | 201/313 [01:26<00:47,  2.34it/s]"
     ]
    },
    {
     "name": "stdout",
     "output_type": "stream",
     "text": [
      "Batch [200/313], Loss: 0.0049, Class Loss: 0.0049, G Loss: 0.0000\n"
     ]
    },
    {
     "name": "stderr",
     "output_type": "stream",
     "text": [
      " 96%|█████████▌| 301/313 [02:09<00:05,  2.33it/s]"
     ]
    },
    {
     "name": "stdout",
     "output_type": "stream",
     "text": [
      "Batch [300/313], Loss: 0.2039, Class Loss: 0.2039, G Loss: 0.0000\n"
     ]
    },
    {
     "name": "stderr",
     "output_type": "stream",
     "text": [
      "100%|██████████| 313/313 [02:14<00:00,  2.32it/s]\n"
     ]
    },
    {
     "name": "stdout",
     "output_type": "stream",
     "text": [
      "Average loss: 0.0357\n",
      "\n",
      "Evaluating 2-way tasks...\n",
      "Episode 100/2000, Running Avg Accuracy: 0.9400\n",
      "Episode 200/2000, Running Avg Accuracy: 0.9500\n",
      "Episode 300/2000, Running Avg Accuracy: 0.9400\n",
      "Episode 400/2000, Running Avg Accuracy: 0.9400\n",
      "Episode 500/2000, Running Avg Accuracy: 0.9380\n",
      "Episode 600/2000, Running Avg Accuracy: 0.9350\n",
      "Episode 700/2000, Running Avg Accuracy: 0.9371\n",
      "Episode 800/2000, Running Avg Accuracy: 0.9394\n",
      "Episode 900/2000, Running Avg Accuracy: 0.9378\n",
      "Episode 1000/2000, Running Avg Accuracy: 0.9395\n",
      "Episode 1100/2000, Running Avg Accuracy: 0.9400\n",
      "Episode 1200/2000, Running Avg Accuracy: 0.9421\n",
      "Episode 1300/2000, Running Avg Accuracy: 0.9408\n",
      "Episode 1400/2000, Running Avg Accuracy: 0.9411\n",
      "Episode 1500/2000, Running Avg Accuracy: 0.9420\n",
      "Episode 1600/2000, Running Avg Accuracy: 0.9437\n",
      "Episode 1700/2000, Running Avg Accuracy: 0.9435\n",
      "Episode 1800/2000, Running Avg Accuracy: 0.9433\n",
      "Episode 1900/2000, Running Avg Accuracy: 0.9413\n",
      "Episode 2000/2000, Running Avg Accuracy: 0.9410\n",
      "\n",
      "Final Average Accuracy over 2000 episodes: 0.9410\n",
      "Average accuracy over 2000 episodes: 0.9410\n",
      "\n",
      "Epoch 26/50\n"
     ]
    },
    {
     "name": "stderr",
     "output_type": "stream",
     "text": [
      "  0%|          | 1/313 [00:01<05:45,  1.11s/it]"
     ]
    },
    {
     "name": "stdout",
     "output_type": "stream",
     "text": [
      "Batch [0/313], Loss: 0.0128, Class Loss: 0.0128, G Loss: 0.0000\n"
     ]
    },
    {
     "name": "stderr",
     "output_type": "stream",
     "text": [
      " 32%|███▏      | 101/313 [00:43<01:30,  2.33it/s]"
     ]
    },
    {
     "name": "stdout",
     "output_type": "stream",
     "text": [
      "Batch [100/313], Loss: 0.0068, Class Loss: 0.0068, G Loss: 0.0000\n"
     ]
    },
    {
     "name": "stderr",
     "output_type": "stream",
     "text": [
      " 64%|██████▍   | 201/313 [01:26<00:47,  2.34it/s]"
     ]
    },
    {
     "name": "stdout",
     "output_type": "stream",
     "text": [
      "Batch [200/313], Loss: 0.1257, Class Loss: 0.1257, G Loss: 0.0000\n"
     ]
    },
    {
     "name": "stderr",
     "output_type": "stream",
     "text": [
      " 96%|█████████▌| 301/313 [02:09<00:05,  2.34it/s]"
     ]
    },
    {
     "name": "stdout",
     "output_type": "stream",
     "text": [
      "Batch [300/313], Loss: 0.0266, Class Loss: 0.0266, G Loss: 0.0000\n"
     ]
    },
    {
     "name": "stderr",
     "output_type": "stream",
     "text": [
      "100%|██████████| 313/313 [02:14<00:00,  2.32it/s]\n"
     ]
    },
    {
     "name": "stdout",
     "output_type": "stream",
     "text": [
      "Average loss: 0.0445\n",
      "\n",
      "Evaluating 2-way tasks...\n",
      "Episode 100/2000, Running Avg Accuracy: 0.9600\n",
      "Episode 200/2000, Running Avg Accuracy: 0.9625\n",
      "Episode 300/2000, Running Avg Accuracy: 0.9617\n",
      "Episode 400/2000, Running Avg Accuracy: 0.9575\n",
      "Episode 500/2000, Running Avg Accuracy: 0.9540\n",
      "Episode 600/2000, Running Avg Accuracy: 0.9592\n",
      "Episode 700/2000, Running Avg Accuracy: 0.9579\n",
      "Episode 800/2000, Running Avg Accuracy: 0.9581\n",
      "Episode 900/2000, Running Avg Accuracy: 0.9589\n",
      "Episode 1000/2000, Running Avg Accuracy: 0.9575\n",
      "Episode 1100/2000, Running Avg Accuracy: 0.9550\n",
      "Episode 1200/2000, Running Avg Accuracy: 0.9550\n",
      "Episode 1300/2000, Running Avg Accuracy: 0.9565\n",
      "Episode 1400/2000, Running Avg Accuracy: 0.9564\n",
      "Episode 1500/2000, Running Avg Accuracy: 0.9573\n",
      "Episode 1600/2000, Running Avg Accuracy: 0.9563\n",
      "Episode 1700/2000, Running Avg Accuracy: 0.9562\n",
      "Episode 1800/2000, Running Avg Accuracy: 0.9558\n",
      "Episode 1900/2000, Running Avg Accuracy: 0.9550\n",
      "Episode 2000/2000, Running Avg Accuracy: 0.9537\n",
      "\n",
      "Final Average Accuracy over 2000 episodes: 0.9537\n",
      "Average accuracy over 2000 episodes: 0.9537\n",
      "\n",
      "Epoch 27/50\n"
     ]
    },
    {
     "name": "stderr",
     "output_type": "stream",
     "text": [
      "  0%|          | 1/313 [00:01<05:57,  1.15s/it]"
     ]
    },
    {
     "name": "stdout",
     "output_type": "stream",
     "text": [
      "Batch [0/313], Loss: 0.0021, Class Loss: 0.0021, G Loss: 0.0000\n"
     ]
    },
    {
     "name": "stderr",
     "output_type": "stream",
     "text": [
      " 32%|███▏      | 101/313 [00:43<01:30,  2.34it/s]"
     ]
    },
    {
     "name": "stdout",
     "output_type": "stream",
     "text": [
      "Batch [100/313], Loss: 0.0812, Class Loss: 0.0812, G Loss: 0.0000\n"
     ]
    },
    {
     "name": "stderr",
     "output_type": "stream",
     "text": [
      " 64%|██████▍   | 201/313 [01:26<00:47,  2.34it/s]"
     ]
    },
    {
     "name": "stdout",
     "output_type": "stream",
     "text": [
      "Batch [200/313], Loss: 0.0835, Class Loss: 0.0835, G Loss: 0.0000\n"
     ]
    },
    {
     "name": "stderr",
     "output_type": "stream",
     "text": [
      " 96%|█████████▌| 301/313 [02:09<00:05,  2.34it/s]"
     ]
    },
    {
     "name": "stdout",
     "output_type": "stream",
     "text": [
      "Batch [300/313], Loss: 0.1335, Class Loss: 0.1335, G Loss: 0.0000\n"
     ]
    },
    {
     "name": "stderr",
     "output_type": "stream",
     "text": [
      "100%|██████████| 313/313 [02:14<00:00,  2.32it/s]\n"
     ]
    },
    {
     "name": "stdout",
     "output_type": "stream",
     "text": [
      "Average loss: 0.0475\n",
      "\n",
      "Evaluating 2-way tasks...\n",
      "Episode 100/2000, Running Avg Accuracy: 0.9650\n",
      "Episode 200/2000, Running Avg Accuracy: 0.9575\n",
      "Episode 300/2000, Running Avg Accuracy: 0.9433\n",
      "Episode 400/2000, Running Avg Accuracy: 0.9437\n",
      "Episode 500/2000, Running Avg Accuracy: 0.9370\n",
      "Episode 600/2000, Running Avg Accuracy: 0.9417\n",
      "Episode 700/2000, Running Avg Accuracy: 0.9429\n",
      "Episode 800/2000, Running Avg Accuracy: 0.9400\n",
      "Episode 900/2000, Running Avg Accuracy: 0.9422\n",
      "Episode 1000/2000, Running Avg Accuracy: 0.9390\n",
      "Episode 1100/2000, Running Avg Accuracy: 0.9386\n",
      "Episode 1200/2000, Running Avg Accuracy: 0.9387\n",
      "Episode 1300/2000, Running Avg Accuracy: 0.9373\n",
      "Episode 1400/2000, Running Avg Accuracy: 0.9382\n",
      "Episode 1500/2000, Running Avg Accuracy: 0.9390\n",
      "Episode 1600/2000, Running Avg Accuracy: 0.9387\n",
      "Episode 1700/2000, Running Avg Accuracy: 0.9391\n",
      "Episode 1800/2000, Running Avg Accuracy: 0.9400\n",
      "Episode 1900/2000, Running Avg Accuracy: 0.9392\n",
      "Episode 2000/2000, Running Avg Accuracy: 0.9390\n",
      "\n",
      "Final Average Accuracy over 2000 episodes: 0.9390\n",
      "Average accuracy over 2000 episodes: 0.9390\n",
      "\n",
      "Epoch 28/50\n"
     ]
    },
    {
     "name": "stderr",
     "output_type": "stream",
     "text": [
      "  0%|          | 1/313 [00:01<05:42,  1.10s/it]"
     ]
    },
    {
     "name": "stdout",
     "output_type": "stream",
     "text": [
      "Batch [0/313], Loss: 0.2013, Class Loss: 0.2013, G Loss: 0.0000\n"
     ]
    },
    {
     "name": "stderr",
     "output_type": "stream",
     "text": [
      " 32%|███▏      | 101/313 [00:43<01:31,  2.33it/s]"
     ]
    },
    {
     "name": "stdout",
     "output_type": "stream",
     "text": [
      "Batch [100/313], Loss: 0.0023, Class Loss: 0.0023, G Loss: 0.0000\n"
     ]
    },
    {
     "name": "stderr",
     "output_type": "stream",
     "text": [
      " 64%|██████▍   | 201/313 [01:26<00:47,  2.34it/s]"
     ]
    },
    {
     "name": "stdout",
     "output_type": "stream",
     "text": [
      "Batch [200/313], Loss: 0.0010, Class Loss: 0.0010, G Loss: 0.0000\n"
     ]
    },
    {
     "name": "stderr",
     "output_type": "stream",
     "text": [
      " 96%|█████████▌| 301/313 [02:09<00:05,  2.34it/s]"
     ]
    },
    {
     "name": "stdout",
     "output_type": "stream",
     "text": [
      "Batch [300/313], Loss: 0.2497, Class Loss: 0.2497, G Loss: 0.0000\n"
     ]
    },
    {
     "name": "stderr",
     "output_type": "stream",
     "text": [
      "100%|██████████| 313/313 [02:14<00:00,  2.32it/s]\n"
     ]
    },
    {
     "name": "stdout",
     "output_type": "stream",
     "text": [
      "Average loss: 0.0378\n",
      "\n",
      "Evaluating 2-way tasks...\n",
      "Episode 100/2000, Running Avg Accuracy: 0.9600\n",
      "Episode 200/2000, Running Avg Accuracy: 0.9375\n",
      "Episode 300/2000, Running Avg Accuracy: 0.9450\n",
      "Episode 400/2000, Running Avg Accuracy: 0.9437\n",
      "Episode 500/2000, Running Avg Accuracy: 0.9420\n",
      "Episode 600/2000, Running Avg Accuracy: 0.9425\n",
      "Episode 700/2000, Running Avg Accuracy: 0.9421\n",
      "Episode 800/2000, Running Avg Accuracy: 0.9419\n",
      "Episode 900/2000, Running Avg Accuracy: 0.9428\n",
      "Episode 1000/2000, Running Avg Accuracy: 0.9405\n",
      "Episode 1100/2000, Running Avg Accuracy: 0.9395\n",
      "Episode 1200/2000, Running Avg Accuracy: 0.9404\n",
      "Episode 1300/2000, Running Avg Accuracy: 0.9385\n",
      "Episode 1400/2000, Running Avg Accuracy: 0.9386\n",
      "Episode 1500/2000, Running Avg Accuracy: 0.9380\n",
      "Episode 1600/2000, Running Avg Accuracy: 0.9378\n",
      "Episode 1700/2000, Running Avg Accuracy: 0.9388\n",
      "Episode 1800/2000, Running Avg Accuracy: 0.9392\n",
      "Episode 1900/2000, Running Avg Accuracy: 0.9392\n",
      "Episode 2000/2000, Running Avg Accuracy: 0.9385\n",
      "\n",
      "Final Average Accuracy over 2000 episodes: 0.9385\n",
      "Average accuracy over 2000 episodes: 0.9385\n",
      "\n",
      "Epoch 29/50\n"
     ]
    },
    {
     "name": "stderr",
     "output_type": "stream",
     "text": [
      "  0%|          | 1/313 [00:01<05:40,  1.09s/it]"
     ]
    },
    {
     "name": "stdout",
     "output_type": "stream",
     "text": [
      "Batch [0/313], Loss: 0.0091, Class Loss: 0.0091, G Loss: 0.0000\n"
     ]
    },
    {
     "name": "stderr",
     "output_type": "stream",
     "text": [
      " 32%|███▏      | 101/313 [00:43<01:30,  2.33it/s]"
     ]
    },
    {
     "name": "stdout",
     "output_type": "stream",
     "text": [
      "Batch [100/313], Loss: 0.0033, Class Loss: 0.0033, G Loss: 0.0000\n"
     ]
    },
    {
     "name": "stderr",
     "output_type": "stream",
     "text": [
      " 64%|██████▍   | 201/313 [01:26<00:48,  2.33it/s]"
     ]
    },
    {
     "name": "stdout",
     "output_type": "stream",
     "text": [
      "Batch [200/313], Loss: 0.0012, Class Loss: 0.0012, G Loss: 0.0000\n"
     ]
    },
    {
     "name": "stderr",
     "output_type": "stream",
     "text": [
      " 96%|█████████▌| 301/313 [02:09<00:05,  2.34it/s]"
     ]
    },
    {
     "name": "stdout",
     "output_type": "stream",
     "text": [
      "Batch [300/313], Loss: 0.0001, Class Loss: 0.0001, G Loss: 0.0000\n"
     ]
    },
    {
     "name": "stderr",
     "output_type": "stream",
     "text": [
      "100%|██████████| 313/313 [02:14<00:00,  2.32it/s]\n"
     ]
    },
    {
     "name": "stdout",
     "output_type": "stream",
     "text": [
      "Average loss: 0.0349\n",
      "\n",
      "Evaluating 2-way tasks...\n",
      "Episode 100/2000, Running Avg Accuracy: 0.9650\n",
      "Episode 200/2000, Running Avg Accuracy: 0.9800\n",
      "Episode 300/2000, Running Avg Accuracy: 0.9750\n",
      "Episode 400/2000, Running Avg Accuracy: 0.9700\n",
      "Episode 500/2000, Running Avg Accuracy: 0.9690\n",
      "Episode 600/2000, Running Avg Accuracy: 0.9692\n",
      "Episode 700/2000, Running Avg Accuracy: 0.9664\n",
      "Episode 800/2000, Running Avg Accuracy: 0.9669\n",
      "Episode 900/2000, Running Avg Accuracy: 0.9644\n",
      "Episode 1000/2000, Running Avg Accuracy: 0.9650\n",
      "Episode 1100/2000, Running Avg Accuracy: 0.9632\n",
      "Episode 1200/2000, Running Avg Accuracy: 0.9617\n",
      "Episode 1300/2000, Running Avg Accuracy: 0.9612\n",
      "Episode 1400/2000, Running Avg Accuracy: 0.9621\n",
      "Episode 1500/2000, Running Avg Accuracy: 0.9610\n",
      "Episode 1600/2000, Running Avg Accuracy: 0.9609\n",
      "Episode 1700/2000, Running Avg Accuracy: 0.9618\n",
      "Episode 1800/2000, Running Avg Accuracy: 0.9614\n",
      "Episode 1900/2000, Running Avg Accuracy: 0.9616\n",
      "Episode 2000/2000, Running Avg Accuracy: 0.9613\n",
      "\n",
      "Final Average Accuracy over 2000 episodes: 0.9613\n",
      "Average accuracy over 2000 episodes: 0.9613\n",
      "\n",
      "Epoch 30/50\n"
     ]
    },
    {
     "name": "stderr",
     "output_type": "stream",
     "text": [
      "  0%|          | 1/313 [00:01<05:47,  1.11s/it]"
     ]
    },
    {
     "name": "stdout",
     "output_type": "stream",
     "text": [
      "Batch [0/313], Loss: 0.0015, Class Loss: 0.0015, G Loss: 0.0000\n"
     ]
    },
    {
     "name": "stderr",
     "output_type": "stream",
     "text": [
      " 32%|███▏      | 101/313 [00:43<01:30,  2.33it/s]"
     ]
    },
    {
     "name": "stdout",
     "output_type": "stream",
     "text": [
      "Batch [100/313], Loss: 0.0243, Class Loss: 0.0243, G Loss: 0.0000\n"
     ]
    },
    {
     "name": "stderr",
     "output_type": "stream",
     "text": [
      " 64%|██████▍   | 201/313 [01:26<00:48,  2.33it/s]"
     ]
    },
    {
     "name": "stdout",
     "output_type": "stream",
     "text": [
      "Batch [200/313], Loss: 0.0548, Class Loss: 0.0548, G Loss: 0.0000\n"
     ]
    },
    {
     "name": "stderr",
     "output_type": "stream",
     "text": [
      " 96%|█████████▌| 301/313 [02:09<00:05,  2.34it/s]"
     ]
    },
    {
     "name": "stdout",
     "output_type": "stream",
     "text": [
      "Batch [300/313], Loss: 0.0001, Class Loss: 0.0001, G Loss: 0.0000\n"
     ]
    },
    {
     "name": "stderr",
     "output_type": "stream",
     "text": [
      "100%|██████████| 313/313 [02:14<00:00,  2.32it/s]\n"
     ]
    },
    {
     "name": "stdout",
     "output_type": "stream",
     "text": [
      "Average loss: 0.0278\n",
      "\n",
      "Evaluating 2-way tasks...\n",
      "Episode 100/2000, Running Avg Accuracy: 0.9600\n",
      "Episode 200/2000, Running Avg Accuracy: 0.9700\n",
      "Episode 300/2000, Running Avg Accuracy: 0.9700\n",
      "Episode 400/2000, Running Avg Accuracy: 0.9650\n",
      "Episode 500/2000, Running Avg Accuracy: 0.9630\n",
      "Episode 600/2000, Running Avg Accuracy: 0.9575\n",
      "Episode 700/2000, Running Avg Accuracy: 0.9607\n",
      "Episode 800/2000, Running Avg Accuracy: 0.9587\n",
      "Episode 900/2000, Running Avg Accuracy: 0.9544\n",
      "Episode 1000/2000, Running Avg Accuracy: 0.9560\n",
      "Episode 1100/2000, Running Avg Accuracy: 0.9559\n",
      "Episode 1200/2000, Running Avg Accuracy: 0.9542\n",
      "Episode 1300/2000, Running Avg Accuracy: 0.9535\n",
      "Episode 1400/2000, Running Avg Accuracy: 0.9536\n",
      "Episode 1500/2000, Running Avg Accuracy: 0.9527\n",
      "Episode 1600/2000, Running Avg Accuracy: 0.9509\n",
      "Episode 1700/2000, Running Avg Accuracy: 0.9503\n",
      "Episode 1800/2000, Running Avg Accuracy: 0.9508\n",
      "Episode 1900/2000, Running Avg Accuracy: 0.9495\n",
      "Episode 2000/2000, Running Avg Accuracy: 0.9503\n",
      "\n",
      "Final Average Accuracy over 2000 episodes: 0.9503\n",
      "Average accuracy over 2000 episodes: 0.9503\n",
      "\n",
      "Epoch 31/50\n"
     ]
    },
    {
     "name": "stderr",
     "output_type": "stream",
     "text": [
      "  0%|          | 1/313 [00:01<05:52,  1.13s/it]"
     ]
    },
    {
     "name": "stdout",
     "output_type": "stream",
     "text": [
      "Batch [0/313], Loss: 0.0005, Class Loss: 0.0005, G Loss: 0.0000\n"
     ]
    },
    {
     "name": "stderr",
     "output_type": "stream",
     "text": [
      " 32%|███▏      | 101/313 [00:43<01:30,  2.33it/s]"
     ]
    },
    {
     "name": "stdout",
     "output_type": "stream",
     "text": [
      "Batch [100/313], Loss: 0.0276, Class Loss: 0.0276, G Loss: 0.0000\n"
     ]
    },
    {
     "name": "stderr",
     "output_type": "stream",
     "text": [
      " 64%|██████▍   | 201/313 [01:26<00:47,  2.34it/s]"
     ]
    },
    {
     "name": "stdout",
     "output_type": "stream",
     "text": [
      "Batch [200/313], Loss: 0.0475, Class Loss: 0.0475, G Loss: 0.0000\n"
     ]
    },
    {
     "name": "stderr",
     "output_type": "stream",
     "text": [
      " 96%|█████████▌| 301/313 [02:09<00:05,  2.34it/s]"
     ]
    },
    {
     "name": "stdout",
     "output_type": "stream",
     "text": [
      "Batch [300/313], Loss: 0.0057, Class Loss: 0.0057, G Loss: 0.0000\n"
     ]
    },
    {
     "name": "stderr",
     "output_type": "stream",
     "text": [
      "100%|██████████| 313/313 [02:14<00:00,  2.32it/s]\n"
     ]
    },
    {
     "name": "stdout",
     "output_type": "stream",
     "text": [
      "Average loss: 0.0303\n",
      "\n",
      "Evaluating 2-way tasks...\n",
      "Episode 100/2000, Running Avg Accuracy: 0.9450\n",
      "Episode 200/2000, Running Avg Accuracy: 0.9525\n",
      "Episode 300/2000, Running Avg Accuracy: 0.9467\n",
      "Episode 400/2000, Running Avg Accuracy: 0.9475\n",
      "Episode 500/2000, Running Avg Accuracy: 0.9470\n",
      "Episode 600/2000, Running Avg Accuracy: 0.9492\n",
      "Episode 700/2000, Running Avg Accuracy: 0.9493\n",
      "Episode 800/2000, Running Avg Accuracy: 0.9481\n",
      "Episode 900/2000, Running Avg Accuracy: 0.9494\n",
      "Episode 1000/2000, Running Avg Accuracy: 0.9525\n",
      "Episode 1100/2000, Running Avg Accuracy: 0.9541\n",
      "Episode 1200/2000, Running Avg Accuracy: 0.9533\n",
      "Episode 1300/2000, Running Avg Accuracy: 0.9531\n",
      "Episode 1400/2000, Running Avg Accuracy: 0.9539\n",
      "Episode 1500/2000, Running Avg Accuracy: 0.9533\n",
      "Episode 1600/2000, Running Avg Accuracy: 0.9534\n",
      "Episode 1700/2000, Running Avg Accuracy: 0.9532\n",
      "Episode 1800/2000, Running Avg Accuracy: 0.9542\n",
      "Episode 1900/2000, Running Avg Accuracy: 0.9547\n",
      "Episode 2000/2000, Running Avg Accuracy: 0.9537\n",
      "\n",
      "Final Average Accuracy over 2000 episodes: 0.9537\n",
      "Average accuracy over 2000 episodes: 0.9537\n",
      "\n",
      "Epoch 32/50\n"
     ]
    },
    {
     "name": "stderr",
     "output_type": "stream",
     "text": [
      "  0%|          | 1/313 [00:01<05:57,  1.15s/it]"
     ]
    },
    {
     "name": "stdout",
     "output_type": "stream",
     "text": [
      "Batch [0/313], Loss: 0.0040, Class Loss: 0.0040, G Loss: 0.0000\n"
     ]
    },
    {
     "name": "stderr",
     "output_type": "stream",
     "text": [
      " 32%|███▏      | 101/313 [00:44<01:30,  2.33it/s]"
     ]
    },
    {
     "name": "stdout",
     "output_type": "stream",
     "text": [
      "Batch [100/313], Loss: 0.0014, Class Loss: 0.0014, G Loss: 0.0000\n"
     ]
    },
    {
     "name": "stderr",
     "output_type": "stream",
     "text": [
      " 64%|██████▍   | 201/313 [01:26<00:47,  2.34it/s]"
     ]
    },
    {
     "name": "stdout",
     "output_type": "stream",
     "text": [
      "Batch [200/313], Loss: 0.0019, Class Loss: 0.0019, G Loss: 0.0000\n"
     ]
    },
    {
     "name": "stderr",
     "output_type": "stream",
     "text": [
      " 96%|█████████▌| 301/313 [02:09<00:05,  2.33it/s]"
     ]
    },
    {
     "name": "stdout",
     "output_type": "stream",
     "text": [
      "Batch [300/313], Loss: 0.0529, Class Loss: 0.0529, G Loss: 0.0000\n"
     ]
    },
    {
     "name": "stderr",
     "output_type": "stream",
     "text": [
      "100%|██████████| 313/313 [02:14<00:00,  2.32it/s]\n"
     ]
    },
    {
     "name": "stdout",
     "output_type": "stream",
     "text": [
      "Average loss: 0.0286\n",
      "\n",
      "Evaluating 2-way tasks...\n",
      "Episode 100/2000, Running Avg Accuracy: 0.9700\n",
      "Episode 200/2000, Running Avg Accuracy: 0.9575\n",
      "Episode 300/2000, Running Avg Accuracy: 0.9567\n",
      "Episode 400/2000, Running Avg Accuracy: 0.9563\n",
      "Episode 500/2000, Running Avg Accuracy: 0.9520\n",
      "Episode 600/2000, Running Avg Accuracy: 0.9533\n",
      "Episode 700/2000, Running Avg Accuracy: 0.9529\n",
      "Episode 800/2000, Running Avg Accuracy: 0.9487\n",
      "Episode 900/2000, Running Avg Accuracy: 0.9489\n",
      "Episode 1000/2000, Running Avg Accuracy: 0.9480\n",
      "Episode 1100/2000, Running Avg Accuracy: 0.9477\n",
      "Episode 1200/2000, Running Avg Accuracy: 0.9492\n",
      "Episode 1300/2000, Running Avg Accuracy: 0.9492\n",
      "Episode 1400/2000, Running Avg Accuracy: 0.9507\n",
      "Episode 1500/2000, Running Avg Accuracy: 0.9530\n",
      "Episode 1600/2000, Running Avg Accuracy: 0.9522\n",
      "Episode 1700/2000, Running Avg Accuracy: 0.9515\n",
      "Episode 1800/2000, Running Avg Accuracy: 0.9508\n",
      "Episode 1900/2000, Running Avg Accuracy: 0.9500\n",
      "Episode 2000/2000, Running Avg Accuracy: 0.9510\n",
      "\n",
      "Final Average Accuracy over 2000 episodes: 0.9510\n",
      "Average accuracy over 2000 episodes: 0.9510\n",
      "\n",
      "Epoch 33/50\n"
     ]
    },
    {
     "name": "stderr",
     "output_type": "stream",
     "text": [
      "  0%|          | 1/313 [00:01<05:54,  1.14s/it]"
     ]
    },
    {
     "name": "stdout",
     "output_type": "stream",
     "text": [
      "Batch [0/313], Loss: 0.1089, Class Loss: 0.1089, G Loss: 0.0000\n"
     ]
    },
    {
     "name": "stderr",
     "output_type": "stream",
     "text": [
      " 32%|███▏      | 101/313 [00:43<01:30,  2.33it/s]"
     ]
    },
    {
     "name": "stdout",
     "output_type": "stream",
     "text": [
      "Batch [100/313], Loss: 0.0009, Class Loss: 0.0009, G Loss: 0.0000\n"
     ]
    },
    {
     "name": "stderr",
     "output_type": "stream",
     "text": [
      " 64%|██████▍   | 201/313 [01:26<00:47,  2.33it/s]"
     ]
    },
    {
     "name": "stdout",
     "output_type": "stream",
     "text": [
      "Batch [200/313], Loss: 0.1257, Class Loss: 0.1257, G Loss: 0.0000\n"
     ]
    },
    {
     "name": "stderr",
     "output_type": "stream",
     "text": [
      " 96%|█████████▌| 301/313 [02:09<00:05,  2.33it/s]"
     ]
    },
    {
     "name": "stdout",
     "output_type": "stream",
     "text": [
      "Batch [300/313], Loss: 0.0046, Class Loss: 0.0046, G Loss: 0.0000\n"
     ]
    },
    {
     "name": "stderr",
     "output_type": "stream",
     "text": [
      "100%|██████████| 313/313 [02:14<00:00,  2.32it/s]\n"
     ]
    },
    {
     "name": "stdout",
     "output_type": "stream",
     "text": [
      "Average loss: 0.0397\n",
      "\n",
      "Evaluating 2-way tasks...\n",
      "Episode 100/2000, Running Avg Accuracy: 0.9600\n",
      "Episode 200/2000, Running Avg Accuracy: 0.9625\n",
      "Episode 300/2000, Running Avg Accuracy: 0.9617\n",
      "Episode 400/2000, Running Avg Accuracy: 0.9513\n",
      "Episode 500/2000, Running Avg Accuracy: 0.9570\n",
      "Episode 600/2000, Running Avg Accuracy: 0.9558\n",
      "Episode 700/2000, Running Avg Accuracy: 0.9593\n",
      "Episode 800/2000, Running Avg Accuracy: 0.9575\n",
      "Episode 900/2000, Running Avg Accuracy: 0.9572\n",
      "Episode 1000/2000, Running Avg Accuracy: 0.9540\n",
      "Episode 1100/2000, Running Avg Accuracy: 0.9541\n",
      "Episode 1200/2000, Running Avg Accuracy: 0.9554\n",
      "Episode 1300/2000, Running Avg Accuracy: 0.9562\n",
      "Episode 1400/2000, Running Avg Accuracy: 0.9557\n",
      "Episode 1500/2000, Running Avg Accuracy: 0.9553\n",
      "Episode 1600/2000, Running Avg Accuracy: 0.9572\n",
      "Episode 1700/2000, Running Avg Accuracy: 0.9579\n",
      "Episode 1800/2000, Running Avg Accuracy: 0.9589\n",
      "Episode 1900/2000, Running Avg Accuracy: 0.9584\n",
      "Episode 2000/2000, Running Avg Accuracy: 0.9593\n",
      "\n",
      "Final Average Accuracy over 2000 episodes: 0.9593\n",
      "Average accuracy over 2000 episodes: 0.9593\n",
      "\n",
      "Epoch 34/50\n"
     ]
    },
    {
     "name": "stderr",
     "output_type": "stream",
     "text": [
      "  0%|          | 1/313 [00:01<05:54,  1.14s/it]"
     ]
    },
    {
     "name": "stdout",
     "output_type": "stream",
     "text": [
      "Batch [0/313], Loss: 0.0022, Class Loss: 0.0022, G Loss: 0.0000\n"
     ]
    },
    {
     "name": "stderr",
     "output_type": "stream",
     "text": [
      " 32%|███▏      | 101/313 [00:43<01:30,  2.34it/s]"
     ]
    },
    {
     "name": "stdout",
     "output_type": "stream",
     "text": [
      "Batch [100/313], Loss: 0.0906, Class Loss: 0.0906, G Loss: 0.0000\n"
     ]
    },
    {
     "name": "stderr",
     "output_type": "stream",
     "text": [
      " 64%|██████▍   | 201/313 [01:26<00:47,  2.34it/s]"
     ]
    },
    {
     "name": "stdout",
     "output_type": "stream",
     "text": [
      "Batch [200/313], Loss: 0.0019, Class Loss: 0.0019, G Loss: 0.0000\n"
     ]
    },
    {
     "name": "stderr",
     "output_type": "stream",
     "text": [
      " 96%|█████████▌| 301/313 [02:09<00:05,  2.33it/s]"
     ]
    },
    {
     "name": "stdout",
     "output_type": "stream",
     "text": [
      "Batch [300/313], Loss: 0.0084, Class Loss: 0.0084, G Loss: 0.0000\n"
     ]
    },
    {
     "name": "stderr",
     "output_type": "stream",
     "text": [
      "100%|██████████| 313/313 [02:14<00:00,  2.32it/s]\n"
     ]
    },
    {
     "name": "stdout",
     "output_type": "stream",
     "text": [
      "Average loss: 0.0306\n",
      "\n",
      "Evaluating 2-way tasks...\n",
      "Episode 100/2000, Running Avg Accuracy: 0.9150\n",
      "Episode 200/2000, Running Avg Accuracy: 0.9300\n",
      "Episode 300/2000, Running Avg Accuracy: 0.9350\n",
      "Episode 400/2000, Running Avg Accuracy: 0.9387\n",
      "Episode 500/2000, Running Avg Accuracy: 0.9390\n",
      "Episode 600/2000, Running Avg Accuracy: 0.9400\n",
      "Episode 700/2000, Running Avg Accuracy: 0.9414\n",
      "Episode 800/2000, Running Avg Accuracy: 0.9406\n",
      "Episode 900/2000, Running Avg Accuracy: 0.9422\n",
      "Episode 1000/2000, Running Avg Accuracy: 0.9450\n",
      "Episode 1100/2000, Running Avg Accuracy: 0.9477\n",
      "Episode 1200/2000, Running Avg Accuracy: 0.9500\n",
      "Episode 1300/2000, Running Avg Accuracy: 0.9512\n",
      "Episode 1400/2000, Running Avg Accuracy: 0.9511\n",
      "Episode 1500/2000, Running Avg Accuracy: 0.9490\n",
      "Episode 1600/2000, Running Avg Accuracy: 0.9472\n",
      "Episode 1700/2000, Running Avg Accuracy: 0.9441\n",
      "Episode 1800/2000, Running Avg Accuracy: 0.9439\n",
      "Episode 1900/2000, Running Avg Accuracy: 0.9445\n",
      "Episode 2000/2000, Running Avg Accuracy: 0.9447\n",
      "\n",
      "Final Average Accuracy over 2000 episodes: 0.9447\n",
      "Average accuracy over 2000 episodes: 0.9447\n",
      "\n",
      "Epoch 35/50\n"
     ]
    },
    {
     "name": "stderr",
     "output_type": "stream",
     "text": [
      "  0%|          | 1/313 [00:01<05:55,  1.14s/it]"
     ]
    },
    {
     "name": "stdout",
     "output_type": "stream",
     "text": [
      "Batch [0/313], Loss: 0.0040, Class Loss: 0.0040, G Loss: 0.0000\n"
     ]
    },
    {
     "name": "stderr",
     "output_type": "stream",
     "text": [
      " 32%|███▏      | 101/313 [00:43<01:30,  2.33it/s]"
     ]
    },
    {
     "name": "stdout",
     "output_type": "stream",
     "text": [
      "Batch [100/313], Loss: 0.0146, Class Loss: 0.0146, G Loss: 0.0000\n"
     ]
    },
    {
     "name": "stderr",
     "output_type": "stream",
     "text": [
      " 64%|██████▍   | 201/313 [01:26<00:47,  2.34it/s]"
     ]
    },
    {
     "name": "stdout",
     "output_type": "stream",
     "text": [
      "Batch [200/313], Loss: 0.0004, Class Loss: 0.0004, G Loss: 0.0000\n"
     ]
    },
    {
     "name": "stderr",
     "output_type": "stream",
     "text": [
      " 96%|█████████▌| 301/313 [02:09<00:05,  2.33it/s]"
     ]
    },
    {
     "name": "stdout",
     "output_type": "stream",
     "text": [
      "Batch [300/313], Loss: 0.1851, Class Loss: 0.1851, G Loss: 0.0000\n"
     ]
    },
    {
     "name": "stderr",
     "output_type": "stream",
     "text": [
      "100%|██████████| 313/313 [02:14<00:00,  2.32it/s]\n"
     ]
    },
    {
     "name": "stdout",
     "output_type": "stream",
     "text": [
      "Average loss: 0.0297\n",
      "\n",
      "Evaluating 2-way tasks...\n",
      "Episode 100/2000, Running Avg Accuracy: 0.9350\n",
      "Episode 200/2000, Running Avg Accuracy: 0.9375\n",
      "Episode 300/2000, Running Avg Accuracy: 0.9450\n",
      "Episode 400/2000, Running Avg Accuracy: 0.9463\n",
      "Episode 500/2000, Running Avg Accuracy: 0.9490\n",
      "Episode 600/2000, Running Avg Accuracy: 0.9525\n",
      "Episode 700/2000, Running Avg Accuracy: 0.9521\n",
      "Episode 800/2000, Running Avg Accuracy: 0.9494\n",
      "Episode 900/2000, Running Avg Accuracy: 0.9494\n",
      "Episode 1000/2000, Running Avg Accuracy: 0.9510\n",
      "Episode 1100/2000, Running Avg Accuracy: 0.9536\n",
      "Episode 1200/2000, Running Avg Accuracy: 0.9533\n",
      "Episode 1300/2000, Running Avg Accuracy: 0.9538\n",
      "Episode 1400/2000, Running Avg Accuracy: 0.9539\n",
      "Episode 1500/2000, Running Avg Accuracy: 0.9520\n",
      "Episode 1600/2000, Running Avg Accuracy: 0.9525\n",
      "Episode 1700/2000, Running Avg Accuracy: 0.9521\n",
      "Episode 1800/2000, Running Avg Accuracy: 0.9525\n",
      "Episode 1900/2000, Running Avg Accuracy: 0.9534\n",
      "Episode 2000/2000, Running Avg Accuracy: 0.9537\n",
      "\n",
      "Final Average Accuracy over 2000 episodes: 0.9537\n",
      "Average accuracy over 2000 episodes: 0.9537\n",
      "\n",
      "Epoch 36/50\n"
     ]
    },
    {
     "name": "stderr",
     "output_type": "stream",
     "text": [
      "  0%|          | 1/313 [00:01<05:50,  1.12s/it]"
     ]
    },
    {
     "name": "stdout",
     "output_type": "stream",
     "text": [
      "Batch [0/313], Loss: 0.0010, Class Loss: 0.0010, G Loss: 0.0000\n"
     ]
    },
    {
     "name": "stderr",
     "output_type": "stream",
     "text": [
      " 32%|███▏      | 101/313 [00:43<01:30,  2.34it/s]"
     ]
    },
    {
     "name": "stdout",
     "output_type": "stream",
     "text": [
      "Batch [100/313], Loss: 0.0185, Class Loss: 0.0185, G Loss: 0.0000\n"
     ]
    },
    {
     "name": "stderr",
     "output_type": "stream",
     "text": [
      " 64%|██████▍   | 201/313 [01:26<00:47,  2.34it/s]"
     ]
    },
    {
     "name": "stdout",
     "output_type": "stream",
     "text": [
      "Batch [200/313], Loss: 0.1003, Class Loss: 0.1003, G Loss: 0.0000\n"
     ]
    },
    {
     "name": "stderr",
     "output_type": "stream",
     "text": [
      " 96%|█████████▌| 301/313 [02:09<00:05,  2.33it/s]"
     ]
    },
    {
     "name": "stdout",
     "output_type": "stream",
     "text": [
      "Batch [300/313], Loss: 0.0098, Class Loss: 0.0098, G Loss: 0.0000\n"
     ]
    },
    {
     "name": "stderr",
     "output_type": "stream",
     "text": [
      "100%|██████████| 313/313 [02:14<00:00,  2.32it/s]\n"
     ]
    },
    {
     "name": "stdout",
     "output_type": "stream",
     "text": [
      "Average loss: 0.0264\n",
      "\n",
      "Evaluating 2-way tasks...\n",
      "Episode 100/2000, Running Avg Accuracy: 0.9200\n",
      "Episode 200/2000, Running Avg Accuracy: 0.9400\n",
      "Episode 300/2000, Running Avg Accuracy: 0.9400\n",
      "Episode 400/2000, Running Avg Accuracy: 0.9387\n",
      "Episode 500/2000, Running Avg Accuracy: 0.9400\n",
      "Episode 600/2000, Running Avg Accuracy: 0.9425\n",
      "Episode 700/2000, Running Avg Accuracy: 0.9457\n",
      "Episode 800/2000, Running Avg Accuracy: 0.9475\n",
      "Episode 900/2000, Running Avg Accuracy: 0.9472\n",
      "Episode 1000/2000, Running Avg Accuracy: 0.9465\n",
      "Episode 1100/2000, Running Avg Accuracy: 0.9468\n",
      "Episode 1200/2000, Running Avg Accuracy: 0.9471\n",
      "Episode 1300/2000, Running Avg Accuracy: 0.9454\n",
      "Episode 1400/2000, Running Avg Accuracy: 0.9468\n",
      "Episode 1500/2000, Running Avg Accuracy: 0.9473\n",
      "Episode 1600/2000, Running Avg Accuracy: 0.9472\n",
      "Episode 1700/2000, Running Avg Accuracy: 0.9485\n",
      "Episode 1800/2000, Running Avg Accuracy: 0.9497\n",
      "Episode 1900/2000, Running Avg Accuracy: 0.9495\n",
      "Episode 2000/2000, Running Avg Accuracy: 0.9487\n",
      "\n",
      "Final Average Accuracy over 2000 episodes: 0.9487\n",
      "Average accuracy over 2000 episodes: 0.9487\n",
      "\n",
      "Epoch 37/50\n"
     ]
    },
    {
     "name": "stderr",
     "output_type": "stream",
     "text": [
      "  0%|          | 1/313 [00:01<05:50,  1.12s/it]"
     ]
    },
    {
     "name": "stdout",
     "output_type": "stream",
     "text": [
      "Batch [0/313], Loss: 0.0067, Class Loss: 0.0067, G Loss: 0.0000\n"
     ]
    },
    {
     "name": "stderr",
     "output_type": "stream",
     "text": [
      " 32%|███▏      | 101/313 [00:43<01:30,  2.33it/s]"
     ]
    },
    {
     "name": "stdout",
     "output_type": "stream",
     "text": [
      "Batch [100/313], Loss: 0.0003, Class Loss: 0.0003, G Loss: 0.0000\n"
     ]
    },
    {
     "name": "stderr",
     "output_type": "stream",
     "text": [
      " 64%|██████▍   | 201/313 [01:26<00:47,  2.34it/s]"
     ]
    },
    {
     "name": "stdout",
     "output_type": "stream",
     "text": [
      "Batch [200/313], Loss: 0.1623, Class Loss: 0.1623, G Loss: 0.0000\n"
     ]
    },
    {
     "name": "stderr",
     "output_type": "stream",
     "text": [
      " 96%|█████████▌| 301/313 [02:09<00:05,  2.33it/s]"
     ]
    },
    {
     "name": "stdout",
     "output_type": "stream",
     "text": [
      "Batch [300/313], Loss: 0.0189, Class Loss: 0.0189, G Loss: 0.0000\n"
     ]
    },
    {
     "name": "stderr",
     "output_type": "stream",
     "text": [
      "100%|██████████| 313/313 [02:14<00:00,  2.32it/s]\n"
     ]
    },
    {
     "name": "stdout",
     "output_type": "stream",
     "text": [
      "Average loss: 0.0353\n",
      "\n",
      "Evaluating 2-way tasks...\n",
      "Episode 100/2000, Running Avg Accuracy: 0.9600\n",
      "Episode 200/2000, Running Avg Accuracy: 0.9575\n",
      "Episode 300/2000, Running Avg Accuracy: 0.9667\n",
      "Episode 400/2000, Running Avg Accuracy: 0.9625\n",
      "Episode 500/2000, Running Avg Accuracy: 0.9660\n",
      "Episode 600/2000, Running Avg Accuracy: 0.9600\n",
      "Episode 700/2000, Running Avg Accuracy: 0.9607\n",
      "Episode 800/2000, Running Avg Accuracy: 0.9537\n",
      "Episode 900/2000, Running Avg Accuracy: 0.9539\n",
      "Episode 1000/2000, Running Avg Accuracy: 0.9545\n",
      "Episode 1100/2000, Running Avg Accuracy: 0.9564\n",
      "Episode 1200/2000, Running Avg Accuracy: 0.9554\n",
      "Episode 1300/2000, Running Avg Accuracy: 0.9550\n",
      "Episode 1400/2000, Running Avg Accuracy: 0.9561\n",
      "Episode 1500/2000, Running Avg Accuracy: 0.9573\n",
      "Episode 1600/2000, Running Avg Accuracy: 0.9563\n",
      "Episode 1700/2000, Running Avg Accuracy: 0.9574\n",
      "Episode 1800/2000, Running Avg Accuracy: 0.9572\n",
      "Episode 1900/2000, Running Avg Accuracy: 0.9576\n",
      "Episode 2000/2000, Running Avg Accuracy: 0.9575\n",
      "\n",
      "Final Average Accuracy over 2000 episodes: 0.9575\n",
      "Average accuracy over 2000 episodes: 0.9575\n",
      "\n",
      "Epoch 38/50\n"
     ]
    },
    {
     "name": "stderr",
     "output_type": "stream",
     "text": [
      "  0%|          | 1/313 [00:01<05:50,  1.12s/it]"
     ]
    },
    {
     "name": "stdout",
     "output_type": "stream",
     "text": [
      "Batch [0/313], Loss: 0.2154, Class Loss: 0.2154, G Loss: 0.0000\n"
     ]
    },
    {
     "name": "stderr",
     "output_type": "stream",
     "text": [
      " 32%|███▏      | 101/313 [00:43<01:30,  2.33it/s]"
     ]
    },
    {
     "name": "stdout",
     "output_type": "stream",
     "text": [
      "Batch [100/313], Loss: 0.0003, Class Loss: 0.0003, G Loss: 0.0000\n"
     ]
    },
    {
     "name": "stderr",
     "output_type": "stream",
     "text": [
      " 64%|██████▍   | 201/313 [01:26<00:47,  2.34it/s]"
     ]
    },
    {
     "name": "stdout",
     "output_type": "stream",
     "text": [
      "Batch [200/313], Loss: 0.0018, Class Loss: 0.0018, G Loss: 0.0000\n"
     ]
    },
    {
     "name": "stderr",
     "output_type": "stream",
     "text": [
      " 96%|█████████▌| 301/313 [02:09<00:05,  2.34it/s]"
     ]
    },
    {
     "name": "stdout",
     "output_type": "stream",
     "text": [
      "Batch [300/313], Loss: 0.0459, Class Loss: 0.0459, G Loss: 0.0000\n"
     ]
    },
    {
     "name": "stderr",
     "output_type": "stream",
     "text": [
      "100%|██████████| 313/313 [02:14<00:00,  2.32it/s]\n"
     ]
    },
    {
     "name": "stdout",
     "output_type": "stream",
     "text": [
      "Average loss: 0.0221\n",
      "\n",
      "Evaluating 2-way tasks...\n",
      "Episode 100/2000, Running Avg Accuracy: 0.9500\n",
      "Episode 200/2000, Running Avg Accuracy: 0.9675\n",
      "Episode 300/2000, Running Avg Accuracy: 0.9617\n",
      "Episode 400/2000, Running Avg Accuracy: 0.9537\n",
      "Episode 500/2000, Running Avg Accuracy: 0.9590\n",
      "Episode 600/2000, Running Avg Accuracy: 0.9592\n",
      "Episode 700/2000, Running Avg Accuracy: 0.9593\n",
      "Episode 800/2000, Running Avg Accuracy: 0.9594\n",
      "Episode 900/2000, Running Avg Accuracy: 0.9606\n",
      "Episode 1000/2000, Running Avg Accuracy: 0.9625\n",
      "Episode 1100/2000, Running Avg Accuracy: 0.9618\n",
      "Episode 1200/2000, Running Avg Accuracy: 0.9625\n",
      "Episode 1300/2000, Running Avg Accuracy: 0.9612\n",
      "Episode 1400/2000, Running Avg Accuracy: 0.9589\n",
      "Episode 1500/2000, Running Avg Accuracy: 0.9600\n",
      "Episode 1600/2000, Running Avg Accuracy: 0.9594\n",
      "Episode 1700/2000, Running Avg Accuracy: 0.9591\n",
      "Episode 1800/2000, Running Avg Accuracy: 0.9586\n",
      "Episode 1900/2000, Running Avg Accuracy: 0.9582\n",
      "Episode 2000/2000, Running Avg Accuracy: 0.9585\n",
      "\n",
      "Final Average Accuracy over 2000 episodes: 0.9585\n",
      "Average accuracy over 2000 episodes: 0.9585\n",
      "\n",
      "Epoch 39/50\n"
     ]
    },
    {
     "name": "stderr",
     "output_type": "stream",
     "text": [
      "  0%|          | 1/313 [00:01<05:50,  1.12s/it]"
     ]
    },
    {
     "name": "stdout",
     "output_type": "stream",
     "text": [
      "Batch [0/313], Loss: 0.0015, Class Loss: 0.0015, G Loss: 0.0000\n"
     ]
    },
    {
     "name": "stderr",
     "output_type": "stream",
     "text": [
      " 32%|███▏      | 101/313 [00:43<01:30,  2.34it/s]"
     ]
    },
    {
     "name": "stdout",
     "output_type": "stream",
     "text": [
      "Batch [100/313], Loss: 0.0000, Class Loss: 0.0000, G Loss: 0.0000\n"
     ]
    },
    {
     "name": "stderr",
     "output_type": "stream",
     "text": [
      " 64%|██████▍   | 201/313 [01:26<00:47,  2.34it/s]"
     ]
    },
    {
     "name": "stdout",
     "output_type": "stream",
     "text": [
      "Batch [200/313], Loss: 0.0026, Class Loss: 0.0026, G Loss: 0.0000\n"
     ]
    },
    {
     "name": "stderr",
     "output_type": "stream",
     "text": [
      " 96%|█████████▌| 301/313 [02:09<00:05,  2.33it/s]"
     ]
    },
    {
     "name": "stdout",
     "output_type": "stream",
     "text": [
      "Batch [300/313], Loss: 0.0001, Class Loss: 0.0001, G Loss: 0.0000\n"
     ]
    },
    {
     "name": "stderr",
     "output_type": "stream",
     "text": [
      "100%|██████████| 313/313 [02:14<00:00,  2.32it/s]\n"
     ]
    },
    {
     "name": "stdout",
     "output_type": "stream",
     "text": [
      "Average loss: 0.0176\n",
      "\n",
      "Evaluating 2-way tasks...\n",
      "Episode 100/2000, Running Avg Accuracy: 0.9600\n",
      "Episode 200/2000, Running Avg Accuracy: 0.9600\n",
      "Episode 300/2000, Running Avg Accuracy: 0.9617\n",
      "Episode 400/2000, Running Avg Accuracy: 0.9563\n",
      "Episode 500/2000, Running Avg Accuracy: 0.9560\n",
      "Episode 600/2000, Running Avg Accuracy: 0.9550\n",
      "Episode 700/2000, Running Avg Accuracy: 0.9579\n",
      "Episode 800/2000, Running Avg Accuracy: 0.9550\n",
      "Episode 900/2000, Running Avg Accuracy: 0.9533\n",
      "Episode 1000/2000, Running Avg Accuracy: 0.9530\n",
      "Episode 1100/2000, Running Avg Accuracy: 0.9514\n",
      "Episode 1200/2000, Running Avg Accuracy: 0.9508\n",
      "Episode 1300/2000, Running Avg Accuracy: 0.9527\n",
      "Episode 1400/2000, Running Avg Accuracy: 0.9529\n",
      "Episode 1500/2000, Running Avg Accuracy: 0.9503\n",
      "Episode 1600/2000, Running Avg Accuracy: 0.9503\n",
      "Episode 1700/2000, Running Avg Accuracy: 0.9491\n",
      "Episode 1800/2000, Running Avg Accuracy: 0.9481\n",
      "Episode 1900/2000, Running Avg Accuracy: 0.9484\n",
      "Episode 2000/2000, Running Avg Accuracy: 0.9475\n",
      "\n",
      "Final Average Accuracy over 2000 episodes: 0.9475\n",
      "Average accuracy over 2000 episodes: 0.9475\n",
      "\n",
      "Epoch 40/50\n"
     ]
    },
    {
     "name": "stderr",
     "output_type": "stream",
     "text": [
      "  0%|          | 1/313 [00:01<05:50,  1.12s/it]"
     ]
    },
    {
     "name": "stdout",
     "output_type": "stream",
     "text": [
      "Batch [0/313], Loss: 0.0013, Class Loss: 0.0013, G Loss: 0.0000\n"
     ]
    },
    {
     "name": "stderr",
     "output_type": "stream",
     "text": [
      " 32%|███▏      | 101/313 [00:43<01:30,  2.34it/s]"
     ]
    },
    {
     "name": "stdout",
     "output_type": "stream",
     "text": [
      "Batch [100/313], Loss: 0.0180, Class Loss: 0.0180, G Loss: 0.0000\n"
     ]
    },
    {
     "name": "stderr",
     "output_type": "stream",
     "text": [
      " 64%|██████▍   | 201/313 [01:26<00:48,  2.33it/s]"
     ]
    },
    {
     "name": "stdout",
     "output_type": "stream",
     "text": [
      "Batch [200/313], Loss: 0.0001, Class Loss: 0.0001, G Loss: 0.0000\n"
     ]
    },
    {
     "name": "stderr",
     "output_type": "stream",
     "text": [
      " 96%|█████████▌| 301/313 [02:09<00:05,  2.34it/s]"
     ]
    },
    {
     "name": "stdout",
     "output_type": "stream",
     "text": [
      "Batch [300/313], Loss: 0.0031, Class Loss: 0.0031, G Loss: 0.0000\n"
     ]
    },
    {
     "name": "stderr",
     "output_type": "stream",
     "text": [
      "100%|██████████| 313/313 [02:14<00:00,  2.32it/s]\n"
     ]
    },
    {
     "name": "stdout",
     "output_type": "stream",
     "text": [
      "Average loss: 0.0362\n",
      "\n",
      "Evaluating 2-way tasks...\n",
      "Episode 100/2000, Running Avg Accuracy: 0.9600\n",
      "Episode 200/2000, Running Avg Accuracy: 0.9475\n",
      "Episode 300/2000, Running Avg Accuracy: 0.9533\n",
      "Episode 400/2000, Running Avg Accuracy: 0.9587\n",
      "Episode 500/2000, Running Avg Accuracy: 0.9580\n",
      "Episode 600/2000, Running Avg Accuracy: 0.9583\n",
      "Episode 700/2000, Running Avg Accuracy: 0.9579\n",
      "Episode 800/2000, Running Avg Accuracy: 0.9575\n",
      "Episode 900/2000, Running Avg Accuracy: 0.9578\n",
      "Episode 1000/2000, Running Avg Accuracy: 0.9585\n",
      "Episode 1100/2000, Running Avg Accuracy: 0.9573\n",
      "Episode 1200/2000, Running Avg Accuracy: 0.9567\n",
      "Episode 1300/2000, Running Avg Accuracy: 0.9554\n",
      "Episode 1400/2000, Running Avg Accuracy: 0.9554\n",
      "Episode 1500/2000, Running Avg Accuracy: 0.9557\n",
      "Episode 1600/2000, Running Avg Accuracy: 0.9531\n",
      "Episode 1700/2000, Running Avg Accuracy: 0.9529\n",
      "Episode 1800/2000, Running Avg Accuracy: 0.9531\n",
      "Episode 1900/2000, Running Avg Accuracy: 0.9529\n",
      "Episode 2000/2000, Running Avg Accuracy: 0.9523\n",
      "\n",
      "Final Average Accuracy over 2000 episodes: 0.9523\n",
      "Average accuracy over 2000 episodes: 0.9523\n",
      "\n",
      "Epoch 41/50\n"
     ]
    },
    {
     "name": "stderr",
     "output_type": "stream",
     "text": [
      "  0%|          | 1/313 [00:01<05:41,  1.09s/it]"
     ]
    },
    {
     "name": "stdout",
     "output_type": "stream",
     "text": [
      "Batch [0/313], Loss: 0.0031, Class Loss: 0.0031, G Loss: 0.0000\n"
     ]
    },
    {
     "name": "stderr",
     "output_type": "stream",
     "text": [
      " 32%|███▏      | 101/313 [00:43<01:30,  2.33it/s]"
     ]
    },
    {
     "name": "stdout",
     "output_type": "stream",
     "text": [
      "Batch [100/313], Loss: 0.0281, Class Loss: 0.0281, G Loss: 0.0000\n"
     ]
    },
    {
     "name": "stderr",
     "output_type": "stream",
     "text": [
      " 64%|██████▍   | 201/313 [01:26<00:48,  2.33it/s]"
     ]
    },
    {
     "name": "stdout",
     "output_type": "stream",
     "text": [
      "Batch [200/313], Loss: 0.0804, Class Loss: 0.0804, G Loss: 0.0000\n"
     ]
    },
    {
     "name": "stderr",
     "output_type": "stream",
     "text": [
      " 96%|█████████▌| 301/313 [02:09<00:05,  2.34it/s]"
     ]
    },
    {
     "name": "stdout",
     "output_type": "stream",
     "text": [
      "Batch [300/313], Loss: 0.0034, Class Loss: 0.0034, G Loss: 0.0000\n"
     ]
    },
    {
     "name": "stderr",
     "output_type": "stream",
     "text": [
      "100%|██████████| 313/313 [02:14<00:00,  2.32it/s]\n"
     ]
    },
    {
     "name": "stdout",
     "output_type": "stream",
     "text": [
      "Average loss: 0.0339\n",
      "\n",
      "Evaluating 2-way tasks...\n",
      "Episode 100/2000, Running Avg Accuracy: 0.9650\n",
      "Episode 200/2000, Running Avg Accuracy: 0.9575\n",
      "Episode 300/2000, Running Avg Accuracy: 0.9583\n",
      "Episode 400/2000, Running Avg Accuracy: 0.9613\n",
      "Episode 500/2000, Running Avg Accuracy: 0.9600\n",
      "Episode 600/2000, Running Avg Accuracy: 0.9625\n",
      "Episode 700/2000, Running Avg Accuracy: 0.9600\n",
      "Episode 800/2000, Running Avg Accuracy: 0.9625\n",
      "Episode 900/2000, Running Avg Accuracy: 0.9628\n",
      "Episode 1000/2000, Running Avg Accuracy: 0.9625\n",
      "Episode 1100/2000, Running Avg Accuracy: 0.9641\n",
      "Episode 1200/2000, Running Avg Accuracy: 0.9650\n",
      "Episode 1300/2000, Running Avg Accuracy: 0.9650\n",
      "Episode 1400/2000, Running Avg Accuracy: 0.9654\n",
      "Episode 1500/2000, Running Avg Accuracy: 0.9637\n",
      "Episode 1600/2000, Running Avg Accuracy: 0.9634\n",
      "Episode 1700/2000, Running Avg Accuracy: 0.9641\n",
      "Episode 1800/2000, Running Avg Accuracy: 0.9642\n",
      "Episode 1900/2000, Running Avg Accuracy: 0.9642\n",
      "Episode 2000/2000, Running Avg Accuracy: 0.9633\n",
      "\n",
      "Final Average Accuracy over 2000 episodes: 0.9633\n",
      "Average accuracy over 2000 episodes: 0.9633\n",
      "\n",
      "Epoch 42/50\n"
     ]
    },
    {
     "name": "stderr",
     "output_type": "stream",
     "text": [
      "  0%|          | 1/313 [00:01<05:40,  1.09s/it]"
     ]
    },
    {
     "name": "stdout",
     "output_type": "stream",
     "text": [
      "Batch [0/313], Loss: 0.0019, Class Loss: 0.0019, G Loss: 0.0000\n"
     ]
    },
    {
     "name": "stderr",
     "output_type": "stream",
     "text": [
      " 32%|███▏      | 101/313 [00:43<01:30,  2.34it/s]"
     ]
    },
    {
     "name": "stdout",
     "output_type": "stream",
     "text": [
      "Batch [100/313], Loss: 0.0546, Class Loss: 0.0546, G Loss: 0.0000\n"
     ]
    },
    {
     "name": "stderr",
     "output_type": "stream",
     "text": [
      " 64%|██████▍   | 201/313 [01:26<00:47,  2.34it/s]"
     ]
    },
    {
     "name": "stdout",
     "output_type": "stream",
     "text": [
      "Batch [200/313], Loss: 0.0009, Class Loss: 0.0009, G Loss: 0.0000\n"
     ]
    },
    {
     "name": "stderr",
     "output_type": "stream",
     "text": [
      " 96%|█████████▌| 301/313 [02:09<00:05,  2.33it/s]"
     ]
    },
    {
     "name": "stdout",
     "output_type": "stream",
     "text": [
      "Batch [300/313], Loss: 0.0180, Class Loss: 0.0180, G Loss: 0.0000\n"
     ]
    },
    {
     "name": "stderr",
     "output_type": "stream",
     "text": [
      "100%|██████████| 313/313 [02:14<00:00,  2.33it/s]\n"
     ]
    },
    {
     "name": "stdout",
     "output_type": "stream",
     "text": [
      "Average loss: 0.0264\n",
      "\n",
      "Evaluating 2-way tasks...\n",
      "Episode 100/2000, Running Avg Accuracy: 0.9450\n",
      "Episode 200/2000, Running Avg Accuracy: 0.9475\n",
      "Episode 300/2000, Running Avg Accuracy: 0.9500\n",
      "Episode 400/2000, Running Avg Accuracy: 0.9550\n",
      "Episode 500/2000, Running Avg Accuracy: 0.9580\n",
      "Episode 600/2000, Running Avg Accuracy: 0.9575\n",
      "Episode 700/2000, Running Avg Accuracy: 0.9557\n",
      "Episode 800/2000, Running Avg Accuracy: 0.9550\n",
      "Episode 900/2000, Running Avg Accuracy: 0.9583\n",
      "Episode 1000/2000, Running Avg Accuracy: 0.9580\n",
      "Episode 1100/2000, Running Avg Accuracy: 0.9555\n",
      "Episode 1200/2000, Running Avg Accuracy: 0.9567\n",
      "Episode 1300/2000, Running Avg Accuracy: 0.9577\n",
      "Episode 1400/2000, Running Avg Accuracy: 0.9564\n",
      "Episode 1500/2000, Running Avg Accuracy: 0.9567\n",
      "Episode 1600/2000, Running Avg Accuracy: 0.9556\n",
      "Episode 1700/2000, Running Avg Accuracy: 0.9565\n",
      "Episode 1800/2000, Running Avg Accuracy: 0.9558\n",
      "Episode 1900/2000, Running Avg Accuracy: 0.9555\n",
      "Episode 2000/2000, Running Avg Accuracy: 0.9555\n",
      "\n",
      "Final Average Accuracy over 2000 episodes: 0.9555\n",
      "Average accuracy over 2000 episodes: 0.9555\n",
      "\n",
      "Epoch 43/50\n"
     ]
    },
    {
     "name": "stderr",
     "output_type": "stream",
     "text": [
      "  0%|          | 1/313 [00:01<05:56,  1.14s/it]"
     ]
    },
    {
     "name": "stdout",
     "output_type": "stream",
     "text": [
      "Batch [0/313], Loss: 0.0023, Class Loss: 0.0023, G Loss: 0.0000\n"
     ]
    },
    {
     "name": "stderr",
     "output_type": "stream",
     "text": [
      " 32%|███▏      | 101/313 [00:43<01:30,  2.33it/s]"
     ]
    },
    {
     "name": "stdout",
     "output_type": "stream",
     "text": [
      "Batch [100/313], Loss: 0.2060, Class Loss: 0.2060, G Loss: 0.0000\n"
     ]
    },
    {
     "name": "stderr",
     "output_type": "stream",
     "text": [
      " 64%|██████▍   | 201/313 [01:26<00:48,  2.33it/s]"
     ]
    },
    {
     "name": "stdout",
     "output_type": "stream",
     "text": [
      "Batch [200/313], Loss: 0.0005, Class Loss: 0.0005, G Loss: 0.0000\n"
     ]
    },
    {
     "name": "stderr",
     "output_type": "stream",
     "text": [
      " 96%|█████████▌| 301/313 [02:09<00:05,  2.34it/s]"
     ]
    },
    {
     "name": "stdout",
     "output_type": "stream",
     "text": [
      "Batch [300/313], Loss: 0.0383, Class Loss: 0.0383, G Loss: 0.0000\n"
     ]
    },
    {
     "name": "stderr",
     "output_type": "stream",
     "text": [
      "100%|██████████| 313/313 [02:14<00:00,  2.32it/s]\n"
     ]
    },
    {
     "name": "stdout",
     "output_type": "stream",
     "text": [
      "Average loss: 0.0259\n",
      "\n",
      "Evaluating 2-way tasks...\n",
      "Episode 100/2000, Running Avg Accuracy: 0.9750\n",
      "Episode 200/2000, Running Avg Accuracy: 0.9550\n",
      "Episode 300/2000, Running Avg Accuracy: 0.9550\n",
      "Episode 400/2000, Running Avg Accuracy: 0.9575\n",
      "Episode 500/2000, Running Avg Accuracy: 0.9530\n",
      "Episode 600/2000, Running Avg Accuracy: 0.9500\n",
      "Episode 700/2000, Running Avg Accuracy: 0.9529\n",
      "Episode 800/2000, Running Avg Accuracy: 0.9519\n",
      "Episode 900/2000, Running Avg Accuracy: 0.9517\n",
      "Episode 1000/2000, Running Avg Accuracy: 0.9500\n",
      "Episode 1100/2000, Running Avg Accuracy: 0.9495\n",
      "Episode 1200/2000, Running Avg Accuracy: 0.9492\n",
      "Episode 1300/2000, Running Avg Accuracy: 0.9492\n",
      "Episode 1400/2000, Running Avg Accuracy: 0.9507\n",
      "Episode 1500/2000, Running Avg Accuracy: 0.9497\n",
      "Episode 1600/2000, Running Avg Accuracy: 0.9509\n",
      "Episode 1700/2000, Running Avg Accuracy: 0.9518\n",
      "Episode 1800/2000, Running Avg Accuracy: 0.9525\n",
      "Episode 1900/2000, Running Avg Accuracy: 0.9521\n",
      "Episode 2000/2000, Running Avg Accuracy: 0.9525\n",
      "\n",
      "Final Average Accuracy over 2000 episodes: 0.9525\n",
      "Average accuracy over 2000 episodes: 0.9525\n",
      "\n",
      "Epoch 44/50\n"
     ]
    },
    {
     "name": "stderr",
     "output_type": "stream",
     "text": [
      "  0%|          | 1/313 [00:01<05:54,  1.14s/it]"
     ]
    },
    {
     "name": "stdout",
     "output_type": "stream",
     "text": [
      "Batch [0/313], Loss: 0.0205, Class Loss: 0.0205, G Loss: 0.0000\n"
     ]
    },
    {
     "name": "stderr",
     "output_type": "stream",
     "text": [
      " 32%|███▏      | 101/313 [00:43<01:30,  2.34it/s]"
     ]
    },
    {
     "name": "stdout",
     "output_type": "stream",
     "text": [
      "Batch [100/313], Loss: 0.0037, Class Loss: 0.0037, G Loss: 0.0000\n"
     ]
    },
    {
     "name": "stderr",
     "output_type": "stream",
     "text": [
      " 64%|██████▍   | 201/313 [01:26<00:47,  2.34it/s]"
     ]
    },
    {
     "name": "stdout",
     "output_type": "stream",
     "text": [
      "Batch [200/313], Loss: 0.0004, Class Loss: 0.0004, G Loss: 0.0000\n"
     ]
    },
    {
     "name": "stderr",
     "output_type": "stream",
     "text": [
      " 96%|█████████▌| 301/313 [02:09<00:05,  2.34it/s]"
     ]
    },
    {
     "name": "stdout",
     "output_type": "stream",
     "text": [
      "Batch [300/313], Loss: 0.0019, Class Loss: 0.0019, G Loss: 0.0000\n"
     ]
    },
    {
     "name": "stderr",
     "output_type": "stream",
     "text": [
      "100%|██████████| 313/313 [02:14<00:00,  2.32it/s]\n"
     ]
    },
    {
     "name": "stdout",
     "output_type": "stream",
     "text": [
      "Average loss: 0.0277\n",
      "\n",
      "Evaluating 2-way tasks...\n",
      "Episode 100/2000, Running Avg Accuracy: 0.9650\n",
      "Episode 200/2000, Running Avg Accuracy: 0.9650\n",
      "Episode 300/2000, Running Avg Accuracy: 0.9533\n",
      "Episode 400/2000, Running Avg Accuracy: 0.9563\n",
      "Episode 500/2000, Running Avg Accuracy: 0.9560\n",
      "Episode 600/2000, Running Avg Accuracy: 0.9558\n",
      "Episode 700/2000, Running Avg Accuracy: 0.9579\n",
      "Episode 800/2000, Running Avg Accuracy: 0.9594\n",
      "Episode 900/2000, Running Avg Accuracy: 0.9600\n",
      "Episode 1000/2000, Running Avg Accuracy: 0.9590\n",
      "Episode 1100/2000, Running Avg Accuracy: 0.9595\n",
      "Episode 1200/2000, Running Avg Accuracy: 0.9583\n",
      "Episode 1300/2000, Running Avg Accuracy: 0.9604\n",
      "Episode 1400/2000, Running Avg Accuracy: 0.9596\n",
      "Episode 1500/2000, Running Avg Accuracy: 0.9603\n",
      "Episode 1600/2000, Running Avg Accuracy: 0.9616\n",
      "Episode 1700/2000, Running Avg Accuracy: 0.9606\n",
      "Episode 1800/2000, Running Avg Accuracy: 0.9611\n",
      "Episode 1900/2000, Running Avg Accuracy: 0.9613\n",
      "Episode 2000/2000, Running Avg Accuracy: 0.9625\n",
      "\n",
      "Final Average Accuracy over 2000 episodes: 0.9625\n",
      "Average accuracy over 2000 episodes: 0.9625\n",
      "\n",
      "Epoch 45/50\n"
     ]
    },
    {
     "name": "stderr",
     "output_type": "stream",
     "text": [
      "  0%|          | 1/313 [00:01<05:49,  1.12s/it]"
     ]
    },
    {
     "name": "stdout",
     "output_type": "stream",
     "text": [
      "Batch [0/313], Loss: 0.0063, Class Loss: 0.0063, G Loss: 0.0000\n"
     ]
    },
    {
     "name": "stderr",
     "output_type": "stream",
     "text": [
      " 32%|███▏      | 101/313 [00:43<01:30,  2.34it/s]"
     ]
    },
    {
     "name": "stdout",
     "output_type": "stream",
     "text": [
      "Batch [100/313], Loss: 0.0072, Class Loss: 0.0072, G Loss: 0.0000\n"
     ]
    },
    {
     "name": "stderr",
     "output_type": "stream",
     "text": [
      " 64%|██████▍   | 201/313 [01:26<00:48,  2.33it/s]"
     ]
    },
    {
     "name": "stdout",
     "output_type": "stream",
     "text": [
      "Batch [200/313], Loss: 0.0122, Class Loss: 0.0122, G Loss: 0.0000\n"
     ]
    },
    {
     "name": "stderr",
     "output_type": "stream",
     "text": [
      " 96%|█████████▌| 301/313 [02:09<00:05,  2.33it/s]"
     ]
    },
    {
     "name": "stdout",
     "output_type": "stream",
     "text": [
      "Batch [300/313], Loss: 0.2385, Class Loss: 0.2385, G Loss: 0.0000\n"
     ]
    },
    {
     "name": "stderr",
     "output_type": "stream",
     "text": [
      "100%|██████████| 313/313 [02:14<00:00,  2.32it/s]\n"
     ]
    },
    {
     "name": "stdout",
     "output_type": "stream",
     "text": [
      "Average loss: 0.0218\n",
      "\n",
      "Evaluating 2-way tasks...\n",
      "Episode 100/2000, Running Avg Accuracy: 0.9550\n",
      "Episode 200/2000, Running Avg Accuracy: 0.9625\n",
      "Episode 300/2000, Running Avg Accuracy: 0.9550\n",
      "Episode 400/2000, Running Avg Accuracy: 0.9487\n",
      "Episode 500/2000, Running Avg Accuracy: 0.9480\n",
      "Episode 600/2000, Running Avg Accuracy: 0.9533\n",
      "Episode 700/2000, Running Avg Accuracy: 0.9550\n",
      "Episode 800/2000, Running Avg Accuracy: 0.9531\n",
      "Episode 900/2000, Running Avg Accuracy: 0.9550\n",
      "Episode 1000/2000, Running Avg Accuracy: 0.9560\n",
      "Episode 1100/2000, Running Avg Accuracy: 0.9545\n",
      "Episode 1200/2000, Running Avg Accuracy: 0.9550\n",
      "Episode 1300/2000, Running Avg Accuracy: 0.9535\n",
      "Episode 1400/2000, Running Avg Accuracy: 0.9529\n",
      "Episode 1500/2000, Running Avg Accuracy: 0.9527\n",
      "Episode 1600/2000, Running Avg Accuracy: 0.9525\n",
      "Episode 1700/2000, Running Avg Accuracy: 0.9515\n",
      "Episode 1800/2000, Running Avg Accuracy: 0.9522\n",
      "Episode 1900/2000, Running Avg Accuracy: 0.9534\n",
      "Episode 2000/2000, Running Avg Accuracy: 0.9535\n",
      "\n",
      "Final Average Accuracy over 2000 episodes: 0.9535\n",
      "Average accuracy over 2000 episodes: 0.9535\n",
      "\n",
      "Epoch 46/50\n"
     ]
    },
    {
     "name": "stderr",
     "output_type": "stream",
     "text": [
      "  0%|          | 1/313 [00:01<05:42,  1.10s/it]"
     ]
    },
    {
     "name": "stdout",
     "output_type": "stream",
     "text": [
      "Batch [0/313], Loss: 0.0041, Class Loss: 0.0041, G Loss: 0.0000\n"
     ]
    },
    {
     "name": "stderr",
     "output_type": "stream",
     "text": [
      " 32%|███▏      | 101/313 [00:43<01:30,  2.33it/s]"
     ]
    },
    {
     "name": "stdout",
     "output_type": "stream",
     "text": [
      "Batch [100/313], Loss: 0.0154, Class Loss: 0.0154, G Loss: 0.0000\n"
     ]
    },
    {
     "name": "stderr",
     "output_type": "stream",
     "text": [
      " 64%|██████▍   | 201/313 [01:26<00:48,  2.32it/s]"
     ]
    },
    {
     "name": "stdout",
     "output_type": "stream",
     "text": [
      "Batch [200/313], Loss: 0.0193, Class Loss: 0.0193, G Loss: 0.0000\n"
     ]
    },
    {
     "name": "stderr",
     "output_type": "stream",
     "text": [
      " 96%|█████████▌| 301/313 [02:09<00:05,  2.34it/s]"
     ]
    },
    {
     "name": "stdout",
     "output_type": "stream",
     "text": [
      "Batch [300/313], Loss: 0.0065, Class Loss: 0.0065, G Loss: 0.0000\n"
     ]
    },
    {
     "name": "stderr",
     "output_type": "stream",
     "text": [
      "100%|██████████| 313/313 [02:14<00:00,  2.32it/s]\n"
     ]
    },
    {
     "name": "stdout",
     "output_type": "stream",
     "text": [
      "Average loss: 0.0343\n",
      "\n",
      "Evaluating 2-way tasks...\n",
      "Episode 100/2000, Running Avg Accuracy: 0.9600\n",
      "Episode 200/2000, Running Avg Accuracy: 0.9575\n",
      "Episode 300/2000, Running Avg Accuracy: 0.9550\n",
      "Episode 400/2000, Running Avg Accuracy: 0.9587\n",
      "Episode 500/2000, Running Avg Accuracy: 0.9610\n",
      "Episode 600/2000, Running Avg Accuracy: 0.9600\n",
      "Episode 700/2000, Running Avg Accuracy: 0.9600\n",
      "Episode 800/2000, Running Avg Accuracy: 0.9619\n",
      "Episode 900/2000, Running Avg Accuracy: 0.9622\n",
      "Episode 1000/2000, Running Avg Accuracy: 0.9630\n",
      "Episode 1100/2000, Running Avg Accuracy: 0.9627\n",
      "Episode 1200/2000, Running Avg Accuracy: 0.9646\n",
      "Episode 1300/2000, Running Avg Accuracy: 0.9635\n",
      "Episode 1400/2000, Running Avg Accuracy: 0.9632\n",
      "Episode 1500/2000, Running Avg Accuracy: 0.9620\n",
      "Episode 1600/2000, Running Avg Accuracy: 0.9600\n",
      "Episode 1700/2000, Running Avg Accuracy: 0.9597\n",
      "Episode 1800/2000, Running Avg Accuracy: 0.9594\n",
      "Episode 1900/2000, Running Avg Accuracy: 0.9579\n",
      "Episode 2000/2000, Running Avg Accuracy: 0.9575\n",
      "\n",
      "Final Average Accuracy over 2000 episodes: 0.9575\n",
      "Average accuracy over 2000 episodes: 0.9575\n",
      "\n",
      "Epoch 47/50\n"
     ]
    },
    {
     "name": "stderr",
     "output_type": "stream",
     "text": [
      "  0%|          | 1/313 [00:01<05:38,  1.09s/it]"
     ]
    },
    {
     "name": "stdout",
     "output_type": "stream",
     "text": [
      "Batch [0/313], Loss: 0.0241, Class Loss: 0.0241, G Loss: 0.0000\n"
     ]
    },
    {
     "name": "stderr",
     "output_type": "stream",
     "text": [
      " 32%|███▏      | 101/313 [00:43<01:30,  2.33it/s]"
     ]
    },
    {
     "name": "stdout",
     "output_type": "stream",
     "text": [
      "Batch [100/313], Loss: 0.0018, Class Loss: 0.0018, G Loss: 0.0000\n"
     ]
    },
    {
     "name": "stderr",
     "output_type": "stream",
     "text": [
      " 64%|██████▍   | 201/313 [01:26<00:47,  2.34it/s]"
     ]
    },
    {
     "name": "stdout",
     "output_type": "stream",
     "text": [
      "Batch [200/313], Loss: 0.0042, Class Loss: 0.0042, G Loss: 0.0000\n"
     ]
    },
    {
     "name": "stderr",
     "output_type": "stream",
     "text": [
      " 96%|█████████▌| 301/313 [02:09<00:05,  2.34it/s]"
     ]
    },
    {
     "name": "stdout",
     "output_type": "stream",
     "text": [
      "Batch [300/313], Loss: 0.0014, Class Loss: 0.0014, G Loss: 0.0000\n"
     ]
    },
    {
     "name": "stderr",
     "output_type": "stream",
     "text": [
      "100%|██████████| 313/313 [02:14<00:00,  2.33it/s]\n"
     ]
    },
    {
     "name": "stdout",
     "output_type": "stream",
     "text": [
      "Average loss: 0.0303\n",
      "\n",
      "Evaluating 2-way tasks...\n",
      "Episode 100/2000, Running Avg Accuracy: 0.9600\n",
      "Episode 200/2000, Running Avg Accuracy: 0.9650\n",
      "Episode 300/2000, Running Avg Accuracy: 0.9583\n",
      "Episode 400/2000, Running Avg Accuracy: 0.9550\n",
      "Episode 500/2000, Running Avg Accuracy: 0.9590\n",
      "Episode 600/2000, Running Avg Accuracy: 0.9583\n",
      "Episode 700/2000, Running Avg Accuracy: 0.9621\n",
      "Episode 800/2000, Running Avg Accuracy: 0.9637\n",
      "Episode 900/2000, Running Avg Accuracy: 0.9639\n",
      "Episode 1000/2000, Running Avg Accuracy: 0.9635\n",
      "Episode 1100/2000, Running Avg Accuracy: 0.9623\n",
      "Episode 1200/2000, Running Avg Accuracy: 0.9613\n",
      "Episode 1300/2000, Running Avg Accuracy: 0.9627\n",
      "Episode 1400/2000, Running Avg Accuracy: 0.9621\n",
      "Episode 1500/2000, Running Avg Accuracy: 0.9630\n",
      "Episode 1600/2000, Running Avg Accuracy: 0.9625\n",
      "Episode 1700/2000, Running Avg Accuracy: 0.9638\n",
      "Episode 1800/2000, Running Avg Accuracy: 0.9625\n",
      "Episode 1900/2000, Running Avg Accuracy: 0.9618\n",
      "Episode 2000/2000, Running Avg Accuracy: 0.9607\n",
      "\n",
      "Final Average Accuracy over 2000 episodes: 0.9607\n",
      "Average accuracy over 2000 episodes: 0.9607\n",
      "\n",
      "Epoch 48/50\n"
     ]
    },
    {
     "name": "stderr",
     "output_type": "stream",
     "text": [
      "  0%|          | 1/313 [00:01<05:51,  1.13s/it]"
     ]
    },
    {
     "name": "stdout",
     "output_type": "stream",
     "text": [
      "Batch [0/313], Loss: 0.1177, Class Loss: 0.1177, G Loss: 0.0000\n"
     ]
    },
    {
     "name": "stderr",
     "output_type": "stream",
     "text": [
      " 32%|███▏      | 101/313 [00:44<01:30,  2.34it/s]"
     ]
    },
    {
     "name": "stdout",
     "output_type": "stream",
     "text": [
      "Batch [100/313], Loss: 0.0006, Class Loss: 0.0006, G Loss: 0.0000\n"
     ]
    },
    {
     "name": "stderr",
     "output_type": "stream",
     "text": [
      " 64%|██████▍   | 201/313 [01:26<00:47,  2.34it/s]"
     ]
    },
    {
     "name": "stdout",
     "output_type": "stream",
     "text": [
      "Batch [200/313], Loss: 0.0141, Class Loss: 0.0141, G Loss: 0.0000\n"
     ]
    },
    {
     "name": "stderr",
     "output_type": "stream",
     "text": [
      " 96%|█████████▌| 301/313 [02:09<00:05,  2.33it/s]"
     ]
    },
    {
     "name": "stdout",
     "output_type": "stream",
     "text": [
      "Batch [300/313], Loss: 0.0024, Class Loss: 0.0024, G Loss: 0.0000\n"
     ]
    },
    {
     "name": "stderr",
     "output_type": "stream",
     "text": [
      "100%|██████████| 313/313 [02:14<00:00,  2.32it/s]\n"
     ]
    },
    {
     "name": "stdout",
     "output_type": "stream",
     "text": [
      "Average loss: 0.0303\n",
      "\n",
      "Evaluating 2-way tasks...\n",
      "Episode 100/2000, Running Avg Accuracy: 0.9650\n",
      "Episode 200/2000, Running Avg Accuracy: 0.9750\n",
      "Episode 300/2000, Running Avg Accuracy: 0.9700\n",
      "Episode 400/2000, Running Avg Accuracy: 0.9637\n",
      "Episode 500/2000, Running Avg Accuracy: 0.9650\n",
      "Episode 600/2000, Running Avg Accuracy: 0.9600\n",
      "Episode 700/2000, Running Avg Accuracy: 0.9614\n",
      "Episode 800/2000, Running Avg Accuracy: 0.9613\n",
      "Episode 900/2000, Running Avg Accuracy: 0.9628\n",
      "Episode 1000/2000, Running Avg Accuracy: 0.9625\n",
      "Episode 1100/2000, Running Avg Accuracy: 0.9641\n",
      "Episode 1200/2000, Running Avg Accuracy: 0.9637\n",
      "Episode 1300/2000, Running Avg Accuracy: 0.9615\n",
      "Episode 1400/2000, Running Avg Accuracy: 0.9621\n",
      "Episode 1500/2000, Running Avg Accuracy: 0.9620\n",
      "Episode 1600/2000, Running Avg Accuracy: 0.9631\n",
      "Episode 1700/2000, Running Avg Accuracy: 0.9635\n",
      "Episode 1800/2000, Running Avg Accuracy: 0.9631\n",
      "Episode 1900/2000, Running Avg Accuracy: 0.9626\n",
      "Episode 2000/2000, Running Avg Accuracy: 0.9630\n",
      "\n",
      "Final Average Accuracy over 2000 episodes: 0.9630\n",
      "Average accuracy over 2000 episodes: 0.9630\n",
      "\n",
      "Epoch 49/50\n"
     ]
    },
    {
     "name": "stderr",
     "output_type": "stream",
     "text": [
      "  0%|          | 1/313 [00:01<05:51,  1.13s/it]"
     ]
    },
    {
     "name": "stdout",
     "output_type": "stream",
     "text": [
      "Batch [0/313], Loss: 0.0086, Class Loss: 0.0086, G Loss: 0.0000\n"
     ]
    },
    {
     "name": "stderr",
     "output_type": "stream",
     "text": [
      " 32%|███▏      | 101/313 [00:43<01:30,  2.34it/s]"
     ]
    },
    {
     "name": "stdout",
     "output_type": "stream",
     "text": [
      "Batch [100/313], Loss: 0.0098, Class Loss: 0.0098, G Loss: 0.0000\n"
     ]
    },
    {
     "name": "stderr",
     "output_type": "stream",
     "text": [
      " 64%|██████▍   | 201/313 [01:26<00:48,  2.33it/s]"
     ]
    },
    {
     "name": "stdout",
     "output_type": "stream",
     "text": [
      "Batch [200/313], Loss: 0.0029, Class Loss: 0.0029, G Loss: 0.0000\n"
     ]
    },
    {
     "name": "stderr",
     "output_type": "stream",
     "text": [
      " 96%|█████████▌| 301/313 [02:09<00:05,  2.34it/s]"
     ]
    },
    {
     "name": "stdout",
     "output_type": "stream",
     "text": [
      "Batch [300/313], Loss: 0.0215, Class Loss: 0.0215, G Loss: 0.0000\n"
     ]
    },
    {
     "name": "stderr",
     "output_type": "stream",
     "text": [
      "100%|██████████| 313/313 [02:14<00:00,  2.32it/s]\n"
     ]
    },
    {
     "name": "stdout",
     "output_type": "stream",
     "text": [
      "Average loss: 0.0236\n",
      "\n",
      "Evaluating 2-way tasks...\n",
      "Episode 100/2000, Running Avg Accuracy: 0.9800\n",
      "Episode 200/2000, Running Avg Accuracy: 0.9725\n",
      "Episode 300/2000, Running Avg Accuracy: 0.9717\n",
      "Episode 400/2000, Running Avg Accuracy: 0.9700\n",
      "Episode 500/2000, Running Avg Accuracy: 0.9680\n",
      "Episode 600/2000, Running Avg Accuracy: 0.9675\n",
      "Episode 700/2000, Running Avg Accuracy: 0.9679\n",
      "Episode 800/2000, Running Avg Accuracy: 0.9650\n",
      "Episode 900/2000, Running Avg Accuracy: 0.9661\n",
      "Episode 1000/2000, Running Avg Accuracy: 0.9675\n",
      "Episode 1100/2000, Running Avg Accuracy: 0.9682\n",
      "Episode 1200/2000, Running Avg Accuracy: 0.9675\n",
      "Episode 1300/2000, Running Avg Accuracy: 0.9685\n",
      "Episode 1400/2000, Running Avg Accuracy: 0.9686\n",
      "Episode 1500/2000, Running Avg Accuracy: 0.9680\n",
      "Episode 1600/2000, Running Avg Accuracy: 0.9675\n",
      "Episode 1700/2000, Running Avg Accuracy: 0.9668\n",
      "Episode 1800/2000, Running Avg Accuracy: 0.9667\n",
      "Episode 1900/2000, Running Avg Accuracy: 0.9663\n",
      "Episode 2000/2000, Running Avg Accuracy: 0.9660\n",
      "\n",
      "Final Average Accuracy over 2000 episodes: 0.9660\n",
      "Average accuracy over 2000 episodes: 0.9660\n",
      "\n",
      "Epoch 50/50\n"
     ]
    },
    {
     "name": "stderr",
     "output_type": "stream",
     "text": [
      "  0%|          | 1/313 [00:01<05:49,  1.12s/it]"
     ]
    },
    {
     "name": "stdout",
     "output_type": "stream",
     "text": [
      "Batch [0/313], Loss: 0.0008, Class Loss: 0.0008, G Loss: 0.0000\n"
     ]
    },
    {
     "name": "stderr",
     "output_type": "stream",
     "text": [
      " 32%|███▏      | 101/313 [00:43<01:30,  2.34it/s]"
     ]
    },
    {
     "name": "stdout",
     "output_type": "stream",
     "text": [
      "Batch [100/313], Loss: 0.0009, Class Loss: 0.0009, G Loss: 0.0000\n"
     ]
    },
    {
     "name": "stderr",
     "output_type": "stream",
     "text": [
      " 64%|██████▍   | 201/313 [01:26<00:47,  2.34it/s]"
     ]
    },
    {
     "name": "stdout",
     "output_type": "stream",
     "text": [
      "Batch [200/313], Loss: 0.0071, Class Loss: 0.0071, G Loss: 0.0000\n"
     ]
    },
    {
     "name": "stderr",
     "output_type": "stream",
     "text": [
      " 96%|█████████▌| 301/313 [02:09<00:05,  2.34it/s]"
     ]
    },
    {
     "name": "stdout",
     "output_type": "stream",
     "text": [
      "Batch [300/313], Loss: 0.0022, Class Loss: 0.0022, G Loss: 0.0000\n"
     ]
    },
    {
     "name": "stderr",
     "output_type": "stream",
     "text": [
      "100%|██████████| 313/313 [02:14<00:00,  2.32it/s]\n"
     ]
    },
    {
     "name": "stdout",
     "output_type": "stream",
     "text": [
      "Average loss: 0.0213\n",
      "\n",
      "Evaluating 2-way tasks...\n",
      "Episode 100/2000, Running Avg Accuracy: 0.9600\n",
      "Episode 200/2000, Running Avg Accuracy: 0.9675\n",
      "Episode 300/2000, Running Avg Accuracy: 0.9583\n",
      "Episode 400/2000, Running Avg Accuracy: 0.9550\n",
      "Episode 500/2000, Running Avg Accuracy: 0.9590\n",
      "Episode 600/2000, Running Avg Accuracy: 0.9583\n",
      "Episode 700/2000, Running Avg Accuracy: 0.9571\n",
      "Episode 800/2000, Running Avg Accuracy: 0.9575\n",
      "Episode 900/2000, Running Avg Accuracy: 0.9578\n",
      "Episode 1000/2000, Running Avg Accuracy: 0.9575\n",
      "Episode 1100/2000, Running Avg Accuracy: 0.9573\n",
      "Episode 1200/2000, Running Avg Accuracy: 0.9579\n",
      "Episode 1300/2000, Running Avg Accuracy: 0.9573\n",
      "Episode 1400/2000, Running Avg Accuracy: 0.9582\n",
      "Episode 1500/2000, Running Avg Accuracy: 0.9593\n",
      "Episode 1600/2000, Running Avg Accuracy: 0.9584\n",
      "Episode 1700/2000, Running Avg Accuracy: 0.9576\n",
      "Episode 1800/2000, Running Avg Accuracy: 0.9567\n",
      "Episode 1900/2000, Running Avg Accuracy: 0.9555\n",
      "Episode 2000/2000, Running Avg Accuracy: 0.9557\n",
      "\n",
      "Final Average Accuracy over 2000 episodes: 0.9557\n",
      "Average accuracy over 2000 episodes: 0.9557\n"
     ]
    }
   ],
   "source": [
    "import torch\n",
    "import random\n",
    "import torch.nn as nn\n",
    "import torch.nn.functional as F\n",
    "from torchvision import models, transforms\n",
    "from torch.utils.data import Dataset, DataLoader\n",
    "import numpy as np\n",
    "import os\n",
    "from PIL import Image\n",
    "from tqdm import tqdm\n",
    "\n",
    "class FeatureExtractor(nn.Module):\n",
    "    def __init__(self, pretrained=True):\n",
    "        super(FeatureExtractor, self).__init__()\n",
    "        # Using ResNet as base feature extractor\n",
    "        resnet = models.resnet50(pretrained=pretrained)\n",
    "        self.features = nn.Sequential(*list(resnet.children())[:-2])\n",
    "        \n",
    "    def forward(self, x):\n",
    "        return self.features(x)\n",
    "\n",
    "class GRUSkipConnection(nn.Module):\n",
    "    def __init__(self, input_dim, hidden_dim=256):\n",
    "        super(GRUSkipConnection, self).__init__()\n",
    "        self.gru = nn.GRU(input_dim, hidden_dim, batch_first=True)\n",
    "        self.transform = nn.Conv2d(input_dim, hidden_dim, 1)\n",
    "        \n",
    "    def forward(self, x):\n",
    "        batch, channels, height, width = x.size()\n",
    "        # Transform spatial features to sequence\n",
    "        spatial_features = x.view(batch, channels, -1).permute(0, 2, 1)\n",
    "        \n",
    "        # GRU processing\n",
    "        gru_out, _ = self.gru(spatial_features)\n",
    "        \n",
    "        # Reshape back to spatial form\n",
    "        gru_out = gru_out.permute(0, 2, 1).view(batch, -1, height, width)\n",
    "        \n",
    "        # Skip connection with dimension matching\n",
    "        skip = self.transform(x)\n",
    "        \n",
    "        return gru_out + skip\n",
    "\n",
    "class PositionalEmbedding(nn.Module):\n",
    "    def __init__(self, hidden_dim):\n",
    "        super(PositionalEmbedding, self).__init__()\n",
    "        self.embedding = nn.Parameter(torch.randn(1, hidden_dim, 1, 1))\n",
    "        \n",
    "    def forward(self, x):\n",
    "        batch, channels, height, width = x.size()\n",
    "        pos_embed = self.embedding.expand(-1, -1, height, width)\n",
    "        return x + pos_embed\n",
    "\n",
    "class PatternExtractor(nn.Module):\n",
    "    def __init__(self, hidden_dim, num_iterations=3):\n",
    "        super(PatternExtractor, self).__init__()\n",
    "        self.num_iterations = num_iterations\n",
    "        \n",
    "        # Patterns storage (K)\n",
    "        self.patterns = nn.Parameter(torch.randn(1, hidden_dim, 1, 1))\n",
    "        \n",
    "        # Gated recurrent unit with skip connections\n",
    "        self.gru = nn.GRUCell(hidden_dim, hidden_dim)\n",
    "        self.skip_conv = nn.Conv2d(hidden_dim, hidden_dim, 1)\n",
    "        \n",
    "        # Attention layers (g_Q and g_M)\n",
    "        self.attention_q = nn.Conv2d(hidden_dim, hidden_dim, 1)\n",
    "        self.attention_m = nn.Conv2d(hidden_dim, hidden_dim, 1)\n",
    "        \n",
    "        # Conv & ReLU\n",
    "        self.conv_relu = nn.Sequential(\n",
    "            nn.Conv2d(hidden_dim, hidden_dim, 3, padding=1),\n",
    "            nn.ReLU()\n",
    "        )\n",
    "        \n",
    "        # Aggregation layer\n",
    "        self.aggregate = nn.Conv2d(hidden_dim, hidden_dim, 1)\n",
    "        \n",
    "    def forward(self, x):\n",
    "        batch_size = x.size(0)\n",
    "        h, w = x.size(2), x.size(3)\n",
    "        \n",
    "        # Initialize hidden state for GRU\n",
    "        hidden = None\n",
    "        F_map = x\n",
    "        \n",
    "        for r in range(self.num_iterations):\n",
    "            # Get current patterns\n",
    "            K = self.patterns.expand(batch_size, -1, h, w)\n",
    "            \n",
    "            # Calculate attention\n",
    "            Q = self.attention_q(F_map)\n",
    "            M = self.attention_m(K)\n",
    "            Att = torch.sigmoid(Q * M)\n",
    "            \n",
    "            # Apply attention\n",
    "            attended = F_map * Att\n",
    "            \n",
    "            # GRU with skip connection\n",
    "            # Reshape for GRU\n",
    "            gru_in = attended.permute(0, 2, 3, 1).reshape(-1, attended.size(1))\n",
    "            if hidden is None:\n",
    "                hidden = torch.zeros_like(gru_in)\n",
    "            gru_out = self.gru(gru_in, hidden)\n",
    "            gru_out = gru_out.view(batch_size, h, w, -1).permute(0, 3, 1, 2)\n",
    "            \n",
    "            # Skip connection\n",
    "            skip = self.skip_conv(F_map)\n",
    "            F_map = gru_out + skip\n",
    "            \n",
    "            # Conv & ReLU\n",
    "            F_map = self.conv_relu(F_map)\n",
    "        \n",
    "        # Final aggregation\n",
    "        F_map = self.aggregate(F_map)\n",
    "        \n",
    "        # Average pooling for output\n",
    "        out = F.adaptive_avg_pool2d(F_map, 1)\n",
    "        return out.squeeze(-1).squeeze(-1)\n",
    "        \n",
    "class AttentionModule(nn.Module):\n",
    "    def __init__(self, in_channels, hidden_dim=256):\n",
    "        super(AttentionModule, self).__init__()\n",
    "        self.conv1 = nn.Conv2d(in_channels, hidden_dim, kernel_size=1)\n",
    "        self.conv2 = nn.Conv2d(hidden_dim, in_channels, kernel_size=1)\n",
    "        \n",
    "    def forward(self, x):\n",
    "        attention = F.relu(self.conv1(x))\n",
    "        attention = torch.sigmoid(self.conv2(attention))\n",
    "        return x * attention\n",
    "\n",
    "class Discriminator(nn.Module):\n",
    "    def __init__(self, input_channels, hidden_dim=256):\n",
    "        super(Discriminator, self).__init__()\n",
    "        self.conv1 = nn.Conv2d(input_channels, hidden_dim, kernel_size=3, stride=1, padding=1)\n",
    "        self.conv2 = nn.Conv2d(hidden_dim, hidden_dim, kernel_size=3, stride=1, padding=1)\n",
    "        self.conv3 = nn.Conv2d(hidden_dim, hidden_dim, kernel_size=3, stride=1, padding=1)\n",
    "        \n",
    "        self.fc = nn.Linear(hidden_dim * 7 * 7, 1)\n",
    "        \n",
    "        self.bn1 = nn.BatchNorm2d(hidden_dim)\n",
    "        self.bn2 = nn.BatchNorm2d(hidden_dim)\n",
    "        self.bn3 = nn.BatchNorm2d(hidden_dim)\n",
    "        \n",
    "        # Add GRU skip connections\n",
    "        self.gru_skip1 = GRUSkipConnection(hidden_dim)\n",
    "        self.gru_skip2 = GRUSkipConnection(hidden_dim)\n",
    "        \n",
    "    def forward(self, x):\n",
    "        # Initial dimension reduction to hidden_dim\n",
    "        x = self.conv1(x)\n",
    "        x = self.bn1(F.leaky_relu(x, 0.2))\n",
    "        x = self.gru_skip1(x)\n",
    "        \n",
    "        x = self.conv2(x)\n",
    "        x = self.bn2(F.leaky_relu(x, 0.2))\n",
    "        x = self.gru_skip2(x)\n",
    "        \n",
    "        x = self.conv3(x)\n",
    "        x = self.bn3(F.leaky_relu(x, 0.2))\n",
    "        \n",
    "        x = x.view(x.size(0), -1)\n",
    "        return torch.sigmoid(self.fc(x))\n",
    "\n",
    "class MTUNetPlusPlus(nn.Module):\n",
    "    def __init__(self, num_classes, feature_dim=2048, hidden_dim=256):\n",
    "        super(MTUNetPlusPlus, self).__init__()\n",
    "        \n",
    "        # Feature extraction (unchanged)\n",
    "        self.feature_extractor = FeatureExtractor()\n",
    "        \n",
    "        # Dimension reduction\n",
    "        self.dim_reduction = nn.Conv2d(feature_dim, hidden_dim, 1)\n",
    "        \n",
    "        # Add positional embedding\n",
    "        self.pos_embedding = PositionalEmbedding(hidden_dim)\n",
    "        \n",
    "        # Pattern extractor following diagram\n",
    "        self.pattern_extractor = PatternExtractor(hidden_dim)\n",
    "        \n",
    "        # Classification head\n",
    "        self.classifier = nn.Sequential(\n",
    "            nn.Linear(hidden_dim, hidden_dim),\n",
    "            nn.ReLU(),\n",
    "            nn.Dropout(0.5),\n",
    "            nn.Linear(hidden_dim, num_classes)\n",
    "        )\n",
    "    \n",
    "    def forward(self, x, return_features=False):\n",
    "        # Extract features\n",
    "        features = self.feature_extractor(x)\n",
    "        features = self.dim_reduction(features)\n",
    "        \n",
    "        # Add positional embedding\n",
    "        features = self.pos_embedding(features)\n",
    "        \n",
    "        # Pattern extraction\n",
    "        patterns = self.pattern_extractor(features)\n",
    "        \n",
    "        # Classification\n",
    "        logits = self.classifier(patterns)\n",
    "        \n",
    "        if return_features:\n",
    "            # Maintain compatibility with existing code\n",
    "            return logits, patterns, None, features\n",
    "        \n",
    "        return logits\n",
    "\n",
    "class GradCAM:\n",
    "    def __init__(self, model, target_layer):\n",
    "        self.model = model\n",
    "        self.target_layer = target_layer\n",
    "        self.gradients = None\n",
    "        self.features = None\n",
    "        \n",
    "        # Register hooks\n",
    "        target_layer.register_forward_hook(self._save_features)\n",
    "        target_layer.register_backward_hook(self._save_gradients)\n",
    "    \n",
    "    def _save_features(self, module, input, output):\n",
    "        self.features = output\n",
    "    \n",
    "    def _save_gradients(self, module, grad_input, grad_output):\n",
    "        self.gradients = grad_output[0]\n",
    "    \n",
    "    def generate_cam(self, input_image, target_class):\n",
    "        # Forward pass\n",
    "        model_output = self.model(input_image)\n",
    "        \n",
    "        # Zero gradients\n",
    "        self.model.zero_grad()\n",
    "        \n",
    "        # Backward pass for target class\n",
    "        one_hot = torch.zeros_like(model_output)\n",
    "        one_hot[0][target_class] = 1\n",
    "        model_output.backward(gradient=one_hot, retain_graph=True)\n",
    "        \n",
    "        # Generate CAM\n",
    "        pooled_gradients = torch.mean(self.gradients, dim=[0, 2, 3])\n",
    "        for i in range(self.features.shape[1]):\n",
    "            self.features[:, i, :, :] *= pooled_gradients[i]\n",
    "        \n",
    "        cam = torch.mean(self.features, dim=1, keepdim=True)\n",
    "        cam = F.relu(cam)\n",
    "        cam = F.interpolate(cam, size=input_image.shape[2:], mode='bilinear', align_corners=False)\n",
    "        \n",
    "        # Normalize\n",
    "        cam = (cam - cam.min()) / (cam.max() - cam.min())\n",
    "        \n",
    "        return cam\n",
    "\n",
    "def train_step(model, discriminator, batch, optimizer_G, optimizer_D):\n",
    "    real_images, labels = batch\n",
    "    \n",
    "    # Train Discriminator\n",
    "    optimizer_D.zero_grad()\n",
    "    with torch.no_grad():\n",
    "        features = model.feature_extractor(real_images)\n",
    "        features = model.dim_reduction(features)\n",
    "    d_loss_real = F.binary_cross_entropy(discriminator(features), torch.ones_like(features))\n",
    "    d_loss_real.backward()\n",
    "    optimizer_D.step()\n",
    "    \n",
    "    # Train Generator\n",
    "    optimizer_G.zero_grad()\n",
    "    logits = model(real_images)\n",
    "    cls_loss = F.cross_entropy(logits, labels)\n",
    "    features = model.feature_extractor(real_images)\n",
    "    features = model.dim_reduction(features)\n",
    "    g_loss = F.binary_cross_entropy(discriminator(features), torch.ones_like(features))\n",
    "    \n",
    "    total_loss = cls_loss + 0.1 * g_loss\n",
    "    total_loss.backward()\n",
    "    optimizer_G.step()\n",
    "    \n",
    "    return total_loss.item()\n",
    "\n",
    "class HAM10000Dataset(Dataset):\n",
    "    def __init__(self, root_dir, transform=None):\n",
    "        \"\"\"\n",
    "        Args:\n",
    "            root_dir (string): Directory with all the images organized in class folders\n",
    "            transform (callable, optional): Optional transform to be applied on a sample\n",
    "        \"\"\"\n",
    "        self.root_dir = root_dir\n",
    "        self.transform = transform\n",
    "        self.classes = sorted(os.listdir(root_dir))  # Get class folders\n",
    "        self.class_to_idx = {cls_name: i for i, cls_name in enumerate(self.classes)}\n",
    "        \n",
    "        self.images = []\n",
    "        self.labels = []\n",
    "        \n",
    "        # Load all image paths and labels\n",
    "        for class_name in self.classes:\n",
    "            class_path = os.path.join(root_dir, class_name)\n",
    "            if os.path.isdir(class_path):\n",
    "                for img_name in os.listdir(class_path):\n",
    "                    if img_name.endswith(('.jpg', '.jpeg', '.png')):\n",
    "                        self.images.append(os.path.join(class_path, img_name))\n",
    "                        self.labels.append(self.class_to_idx[class_name])\n",
    "\n",
    "    def __len__(self):\n",
    "        return len(self.images)\n",
    "\n",
    "    def __getitem__(self, idx):\n",
    "        img_path = self.images[idx]\n",
    "        image = Image.open(img_path).convert('RGB')\n",
    "        label = self.labels[idx]\n",
    "\n",
    "        if self.transform:\n",
    "            image = self.transform(image)\n",
    "\n",
    "        return image, label\n",
    "\n",
    "def train_epoch(model, discriminator, train_loader, optimizer_G, optimizer_D, device):\n",
    "    model.train()\n",
    "    discriminator.train()\n",
    "    total_loss = 0\n",
    "    \n",
    "    for batch_idx, (images, labels) in enumerate(tqdm(train_loader)):\n",
    "        images, labels = images.to(device), labels.to(device)\n",
    "        batch_size = images.size(0)\n",
    "        \n",
    "        # Train Discriminator\n",
    "        optimizer_D.zero_grad()\n",
    "        features = model.feature_extractor(images)\n",
    "        d_real = discriminator(features.detach())\n",
    "        # Use proper target shape\n",
    "        real_labels = torch.ones(batch_size, 1).to(device)\n",
    "        d_loss_real = F.binary_cross_entropy(d_real, real_labels)\n",
    "        d_loss_real.backward()\n",
    "        optimizer_D.step()\n",
    "        \n",
    "        # Train Generator (Feature Extractor) and Classifier\n",
    "        optimizer_G.zero_grad()\n",
    "        features = model.feature_extractor(images)\n",
    "        d_fake = discriminator(features)\n",
    "        g_loss = F.binary_cross_entropy(d_fake, real_labels)\n",
    "        \n",
    "        # Classification loss\n",
    "        logits = model(images)\n",
    "        cls_loss = F.cross_entropy(logits, labels)\n",
    "        \n",
    "        # Combined loss\n",
    "        total_g_loss = cls_loss + 0.1 * g_loss\n",
    "        total_g_loss.backward()\n",
    "        optimizer_G.step()\n",
    "        \n",
    "        total_loss += total_g_loss.item()\n",
    "        \n",
    "        if batch_idx % 100 == 0:\n",
    "            print(f'Batch [{batch_idx}/{len(train_loader)}], '\n",
    "                  f'Loss: {total_g_loss.item():.4f}, '\n",
    "                  f'Class Loss: {cls_loss.item():.4f}, '\n",
    "                  f'G Loss: {g_loss.item():.4f}')\n",
    "    \n",
    "    return total_loss / len(train_loader)\n",
    "\n",
    "def evaluate_episodes(model, dataset, num_episodes=2000, n_way=2, k_shot=1, device='cuda'):\n",
    "    \"\"\"\n",
    "    Evaluate model on n-way k-shot tasks\n",
    "    Args:\n",
    "        model: trained model\n",
    "        dataset: dataset to sample episodes from\n",
    "        num_episodes: number of episodes to evaluate\n",
    "        n_way: number of classes per episode (2 for 2-way tasks)\n",
    "        k_shot: number of support examples per class\n",
    "        device: device to run evaluation on\n",
    "    \"\"\"\n",
    "    model.eval()\n",
    "    accuracies = []\n",
    "    \n",
    "    # Get all available classes\n",
    "    all_classes = list(set(dataset.labels))\n",
    "    \n",
    "    with torch.no_grad():\n",
    "        for episode in range(num_episodes):\n",
    "            # Randomly sample n classes\n",
    "            episode_classes = random.sample(all_classes, n_way)\n",
    "            \n",
    "            # Get indices for each class\n",
    "            support_indices = []\n",
    "            query_indices = []\n",
    "            \n",
    "            for class_idx in episode_classes:\n",
    "                class_indices = [i for i, label in enumerate(dataset.labels) if label == class_idx]\n",
    "                # Sample k examples for support set\n",
    "                support = random.sample(class_indices, k_shot)\n",
    "                # Sample 1 example for query set (from remaining examples)\n",
    "                remaining = list(set(class_indices) - set(support))\n",
    "                query = random.sample(remaining, 1)\n",
    "                \n",
    "                support_indices.extend(support)\n",
    "                query_indices.extend(query)\n",
    "            \n",
    "            # Prepare support and query sets\n",
    "            support_images = torch.stack([dataset[idx][0] for idx in support_indices]).to(device)\n",
    "            support_labels = torch.tensor([dataset[idx][1] for idx in support_indices]).to(device)\n",
    "            query_images = torch.stack([dataset[idx][0] for idx in query_indices]).to(device)\n",
    "            query_labels = torch.tensor([dataset[idx][1] for idx in query_indices]).to(device)\n",
    "            \n",
    "            # Get model predictions\n",
    "            support_features = model(support_images, return_features=True)[1]  # Get pooled features\n",
    "            query_features = model(query_images, return_features=True)[1]\n",
    "            \n",
    "            # Calculate prototypes for each class\n",
    "            prototypes = {}\n",
    "            for cls in episode_classes:\n",
    "                cls_mask = support_labels == cls\n",
    "                cls_features = support_features[cls_mask]\n",
    "                prototypes[cls] = cls_features.mean(0)\n",
    "            \n",
    "            # Calculate distances to prototypes\n",
    "            accuracies_episode = []\n",
    "            for i, query_feat in enumerate(query_features):\n",
    "                distances = {cls: torch.norm(query_feat - proto) for cls, proto in prototypes.items()}\n",
    "                predicted_cls = min(distances, key=distances.get)\n",
    "                correct = (predicted_cls == query_labels[i].item())\n",
    "                accuracies_episode.append(correct)\n",
    "            \n",
    "            # Calculate accuracy for this episode\n",
    "            accuracy = sum(accuracies_episode) / len(accuracies_episode)\n",
    "            accuracies.append(accuracy)\n",
    "            \n",
    "            if (episode + 1) % 100 == 0:\n",
    "                print(f'Episode {episode + 1}/{num_episodes}, Running Avg Accuracy: {np.mean(accuracies):.4f}')\n",
    "    \n",
    "    final_accuracy = np.mean(accuracies)\n",
    "    print(f'\\nFinal Average Accuracy over {num_episodes} episodes: {final_accuracy:.4f}')\n",
    "    return final_accuracy\n",
    "\n",
    "def main():\n",
    "    # Model configuration\n",
    "    config = {\n",
    "        'num_classes': 7,\n",
    "        'feature_dim': 2048,\n",
    "        'hidden_dim': 256  # Optimal hidden dimension\n",
    "    }\n",
    "    \n",
    "    # Set device\n",
    "    device = torch.device(\"cuda\" if torch.cuda.is_available() else \"cpu\")\n",
    "    print(f\"Using device: {device}\")\n",
    "    \n",
    "    # Initialize models with optimal hidden dimension\n",
    "    model = MTUNetPlusPlus(\n",
    "        num_classes=config['num_classes'],\n",
    "        feature_dim=config['feature_dim'],\n",
    "        hidden_dim=config['hidden_dim']\n",
    "    ).to(device)\n",
    "    \n",
    "    discriminator = Discriminator(\n",
    "        input_channels=config['feature_dim'],\n",
    "        hidden_dim=config['hidden_dim']\n",
    "    ).to(device)\n",
    "    \n",
    "    # Define transforms\n",
    "    transform = transforms.Compose([\n",
    "        transforms.Resize((224, 224)),\n",
    "        transforms.ToTensor(),\n",
    "        transforms.Normalize(mean=[0.485, 0.456, 0.406], std=[0.229, 0.224, 0.225])\n",
    "    ])\n",
    "\n",
    "    # Create dataset and dataloader\n",
    "    dataset = HAM10000Dataset(\n",
    "        root_dir='/kaggle/input/ham10000-and-gan/synthetic_images',\n",
    "        transform=transform\n",
    "    )\n",
    "    \n",
    "    train_loader = DataLoader(\n",
    "        dataset,\n",
    "        batch_size=32,\n",
    "        shuffle=True,\n",
    "        num_workers=4\n",
    "    )\n",
    "\n",
    "    # Initialize optimizers\n",
    "    optimizer_G = torch.optim.Adam(model.parameters(), lr=0.0001)\n",
    "    optimizer_D = torch.optim.Adam(discriminator.parameters(), lr=0.0001)\n",
    "\n",
    "    # Training loop\n",
    "    num_epochs = 50\n",
    "    for epoch in range(num_epochs):\n",
    "        print(f'\\nEpoch {epoch+1}/{num_epochs}')\n",
    "        avg_loss = train_epoch(\n",
    "            model, discriminator, train_loader,\n",
    "            optimizer_G, optimizer_D, device\n",
    "        )\n",
    "        print(f'Average loss: {avg_loss:.4f}')\n",
    "        \n",
    "        # Evaluate episodes after each epoch\n",
    "        print(\"\\nEvaluating 2-way tasks...\")\n",
    "        avg_accuracy = evaluate_episodes(\n",
    "            model,\n",
    "            dataset,\n",
    "            num_episodes=2000,\n",
    "            n_way=2,\n",
    "            k_shot=1,\n",
    "            device=device\n",
    "        )\n",
    "        print(f'Average accuracy over 2000 episodes: {avg_accuracy:.4f}')\n",
    "\n",
    "        # Save checkpoint\n",
    "        if (epoch + 1) % 5 == 0:\n",
    "            torch.save({\n",
    "                'epoch': epoch,\n",
    "                'model_state_dict': model.state_dict(),\n",
    "                'discriminator_state_dict': discriminator.state_dict(),\n",
    "                'optimizer_G_state_dict': optimizer_G.state_dict(),\n",
    "                'optimizer_D_state_dict': optimizer_D.state_dict(),\n",
    "                'episode_accuracy': avg_accuracy\n",
    "            }, f'checkpoint_epoch_{epoch+1}.pth')\n",
    "\n",
    "if __name__ == \"__main__\":\n",
    "    main()"
   ]
  },
  {
   "cell_type": "code",
   "execution_count": null,
   "id": "6d983baa",
   "metadata": {
    "papermill": {
     "duration": 0.88675,
     "end_time": "2025-01-03T17:49:56.093067",
     "exception": false,
     "start_time": "2025-01-03T17:49:55.206317",
     "status": "completed"
    },
    "tags": []
   },
   "outputs": [],
   "source": []
  }
 ],
 "metadata": {
  "kaggle": {
   "accelerator": "gpu",
   "dataSources": [
    {
     "datasetId": 6329760,
     "sourceId": 10237231,
     "sourceType": "datasetVersion"
    }
   ],
   "dockerImageVersionId": 30805,
   "isGpuEnabled": true,
   "isInternetEnabled": true,
   "language": "python",
   "sourceType": "notebook"
  },
  "kernelspec": {
   "display_name": "Python 3",
   "language": "python",
   "name": "python3"
  },
  "language_info": {
   "codemirror_mode": {
    "name": "ipython",
    "version": 3
   },
   "file_extension": ".py",
   "mimetype": "text/x-python",
   "name": "python",
   "nbconvert_exporter": "python",
   "pygments_lexer": "ipython3",
   "version": "3.10.14"
  },
  "papermill": {
   "default_parameters": {},
   "duration": 15961.077812,
   "end_time": "2025-01-03T17:49:59.315329",
   "environment_variables": {},
   "exception": null,
   "input_path": "__notebook__.ipynb",
   "output_path": "__notebook__.ipynb",
   "parameters": {},
   "start_time": "2025-01-03T13:23:58.237517",
   "version": "2.6.0"
  }
 },
 "nbformat": 4,
 "nbformat_minor": 5
}
