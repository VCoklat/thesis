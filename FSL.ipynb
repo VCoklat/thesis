{
 "cells": [
  {
   "cell_type": "code",
   "execution_count": 1,
   "id": "7922aa15",
   "metadata": {
    "collapsed": true,
    "execution": {
     "iopub.execute_input": "2025-01-03T13:01:12.872558Z",
     "iopub.status.busy": "2025-01-03T13:01:12.872198Z",
     "iopub.status.idle": "2025-01-03T13:01:22.443668Z",
     "shell.execute_reply": "2025-01-03T13:01:22.442527Z"
    },
    "jupyter": {
     "outputs_hidden": true
    },
    "papermill": {
     "duration": 9.57781,
     "end_time": "2025-01-03T13:01:22.446446",
     "exception": false,
     "start_time": "2025-01-03T13:01:12.868636",
     "status": "completed"
    },
    "tags": []
   },
   "outputs": [
    {
     "name": "stdout",
     "output_type": "stream",
     "text": [
      "Requirement already satisfied: torch in /opt/conda/lib/python3.10/site-packages (2.4.0)\r\n",
      "Requirement already satisfied: torchvision in /opt/conda/lib/python3.10/site-packages (0.19.0)\r\n",
      "Requirement already satisfied: tqdm in /opt/conda/lib/python3.10/site-packages (4.66.4)\r\n",
      "Requirement already satisfied: pillow in /opt/conda/lib/python3.10/site-packages (10.3.0)\r\n",
      "Requirement already satisfied: filelock in /opt/conda/lib/python3.10/site-packages (from torch) (3.15.1)\r\n",
      "Requirement already satisfied: typing-extensions>=4.8.0 in /opt/conda/lib/python3.10/site-packages (from torch) (4.12.2)\r\n",
      "Requirement already satisfied: sympy in /opt/conda/lib/python3.10/site-packages (from torch) (1.13.3)\r\n",
      "Requirement already satisfied: networkx in /opt/conda/lib/python3.10/site-packages (from torch) (3.3)\r\n",
      "Requirement already satisfied: jinja2 in /opt/conda/lib/python3.10/site-packages (from torch) (3.1.4)\r\n",
      "Requirement already satisfied: fsspec in /opt/conda/lib/python3.10/site-packages (from torch) (2024.6.0)\r\n",
      "Requirement already satisfied: numpy in /opt/conda/lib/python3.10/site-packages (from torchvision) (1.26.4)\r\n",
      "Requirement already satisfied: MarkupSafe>=2.0 in /opt/conda/lib/python3.10/site-packages (from jinja2->torch) (2.1.5)\r\n",
      "Requirement already satisfied: mpmath<1.4,>=1.1.0 in /opt/conda/lib/python3.10/site-packages (from sympy->torch) (1.3.0)\r\n"
     ]
    }
   ],
   "source": [
    "!pip install torch torchvision tqdm pillow"
   ]
  },
  {
   "cell_type": "code",
   "execution_count": 2,
   "id": "95e4d014",
   "metadata": {
    "execution": {
     "iopub.execute_input": "2025-01-03T13:01:22.454836Z",
     "iopub.status.busy": "2025-01-03T13:01:22.454534Z",
     "iopub.status.idle": "2025-01-03T17:24:28.053417Z",
     "shell.execute_reply": "2025-01-03T17:24:28.052500Z"
    },
    "papermill": {
     "duration": 15785.605798,
     "end_time": "2025-01-03T17:24:28.055665",
     "exception": false,
     "start_time": "2025-01-03T13:01:22.449867",
     "status": "completed"
    },
    "tags": []
   },
   "outputs": [
    {
     "name": "stdout",
     "output_type": "stream",
     "text": [
      "Using device: cuda\n"
     ]
    },
    {
     "name": "stderr",
     "output_type": "stream",
     "text": [
      "/opt/conda/lib/python3.10/site-packages/torchvision/models/_utils.py:208: UserWarning: The parameter 'pretrained' is deprecated since 0.13 and may be removed in the future, please use 'weights' instead.\n",
      "  warnings.warn(\n",
      "/opt/conda/lib/python3.10/site-packages/torchvision/models/_utils.py:223: UserWarning: Arguments other than a weight enum or `None` for 'weights' are deprecated since 0.13 and may be removed in the future. The current behavior is equivalent to passing `weights=ResNet50_Weights.IMAGENET1K_V1`. You can also use `weights=ResNet50_Weights.DEFAULT` to get the most up-to-date weights.\n",
      "  warnings.warn(msg)\n",
      "Downloading: \"https://download.pytorch.org/models/resnet50-0676ba61.pth\" to /root/.cache/torch/hub/checkpoints/resnet50-0676ba61.pth\n",
      "100%|██████████| 97.8M/97.8M [00:00<00:00, 219MB/s]\n"
     ]
    },
    {
     "name": "stdout",
     "output_type": "stream",
     "text": [
      "\n",
      "Epoch 1/50\n"
     ]
    },
    {
     "name": "stderr",
     "output_type": "stream",
     "text": [
      "  0%|          | 1/313 [00:02<14:03,  2.70s/it]"
     ]
    },
    {
     "name": "stdout",
     "output_type": "stream",
     "text": [
      "Batch [0/313], Loss: 1.9364, Class Loss: 1.9360, G Loss: 0.0034\n"
     ]
    },
    {
     "name": "stderr",
     "output_type": "stream",
     "text": [
      " 32%|███▏      | 101/313 [00:45<01:30,  2.34it/s]"
     ]
    },
    {
     "name": "stdout",
     "output_type": "stream",
     "text": [
      "Batch [100/313], Loss: 1.6001, Class Loss: 1.6001, G Loss: 0.0000\n"
     ]
    },
    {
     "name": "stderr",
     "output_type": "stream",
     "text": [
      " 64%|██████▍   | 201/313 [01:28<00:47,  2.34it/s]"
     ]
    },
    {
     "name": "stdout",
     "output_type": "stream",
     "text": [
      "Batch [200/313], Loss: 0.9324, Class Loss: 0.9324, G Loss: 0.0000\n"
     ]
    },
    {
     "name": "stderr",
     "output_type": "stream",
     "text": [
      " 96%|█████████▌| 301/313 [02:11<00:05,  2.34it/s]"
     ]
    },
    {
     "name": "stdout",
     "output_type": "stream",
     "text": [
      "Batch [300/313], Loss: 0.9356, Class Loss: 0.9356, G Loss: 0.0000\n"
     ]
    },
    {
     "name": "stderr",
     "output_type": "stream",
     "text": [
      "100%|██████████| 313/313 [02:16<00:00,  2.30it/s]\n"
     ]
    },
    {
     "name": "stdout",
     "output_type": "stream",
     "text": [
      "Average loss: 0.8806\n",
      "\n",
      "Evaluating 2-way tasks...\n",
      "Episode 100/2000, Running Avg Accuracy: 0.7550\n",
      "Episode 200/2000, Running Avg Accuracy: 0.7625\n",
      "Episode 300/2000, Running Avg Accuracy: 0.7200\n",
      "Episode 400/2000, Running Avg Accuracy: 0.7100\n",
      "Episode 500/2000, Running Avg Accuracy: 0.7070\n",
      "Episode 600/2000, Running Avg Accuracy: 0.7033\n",
      "Episode 700/2000, Running Avg Accuracy: 0.7071\n",
      "Episode 800/2000, Running Avg Accuracy: 0.7056\n",
      "Episode 900/2000, Running Avg Accuracy: 0.7061\n",
      "Episode 1000/2000, Running Avg Accuracy: 0.7060\n",
      "Episode 1100/2000, Running Avg Accuracy: 0.7068\n",
      "Episode 1200/2000, Running Avg Accuracy: 0.7092\n",
      "Episode 1300/2000, Running Avg Accuracy: 0.7127\n",
      "Episode 1400/2000, Running Avg Accuracy: 0.7100\n",
      "Episode 1500/2000, Running Avg Accuracy: 0.7103\n",
      "Episode 1600/2000, Running Avg Accuracy: 0.7106\n",
      "Episode 1700/2000, Running Avg Accuracy: 0.7115\n",
      "Episode 1800/2000, Running Avg Accuracy: 0.7117\n",
      "Episode 1900/2000, Running Avg Accuracy: 0.7129\n",
      "Episode 2000/2000, Running Avg Accuracy: 0.7130\n",
      "\n",
      "Final Average Accuracy over 2000 episodes: 0.7130\n",
      "Average accuracy over 2000 episodes: 0.7130\n",
      "\n",
      "Epoch 2/50\n"
     ]
    },
    {
     "name": "stderr",
     "output_type": "stream",
     "text": [
      "  0%|          | 1/313 [00:01<05:54,  1.14s/it]"
     ]
    },
    {
     "name": "stdout",
     "output_type": "stream",
     "text": [
      "Batch [0/313], Loss: 0.8157, Class Loss: 0.8157, G Loss: 0.0000\n"
     ]
    },
    {
     "name": "stderr",
     "output_type": "stream",
     "text": [
      " 32%|███▏      | 101/313 [00:43<01:30,  2.34it/s]"
     ]
    },
    {
     "name": "stdout",
     "output_type": "stream",
     "text": [
      "Batch [100/313], Loss: 0.5976, Class Loss: 0.5976, G Loss: 0.0000\n"
     ]
    },
    {
     "name": "stderr",
     "output_type": "stream",
     "text": [
      " 64%|██████▍   | 201/313 [01:26<00:47,  2.34it/s]"
     ]
    },
    {
     "name": "stdout",
     "output_type": "stream",
     "text": [
      "Batch [200/313], Loss: 0.4422, Class Loss: 0.4422, G Loss: 0.0000\n"
     ]
    },
    {
     "name": "stderr",
     "output_type": "stream",
     "text": [
      " 96%|█████████▌| 301/313 [02:09<00:05,  2.34it/s]"
     ]
    },
    {
     "name": "stdout",
     "output_type": "stream",
     "text": [
      "Batch [300/313], Loss: 0.3830, Class Loss: 0.3830, G Loss: 0.0000\n"
     ]
    },
    {
     "name": "stderr",
     "output_type": "stream",
     "text": [
      "100%|██████████| 313/313 [02:14<00:00,  2.33it/s]\n"
     ]
    },
    {
     "name": "stdout",
     "output_type": "stream",
     "text": [
      "Average loss: 0.6466\n",
      "\n",
      "Evaluating 2-way tasks...\n",
      "Episode 100/2000, Running Avg Accuracy: 0.8250\n",
      "Episode 200/2000, Running Avg Accuracy: 0.8325\n",
      "Episode 300/2000, Running Avg Accuracy: 0.8267\n",
      "Episode 400/2000, Running Avg Accuracy: 0.8275\n",
      "Episode 500/2000, Running Avg Accuracy: 0.8330\n",
      "Episode 600/2000, Running Avg Accuracy: 0.8408\n",
      "Episode 700/2000, Running Avg Accuracy: 0.8357\n",
      "Episode 800/2000, Running Avg Accuracy: 0.8413\n",
      "Episode 900/2000, Running Avg Accuracy: 0.8422\n",
      "Episode 1000/2000, Running Avg Accuracy: 0.8420\n",
      "Episode 1100/2000, Running Avg Accuracy: 0.8364\n",
      "Episode 1200/2000, Running Avg Accuracy: 0.8333\n",
      "Episode 1300/2000, Running Avg Accuracy: 0.8331\n",
      "Episode 1400/2000, Running Avg Accuracy: 0.8318\n",
      "Episode 1500/2000, Running Avg Accuracy: 0.8300\n",
      "Episode 1600/2000, Running Avg Accuracy: 0.8291\n",
      "Episode 1700/2000, Running Avg Accuracy: 0.8262\n",
      "Episode 1800/2000, Running Avg Accuracy: 0.8225\n",
      "Episode 1900/2000, Running Avg Accuracy: 0.8247\n",
      "Episode 2000/2000, Running Avg Accuracy: 0.8265\n",
      "\n",
      "Final Average Accuracy over 2000 episodes: 0.8265\n",
      "Average accuracy over 2000 episodes: 0.8265\n",
      "\n",
      "Epoch 3/50\n"
     ]
    },
    {
     "name": "stderr",
     "output_type": "stream",
     "text": [
      "  0%|          | 1/313 [00:01<05:25,  1.04s/it]"
     ]
    },
    {
     "name": "stdout",
     "output_type": "stream",
     "text": [
      "Batch [0/313], Loss: 0.4930, Class Loss: 0.4930, G Loss: 0.0000\n"
     ]
    },
    {
     "name": "stderr",
     "output_type": "stream",
     "text": [
      " 32%|███▏      | 101/313 [00:43<01:30,  2.34it/s]"
     ]
    },
    {
     "name": "stdout",
     "output_type": "stream",
     "text": [
      "Batch [100/313], Loss: 0.3076, Class Loss: 0.3076, G Loss: 0.0000\n"
     ]
    },
    {
     "name": "stderr",
     "output_type": "stream",
     "text": [
      " 64%|██████▍   | 201/313 [01:26<00:47,  2.34it/s]"
     ]
    },
    {
     "name": "stdout",
     "output_type": "stream",
     "text": [
      "Batch [200/313], Loss: 0.4961, Class Loss: 0.4961, G Loss: 0.0000\n"
     ]
    },
    {
     "name": "stderr",
     "output_type": "stream",
     "text": [
      " 96%|█████████▌| 301/313 [02:09<00:05,  2.34it/s]"
     ]
    },
    {
     "name": "stdout",
     "output_type": "stream",
     "text": [
      "Batch [300/313], Loss: 0.7712, Class Loss: 0.7712, G Loss: 0.0000\n"
     ]
    },
    {
     "name": "stderr",
     "output_type": "stream",
     "text": [
      "100%|██████████| 313/313 [02:14<00:00,  2.33it/s]\n"
     ]
    },
    {
     "name": "stdout",
     "output_type": "stream",
     "text": [
      "Average loss: 0.5003\n",
      "\n",
      "Evaluating 2-way tasks...\n",
      "Episode 100/2000, Running Avg Accuracy: 0.8550\n",
      "Episode 200/2000, Running Avg Accuracy: 0.8275\n",
      "Episode 300/2000, Running Avg Accuracy: 0.8283\n",
      "Episode 400/2000, Running Avg Accuracy: 0.8225\n",
      "Episode 500/2000, Running Avg Accuracy: 0.8220\n",
      "Episode 600/2000, Running Avg Accuracy: 0.8258\n",
      "Episode 700/2000, Running Avg Accuracy: 0.8243\n",
      "Episode 800/2000, Running Avg Accuracy: 0.8237\n",
      "Episode 900/2000, Running Avg Accuracy: 0.8206\n",
      "Episode 1000/2000, Running Avg Accuracy: 0.8185\n",
      "Episode 1100/2000, Running Avg Accuracy: 0.8182\n",
      "Episode 1200/2000, Running Avg Accuracy: 0.8225\n",
      "Episode 1300/2000, Running Avg Accuracy: 0.8235\n",
      "Episode 1400/2000, Running Avg Accuracy: 0.8257\n",
      "Episode 1500/2000, Running Avg Accuracy: 0.8240\n",
      "Episode 1600/2000, Running Avg Accuracy: 0.8266\n",
      "Episode 1700/2000, Running Avg Accuracy: 0.8288\n",
      "Episode 1800/2000, Running Avg Accuracy: 0.8297\n",
      "Episode 1900/2000, Running Avg Accuracy: 0.8289\n",
      "Episode 2000/2000, Running Avg Accuracy: 0.8287\n",
      "\n",
      "Final Average Accuracy over 2000 episodes: 0.8287\n",
      "Average accuracy over 2000 episodes: 0.8287\n",
      "\n",
      "Epoch 4/50\n"
     ]
    },
    {
     "name": "stderr",
     "output_type": "stream",
     "text": [
      "  0%|          | 1/313 [00:01<05:31,  1.06s/it]"
     ]
    },
    {
     "name": "stdout",
     "output_type": "stream",
     "text": [
      "Batch [0/313], Loss: 0.3555, Class Loss: 0.3555, G Loss: 0.0000\n"
     ]
    },
    {
     "name": "stderr",
     "output_type": "stream",
     "text": [
      " 32%|███▏      | 101/313 [00:43<01:30,  2.34it/s]"
     ]
    },
    {
     "name": "stdout",
     "output_type": "stream",
     "text": [
      "Batch [100/313], Loss: 0.2546, Class Loss: 0.2546, G Loss: 0.0000\n"
     ]
    },
    {
     "name": "stderr",
     "output_type": "stream",
     "text": [
      " 64%|██████▍   | 201/313 [01:26<00:47,  2.34it/s]"
     ]
    },
    {
     "name": "stdout",
     "output_type": "stream",
     "text": [
      "Batch [200/313], Loss: 0.6909, Class Loss: 0.6909, G Loss: 0.0000\n"
     ]
    },
    {
     "name": "stderr",
     "output_type": "stream",
     "text": [
      " 96%|█████████▌| 301/313 [02:09<00:05,  2.33it/s]"
     ]
    },
    {
     "name": "stdout",
     "output_type": "stream",
     "text": [
      "Batch [300/313], Loss: 0.0666, Class Loss: 0.0666, G Loss: 0.0000\n"
     ]
    },
    {
     "name": "stderr",
     "output_type": "stream",
     "text": [
      "100%|██████████| 313/313 [02:14<00:00,  2.33it/s]\n"
     ]
    },
    {
     "name": "stdout",
     "output_type": "stream",
     "text": [
      "Average loss: 0.3872\n",
      "\n",
      "Evaluating 2-way tasks...\n",
      "Episode 100/2000, Running Avg Accuracy: 0.9050\n",
      "Episode 200/2000, Running Avg Accuracy: 0.8875\n",
      "Episode 300/2000, Running Avg Accuracy: 0.8833\n",
      "Episode 400/2000, Running Avg Accuracy: 0.8888\n",
      "Episode 500/2000, Running Avg Accuracy: 0.8900\n",
      "Episode 600/2000, Running Avg Accuracy: 0.8892\n",
      "Episode 700/2000, Running Avg Accuracy: 0.8857\n",
      "Episode 800/2000, Running Avg Accuracy: 0.8856\n",
      "Episode 900/2000, Running Avg Accuracy: 0.8867\n",
      "Episode 1000/2000, Running Avg Accuracy: 0.8870\n",
      "Episode 1100/2000, Running Avg Accuracy: 0.8873\n",
      "Episode 1200/2000, Running Avg Accuracy: 0.8867\n",
      "Episode 1300/2000, Running Avg Accuracy: 0.8881\n",
      "Episode 1400/2000, Running Avg Accuracy: 0.8886\n",
      "Episode 1500/2000, Running Avg Accuracy: 0.8870\n",
      "Episode 1600/2000, Running Avg Accuracy: 0.8866\n",
      "Episode 1700/2000, Running Avg Accuracy: 0.8853\n",
      "Episode 1800/2000, Running Avg Accuracy: 0.8842\n",
      "Episode 1900/2000, Running Avg Accuracy: 0.8847\n",
      "Episode 2000/2000, Running Avg Accuracy: 0.8850\n",
      "\n",
      "Final Average Accuracy over 2000 episodes: 0.8850\n",
      "Average accuracy over 2000 episodes: 0.8850\n",
      "\n",
      "Epoch 5/50\n"
     ]
    },
    {
     "name": "stderr",
     "output_type": "stream",
     "text": [
      "  0%|          | 1/313 [00:01<05:41,  1.09s/it]"
     ]
    },
    {
     "name": "stdout",
     "output_type": "stream",
     "text": [
      "Batch [0/313], Loss: 0.1928, Class Loss: 0.1928, G Loss: 0.0000\n"
     ]
    },
    {
     "name": "stderr",
     "output_type": "stream",
     "text": [
      " 32%|███▏      | 101/313 [00:43<01:30,  2.33it/s]"
     ]
    },
    {
     "name": "stdout",
     "output_type": "stream",
     "text": [
      "Batch [100/313], Loss: 0.2612, Class Loss: 0.2612, G Loss: 0.0000\n"
     ]
    },
    {
     "name": "stderr",
     "output_type": "stream",
     "text": [
      " 64%|██████▍   | 201/313 [01:26<00:47,  2.34it/s]"
     ]
    },
    {
     "name": "stdout",
     "output_type": "stream",
     "text": [
      "Batch [200/313], Loss: 0.1569, Class Loss: 0.1569, G Loss: 0.0000\n"
     ]
    },
    {
     "name": "stderr",
     "output_type": "stream",
     "text": [
      " 96%|█████████▌| 301/313 [02:09<00:05,  2.34it/s]"
     ]
    },
    {
     "name": "stdout",
     "output_type": "stream",
     "text": [
      "Batch [300/313], Loss: 0.3054, Class Loss: 0.3054, G Loss: 0.0000\n"
     ]
    },
    {
     "name": "stderr",
     "output_type": "stream",
     "text": [
      "100%|██████████| 313/313 [02:14<00:00,  2.33it/s]\n"
     ]
    },
    {
     "name": "stdout",
     "output_type": "stream",
     "text": [
      "Average loss: 0.2981\n",
      "\n",
      "Evaluating 2-way tasks...\n",
      "Episode 100/2000, Running Avg Accuracy: 0.9200\n",
      "Episode 200/2000, Running Avg Accuracy: 0.8925\n",
      "Episode 300/2000, Running Avg Accuracy: 0.9067\n",
      "Episode 400/2000, Running Avg Accuracy: 0.9137\n",
      "Episode 500/2000, Running Avg Accuracy: 0.9170\n",
      "Episode 600/2000, Running Avg Accuracy: 0.9167\n",
      "Episode 700/2000, Running Avg Accuracy: 0.9179\n",
      "Episode 800/2000, Running Avg Accuracy: 0.9200\n",
      "Episode 900/2000, Running Avg Accuracy: 0.9189\n",
      "Episode 1000/2000, Running Avg Accuracy: 0.9165\n",
      "Episode 1100/2000, Running Avg Accuracy: 0.9136\n",
      "Episode 1200/2000, Running Avg Accuracy: 0.9133\n",
      "Episode 1300/2000, Running Avg Accuracy: 0.9131\n",
      "Episode 1400/2000, Running Avg Accuracy: 0.9146\n",
      "Episode 1500/2000, Running Avg Accuracy: 0.9147\n",
      "Episode 1600/2000, Running Avg Accuracy: 0.9163\n",
      "Episode 1700/2000, Running Avg Accuracy: 0.9165\n",
      "Episode 1800/2000, Running Avg Accuracy: 0.9169\n",
      "Episode 1900/2000, Running Avg Accuracy: 0.9166\n",
      "Episode 2000/2000, Running Avg Accuracy: 0.9157\n",
      "\n",
      "Final Average Accuracy over 2000 episodes: 0.9157\n",
      "Average accuracy over 2000 episodes: 0.9157\n",
      "\n",
      "Epoch 6/50\n"
     ]
    },
    {
     "name": "stderr",
     "output_type": "stream",
     "text": [
      "  0%|          | 1/313 [00:01<05:26,  1.04s/it]"
     ]
    },
    {
     "name": "stdout",
     "output_type": "stream",
     "text": [
      "Batch [0/313], Loss: 0.1642, Class Loss: 0.1642, G Loss: 0.0000\n"
     ]
    },
    {
     "name": "stderr",
     "output_type": "stream",
     "text": [
      " 32%|███▏      | 101/313 [00:43<01:30,  2.34it/s]"
     ]
    },
    {
     "name": "stdout",
     "output_type": "stream",
     "text": [
      "Batch [100/313], Loss: 0.1100, Class Loss: 0.1100, G Loss: 0.0000\n"
     ]
    },
    {
     "name": "stderr",
     "output_type": "stream",
     "text": [
      " 64%|██████▍   | 201/313 [01:26<00:48,  2.33it/s]"
     ]
    },
    {
     "name": "stdout",
     "output_type": "stream",
     "text": [
      "Batch [200/313], Loss: 0.1555, Class Loss: 0.1555, G Loss: 0.0000\n"
     ]
    },
    {
     "name": "stderr",
     "output_type": "stream",
     "text": [
      " 96%|█████████▌| 301/313 [02:09<00:05,  2.33it/s]"
     ]
    },
    {
     "name": "stdout",
     "output_type": "stream",
     "text": [
      "Batch [300/313], Loss: 0.1431, Class Loss: 0.1431, G Loss: 0.0000\n"
     ]
    },
    {
     "name": "stderr",
     "output_type": "stream",
     "text": [
      "100%|██████████| 313/313 [02:14<00:00,  2.33it/s]\n"
     ]
    },
    {
     "name": "stdout",
     "output_type": "stream",
     "text": [
      "Average loss: 0.2200\n",
      "\n",
      "Evaluating 2-way tasks...\n",
      "Episode 100/2000, Running Avg Accuracy: 0.8900\n",
      "Episode 200/2000, Running Avg Accuracy: 0.9025\n",
      "Episode 300/2000, Running Avg Accuracy: 0.9117\n",
      "Episode 400/2000, Running Avg Accuracy: 0.9125\n",
      "Episode 500/2000, Running Avg Accuracy: 0.9120\n",
      "Episode 600/2000, Running Avg Accuracy: 0.9150\n",
      "Episode 700/2000, Running Avg Accuracy: 0.9179\n",
      "Episode 800/2000, Running Avg Accuracy: 0.9187\n",
      "Episode 900/2000, Running Avg Accuracy: 0.9189\n",
      "Episode 1000/2000, Running Avg Accuracy: 0.9170\n",
      "Episode 1100/2000, Running Avg Accuracy: 0.9200\n",
      "Episode 1200/2000, Running Avg Accuracy: 0.9196\n",
      "Episode 1300/2000, Running Avg Accuracy: 0.9208\n",
      "Episode 1400/2000, Running Avg Accuracy: 0.9204\n",
      "Episode 1500/2000, Running Avg Accuracy: 0.9177\n",
      "Episode 1600/2000, Running Avg Accuracy: 0.9187\n",
      "Episode 1700/2000, Running Avg Accuracy: 0.9185\n",
      "Episode 1800/2000, Running Avg Accuracy: 0.9186\n",
      "Episode 1900/2000, Running Avg Accuracy: 0.9205\n",
      "Episode 2000/2000, Running Avg Accuracy: 0.9213\n",
      "\n",
      "Final Average Accuracy over 2000 episodes: 0.9213\n",
      "Average accuracy over 2000 episodes: 0.9213\n",
      "\n",
      "Epoch 7/50\n"
     ]
    },
    {
     "name": "stderr",
     "output_type": "stream",
     "text": [
      "  0%|          | 1/313 [00:01<05:36,  1.08s/it]"
     ]
    },
    {
     "name": "stdout",
     "output_type": "stream",
     "text": [
      "Batch [0/313], Loss: 0.1020, Class Loss: 0.1020, G Loss: 0.0000\n"
     ]
    },
    {
     "name": "stderr",
     "output_type": "stream",
     "text": [
      " 32%|███▏      | 101/313 [00:43<01:30,  2.34it/s]"
     ]
    },
    {
     "name": "stdout",
     "output_type": "stream",
     "text": [
      "Batch [100/313], Loss: 0.3383, Class Loss: 0.3383, G Loss: 0.0000\n"
     ]
    },
    {
     "name": "stderr",
     "output_type": "stream",
     "text": [
      " 64%|██████▍   | 201/313 [01:26<00:47,  2.33it/s]"
     ]
    },
    {
     "name": "stdout",
     "output_type": "stream",
     "text": [
      "Batch [200/313], Loss: 0.1660, Class Loss: 0.1660, G Loss: 0.0000\n"
     ]
    },
    {
     "name": "stderr",
     "output_type": "stream",
     "text": [
      " 96%|█████████▌| 301/313 [02:09<00:05,  2.34it/s]"
     ]
    },
    {
     "name": "stdout",
     "output_type": "stream",
     "text": [
      "Batch [300/313], Loss: 0.0865, Class Loss: 0.0865, G Loss: 0.0000\n"
     ]
    },
    {
     "name": "stderr",
     "output_type": "stream",
     "text": [
      "100%|██████████| 313/313 [02:14<00:00,  2.33it/s]\n"
     ]
    },
    {
     "name": "stdout",
     "output_type": "stream",
     "text": [
      "Average loss: 0.1838\n",
      "\n",
      "Evaluating 2-way tasks...\n",
      "Episode 100/2000, Running Avg Accuracy: 0.9600\n",
      "Episode 200/2000, Running Avg Accuracy: 0.9600\n",
      "Episode 300/2000, Running Avg Accuracy: 0.9617\n",
      "Episode 400/2000, Running Avg Accuracy: 0.9587\n",
      "Episode 500/2000, Running Avg Accuracy: 0.9540\n",
      "Episode 600/2000, Running Avg Accuracy: 0.9558\n",
      "Episode 700/2000, Running Avg Accuracy: 0.9571\n",
      "Episode 800/2000, Running Avg Accuracy: 0.9544\n",
      "Episode 900/2000, Running Avg Accuracy: 0.9561\n",
      "Episode 1000/2000, Running Avg Accuracy: 0.9575\n",
      "Episode 1100/2000, Running Avg Accuracy: 0.9568\n",
      "Episode 1200/2000, Running Avg Accuracy: 0.9554\n",
      "Episode 1300/2000, Running Avg Accuracy: 0.9558\n",
      "Episode 1400/2000, Running Avg Accuracy: 0.9557\n",
      "Episode 1500/2000, Running Avg Accuracy: 0.9550\n",
      "Episode 1600/2000, Running Avg Accuracy: 0.9556\n",
      "Episode 1700/2000, Running Avg Accuracy: 0.9559\n",
      "Episode 1800/2000, Running Avg Accuracy: 0.9564\n",
      "Episode 1900/2000, Running Avg Accuracy: 0.9553\n",
      "Episode 2000/2000, Running Avg Accuracy: 0.9553\n",
      "\n",
      "Final Average Accuracy over 2000 episodes: 0.9553\n",
      "Average accuracy over 2000 episodes: 0.9553\n",
      "\n",
      "Epoch 8/50\n"
     ]
    },
    {
     "name": "stderr",
     "output_type": "stream",
     "text": [
      "  0%|          | 1/313 [00:01<05:39,  1.09s/it]"
     ]
    },
    {
     "name": "stdout",
     "output_type": "stream",
     "text": [
      "Batch [0/313], Loss: 0.0284, Class Loss: 0.0284, G Loss: 0.0000\n"
     ]
    },
    {
     "name": "stderr",
     "output_type": "stream",
     "text": [
      " 32%|███▏      | 101/313 [00:43<01:30,  2.33it/s]"
     ]
    },
    {
     "name": "stdout",
     "output_type": "stream",
     "text": [
      "Batch [100/313], Loss: 0.0310, Class Loss: 0.0310, G Loss: 0.0000\n"
     ]
    },
    {
     "name": "stderr",
     "output_type": "stream",
     "text": [
      " 64%|██████▍   | 201/313 [01:26<00:48,  2.33it/s]"
     ]
    },
    {
     "name": "stdout",
     "output_type": "stream",
     "text": [
      "Batch [200/313], Loss: 0.0785, Class Loss: 0.0785, G Loss: 0.0000\n"
     ]
    },
    {
     "name": "stderr",
     "output_type": "stream",
     "text": [
      " 96%|█████████▌| 301/313 [02:09<00:05,  2.34it/s]"
     ]
    },
    {
     "name": "stdout",
     "output_type": "stream",
     "text": [
      "Batch [300/313], Loss: 0.0342, Class Loss: 0.0342, G Loss: 0.0000\n"
     ]
    },
    {
     "name": "stderr",
     "output_type": "stream",
     "text": [
      "100%|██████████| 313/313 [02:14<00:00,  2.33it/s]\n"
     ]
    },
    {
     "name": "stdout",
     "output_type": "stream",
     "text": [
      "Average loss: 0.1417\n",
      "\n",
      "Evaluating 2-way tasks...\n",
      "Episode 100/2000, Running Avg Accuracy: 0.9350\n",
      "Episode 200/2000, Running Avg Accuracy: 0.9450\n",
      "Episode 300/2000, Running Avg Accuracy: 0.9533\n",
      "Episode 400/2000, Running Avg Accuracy: 0.9550\n",
      "Episode 500/2000, Running Avg Accuracy: 0.9560\n",
      "Episode 600/2000, Running Avg Accuracy: 0.9500\n",
      "Episode 700/2000, Running Avg Accuracy: 0.9479\n",
      "Episode 800/2000, Running Avg Accuracy: 0.9500\n",
      "Episode 900/2000, Running Avg Accuracy: 0.9506\n",
      "Episode 1000/2000, Running Avg Accuracy: 0.9525\n",
      "Episode 1100/2000, Running Avg Accuracy: 0.9518\n",
      "Episode 1200/2000, Running Avg Accuracy: 0.9525\n",
      "Episode 1300/2000, Running Avg Accuracy: 0.9519\n",
      "Episode 1400/2000, Running Avg Accuracy: 0.9500\n",
      "Episode 1500/2000, Running Avg Accuracy: 0.9510\n",
      "Episode 1600/2000, Running Avg Accuracy: 0.9513\n",
      "Episode 1700/2000, Running Avg Accuracy: 0.9515\n",
      "Episode 1800/2000, Running Avg Accuracy: 0.9525\n",
      "Episode 1900/2000, Running Avg Accuracy: 0.9524\n",
      "Episode 2000/2000, Running Avg Accuracy: 0.9515\n",
      "\n",
      "Final Average Accuracy over 2000 episodes: 0.9515\n",
      "Average accuracy over 2000 episodes: 0.9515\n",
      "\n",
      "Epoch 9/50\n"
     ]
    },
    {
     "name": "stderr",
     "output_type": "stream",
     "text": [
      "  0%|          | 1/313 [00:01<05:40,  1.09s/it]"
     ]
    },
    {
     "name": "stdout",
     "output_type": "stream",
     "text": [
      "Batch [0/313], Loss: 0.1552, Class Loss: 0.1552, G Loss: 0.0000\n"
     ]
    },
    {
     "name": "stderr",
     "output_type": "stream",
     "text": [
      " 32%|███▏      | 101/313 [00:43<01:30,  2.34it/s]"
     ]
    },
    {
     "name": "stdout",
     "output_type": "stream",
     "text": [
      "Batch [100/313], Loss: 0.1197, Class Loss: 0.1197, G Loss: 0.0000\n"
     ]
    },
    {
     "name": "stderr",
     "output_type": "stream",
     "text": [
      " 64%|██████▍   | 201/313 [01:26<00:47,  2.34it/s]"
     ]
    },
    {
     "name": "stdout",
     "output_type": "stream",
     "text": [
      "Batch [200/313], Loss: 0.0966, Class Loss: 0.0966, G Loss: 0.0000\n"
     ]
    },
    {
     "name": "stderr",
     "output_type": "stream",
     "text": [
      " 96%|█████████▌| 301/313 [02:09<00:05,  2.34it/s]"
     ]
    },
    {
     "name": "stdout",
     "output_type": "stream",
     "text": [
      "Batch [300/313], Loss: 0.0542, Class Loss: 0.0542, G Loss: 0.0000\n"
     ]
    },
    {
     "name": "stderr",
     "output_type": "stream",
     "text": [
      "100%|██████████| 313/313 [02:14<00:00,  2.33it/s]\n"
     ]
    },
    {
     "name": "stdout",
     "output_type": "stream",
     "text": [
      "Average loss: 0.1156\n",
      "\n",
      "Evaluating 2-way tasks...\n",
      "Episode 100/2000, Running Avg Accuracy: 0.9600\n",
      "Episode 200/2000, Running Avg Accuracy: 0.9550\n",
      "Episode 300/2000, Running Avg Accuracy: 0.9550\n",
      "Episode 400/2000, Running Avg Accuracy: 0.9487\n",
      "Episode 500/2000, Running Avg Accuracy: 0.9490\n",
      "Episode 600/2000, Running Avg Accuracy: 0.9533\n",
      "Episode 700/2000, Running Avg Accuracy: 0.9514\n",
      "Episode 800/2000, Running Avg Accuracy: 0.9506\n",
      "Episode 900/2000, Running Avg Accuracy: 0.9522\n",
      "Episode 1000/2000, Running Avg Accuracy: 0.9540\n",
      "Episode 1100/2000, Running Avg Accuracy: 0.9564\n",
      "Episode 1200/2000, Running Avg Accuracy: 0.9579\n",
      "Episode 1300/2000, Running Avg Accuracy: 0.9569\n",
      "Episode 1400/2000, Running Avg Accuracy: 0.9579\n",
      "Episode 1500/2000, Running Avg Accuracy: 0.9590\n",
      "Episode 1600/2000, Running Avg Accuracy: 0.9581\n",
      "Episode 1700/2000, Running Avg Accuracy: 0.9582\n",
      "Episode 1800/2000, Running Avg Accuracy: 0.9589\n",
      "Episode 1900/2000, Running Avg Accuracy: 0.9589\n",
      "Episode 2000/2000, Running Avg Accuracy: 0.9597\n",
      "\n",
      "Final Average Accuracy over 2000 episodes: 0.9597\n",
      "Average accuracy over 2000 episodes: 0.9597\n",
      "\n",
      "Epoch 10/50\n"
     ]
    },
    {
     "name": "stderr",
     "output_type": "stream",
     "text": [
      "  0%|          | 1/313 [00:01<05:40,  1.09s/it]"
     ]
    },
    {
     "name": "stdout",
     "output_type": "stream",
     "text": [
      "Batch [0/313], Loss: 0.0550, Class Loss: 0.0550, G Loss: 0.0000\n"
     ]
    },
    {
     "name": "stderr",
     "output_type": "stream",
     "text": [
      " 32%|███▏      | 101/313 [00:43<01:30,  2.34it/s]"
     ]
    },
    {
     "name": "stdout",
     "output_type": "stream",
     "text": [
      "Batch [100/313], Loss: 0.0454, Class Loss: 0.0454, G Loss: 0.0000\n"
     ]
    },
    {
     "name": "stderr",
     "output_type": "stream",
     "text": [
      " 64%|██████▍   | 201/313 [01:26<00:47,  2.34it/s]"
     ]
    },
    {
     "name": "stdout",
     "output_type": "stream",
     "text": [
      "Batch [200/313], Loss: 0.4739, Class Loss: 0.4739, G Loss: 0.0000\n"
     ]
    },
    {
     "name": "stderr",
     "output_type": "stream",
     "text": [
      " 96%|█████████▌| 301/313 [02:09<00:05,  2.34it/s]"
     ]
    },
    {
     "name": "stdout",
     "output_type": "stream",
     "text": [
      "Batch [300/313], Loss: 0.0467, Class Loss: 0.0467, G Loss: 0.0000\n"
     ]
    },
    {
     "name": "stderr",
     "output_type": "stream",
     "text": [
      "100%|██████████| 313/313 [02:14<00:00,  2.33it/s]\n"
     ]
    },
    {
     "name": "stdout",
     "output_type": "stream",
     "text": [
      "Average loss: 0.0942\n",
      "\n",
      "Evaluating 2-way tasks...\n",
      "Episode 100/2000, Running Avg Accuracy: 0.9500\n",
      "Episode 200/2000, Running Avg Accuracy: 0.9450\n",
      "Episode 300/2000, Running Avg Accuracy: 0.9517\n",
      "Episode 400/2000, Running Avg Accuracy: 0.9563\n",
      "Episode 500/2000, Running Avg Accuracy: 0.9600\n",
      "Episode 600/2000, Running Avg Accuracy: 0.9608\n",
      "Episode 700/2000, Running Avg Accuracy: 0.9579\n",
      "Episode 800/2000, Running Avg Accuracy: 0.9581\n",
      "Episode 900/2000, Running Avg Accuracy: 0.9600\n",
      "Episode 1000/2000, Running Avg Accuracy: 0.9580\n",
      "Episode 1100/2000, Running Avg Accuracy: 0.9568\n",
      "Episode 1200/2000, Running Avg Accuracy: 0.9554\n",
      "Episode 1300/2000, Running Avg Accuracy: 0.9550\n",
      "Episode 1400/2000, Running Avg Accuracy: 0.9546\n",
      "Episode 1500/2000, Running Avg Accuracy: 0.9537\n",
      "Episode 1600/2000, Running Avg Accuracy: 0.9531\n",
      "Episode 1700/2000, Running Avg Accuracy: 0.9535\n",
      "Episode 1800/2000, Running Avg Accuracy: 0.9542\n",
      "Episode 1900/2000, Running Avg Accuracy: 0.9539\n",
      "Episode 2000/2000, Running Avg Accuracy: 0.9537\n",
      "\n",
      "Final Average Accuracy over 2000 episodes: 0.9537\n",
      "Average accuracy over 2000 episodes: 0.9537\n",
      "\n",
      "Epoch 11/50\n"
     ]
    },
    {
     "name": "stderr",
     "output_type": "stream",
     "text": [
      "  0%|          | 1/313 [00:01<05:42,  1.10s/it]"
     ]
    },
    {
     "name": "stdout",
     "output_type": "stream",
     "text": [
      "Batch [0/313], Loss: 0.1495, Class Loss: 0.1495, G Loss: 0.0000\n"
     ]
    },
    {
     "name": "stderr",
     "output_type": "stream",
     "text": [
      " 32%|███▏      | 101/313 [00:43<01:30,  2.34it/s]"
     ]
    },
    {
     "name": "stdout",
     "output_type": "stream",
     "text": [
      "Batch [100/313], Loss: 0.0835, Class Loss: 0.0835, G Loss: 0.0000\n"
     ]
    },
    {
     "name": "stderr",
     "output_type": "stream",
     "text": [
      " 64%|██████▍   | 201/313 [01:26<00:47,  2.34it/s]"
     ]
    },
    {
     "name": "stdout",
     "output_type": "stream",
     "text": [
      "Batch [200/313], Loss: 0.0671, Class Loss: 0.0671, G Loss: 0.0000\n"
     ]
    },
    {
     "name": "stderr",
     "output_type": "stream",
     "text": [
      " 96%|█████████▌| 301/313 [02:09<00:05,  2.34it/s]"
     ]
    },
    {
     "name": "stdout",
     "output_type": "stream",
     "text": [
      "Batch [300/313], Loss: 0.0135, Class Loss: 0.0135, G Loss: 0.0000\n"
     ]
    },
    {
     "name": "stderr",
     "output_type": "stream",
     "text": [
      "100%|██████████| 313/313 [02:14<00:00,  2.33it/s]\n"
     ]
    },
    {
     "name": "stdout",
     "output_type": "stream",
     "text": [
      "Average loss: 0.0925\n",
      "\n",
      "Evaluating 2-way tasks...\n",
      "Episode 100/2000, Running Avg Accuracy: 0.9700\n",
      "Episode 200/2000, Running Avg Accuracy: 0.9825\n",
      "Episode 300/2000, Running Avg Accuracy: 0.9733\n",
      "Episode 400/2000, Running Avg Accuracy: 0.9712\n",
      "Episode 500/2000, Running Avg Accuracy: 0.9710\n",
      "Episode 600/2000, Running Avg Accuracy: 0.9717\n",
      "Episode 700/2000, Running Avg Accuracy: 0.9721\n",
      "Episode 800/2000, Running Avg Accuracy: 0.9725\n",
      "Episode 900/2000, Running Avg Accuracy: 0.9739\n",
      "Episode 1000/2000, Running Avg Accuracy: 0.9735\n",
      "Episode 1100/2000, Running Avg Accuracy: 0.9736\n",
      "Episode 1200/2000, Running Avg Accuracy: 0.9725\n",
      "Episode 1300/2000, Running Avg Accuracy: 0.9719\n",
      "Episode 1400/2000, Running Avg Accuracy: 0.9721\n",
      "Episode 1500/2000, Running Avg Accuracy: 0.9730\n",
      "Episode 1600/2000, Running Avg Accuracy: 0.9728\n",
      "Episode 1700/2000, Running Avg Accuracy: 0.9738\n",
      "Episode 1800/2000, Running Avg Accuracy: 0.9736\n",
      "Episode 1900/2000, Running Avg Accuracy: 0.9737\n",
      "Episode 2000/2000, Running Avg Accuracy: 0.9740\n",
      "\n",
      "Final Average Accuracy over 2000 episodes: 0.9740\n",
      "Average accuracy over 2000 episodes: 0.9740\n",
      "\n",
      "Epoch 12/50\n"
     ]
    },
    {
     "name": "stderr",
     "output_type": "stream",
     "text": [
      "  0%|          | 1/313 [00:01<06:10,  1.19s/it]"
     ]
    },
    {
     "name": "stdout",
     "output_type": "stream",
     "text": [
      "Batch [0/313], Loss: 0.1354, Class Loss: 0.1354, G Loss: 0.0000\n"
     ]
    },
    {
     "name": "stderr",
     "output_type": "stream",
     "text": [
      " 32%|███▏      | 101/313 [00:43<01:30,  2.34it/s]"
     ]
    },
    {
     "name": "stdout",
     "output_type": "stream",
     "text": [
      "Batch [100/313], Loss: 0.0195, Class Loss: 0.0195, G Loss: 0.0000\n"
     ]
    },
    {
     "name": "stderr",
     "output_type": "stream",
     "text": [
      " 64%|██████▍   | 201/313 [01:26<00:47,  2.33it/s]"
     ]
    },
    {
     "name": "stdout",
     "output_type": "stream",
     "text": [
      "Batch [200/313], Loss: 0.0440, Class Loss: 0.0440, G Loss: 0.0000\n"
     ]
    },
    {
     "name": "stderr",
     "output_type": "stream",
     "text": [
      " 96%|█████████▌| 301/313 [02:09<00:05,  2.33it/s]"
     ]
    },
    {
     "name": "stdout",
     "output_type": "stream",
     "text": [
      "Batch [300/313], Loss: 0.0468, Class Loss: 0.0468, G Loss: 0.0000\n"
     ]
    },
    {
     "name": "stderr",
     "output_type": "stream",
     "text": [
      "100%|██████████| 313/313 [02:14<00:00,  2.33it/s]\n"
     ]
    },
    {
     "name": "stdout",
     "output_type": "stream",
     "text": [
      "Average loss: 0.0771\n",
      "\n",
      "Evaluating 2-way tasks...\n",
      "Episode 100/2000, Running Avg Accuracy: 0.9600\n",
      "Episode 200/2000, Running Avg Accuracy: 0.9500\n",
      "Episode 300/2000, Running Avg Accuracy: 0.9517\n",
      "Episode 400/2000, Running Avg Accuracy: 0.9563\n",
      "Episode 500/2000, Running Avg Accuracy: 0.9590\n",
      "Episode 600/2000, Running Avg Accuracy: 0.9583\n",
      "Episode 700/2000, Running Avg Accuracy: 0.9564\n",
      "Episode 800/2000, Running Avg Accuracy: 0.9575\n",
      "Episode 900/2000, Running Avg Accuracy: 0.9606\n",
      "Episode 1000/2000, Running Avg Accuracy: 0.9615\n",
      "Episode 1100/2000, Running Avg Accuracy: 0.9623\n",
      "Episode 1200/2000, Running Avg Accuracy: 0.9625\n",
      "Episode 1300/2000, Running Avg Accuracy: 0.9623\n",
      "Episode 1400/2000, Running Avg Accuracy: 0.9636\n",
      "Episode 1500/2000, Running Avg Accuracy: 0.9630\n",
      "Episode 1600/2000, Running Avg Accuracy: 0.9628\n",
      "Episode 1700/2000, Running Avg Accuracy: 0.9632\n",
      "Episode 1800/2000, Running Avg Accuracy: 0.9631\n",
      "Episode 1900/2000, Running Avg Accuracy: 0.9624\n",
      "Episode 2000/2000, Running Avg Accuracy: 0.9627\n",
      "\n",
      "Final Average Accuracy over 2000 episodes: 0.9627\n",
      "Average accuracy over 2000 episodes: 0.9627\n",
      "\n",
      "Epoch 13/50\n"
     ]
    },
    {
     "name": "stderr",
     "output_type": "stream",
     "text": [
      "  0%|          | 1/313 [00:01<06:48,  1.31s/it]"
     ]
    },
    {
     "name": "stdout",
     "output_type": "stream",
     "text": [
      "Batch [0/313], Loss: 0.0311, Class Loss: 0.0311, G Loss: 0.0000\n"
     ]
    },
    {
     "name": "stderr",
     "output_type": "stream",
     "text": [
      " 32%|███▏      | 101/313 [00:44<01:30,  2.34it/s]"
     ]
    },
    {
     "name": "stdout",
     "output_type": "stream",
     "text": [
      "Batch [100/313], Loss: 0.0605, Class Loss: 0.0605, G Loss: 0.0000\n"
     ]
    },
    {
     "name": "stderr",
     "output_type": "stream",
     "text": [
      " 64%|██████▍   | 201/313 [01:26<00:47,  2.34it/s]"
     ]
    },
    {
     "name": "stdout",
     "output_type": "stream",
     "text": [
      "Batch [200/313], Loss: 0.3445, Class Loss: 0.3445, G Loss: 0.0000\n"
     ]
    },
    {
     "name": "stderr",
     "output_type": "stream",
     "text": [
      " 96%|█████████▌| 301/313 [02:09<00:05,  2.34it/s]"
     ]
    },
    {
     "name": "stdout",
     "output_type": "stream",
     "text": [
      "Batch [300/313], Loss: 0.1296, Class Loss: 0.1296, G Loss: 0.0000\n"
     ]
    },
    {
     "name": "stderr",
     "output_type": "stream",
     "text": [
      "100%|██████████| 313/313 [02:14<00:00,  2.32it/s]\n"
     ]
    },
    {
     "name": "stdout",
     "output_type": "stream",
     "text": [
      "Average loss: 0.0693\n",
      "\n",
      "Evaluating 2-way tasks...\n",
      "Episode 100/2000, Running Avg Accuracy: 0.9750\n",
      "Episode 200/2000, Running Avg Accuracy: 0.9825\n",
      "Episode 300/2000, Running Avg Accuracy: 0.9700\n",
      "Episode 400/2000, Running Avg Accuracy: 0.9700\n",
      "Episode 500/2000, Running Avg Accuracy: 0.9700\n",
      "Episode 600/2000, Running Avg Accuracy: 0.9700\n",
      "Episode 700/2000, Running Avg Accuracy: 0.9714\n",
      "Episode 800/2000, Running Avg Accuracy: 0.9712\n",
      "Episode 900/2000, Running Avg Accuracy: 0.9706\n",
      "Episode 1000/2000, Running Avg Accuracy: 0.9720\n",
      "Episode 1100/2000, Running Avg Accuracy: 0.9723\n",
      "Episode 1200/2000, Running Avg Accuracy: 0.9725\n",
      "Episode 1300/2000, Running Avg Accuracy: 0.9731\n",
      "Episode 1400/2000, Running Avg Accuracy: 0.9729\n",
      "Episode 1500/2000, Running Avg Accuracy: 0.9720\n",
      "Episode 1600/2000, Running Avg Accuracy: 0.9716\n",
      "Episode 1700/2000, Running Avg Accuracy: 0.9709\n",
      "Episode 1800/2000, Running Avg Accuracy: 0.9717\n",
      "Episode 1900/2000, Running Avg Accuracy: 0.9729\n",
      "Episode 2000/2000, Running Avg Accuracy: 0.9732\n",
      "\n",
      "Final Average Accuracy over 2000 episodes: 0.9732\n",
      "Average accuracy over 2000 episodes: 0.9732\n",
      "\n",
      "Epoch 14/50\n"
     ]
    },
    {
     "name": "stderr",
     "output_type": "stream",
     "text": [
      "  0%|          | 1/313 [00:01<05:43,  1.10s/it]"
     ]
    },
    {
     "name": "stdout",
     "output_type": "stream",
     "text": [
      "Batch [0/313], Loss: 0.0051, Class Loss: 0.0051, G Loss: 0.0000\n"
     ]
    },
    {
     "name": "stderr",
     "output_type": "stream",
     "text": [
      " 32%|███▏      | 101/313 [00:43<01:30,  2.34it/s]"
     ]
    },
    {
     "name": "stdout",
     "output_type": "stream",
     "text": [
      "Batch [100/313], Loss: 0.1168, Class Loss: 0.1168, G Loss: 0.0000\n"
     ]
    },
    {
     "name": "stderr",
     "output_type": "stream",
     "text": [
      " 64%|██████▍   | 201/313 [01:26<00:47,  2.34it/s]"
     ]
    },
    {
     "name": "stdout",
     "output_type": "stream",
     "text": [
      "Batch [200/313], Loss: 0.0494, Class Loss: 0.0494, G Loss: 0.0000\n"
     ]
    },
    {
     "name": "stderr",
     "output_type": "stream",
     "text": [
      " 96%|█████████▌| 301/313 [02:09<00:05,  2.34it/s]"
     ]
    },
    {
     "name": "stdout",
     "output_type": "stream",
     "text": [
      "Batch [300/313], Loss: 0.0157, Class Loss: 0.0157, G Loss: 0.0000\n"
     ]
    },
    {
     "name": "stderr",
     "output_type": "stream",
     "text": [
      "100%|██████████| 313/313 [02:14<00:00,  2.33it/s]\n"
     ]
    },
    {
     "name": "stdout",
     "output_type": "stream",
     "text": [
      "Average loss: 0.0528\n",
      "\n",
      "Evaluating 2-way tasks...\n",
      "Episode 100/2000, Running Avg Accuracy: 0.9800\n",
      "Episode 200/2000, Running Avg Accuracy: 0.9600\n",
      "Episode 300/2000, Running Avg Accuracy: 0.9667\n",
      "Episode 400/2000, Running Avg Accuracy: 0.9675\n",
      "Episode 500/2000, Running Avg Accuracy: 0.9670\n",
      "Episode 600/2000, Running Avg Accuracy: 0.9683\n",
      "Episode 700/2000, Running Avg Accuracy: 0.9614\n",
      "Episode 800/2000, Running Avg Accuracy: 0.9625\n",
      "Episode 900/2000, Running Avg Accuracy: 0.9606\n",
      "Episode 1000/2000, Running Avg Accuracy: 0.9635\n",
      "Episode 1100/2000, Running Avg Accuracy: 0.9641\n",
      "Episode 1200/2000, Running Avg Accuracy: 0.9650\n",
      "Episode 1300/2000, Running Avg Accuracy: 0.9654\n",
      "Episode 1400/2000, Running Avg Accuracy: 0.9654\n",
      "Episode 1500/2000, Running Avg Accuracy: 0.9637\n",
      "Episode 1600/2000, Running Avg Accuracy: 0.9637\n",
      "Episode 1700/2000, Running Avg Accuracy: 0.9644\n",
      "Episode 1800/2000, Running Avg Accuracy: 0.9642\n",
      "Episode 1900/2000, Running Avg Accuracy: 0.9621\n",
      "Episode 2000/2000, Running Avg Accuracy: 0.9623\n",
      "\n",
      "Final Average Accuracy over 2000 episodes: 0.9623\n",
      "Average accuracy over 2000 episodes: 0.9623\n",
      "\n",
      "Epoch 15/50\n"
     ]
    },
    {
     "name": "stderr",
     "output_type": "stream",
     "text": [
      "  0%|          | 1/313 [00:01<05:43,  1.10s/it]"
     ]
    },
    {
     "name": "stdout",
     "output_type": "stream",
     "text": [
      "Batch [0/313], Loss: 0.0035, Class Loss: 0.0035, G Loss: 0.0000\n"
     ]
    },
    {
     "name": "stderr",
     "output_type": "stream",
     "text": [
      " 32%|███▏      | 101/313 [00:43<01:30,  2.34it/s]"
     ]
    },
    {
     "name": "stdout",
     "output_type": "stream",
     "text": [
      "Batch [100/313], Loss: 0.0845, Class Loss: 0.0845, G Loss: 0.0000\n"
     ]
    },
    {
     "name": "stderr",
     "output_type": "stream",
     "text": [
      " 64%|██████▍   | 201/313 [01:26<00:47,  2.34it/s]"
     ]
    },
    {
     "name": "stdout",
     "output_type": "stream",
     "text": [
      "Batch [200/313], Loss: 0.0083, Class Loss: 0.0083, G Loss: 0.0000\n"
     ]
    },
    {
     "name": "stderr",
     "output_type": "stream",
     "text": [
      " 96%|█████████▌| 301/313 [02:09<00:05,  2.34it/s]"
     ]
    },
    {
     "name": "stdout",
     "output_type": "stream",
     "text": [
      "Batch [300/313], Loss: 0.0026, Class Loss: 0.0026, G Loss: 0.0000\n"
     ]
    },
    {
     "name": "stderr",
     "output_type": "stream",
     "text": [
      "100%|██████████| 313/313 [02:14<00:00,  2.33it/s]\n"
     ]
    },
    {
     "name": "stdout",
     "output_type": "stream",
     "text": [
      "Average loss: 0.0638\n",
      "\n",
      "Evaluating 2-way tasks...\n",
      "Episode 100/2000, Running Avg Accuracy: 0.9550\n",
      "Episode 200/2000, Running Avg Accuracy: 0.9625\n",
      "Episode 300/2000, Running Avg Accuracy: 0.9600\n",
      "Episode 400/2000, Running Avg Accuracy: 0.9613\n",
      "Episode 500/2000, Running Avg Accuracy: 0.9600\n",
      "Episode 600/2000, Running Avg Accuracy: 0.9617\n",
      "Episode 700/2000, Running Avg Accuracy: 0.9636\n",
      "Episode 800/2000, Running Avg Accuracy: 0.9625\n",
      "Episode 900/2000, Running Avg Accuracy: 0.9650\n",
      "Episode 1000/2000, Running Avg Accuracy: 0.9670\n",
      "Episode 1100/2000, Running Avg Accuracy: 0.9664\n",
      "Episode 1200/2000, Running Avg Accuracy: 0.9667\n",
      "Episode 1300/2000, Running Avg Accuracy: 0.9654\n",
      "Episode 1400/2000, Running Avg Accuracy: 0.9654\n",
      "Episode 1500/2000, Running Avg Accuracy: 0.9663\n",
      "Episode 1600/2000, Running Avg Accuracy: 0.9666\n",
      "Episode 1700/2000, Running Avg Accuracy: 0.9668\n",
      "Episode 1800/2000, Running Avg Accuracy: 0.9667\n",
      "Episode 1900/2000, Running Avg Accuracy: 0.9671\n",
      "Episode 2000/2000, Running Avg Accuracy: 0.9667\n",
      "\n",
      "Final Average Accuracy over 2000 episodes: 0.9667\n",
      "Average accuracy over 2000 episodes: 0.9667\n",
      "\n",
      "Epoch 16/50\n"
     ]
    },
    {
     "name": "stderr",
     "output_type": "stream",
     "text": [
      "  0%|          | 1/313 [00:01<05:19,  1.02s/it]"
     ]
    },
    {
     "name": "stdout",
     "output_type": "stream",
     "text": [
      "Batch [0/313], Loss: 0.0085, Class Loss: 0.0085, G Loss: 0.0000\n"
     ]
    },
    {
     "name": "stderr",
     "output_type": "stream",
     "text": [
      " 32%|███▏      | 101/313 [00:43<01:30,  2.34it/s]"
     ]
    },
    {
     "name": "stdout",
     "output_type": "stream",
     "text": [
      "Batch [100/313], Loss: 0.0101, Class Loss: 0.0101, G Loss: 0.0000\n"
     ]
    },
    {
     "name": "stderr",
     "output_type": "stream",
     "text": [
      " 64%|██████▍   | 201/313 [01:26<00:47,  2.34it/s]"
     ]
    },
    {
     "name": "stdout",
     "output_type": "stream",
     "text": [
      "Batch [200/313], Loss: 0.0700, Class Loss: 0.0700, G Loss: 0.0000\n"
     ]
    },
    {
     "name": "stderr",
     "output_type": "stream",
     "text": [
      " 96%|█████████▌| 301/313 [02:09<00:05,  2.34it/s]"
     ]
    },
    {
     "name": "stdout",
     "output_type": "stream",
     "text": [
      "Batch [300/313], Loss: 0.0283, Class Loss: 0.0283, G Loss: 0.0000\n"
     ]
    },
    {
     "name": "stderr",
     "output_type": "stream",
     "text": [
      "100%|██████████| 313/313 [02:14<00:00,  2.33it/s]\n"
     ]
    },
    {
     "name": "stdout",
     "output_type": "stream",
     "text": [
      "Average loss: 0.0617\n",
      "\n",
      "Evaluating 2-way tasks...\n",
      "Episode 100/2000, Running Avg Accuracy: 0.9800\n",
      "Episode 200/2000, Running Avg Accuracy: 0.9700\n",
      "Episode 300/2000, Running Avg Accuracy: 0.9717\n",
      "Episode 400/2000, Running Avg Accuracy: 0.9712\n",
      "Episode 500/2000, Running Avg Accuracy: 0.9690\n",
      "Episode 600/2000, Running Avg Accuracy: 0.9683\n",
      "Episode 700/2000, Running Avg Accuracy: 0.9686\n",
      "Episode 800/2000, Running Avg Accuracy: 0.9681\n",
      "Episode 900/2000, Running Avg Accuracy: 0.9667\n",
      "Episode 1000/2000, Running Avg Accuracy: 0.9630\n",
      "Episode 1100/2000, Running Avg Accuracy: 0.9605\n",
      "Episode 1200/2000, Running Avg Accuracy: 0.9604\n",
      "Episode 1300/2000, Running Avg Accuracy: 0.9615\n",
      "Episode 1400/2000, Running Avg Accuracy: 0.9614\n",
      "Episode 1500/2000, Running Avg Accuracy: 0.9623\n",
      "Episode 1600/2000, Running Avg Accuracy: 0.9622\n",
      "Episode 1700/2000, Running Avg Accuracy: 0.9635\n",
      "Episode 1800/2000, Running Avg Accuracy: 0.9650\n",
      "Episode 1900/2000, Running Avg Accuracy: 0.9645\n",
      "Episode 2000/2000, Running Avg Accuracy: 0.9640\n",
      "\n",
      "Final Average Accuracy over 2000 episodes: 0.9640\n",
      "Average accuracy over 2000 episodes: 0.9640\n",
      "\n",
      "Epoch 17/50\n"
     ]
    },
    {
     "name": "stderr",
     "output_type": "stream",
     "text": [
      "  0%|          | 1/313 [00:01<06:08,  1.18s/it]"
     ]
    },
    {
     "name": "stdout",
     "output_type": "stream",
     "text": [
      "Batch [0/313], Loss: 0.0187, Class Loss: 0.0187, G Loss: 0.0000\n"
     ]
    },
    {
     "name": "stderr",
     "output_type": "stream",
     "text": [
      " 32%|███▏      | 101/313 [00:43<01:30,  2.34it/s]"
     ]
    },
    {
     "name": "stdout",
     "output_type": "stream",
     "text": [
      "Batch [100/313], Loss: 0.0232, Class Loss: 0.0232, G Loss: 0.0000\n"
     ]
    },
    {
     "name": "stderr",
     "output_type": "stream",
     "text": [
      " 64%|██████▍   | 201/313 [01:26<00:47,  2.34it/s]"
     ]
    },
    {
     "name": "stdout",
     "output_type": "stream",
     "text": [
      "Batch [200/313], Loss: 0.2871, Class Loss: 0.2871, G Loss: 0.0000\n"
     ]
    },
    {
     "name": "stderr",
     "output_type": "stream",
     "text": [
      " 96%|█████████▌| 301/313 [02:09<00:05,  2.34it/s]"
     ]
    },
    {
     "name": "stdout",
     "output_type": "stream",
     "text": [
      "Batch [300/313], Loss: 0.0753, Class Loss: 0.0753, G Loss: 0.0000\n"
     ]
    },
    {
     "name": "stderr",
     "output_type": "stream",
     "text": [
      "100%|██████████| 313/313 [02:14<00:00,  2.33it/s]\n"
     ]
    },
    {
     "name": "stdout",
     "output_type": "stream",
     "text": [
      "Average loss: 0.0615\n",
      "\n",
      "Evaluating 2-way tasks...\n",
      "Episode 100/2000, Running Avg Accuracy: 0.9800\n",
      "Episode 200/2000, Running Avg Accuracy: 0.9750\n",
      "Episode 300/2000, Running Avg Accuracy: 0.9733\n",
      "Episode 400/2000, Running Avg Accuracy: 0.9663\n",
      "Episode 500/2000, Running Avg Accuracy: 0.9690\n",
      "Episode 600/2000, Running Avg Accuracy: 0.9625\n",
      "Episode 700/2000, Running Avg Accuracy: 0.9593\n",
      "Episode 800/2000, Running Avg Accuracy: 0.9606\n",
      "Episode 900/2000, Running Avg Accuracy: 0.9639\n",
      "Episode 1000/2000, Running Avg Accuracy: 0.9645\n",
      "Episode 1100/2000, Running Avg Accuracy: 0.9659\n",
      "Episode 1200/2000, Running Avg Accuracy: 0.9671\n",
      "Episode 1300/2000, Running Avg Accuracy: 0.9673\n",
      "Episode 1400/2000, Running Avg Accuracy: 0.9657\n",
      "Episode 1500/2000, Running Avg Accuracy: 0.9653\n",
      "Episode 1600/2000, Running Avg Accuracy: 0.9650\n",
      "Episode 1700/2000, Running Avg Accuracy: 0.9644\n",
      "Episode 1800/2000, Running Avg Accuracy: 0.9653\n",
      "Episode 1900/2000, Running Avg Accuracy: 0.9658\n",
      "Episode 2000/2000, Running Avg Accuracy: 0.9657\n",
      "\n",
      "Final Average Accuracy over 2000 episodes: 0.9657\n",
      "Average accuracy over 2000 episodes: 0.9657\n",
      "\n",
      "Epoch 18/50\n"
     ]
    },
    {
     "name": "stderr",
     "output_type": "stream",
     "text": [
      "  0%|          | 1/313 [00:01<05:42,  1.10s/it]"
     ]
    },
    {
     "name": "stdout",
     "output_type": "stream",
     "text": [
      "Batch [0/313], Loss: 0.0010, Class Loss: 0.0010, G Loss: 0.0000\n"
     ]
    },
    {
     "name": "stderr",
     "output_type": "stream",
     "text": [
      " 32%|███▏      | 101/313 [00:43<01:30,  2.35it/s]"
     ]
    },
    {
     "name": "stdout",
     "output_type": "stream",
     "text": [
      "Batch [100/313], Loss: 0.0365, Class Loss: 0.0365, G Loss: 0.0000\n"
     ]
    },
    {
     "name": "stderr",
     "output_type": "stream",
     "text": [
      " 64%|██████▍   | 201/313 [01:26<00:47,  2.34it/s]"
     ]
    },
    {
     "name": "stdout",
     "output_type": "stream",
     "text": [
      "Batch [200/313], Loss: 0.0181, Class Loss: 0.0181, G Loss: 0.0000\n"
     ]
    },
    {
     "name": "stderr",
     "output_type": "stream",
     "text": [
      " 96%|█████████▌| 301/313 [02:09<00:05,  2.34it/s]"
     ]
    },
    {
     "name": "stdout",
     "output_type": "stream",
     "text": [
      "Batch [300/313], Loss: 0.0244, Class Loss: 0.0244, G Loss: 0.0000\n"
     ]
    },
    {
     "name": "stderr",
     "output_type": "stream",
     "text": [
      "100%|██████████| 313/313 [02:14<00:00,  2.33it/s]\n"
     ]
    },
    {
     "name": "stdout",
     "output_type": "stream",
     "text": [
      "Average loss: 0.0461\n",
      "\n",
      "Evaluating 2-way tasks...\n",
      "Episode 100/2000, Running Avg Accuracy: 0.9750\n",
      "Episode 200/2000, Running Avg Accuracy: 0.9750\n",
      "Episode 300/2000, Running Avg Accuracy: 0.9700\n",
      "Episode 400/2000, Running Avg Accuracy: 0.9725\n",
      "Episode 500/2000, Running Avg Accuracy: 0.9720\n",
      "Episode 600/2000, Running Avg Accuracy: 0.9692\n",
      "Episode 700/2000, Running Avg Accuracy: 0.9686\n",
      "Episode 800/2000, Running Avg Accuracy: 0.9656\n",
      "Episode 900/2000, Running Avg Accuracy: 0.9661\n",
      "Episode 1000/2000, Running Avg Accuracy: 0.9655\n",
      "Episode 1100/2000, Running Avg Accuracy: 0.9627\n",
      "Episode 1200/2000, Running Avg Accuracy: 0.9617\n",
      "Episode 1300/2000, Running Avg Accuracy: 0.9619\n",
      "Episode 1400/2000, Running Avg Accuracy: 0.9618\n",
      "Episode 1500/2000, Running Avg Accuracy: 0.9613\n",
      "Episode 1600/2000, Running Avg Accuracy: 0.9597\n",
      "Episode 1700/2000, Running Avg Accuracy: 0.9603\n",
      "Episode 1800/2000, Running Avg Accuracy: 0.9611\n",
      "Episode 1900/2000, Running Avg Accuracy: 0.9616\n",
      "Episode 2000/2000, Running Avg Accuracy: 0.9613\n",
      "\n",
      "Final Average Accuracy over 2000 episodes: 0.9613\n",
      "Average accuracy over 2000 episodes: 0.9613\n",
      "\n",
      "Epoch 19/50\n"
     ]
    },
    {
     "name": "stderr",
     "output_type": "stream",
     "text": [
      "  0%|          | 1/313 [00:01<05:36,  1.08s/it]"
     ]
    },
    {
     "name": "stdout",
     "output_type": "stream",
     "text": [
      "Batch [0/313], Loss: 0.0061, Class Loss: 0.0061, G Loss: 0.0000\n"
     ]
    },
    {
     "name": "stderr",
     "output_type": "stream",
     "text": [
      " 32%|███▏      | 101/313 [00:43<01:30,  2.34it/s]"
     ]
    },
    {
     "name": "stdout",
     "output_type": "stream",
     "text": [
      "Batch [100/313], Loss: 0.0182, Class Loss: 0.0182, G Loss: 0.0000\n"
     ]
    },
    {
     "name": "stderr",
     "output_type": "stream",
     "text": [
      " 64%|██████▍   | 201/313 [01:26<00:47,  2.34it/s]"
     ]
    },
    {
     "name": "stdout",
     "output_type": "stream",
     "text": [
      "Batch [200/313], Loss: 0.0077, Class Loss: 0.0077, G Loss: 0.0000\n"
     ]
    },
    {
     "name": "stderr",
     "output_type": "stream",
     "text": [
      " 96%|█████████▌| 301/313 [02:09<00:05,  2.34it/s]"
     ]
    },
    {
     "name": "stdout",
     "output_type": "stream",
     "text": [
      "Batch [300/313], Loss: 0.0102, Class Loss: 0.0102, G Loss: 0.0000\n"
     ]
    },
    {
     "name": "stderr",
     "output_type": "stream",
     "text": [
      "100%|██████████| 313/313 [02:14<00:00,  2.33it/s]\n"
     ]
    },
    {
     "name": "stdout",
     "output_type": "stream",
     "text": [
      "Average loss: 0.0469\n",
      "\n",
      "Evaluating 2-way tasks...\n",
      "Episode 100/2000, Running Avg Accuracy: 0.9300\n",
      "Episode 200/2000, Running Avg Accuracy: 0.9550\n",
      "Episode 300/2000, Running Avg Accuracy: 0.9550\n",
      "Episode 400/2000, Running Avg Accuracy: 0.9587\n",
      "Episode 500/2000, Running Avg Accuracy: 0.9620\n",
      "Episode 600/2000, Running Avg Accuracy: 0.9650\n",
      "Episode 700/2000, Running Avg Accuracy: 0.9636\n",
      "Episode 800/2000, Running Avg Accuracy: 0.9644\n",
      "Episode 900/2000, Running Avg Accuracy: 0.9644\n",
      "Episode 1000/2000, Running Avg Accuracy: 0.9645\n",
      "Episode 1100/2000, Running Avg Accuracy: 0.9650\n",
      "Episode 1200/2000, Running Avg Accuracy: 0.9650\n",
      "Episode 1300/2000, Running Avg Accuracy: 0.9662\n",
      "Episode 1400/2000, Running Avg Accuracy: 0.9664\n",
      "Episode 1500/2000, Running Avg Accuracy: 0.9663\n",
      "Episode 1600/2000, Running Avg Accuracy: 0.9663\n",
      "Episode 1700/2000, Running Avg Accuracy: 0.9671\n",
      "Episode 1800/2000, Running Avg Accuracy: 0.9675\n",
      "Episode 1900/2000, Running Avg Accuracy: 0.9687\n",
      "Episode 2000/2000, Running Avg Accuracy: 0.9698\n",
      "\n",
      "Final Average Accuracy over 2000 episodes: 0.9698\n",
      "Average accuracy over 2000 episodes: 0.9698\n",
      "\n",
      "Epoch 20/50\n"
     ]
    },
    {
     "name": "stderr",
     "output_type": "stream",
     "text": [
      "  0%|          | 1/313 [00:01<05:35,  1.08s/it]"
     ]
    },
    {
     "name": "stdout",
     "output_type": "stream",
     "text": [
      "Batch [0/313], Loss: 0.0206, Class Loss: 0.0206, G Loss: 0.0000\n"
     ]
    },
    {
     "name": "stderr",
     "output_type": "stream",
     "text": [
      " 32%|███▏      | 101/313 [00:43<01:30,  2.34it/s]"
     ]
    },
    {
     "name": "stdout",
     "output_type": "stream",
     "text": [
      "Batch [100/313], Loss: 0.0036, Class Loss: 0.0036, G Loss: 0.0000\n"
     ]
    },
    {
     "name": "stderr",
     "output_type": "stream",
     "text": [
      " 64%|██████▍   | 201/313 [01:26<00:47,  2.34it/s]"
     ]
    },
    {
     "name": "stdout",
     "output_type": "stream",
     "text": [
      "Batch [200/313], Loss: 0.0011, Class Loss: 0.0011, G Loss: 0.0000\n"
     ]
    },
    {
     "name": "stderr",
     "output_type": "stream",
     "text": [
      " 96%|█████████▌| 301/313 [02:09<00:05,  2.34it/s]"
     ]
    },
    {
     "name": "stdout",
     "output_type": "stream",
     "text": [
      "Batch [300/313], Loss: 0.0178, Class Loss: 0.0178, G Loss: 0.0000\n"
     ]
    },
    {
     "name": "stderr",
     "output_type": "stream",
     "text": [
      "100%|██████████| 313/313 [02:14<00:00,  2.33it/s]\n"
     ]
    },
    {
     "name": "stdout",
     "output_type": "stream",
     "text": [
      "Average loss: 0.0344\n",
      "\n",
      "Evaluating 2-way tasks...\n",
      "Episode 100/2000, Running Avg Accuracy: 0.9750\n",
      "Episode 200/2000, Running Avg Accuracy: 0.9575\n",
      "Episode 300/2000, Running Avg Accuracy: 0.9600\n",
      "Episode 400/2000, Running Avg Accuracy: 0.9537\n",
      "Episode 500/2000, Running Avg Accuracy: 0.9580\n",
      "Episode 600/2000, Running Avg Accuracy: 0.9592\n",
      "Episode 700/2000, Running Avg Accuracy: 0.9586\n",
      "Episode 800/2000, Running Avg Accuracy: 0.9587\n",
      "Episode 900/2000, Running Avg Accuracy: 0.9600\n",
      "Episode 1000/2000, Running Avg Accuracy: 0.9610\n",
      "Episode 1100/2000, Running Avg Accuracy: 0.9627\n",
      "Episode 1200/2000, Running Avg Accuracy: 0.9629\n",
      "Episode 1300/2000, Running Avg Accuracy: 0.9642\n",
      "Episode 1400/2000, Running Avg Accuracy: 0.9629\n",
      "Episode 1500/2000, Running Avg Accuracy: 0.9630\n",
      "Episode 1600/2000, Running Avg Accuracy: 0.9613\n",
      "Episode 1700/2000, Running Avg Accuracy: 0.9609\n",
      "Episode 1800/2000, Running Avg Accuracy: 0.9619\n",
      "Episode 1900/2000, Running Avg Accuracy: 0.9621\n",
      "Episode 2000/2000, Running Avg Accuracy: 0.9623\n",
      "\n",
      "Final Average Accuracy over 2000 episodes: 0.9623\n",
      "Average accuracy over 2000 episodes: 0.9623\n",
      "\n",
      "Epoch 21/50\n"
     ]
    },
    {
     "name": "stderr",
     "output_type": "stream",
     "text": [
      "  0%|          | 1/313 [00:01<05:20,  1.03s/it]"
     ]
    },
    {
     "name": "stdout",
     "output_type": "stream",
     "text": [
      "Batch [0/313], Loss: 0.1877, Class Loss: 0.1877, G Loss: 0.0000\n"
     ]
    },
    {
     "name": "stderr",
     "output_type": "stream",
     "text": [
      " 32%|███▏      | 101/313 [00:43<01:30,  2.34it/s]"
     ]
    },
    {
     "name": "stdout",
     "output_type": "stream",
     "text": [
      "Batch [100/313], Loss: 0.0066, Class Loss: 0.0066, G Loss: 0.0000\n"
     ]
    },
    {
     "name": "stderr",
     "output_type": "stream",
     "text": [
      " 64%|██████▍   | 201/313 [01:26<00:47,  2.35it/s]"
     ]
    },
    {
     "name": "stdout",
     "output_type": "stream",
     "text": [
      "Batch [200/313], Loss: 0.0047, Class Loss: 0.0047, G Loss: 0.0000\n"
     ]
    },
    {
     "name": "stderr",
     "output_type": "stream",
     "text": [
      " 96%|█████████▌| 301/313 [02:09<00:05,  2.34it/s]"
     ]
    },
    {
     "name": "stdout",
     "output_type": "stream",
     "text": [
      "Batch [300/313], Loss: 0.0018, Class Loss: 0.0018, G Loss: 0.0000\n"
     ]
    },
    {
     "name": "stderr",
     "output_type": "stream",
     "text": [
      "100%|██████████| 313/313 [02:14<00:00,  2.33it/s]\n"
     ]
    },
    {
     "name": "stdout",
     "output_type": "stream",
     "text": [
      "Average loss: 0.0357\n",
      "\n",
      "Evaluating 2-way tasks...\n",
      "Episode 100/2000, Running Avg Accuracy: 0.9750\n",
      "Episode 200/2000, Running Avg Accuracy: 0.9750\n",
      "Episode 300/2000, Running Avg Accuracy: 0.9683\n",
      "Episode 400/2000, Running Avg Accuracy: 0.9688\n",
      "Episode 500/2000, Running Avg Accuracy: 0.9720\n",
      "Episode 600/2000, Running Avg Accuracy: 0.9717\n",
      "Episode 700/2000, Running Avg Accuracy: 0.9707\n",
      "Episode 800/2000, Running Avg Accuracy: 0.9694\n",
      "Episode 900/2000, Running Avg Accuracy: 0.9683\n",
      "Episode 1000/2000, Running Avg Accuracy: 0.9685\n",
      "Episode 1100/2000, Running Avg Accuracy: 0.9705\n",
      "Episode 1200/2000, Running Avg Accuracy: 0.9708\n",
      "Episode 1300/2000, Running Avg Accuracy: 0.9704\n",
      "Episode 1400/2000, Running Avg Accuracy: 0.9711\n",
      "Episode 1500/2000, Running Avg Accuracy: 0.9720\n",
      "Episode 1600/2000, Running Avg Accuracy: 0.9728\n",
      "Episode 1700/2000, Running Avg Accuracy: 0.9729\n",
      "Episode 1800/2000, Running Avg Accuracy: 0.9722\n",
      "Episode 1900/2000, Running Avg Accuracy: 0.9711\n",
      "Episode 2000/2000, Running Avg Accuracy: 0.9715\n",
      "\n",
      "Final Average Accuracy over 2000 episodes: 0.9715\n",
      "Average accuracy over 2000 episodes: 0.9715\n",
      "\n",
      "Epoch 22/50\n"
     ]
    },
    {
     "name": "stderr",
     "output_type": "stream",
     "text": [
      "  0%|          | 1/313 [00:01<05:31,  1.06s/it]"
     ]
    },
    {
     "name": "stdout",
     "output_type": "stream",
     "text": [
      "Batch [0/313], Loss: 0.0628, Class Loss: 0.0628, G Loss: 0.0000\n"
     ]
    },
    {
     "name": "stderr",
     "output_type": "stream",
     "text": [
      " 32%|███▏      | 101/313 [00:43<01:30,  2.34it/s]"
     ]
    },
    {
     "name": "stdout",
     "output_type": "stream",
     "text": [
      "Batch [100/313], Loss: 0.0139, Class Loss: 0.0139, G Loss: 0.0000\n"
     ]
    },
    {
     "name": "stderr",
     "output_type": "stream",
     "text": [
      " 64%|██████▍   | 201/313 [01:26<00:47,  2.34it/s]"
     ]
    },
    {
     "name": "stdout",
     "output_type": "stream",
     "text": [
      "Batch [200/313], Loss: 0.0082, Class Loss: 0.0082, G Loss: 0.0000\n"
     ]
    },
    {
     "name": "stderr",
     "output_type": "stream",
     "text": [
      " 96%|█████████▌| 301/313 [02:09<00:05,  2.34it/s]"
     ]
    },
    {
     "name": "stdout",
     "output_type": "stream",
     "text": [
      "Batch [300/313], Loss: 0.0081, Class Loss: 0.0081, G Loss: 0.0000\n"
     ]
    },
    {
     "name": "stderr",
     "output_type": "stream",
     "text": [
      "100%|██████████| 313/313 [02:14<00:00,  2.33it/s]\n"
     ]
    },
    {
     "name": "stdout",
     "output_type": "stream",
     "text": [
      "Average loss: 0.0386\n",
      "\n",
      "Evaluating 2-way tasks...\n",
      "Episode 100/2000, Running Avg Accuracy: 0.9700\n",
      "Episode 200/2000, Running Avg Accuracy: 0.9700\n",
      "Episode 300/2000, Running Avg Accuracy: 0.9700\n",
      "Episode 400/2000, Running Avg Accuracy: 0.9637\n",
      "Episode 500/2000, Running Avg Accuracy: 0.9640\n",
      "Episode 600/2000, Running Avg Accuracy: 0.9650\n",
      "Episode 700/2000, Running Avg Accuracy: 0.9650\n",
      "Episode 800/2000, Running Avg Accuracy: 0.9675\n",
      "Episode 900/2000, Running Avg Accuracy: 0.9689\n",
      "Episode 1000/2000, Running Avg Accuracy: 0.9685\n",
      "Episode 1100/2000, Running Avg Accuracy: 0.9691\n",
      "Episode 1200/2000, Running Avg Accuracy: 0.9671\n",
      "Episode 1300/2000, Running Avg Accuracy: 0.9669\n",
      "Episode 1400/2000, Running Avg Accuracy: 0.9664\n",
      "Episode 1500/2000, Running Avg Accuracy: 0.9653\n",
      "Episode 1600/2000, Running Avg Accuracy: 0.9666\n",
      "Episode 1700/2000, Running Avg Accuracy: 0.9665\n",
      "Episode 1800/2000, Running Avg Accuracy: 0.9661\n",
      "Episode 1900/2000, Running Avg Accuracy: 0.9661\n",
      "Episode 2000/2000, Running Avg Accuracy: 0.9665\n",
      "\n",
      "Final Average Accuracy over 2000 episodes: 0.9665\n",
      "Average accuracy over 2000 episodes: 0.9665\n",
      "\n",
      "Epoch 23/50\n"
     ]
    },
    {
     "name": "stderr",
     "output_type": "stream",
     "text": [
      "  0%|          | 1/313 [00:01<05:40,  1.09s/it]"
     ]
    },
    {
     "name": "stdout",
     "output_type": "stream",
     "text": [
      "Batch [0/313], Loss: 0.1553, Class Loss: 0.1553, G Loss: 0.0000\n"
     ]
    },
    {
     "name": "stderr",
     "output_type": "stream",
     "text": [
      " 32%|███▏      | 101/313 [00:43<01:30,  2.34it/s]"
     ]
    },
    {
     "name": "stdout",
     "output_type": "stream",
     "text": [
      "Batch [100/313], Loss: 0.0045, Class Loss: 0.0045, G Loss: 0.0000\n"
     ]
    },
    {
     "name": "stderr",
     "output_type": "stream",
     "text": [
      " 64%|██████▍   | 201/313 [01:26<00:47,  2.34it/s]"
     ]
    },
    {
     "name": "stdout",
     "output_type": "stream",
     "text": [
      "Batch [200/313], Loss: 0.1349, Class Loss: 0.1349, G Loss: 0.0000\n"
     ]
    },
    {
     "name": "stderr",
     "output_type": "stream",
     "text": [
      " 96%|█████████▌| 301/313 [02:09<00:05,  2.34it/s]"
     ]
    },
    {
     "name": "stdout",
     "output_type": "stream",
     "text": [
      "Batch [300/313], Loss: 0.0206, Class Loss: 0.0206, G Loss: 0.0000\n"
     ]
    },
    {
     "name": "stderr",
     "output_type": "stream",
     "text": [
      "100%|██████████| 313/313 [02:14<00:00,  2.33it/s]\n"
     ]
    },
    {
     "name": "stdout",
     "output_type": "stream",
     "text": [
      "Average loss: 0.0441\n",
      "\n",
      "Evaluating 2-way tasks...\n",
      "Episode 100/2000, Running Avg Accuracy: 0.9550\n",
      "Episode 200/2000, Running Avg Accuracy: 0.9550\n",
      "Episode 300/2000, Running Avg Accuracy: 0.9550\n",
      "Episode 400/2000, Running Avg Accuracy: 0.9550\n",
      "Episode 500/2000, Running Avg Accuracy: 0.9560\n",
      "Episode 600/2000, Running Avg Accuracy: 0.9575\n",
      "Episode 700/2000, Running Avg Accuracy: 0.9571\n",
      "Episode 800/2000, Running Avg Accuracy: 0.9581\n",
      "Episode 900/2000, Running Avg Accuracy: 0.9572\n",
      "Episode 1000/2000, Running Avg Accuracy: 0.9585\n",
      "Episode 1100/2000, Running Avg Accuracy: 0.9577\n",
      "Episode 1200/2000, Running Avg Accuracy: 0.9575\n",
      "Episode 1300/2000, Running Avg Accuracy: 0.9554\n",
      "Episode 1400/2000, Running Avg Accuracy: 0.9568\n",
      "Episode 1500/2000, Running Avg Accuracy: 0.9563\n",
      "Episode 1600/2000, Running Avg Accuracy: 0.9553\n",
      "Episode 1700/2000, Running Avg Accuracy: 0.9559\n",
      "Episode 1800/2000, Running Avg Accuracy: 0.9553\n",
      "Episode 1900/2000, Running Avg Accuracy: 0.9561\n",
      "Episode 2000/2000, Running Avg Accuracy: 0.9557\n",
      "\n",
      "Final Average Accuracy over 2000 episodes: 0.9557\n",
      "Average accuracy over 2000 episodes: 0.9557\n",
      "\n",
      "Epoch 24/50\n"
     ]
    },
    {
     "name": "stderr",
     "output_type": "stream",
     "text": [
      "  0%|          | 1/313 [00:01<05:30,  1.06s/it]"
     ]
    },
    {
     "name": "stdout",
     "output_type": "stream",
     "text": [
      "Batch [0/313], Loss: 0.0434, Class Loss: 0.0434, G Loss: 0.0000\n"
     ]
    },
    {
     "name": "stderr",
     "output_type": "stream",
     "text": [
      " 32%|███▏      | 101/313 [00:43<01:30,  2.34it/s]"
     ]
    },
    {
     "name": "stdout",
     "output_type": "stream",
     "text": [
      "Batch [100/313], Loss: 0.1500, Class Loss: 0.1500, G Loss: 0.0000\n"
     ]
    },
    {
     "name": "stderr",
     "output_type": "stream",
     "text": [
      " 64%|██████▍   | 201/313 [01:26<00:47,  2.34it/s]"
     ]
    },
    {
     "name": "stdout",
     "output_type": "stream",
     "text": [
      "Batch [200/313], Loss: 0.0082, Class Loss: 0.0082, G Loss: 0.0000\n"
     ]
    },
    {
     "name": "stderr",
     "output_type": "stream",
     "text": [
      " 96%|█████████▌| 301/313 [02:09<00:05,  2.34it/s]"
     ]
    },
    {
     "name": "stdout",
     "output_type": "stream",
     "text": [
      "Batch [300/313], Loss: 0.0170, Class Loss: 0.0170, G Loss: 0.0000\n"
     ]
    },
    {
     "name": "stderr",
     "output_type": "stream",
     "text": [
      "100%|██████████| 313/313 [02:14<00:00,  2.33it/s]\n"
     ]
    },
    {
     "name": "stdout",
     "output_type": "stream",
     "text": [
      "Average loss: 0.0391\n",
      "\n",
      "Evaluating 2-way tasks...\n",
      "Episode 100/2000, Running Avg Accuracy: 0.9750\n",
      "Episode 200/2000, Running Avg Accuracy: 0.9700\n",
      "Episode 300/2000, Running Avg Accuracy: 0.9617\n",
      "Episode 400/2000, Running Avg Accuracy: 0.9637\n",
      "Episode 500/2000, Running Avg Accuracy: 0.9650\n",
      "Episode 600/2000, Running Avg Accuracy: 0.9642\n",
      "Episode 700/2000, Running Avg Accuracy: 0.9671\n",
      "Episode 800/2000, Running Avg Accuracy: 0.9663\n",
      "Episode 900/2000, Running Avg Accuracy: 0.9672\n",
      "Episode 1000/2000, Running Avg Accuracy: 0.9645\n",
      "Episode 1100/2000, Running Avg Accuracy: 0.9636\n",
      "Episode 1200/2000, Running Avg Accuracy: 0.9629\n",
      "Episode 1300/2000, Running Avg Accuracy: 0.9615\n",
      "Episode 1400/2000, Running Avg Accuracy: 0.9611\n",
      "Episode 1500/2000, Running Avg Accuracy: 0.9607\n",
      "Episode 1600/2000, Running Avg Accuracy: 0.9606\n",
      "Episode 1700/2000, Running Avg Accuracy: 0.9615\n",
      "Episode 1800/2000, Running Avg Accuracy: 0.9617\n",
      "Episode 1900/2000, Running Avg Accuracy: 0.9613\n",
      "Episode 2000/2000, Running Avg Accuracy: 0.9615\n",
      "\n",
      "Final Average Accuracy over 2000 episodes: 0.9615\n",
      "Average accuracy over 2000 episodes: 0.9615\n",
      "\n",
      "Epoch 25/50\n"
     ]
    },
    {
     "name": "stderr",
     "output_type": "stream",
     "text": [
      "  0%|          | 1/313 [00:01<05:41,  1.09s/it]"
     ]
    },
    {
     "name": "stdout",
     "output_type": "stream",
     "text": [
      "Batch [0/313], Loss: 0.0131, Class Loss: 0.0131, G Loss: 0.0000\n"
     ]
    },
    {
     "name": "stderr",
     "output_type": "stream",
     "text": [
      " 32%|███▏      | 101/313 [00:43<01:30,  2.34it/s]"
     ]
    },
    {
     "name": "stdout",
     "output_type": "stream",
     "text": [
      "Batch [100/313], Loss: 0.0090, Class Loss: 0.0090, G Loss: 0.0000\n"
     ]
    },
    {
     "name": "stderr",
     "output_type": "stream",
     "text": [
      " 64%|██████▍   | 201/313 [01:26<00:48,  2.33it/s]"
     ]
    },
    {
     "name": "stdout",
     "output_type": "stream",
     "text": [
      "Batch [200/313], Loss: 0.0294, Class Loss: 0.0294, G Loss: 0.0000\n"
     ]
    },
    {
     "name": "stderr",
     "output_type": "stream",
     "text": [
      " 96%|█████████▌| 301/313 [02:09<00:05,  2.34it/s]"
     ]
    },
    {
     "name": "stdout",
     "output_type": "stream",
     "text": [
      "Batch [300/313], Loss: 0.0338, Class Loss: 0.0338, G Loss: 0.0000\n"
     ]
    },
    {
     "name": "stderr",
     "output_type": "stream",
     "text": [
      "100%|██████████| 313/313 [02:14<00:00,  2.33it/s]\n"
     ]
    },
    {
     "name": "stdout",
     "output_type": "stream",
     "text": [
      "Average loss: 0.0408\n",
      "\n",
      "Evaluating 2-way tasks...\n",
      "Episode 100/2000, Running Avg Accuracy: 0.9750\n",
      "Episode 200/2000, Running Avg Accuracy: 0.9700\n",
      "Episode 300/2000, Running Avg Accuracy: 0.9667\n",
      "Episode 400/2000, Running Avg Accuracy: 0.9675\n",
      "Episode 500/2000, Running Avg Accuracy: 0.9680\n",
      "Episode 600/2000, Running Avg Accuracy: 0.9642\n",
      "Episode 700/2000, Running Avg Accuracy: 0.9657\n",
      "Episode 800/2000, Running Avg Accuracy: 0.9644\n",
      "Episode 900/2000, Running Avg Accuracy: 0.9633\n",
      "Episode 1000/2000, Running Avg Accuracy: 0.9625\n",
      "Episode 1100/2000, Running Avg Accuracy: 0.9627\n",
      "Episode 1200/2000, Running Avg Accuracy: 0.9629\n",
      "Episode 1300/2000, Running Avg Accuracy: 0.9623\n",
      "Episode 1400/2000, Running Avg Accuracy: 0.9621\n",
      "Episode 1500/2000, Running Avg Accuracy: 0.9633\n",
      "Episode 1600/2000, Running Avg Accuracy: 0.9616\n",
      "Episode 1700/2000, Running Avg Accuracy: 0.9626\n",
      "Episode 1800/2000, Running Avg Accuracy: 0.9628\n",
      "Episode 1900/2000, Running Avg Accuracy: 0.9624\n",
      "Episode 2000/2000, Running Avg Accuracy: 0.9625\n",
      "\n",
      "Final Average Accuracy over 2000 episodes: 0.9625\n",
      "Average accuracy over 2000 episodes: 0.9625\n",
      "\n",
      "Epoch 26/50\n"
     ]
    },
    {
     "name": "stderr",
     "output_type": "stream",
     "text": [
      "  0%|          | 1/313 [00:01<05:29,  1.06s/it]"
     ]
    },
    {
     "name": "stdout",
     "output_type": "stream",
     "text": [
      "Batch [0/313], Loss: 0.0110, Class Loss: 0.0110, G Loss: 0.0000\n"
     ]
    },
    {
     "name": "stderr",
     "output_type": "stream",
     "text": [
      " 32%|███▏      | 101/313 [00:43<01:30,  2.34it/s]"
     ]
    },
    {
     "name": "stdout",
     "output_type": "stream",
     "text": [
      "Batch [100/313], Loss: 0.0047, Class Loss: 0.0047, G Loss: 0.0000\n"
     ]
    },
    {
     "name": "stderr",
     "output_type": "stream",
     "text": [
      " 64%|██████▍   | 201/313 [01:26<00:47,  2.34it/s]"
     ]
    },
    {
     "name": "stdout",
     "output_type": "stream",
     "text": [
      "Batch [200/313], Loss: 0.0005, Class Loss: 0.0005, G Loss: 0.0000\n"
     ]
    },
    {
     "name": "stderr",
     "output_type": "stream",
     "text": [
      " 96%|█████████▌| 301/313 [02:09<00:05,  2.34it/s]"
     ]
    },
    {
     "name": "stdout",
     "output_type": "stream",
     "text": [
      "Batch [300/313], Loss: 0.0004, Class Loss: 0.0004, G Loss: 0.0000\n"
     ]
    },
    {
     "name": "stderr",
     "output_type": "stream",
     "text": [
      "100%|██████████| 313/313 [02:14<00:00,  2.33it/s]\n"
     ]
    },
    {
     "name": "stdout",
     "output_type": "stream",
     "text": [
      "Average loss: 0.0199\n",
      "\n",
      "Evaluating 2-way tasks...\n",
      "Episode 100/2000, Running Avg Accuracy: 0.9400\n",
      "Episode 200/2000, Running Avg Accuracy: 0.9500\n",
      "Episode 300/2000, Running Avg Accuracy: 0.9583\n",
      "Episode 400/2000, Running Avg Accuracy: 0.9587\n",
      "Episode 500/2000, Running Avg Accuracy: 0.9590\n",
      "Episode 600/2000, Running Avg Accuracy: 0.9583\n",
      "Episode 700/2000, Running Avg Accuracy: 0.9607\n",
      "Episode 800/2000, Running Avg Accuracy: 0.9619\n",
      "Episode 900/2000, Running Avg Accuracy: 0.9644\n",
      "Episode 1000/2000, Running Avg Accuracy: 0.9640\n",
      "Episode 1100/2000, Running Avg Accuracy: 0.9645\n",
      "Episode 1200/2000, Running Avg Accuracy: 0.9654\n",
      "Episode 1300/2000, Running Avg Accuracy: 0.9665\n",
      "Episode 1400/2000, Running Avg Accuracy: 0.9668\n",
      "Episode 1500/2000, Running Avg Accuracy: 0.9667\n",
      "Episode 1600/2000, Running Avg Accuracy: 0.9653\n",
      "Episode 1700/2000, Running Avg Accuracy: 0.9656\n",
      "Episode 1800/2000, Running Avg Accuracy: 0.9667\n",
      "Episode 1900/2000, Running Avg Accuracy: 0.9668\n",
      "Episode 2000/2000, Running Avg Accuracy: 0.9673\n",
      "\n",
      "Final Average Accuracy over 2000 episodes: 0.9673\n",
      "Average accuracy over 2000 episodes: 0.9673\n",
      "\n",
      "Epoch 27/50\n"
     ]
    },
    {
     "name": "stderr",
     "output_type": "stream",
     "text": [
      "  0%|          | 1/313 [00:01<05:28,  1.05s/it]"
     ]
    },
    {
     "name": "stdout",
     "output_type": "stream",
     "text": [
      "Batch [0/313], Loss: 0.0373, Class Loss: 0.0373, G Loss: 0.0000\n"
     ]
    },
    {
     "name": "stderr",
     "output_type": "stream",
     "text": [
      " 32%|███▏      | 101/313 [00:43<01:30,  2.34it/s]"
     ]
    },
    {
     "name": "stdout",
     "output_type": "stream",
     "text": [
      "Batch [100/313], Loss: 0.0985, Class Loss: 0.0985, G Loss: 0.0000\n"
     ]
    },
    {
     "name": "stderr",
     "output_type": "stream",
     "text": [
      " 64%|██████▍   | 201/313 [01:26<00:47,  2.34it/s]"
     ]
    },
    {
     "name": "stdout",
     "output_type": "stream",
     "text": [
      "Batch [200/313], Loss: 0.0105, Class Loss: 0.0105, G Loss: 0.0000\n"
     ]
    },
    {
     "name": "stderr",
     "output_type": "stream",
     "text": [
      " 96%|█████████▌| 301/313 [02:09<00:05,  2.33it/s]"
     ]
    },
    {
     "name": "stdout",
     "output_type": "stream",
     "text": [
      "Batch [300/313], Loss: 0.0155, Class Loss: 0.0155, G Loss: 0.0000\n"
     ]
    },
    {
     "name": "stderr",
     "output_type": "stream",
     "text": [
      "100%|██████████| 313/313 [02:14<00:00,  2.33it/s]\n"
     ]
    },
    {
     "name": "stdout",
     "output_type": "stream",
     "text": [
      "Average loss: 0.0320\n",
      "\n",
      "Evaluating 2-way tasks...\n",
      "Episode 100/2000, Running Avg Accuracy: 0.9650\n",
      "Episode 200/2000, Running Avg Accuracy: 0.9550\n",
      "Episode 300/2000, Running Avg Accuracy: 0.9533\n",
      "Episode 400/2000, Running Avg Accuracy: 0.9537\n",
      "Episode 500/2000, Running Avg Accuracy: 0.9490\n",
      "Episode 600/2000, Running Avg Accuracy: 0.9517\n",
      "Episode 700/2000, Running Avg Accuracy: 0.9493\n",
      "Episode 800/2000, Running Avg Accuracy: 0.9469\n",
      "Episode 900/2000, Running Avg Accuracy: 0.9472\n",
      "Episode 1000/2000, Running Avg Accuracy: 0.9475\n",
      "Episode 1100/2000, Running Avg Accuracy: 0.9491\n",
      "Episode 1200/2000, Running Avg Accuracy: 0.9467\n",
      "Episode 1300/2000, Running Avg Accuracy: 0.9481\n",
      "Episode 1400/2000, Running Avg Accuracy: 0.9471\n",
      "Episode 1500/2000, Running Avg Accuracy: 0.9490\n",
      "Episode 1600/2000, Running Avg Accuracy: 0.9487\n",
      "Episode 1700/2000, Running Avg Accuracy: 0.9485\n",
      "Episode 1800/2000, Running Avg Accuracy: 0.9478\n",
      "Episode 1900/2000, Running Avg Accuracy: 0.9479\n",
      "Episode 2000/2000, Running Avg Accuracy: 0.9487\n",
      "\n",
      "Final Average Accuracy over 2000 episodes: 0.9487\n",
      "Average accuracy over 2000 episodes: 0.9487\n",
      "\n",
      "Epoch 28/50\n"
     ]
    },
    {
     "name": "stderr",
     "output_type": "stream",
     "text": [
      "  0%|          | 1/313 [00:01<05:43,  1.10s/it]"
     ]
    },
    {
     "name": "stdout",
     "output_type": "stream",
     "text": [
      "Batch [0/313], Loss: 0.0050, Class Loss: 0.0050, G Loss: 0.0000\n"
     ]
    },
    {
     "name": "stderr",
     "output_type": "stream",
     "text": [
      " 32%|███▏      | 101/313 [00:43<01:30,  2.34it/s]"
     ]
    },
    {
     "name": "stdout",
     "output_type": "stream",
     "text": [
      "Batch [100/313], Loss: 0.0002, Class Loss: 0.0002, G Loss: 0.0000\n"
     ]
    },
    {
     "name": "stderr",
     "output_type": "stream",
     "text": [
      " 64%|██████▍   | 201/313 [01:26<00:47,  2.34it/s]"
     ]
    },
    {
     "name": "stdout",
     "output_type": "stream",
     "text": [
      "Batch [200/313], Loss: 0.0145, Class Loss: 0.0145, G Loss: 0.0000\n"
     ]
    },
    {
     "name": "stderr",
     "output_type": "stream",
     "text": [
      " 96%|█████████▌| 301/313 [02:09<00:05,  2.34it/s]"
     ]
    },
    {
     "name": "stdout",
     "output_type": "stream",
     "text": [
      "Batch [300/313], Loss: 0.0342, Class Loss: 0.0342, G Loss: 0.0000\n"
     ]
    },
    {
     "name": "stderr",
     "output_type": "stream",
     "text": [
      "100%|██████████| 313/313 [02:14<00:00,  2.33it/s]\n"
     ]
    },
    {
     "name": "stdout",
     "output_type": "stream",
     "text": [
      "Average loss: 0.0464\n",
      "\n",
      "Evaluating 2-way tasks...\n",
      "Episode 100/2000, Running Avg Accuracy: 0.9750\n",
      "Episode 200/2000, Running Avg Accuracy: 0.9675\n",
      "Episode 300/2000, Running Avg Accuracy: 0.9667\n",
      "Episode 400/2000, Running Avg Accuracy: 0.9650\n",
      "Episode 500/2000, Running Avg Accuracy: 0.9660\n",
      "Episode 600/2000, Running Avg Accuracy: 0.9675\n",
      "Episode 700/2000, Running Avg Accuracy: 0.9693\n",
      "Episode 800/2000, Running Avg Accuracy: 0.9681\n",
      "Episode 900/2000, Running Avg Accuracy: 0.9706\n",
      "Episode 1000/2000, Running Avg Accuracy: 0.9690\n",
      "Episode 1100/2000, Running Avg Accuracy: 0.9691\n",
      "Episode 1200/2000, Running Avg Accuracy: 0.9692\n",
      "Episode 1300/2000, Running Avg Accuracy: 0.9677\n",
      "Episode 1400/2000, Running Avg Accuracy: 0.9686\n",
      "Episode 1500/2000, Running Avg Accuracy: 0.9677\n",
      "Episode 1600/2000, Running Avg Accuracy: 0.9675\n",
      "Episode 1700/2000, Running Avg Accuracy: 0.9674\n",
      "Episode 1800/2000, Running Avg Accuracy: 0.9678\n",
      "Episode 1900/2000, Running Avg Accuracy: 0.9682\n",
      "Episode 2000/2000, Running Avg Accuracy: 0.9688\n",
      "\n",
      "Final Average Accuracy over 2000 episodes: 0.9688\n",
      "Average accuracy over 2000 episodes: 0.9688\n",
      "\n",
      "Epoch 29/50\n"
     ]
    },
    {
     "name": "stderr",
     "output_type": "stream",
     "text": [
      "  0%|          | 1/313 [00:01<05:35,  1.07s/it]"
     ]
    },
    {
     "name": "stdout",
     "output_type": "stream",
     "text": [
      "Batch [0/313], Loss: 0.0067, Class Loss: 0.0067, G Loss: 0.0000\n"
     ]
    },
    {
     "name": "stderr",
     "output_type": "stream",
     "text": [
      " 32%|███▏      | 101/313 [00:43<01:30,  2.34it/s]"
     ]
    },
    {
     "name": "stdout",
     "output_type": "stream",
     "text": [
      "Batch [100/313], Loss: 0.0025, Class Loss: 0.0025, G Loss: 0.0000\n"
     ]
    },
    {
     "name": "stderr",
     "output_type": "stream",
     "text": [
      " 64%|██████▍   | 201/313 [01:26<00:47,  2.34it/s]"
     ]
    },
    {
     "name": "stdout",
     "output_type": "stream",
     "text": [
      "Batch [200/313], Loss: 0.0513, Class Loss: 0.0513, G Loss: 0.0000\n"
     ]
    },
    {
     "name": "stderr",
     "output_type": "stream",
     "text": [
      " 96%|█████████▌| 301/313 [02:09<00:05,  2.34it/s]"
     ]
    },
    {
     "name": "stdout",
     "output_type": "stream",
     "text": [
      "Batch [300/313], Loss: 0.0041, Class Loss: 0.0041, G Loss: 0.0000\n"
     ]
    },
    {
     "name": "stderr",
     "output_type": "stream",
     "text": [
      "100%|██████████| 313/313 [02:14<00:00,  2.33it/s]\n"
     ]
    },
    {
     "name": "stdout",
     "output_type": "stream",
     "text": [
      "Average loss: 0.0355\n",
      "\n",
      "Evaluating 2-way tasks...\n",
      "Episode 100/2000, Running Avg Accuracy: 0.9650\n",
      "Episode 200/2000, Running Avg Accuracy: 0.9650\n",
      "Episode 300/2000, Running Avg Accuracy: 0.9600\n",
      "Episode 400/2000, Running Avg Accuracy: 0.9600\n",
      "Episode 500/2000, Running Avg Accuracy: 0.9610\n",
      "Episode 600/2000, Running Avg Accuracy: 0.9583\n",
      "Episode 700/2000, Running Avg Accuracy: 0.9600\n",
      "Episode 800/2000, Running Avg Accuracy: 0.9594\n",
      "Episode 900/2000, Running Avg Accuracy: 0.9617\n",
      "Episode 1000/2000, Running Avg Accuracy: 0.9645\n",
      "Episode 1100/2000, Running Avg Accuracy: 0.9632\n",
      "Episode 1200/2000, Running Avg Accuracy: 0.9629\n",
      "Episode 1300/2000, Running Avg Accuracy: 0.9631\n",
      "Episode 1400/2000, Running Avg Accuracy: 0.9625\n",
      "Episode 1500/2000, Running Avg Accuracy: 0.9640\n",
      "Episode 1600/2000, Running Avg Accuracy: 0.9628\n",
      "Episode 1700/2000, Running Avg Accuracy: 0.9629\n",
      "Episode 1800/2000, Running Avg Accuracy: 0.9631\n",
      "Episode 1900/2000, Running Avg Accuracy: 0.9634\n",
      "Episode 2000/2000, Running Avg Accuracy: 0.9623\n",
      "\n",
      "Final Average Accuracy over 2000 episodes: 0.9623\n",
      "Average accuracy over 2000 episodes: 0.9623\n",
      "\n",
      "Epoch 30/50\n"
     ]
    },
    {
     "name": "stderr",
     "output_type": "stream",
     "text": [
      "  0%|          | 1/313 [00:01<05:33,  1.07s/it]"
     ]
    },
    {
     "name": "stdout",
     "output_type": "stream",
     "text": [
      "Batch [0/313], Loss: 0.1051, Class Loss: 0.1051, G Loss: 0.0000\n"
     ]
    },
    {
     "name": "stderr",
     "output_type": "stream",
     "text": [
      " 32%|███▏      | 101/313 [00:43<01:30,  2.34it/s]"
     ]
    },
    {
     "name": "stdout",
     "output_type": "stream",
     "text": [
      "Batch [100/313], Loss: 0.1991, Class Loss: 0.1991, G Loss: 0.0000\n"
     ]
    },
    {
     "name": "stderr",
     "output_type": "stream",
     "text": [
      " 64%|██████▍   | 201/313 [01:26<00:48,  2.33it/s]"
     ]
    },
    {
     "name": "stdout",
     "output_type": "stream",
     "text": [
      "Batch [200/313], Loss: 0.0110, Class Loss: 0.0110, G Loss: 0.0000\n"
     ]
    },
    {
     "name": "stderr",
     "output_type": "stream",
     "text": [
      " 96%|█████████▌| 301/313 [02:09<00:05,  2.34it/s]"
     ]
    },
    {
     "name": "stdout",
     "output_type": "stream",
     "text": [
      "Batch [300/313], Loss: 0.0175, Class Loss: 0.0175, G Loss: 0.0000\n"
     ]
    },
    {
     "name": "stderr",
     "output_type": "stream",
     "text": [
      "100%|██████████| 313/313 [02:14<00:00,  2.33it/s]\n"
     ]
    },
    {
     "name": "stdout",
     "output_type": "stream",
     "text": [
      "Average loss: 0.0428\n",
      "\n",
      "Evaluating 2-way tasks...\n",
      "Episode 100/2000, Running Avg Accuracy: 0.9550\n",
      "Episode 200/2000, Running Avg Accuracy: 0.9575\n",
      "Episode 300/2000, Running Avg Accuracy: 0.9683\n",
      "Episode 400/2000, Running Avg Accuracy: 0.9637\n",
      "Episode 500/2000, Running Avg Accuracy: 0.9670\n",
      "Episode 600/2000, Running Avg Accuracy: 0.9675\n",
      "Episode 700/2000, Running Avg Accuracy: 0.9707\n",
      "Episode 800/2000, Running Avg Accuracy: 0.9712\n",
      "Episode 900/2000, Running Avg Accuracy: 0.9689\n",
      "Episode 1000/2000, Running Avg Accuracy: 0.9685\n",
      "Episode 1100/2000, Running Avg Accuracy: 0.9695\n",
      "Episode 1200/2000, Running Avg Accuracy: 0.9692\n",
      "Episode 1300/2000, Running Avg Accuracy: 0.9696\n",
      "Episode 1400/2000, Running Avg Accuracy: 0.9707\n",
      "Episode 1500/2000, Running Avg Accuracy: 0.9697\n",
      "Episode 1600/2000, Running Avg Accuracy: 0.9694\n",
      "Episode 1700/2000, Running Avg Accuracy: 0.9697\n",
      "Episode 1800/2000, Running Avg Accuracy: 0.9703\n",
      "Episode 1900/2000, Running Avg Accuracy: 0.9705\n",
      "Episode 2000/2000, Running Avg Accuracy: 0.9702\n",
      "\n",
      "Final Average Accuracy over 2000 episodes: 0.9702\n",
      "Average accuracy over 2000 episodes: 0.9702\n",
      "\n",
      "Epoch 31/50\n"
     ]
    },
    {
     "name": "stderr",
     "output_type": "stream",
     "text": [
      "  0%|          | 1/313 [00:01<05:34,  1.07s/it]"
     ]
    },
    {
     "name": "stdout",
     "output_type": "stream",
     "text": [
      "Batch [0/313], Loss: 0.0019, Class Loss: 0.0019, G Loss: 0.0000\n"
     ]
    },
    {
     "name": "stderr",
     "output_type": "stream",
     "text": [
      " 32%|███▏      | 101/313 [00:43<01:30,  2.34it/s]"
     ]
    },
    {
     "name": "stdout",
     "output_type": "stream",
     "text": [
      "Batch [100/313], Loss: 0.0009, Class Loss: 0.0009, G Loss: 0.0000\n"
     ]
    },
    {
     "name": "stderr",
     "output_type": "stream",
     "text": [
      " 64%|██████▍   | 201/313 [01:26<00:47,  2.34it/s]"
     ]
    },
    {
     "name": "stdout",
     "output_type": "stream",
     "text": [
      "Batch [200/313], Loss: 0.1195, Class Loss: 0.1195, G Loss: 0.0000\n"
     ]
    },
    {
     "name": "stderr",
     "output_type": "stream",
     "text": [
      " 96%|█████████▌| 301/313 [02:09<00:05,  2.34it/s]"
     ]
    },
    {
     "name": "stdout",
     "output_type": "stream",
     "text": [
      "Batch [300/313], Loss: 0.2010, Class Loss: 0.2010, G Loss: 0.0000\n"
     ]
    },
    {
     "name": "stderr",
     "output_type": "stream",
     "text": [
      "100%|██████████| 313/313 [02:14<00:00,  2.33it/s]\n"
     ]
    },
    {
     "name": "stdout",
     "output_type": "stream",
     "text": [
      "Average loss: 0.0232\n",
      "\n",
      "Evaluating 2-way tasks...\n",
      "Episode 100/2000, Running Avg Accuracy: 0.9800\n",
      "Episode 200/2000, Running Avg Accuracy: 0.9650\n",
      "Episode 300/2000, Running Avg Accuracy: 0.9683\n",
      "Episode 400/2000, Running Avg Accuracy: 0.9663\n",
      "Episode 500/2000, Running Avg Accuracy: 0.9660\n",
      "Episode 600/2000, Running Avg Accuracy: 0.9683\n",
      "Episode 700/2000, Running Avg Accuracy: 0.9679\n",
      "Episode 800/2000, Running Avg Accuracy: 0.9675\n",
      "Episode 900/2000, Running Avg Accuracy: 0.9639\n",
      "Episode 1000/2000, Running Avg Accuracy: 0.9665\n",
      "Episode 1100/2000, Running Avg Accuracy: 0.9664\n",
      "Episode 1200/2000, Running Avg Accuracy: 0.9671\n",
      "Episode 1300/2000, Running Avg Accuracy: 0.9662\n",
      "Episode 1400/2000, Running Avg Accuracy: 0.9664\n",
      "Episode 1500/2000, Running Avg Accuracy: 0.9657\n",
      "Episode 1600/2000, Running Avg Accuracy: 0.9669\n",
      "Episode 1700/2000, Running Avg Accuracy: 0.9679\n",
      "Episode 1800/2000, Running Avg Accuracy: 0.9675\n",
      "Episode 1900/2000, Running Avg Accuracy: 0.9679\n",
      "Episode 2000/2000, Running Avg Accuracy: 0.9680\n",
      "\n",
      "Final Average Accuracy over 2000 episodes: 0.9680\n",
      "Average accuracy over 2000 episodes: 0.9680\n",
      "\n",
      "Epoch 32/50\n"
     ]
    },
    {
     "name": "stderr",
     "output_type": "stream",
     "text": [
      "  0%|          | 1/313 [00:01<05:32,  1.06s/it]"
     ]
    },
    {
     "name": "stdout",
     "output_type": "stream",
     "text": [
      "Batch [0/313], Loss: 0.0149, Class Loss: 0.0149, G Loss: 0.0000\n"
     ]
    },
    {
     "name": "stderr",
     "output_type": "stream",
     "text": [
      " 32%|███▏      | 101/313 [00:43<01:30,  2.34it/s]"
     ]
    },
    {
     "name": "stdout",
     "output_type": "stream",
     "text": [
      "Batch [100/313], Loss: 0.0078, Class Loss: 0.0078, G Loss: 0.0000\n"
     ]
    },
    {
     "name": "stderr",
     "output_type": "stream",
     "text": [
      " 64%|██████▍   | 201/313 [01:26<00:47,  2.35it/s]"
     ]
    },
    {
     "name": "stdout",
     "output_type": "stream",
     "text": [
      "Batch [200/313], Loss: 0.0002, Class Loss: 0.0002, G Loss: 0.0000\n"
     ]
    },
    {
     "name": "stderr",
     "output_type": "stream",
     "text": [
      " 96%|█████████▌| 301/313 [02:09<00:05,  2.34it/s]"
     ]
    },
    {
     "name": "stdout",
     "output_type": "stream",
     "text": [
      "Batch [300/313], Loss: 0.0065, Class Loss: 0.0065, G Loss: 0.0000\n"
     ]
    },
    {
     "name": "stderr",
     "output_type": "stream",
     "text": [
      "100%|██████████| 313/313 [02:14<00:00,  2.33it/s]\n"
     ]
    },
    {
     "name": "stdout",
     "output_type": "stream",
     "text": [
      "Average loss: 0.0254\n",
      "\n",
      "Evaluating 2-way tasks...\n",
      "Episode 100/2000, Running Avg Accuracy: 0.9650\n",
      "Episode 200/2000, Running Avg Accuracy: 0.9550\n",
      "Episode 300/2000, Running Avg Accuracy: 0.9533\n",
      "Episode 400/2000, Running Avg Accuracy: 0.9537\n",
      "Episode 500/2000, Running Avg Accuracy: 0.9540\n",
      "Episode 600/2000, Running Avg Accuracy: 0.9558\n",
      "Episode 700/2000, Running Avg Accuracy: 0.9529\n",
      "Episode 800/2000, Running Avg Accuracy: 0.9550\n",
      "Episode 900/2000, Running Avg Accuracy: 0.9550\n",
      "Episode 1000/2000, Running Avg Accuracy: 0.9565\n",
      "Episode 1100/2000, Running Avg Accuracy: 0.9564\n",
      "Episode 1200/2000, Running Avg Accuracy: 0.9558\n",
      "Episode 1300/2000, Running Avg Accuracy: 0.9562\n",
      "Episode 1400/2000, Running Avg Accuracy: 0.9561\n",
      "Episode 1500/2000, Running Avg Accuracy: 0.9547\n",
      "Episode 1600/2000, Running Avg Accuracy: 0.9541\n",
      "Episode 1700/2000, Running Avg Accuracy: 0.9541\n",
      "Episode 1800/2000, Running Avg Accuracy: 0.9536\n",
      "Episode 1900/2000, Running Avg Accuracy: 0.9537\n",
      "Episode 2000/2000, Running Avg Accuracy: 0.9545\n",
      "\n",
      "Final Average Accuracy over 2000 episodes: 0.9545\n",
      "Average accuracy over 2000 episodes: 0.9545\n",
      "\n",
      "Epoch 33/50\n"
     ]
    },
    {
     "name": "stderr",
     "output_type": "stream",
     "text": [
      "  0%|          | 1/313 [00:01<05:45,  1.11s/it]"
     ]
    },
    {
     "name": "stdout",
     "output_type": "stream",
     "text": [
      "Batch [0/313], Loss: 0.0038, Class Loss: 0.0038, G Loss: 0.0000\n"
     ]
    },
    {
     "name": "stderr",
     "output_type": "stream",
     "text": [
      " 32%|███▏      | 101/313 [00:43<01:30,  2.33it/s]"
     ]
    },
    {
     "name": "stdout",
     "output_type": "stream",
     "text": [
      "Batch [100/313], Loss: 0.1532, Class Loss: 0.1532, G Loss: 0.0000\n"
     ]
    },
    {
     "name": "stderr",
     "output_type": "stream",
     "text": [
      " 64%|██████▍   | 201/313 [01:26<00:47,  2.34it/s]"
     ]
    },
    {
     "name": "stdout",
     "output_type": "stream",
     "text": [
      "Batch [200/313], Loss: 0.0426, Class Loss: 0.0426, G Loss: 0.0000\n"
     ]
    },
    {
     "name": "stderr",
     "output_type": "stream",
     "text": [
      " 96%|█████████▌| 301/313 [02:09<00:05,  2.34it/s]"
     ]
    },
    {
     "name": "stdout",
     "output_type": "stream",
     "text": [
      "Batch [300/313], Loss: 0.0092, Class Loss: 0.0092, G Loss: 0.0000\n"
     ]
    },
    {
     "name": "stderr",
     "output_type": "stream",
     "text": [
      "100%|██████████| 313/313 [02:14<00:00,  2.33it/s]\n"
     ]
    },
    {
     "name": "stdout",
     "output_type": "stream",
     "text": [
      "Average loss: 0.0382\n",
      "\n",
      "Evaluating 2-way tasks...\n",
      "Episode 100/2000, Running Avg Accuracy: 0.9600\n",
      "Episode 200/2000, Running Avg Accuracy: 0.9675\n",
      "Episode 300/2000, Running Avg Accuracy: 0.9667\n",
      "Episode 400/2000, Running Avg Accuracy: 0.9600\n",
      "Episode 500/2000, Running Avg Accuracy: 0.9650\n",
      "Episode 600/2000, Running Avg Accuracy: 0.9667\n",
      "Episode 700/2000, Running Avg Accuracy: 0.9657\n",
      "Episode 800/2000, Running Avg Accuracy: 0.9637\n",
      "Episode 900/2000, Running Avg Accuracy: 0.9639\n",
      "Episode 1000/2000, Running Avg Accuracy: 0.9635\n",
      "Episode 1100/2000, Running Avg Accuracy: 0.9641\n",
      "Episode 1200/2000, Running Avg Accuracy: 0.9637\n",
      "Episode 1300/2000, Running Avg Accuracy: 0.9635\n",
      "Episode 1400/2000, Running Avg Accuracy: 0.9636\n",
      "Episode 1500/2000, Running Avg Accuracy: 0.9627\n",
      "Episode 1600/2000, Running Avg Accuracy: 0.9625\n",
      "Episode 1700/2000, Running Avg Accuracy: 0.9624\n",
      "Episode 1800/2000, Running Avg Accuracy: 0.9628\n",
      "Episode 1900/2000, Running Avg Accuracy: 0.9624\n",
      "Episode 2000/2000, Running Avg Accuracy: 0.9627\n",
      "\n",
      "Final Average Accuracy over 2000 episodes: 0.9627\n",
      "Average accuracy over 2000 episodes: 0.9627\n",
      "\n",
      "Epoch 34/50\n"
     ]
    },
    {
     "name": "stderr",
     "output_type": "stream",
     "text": [
      "  0%|          | 1/313 [00:01<05:35,  1.07s/it]"
     ]
    },
    {
     "name": "stdout",
     "output_type": "stream",
     "text": [
      "Batch [0/313], Loss: 0.0082, Class Loss: 0.0082, G Loss: 0.0000\n"
     ]
    },
    {
     "name": "stderr",
     "output_type": "stream",
     "text": [
      " 32%|███▏      | 101/313 [00:43<01:30,  2.34it/s]"
     ]
    },
    {
     "name": "stdout",
     "output_type": "stream",
     "text": [
      "Batch [100/313], Loss: 0.0306, Class Loss: 0.0306, G Loss: 0.0000\n"
     ]
    },
    {
     "name": "stderr",
     "output_type": "stream",
     "text": [
      " 64%|██████▍   | 201/313 [01:26<00:47,  2.34it/s]"
     ]
    },
    {
     "name": "stdout",
     "output_type": "stream",
     "text": [
      "Batch [200/313], Loss: 0.0054, Class Loss: 0.0054, G Loss: 0.0000\n"
     ]
    },
    {
     "name": "stderr",
     "output_type": "stream",
     "text": [
      " 96%|█████████▌| 301/313 [02:09<00:05,  2.34it/s]"
     ]
    },
    {
     "name": "stdout",
     "output_type": "stream",
     "text": [
      "Batch [300/313], Loss: 0.0375, Class Loss: 0.0375, G Loss: 0.0000\n"
     ]
    },
    {
     "name": "stderr",
     "output_type": "stream",
     "text": [
      "100%|██████████| 313/313 [02:14<00:00,  2.33it/s]\n"
     ]
    },
    {
     "name": "stdout",
     "output_type": "stream",
     "text": [
      "Average loss: 0.0259\n",
      "\n",
      "Evaluating 2-way tasks...\n",
      "Episode 100/2000, Running Avg Accuracy: 0.9350\n",
      "Episode 200/2000, Running Avg Accuracy: 0.9375\n",
      "Episode 300/2000, Running Avg Accuracy: 0.9333\n",
      "Episode 400/2000, Running Avg Accuracy: 0.9313\n",
      "Episode 500/2000, Running Avg Accuracy: 0.9370\n",
      "Episode 600/2000, Running Avg Accuracy: 0.9375\n",
      "Episode 700/2000, Running Avg Accuracy: 0.9393\n",
      "Episode 800/2000, Running Avg Accuracy: 0.9394\n",
      "Episode 900/2000, Running Avg Accuracy: 0.9383\n",
      "Episode 1000/2000, Running Avg Accuracy: 0.9385\n",
      "Episode 1100/2000, Running Avg Accuracy: 0.9391\n",
      "Episode 1200/2000, Running Avg Accuracy: 0.9387\n",
      "Episode 1300/2000, Running Avg Accuracy: 0.9400\n",
      "Episode 1400/2000, Running Avg Accuracy: 0.9389\n",
      "Episode 1500/2000, Running Avg Accuracy: 0.9403\n",
      "Episode 1600/2000, Running Avg Accuracy: 0.9413\n",
      "Episode 1700/2000, Running Avg Accuracy: 0.9424\n",
      "Episode 1800/2000, Running Avg Accuracy: 0.9422\n",
      "Episode 1900/2000, Running Avg Accuracy: 0.9426\n",
      "Episode 2000/2000, Running Avg Accuracy: 0.9413\n",
      "\n",
      "Final Average Accuracy over 2000 episodes: 0.9413\n",
      "Average accuracy over 2000 episodes: 0.9413\n",
      "\n",
      "Epoch 35/50\n"
     ]
    },
    {
     "name": "stderr",
     "output_type": "stream",
     "text": [
      "  0%|          | 1/313 [00:01<05:43,  1.10s/it]"
     ]
    },
    {
     "name": "stdout",
     "output_type": "stream",
     "text": [
      "Batch [0/313], Loss: 0.3045, Class Loss: 0.3045, G Loss: 0.0000\n"
     ]
    },
    {
     "name": "stderr",
     "output_type": "stream",
     "text": [
      " 32%|███▏      | 101/313 [00:43<01:30,  2.34it/s]"
     ]
    },
    {
     "name": "stdout",
     "output_type": "stream",
     "text": [
      "Batch [100/313], Loss: 0.0684, Class Loss: 0.0684, G Loss: 0.0000\n"
     ]
    },
    {
     "name": "stderr",
     "output_type": "stream",
     "text": [
      " 64%|██████▍   | 201/313 [01:26<00:47,  2.34it/s]"
     ]
    },
    {
     "name": "stdout",
     "output_type": "stream",
     "text": [
      "Batch [200/313], Loss: 0.0248, Class Loss: 0.0248, G Loss: 0.0000\n"
     ]
    },
    {
     "name": "stderr",
     "output_type": "stream",
     "text": [
      " 96%|█████████▌| 301/313 [02:09<00:05,  2.34it/s]"
     ]
    },
    {
     "name": "stdout",
     "output_type": "stream",
     "text": [
      "Batch [300/313], Loss: 0.0255, Class Loss: 0.0255, G Loss: 0.0000\n"
     ]
    },
    {
     "name": "stderr",
     "output_type": "stream",
     "text": [
      "100%|██████████| 313/313 [02:14<00:00,  2.33it/s]\n"
     ]
    },
    {
     "name": "stdout",
     "output_type": "stream",
     "text": [
      "Average loss: 0.0302\n",
      "\n",
      "Evaluating 2-way tasks...\n",
      "Episode 100/2000, Running Avg Accuracy: 0.9650\n",
      "Episode 200/2000, Running Avg Accuracy: 0.9750\n",
      "Episode 300/2000, Running Avg Accuracy: 0.9683\n",
      "Episode 400/2000, Running Avg Accuracy: 0.9725\n",
      "Episode 500/2000, Running Avg Accuracy: 0.9720\n",
      "Episode 600/2000, Running Avg Accuracy: 0.9700\n",
      "Episode 700/2000, Running Avg Accuracy: 0.9707\n",
      "Episode 800/2000, Running Avg Accuracy: 0.9700\n",
      "Episode 900/2000, Running Avg Accuracy: 0.9711\n",
      "Episode 1000/2000, Running Avg Accuracy: 0.9725\n",
      "Episode 1100/2000, Running Avg Accuracy: 0.9705\n",
      "Episode 1200/2000, Running Avg Accuracy: 0.9700\n",
      "Episode 1300/2000, Running Avg Accuracy: 0.9688\n",
      "Episode 1400/2000, Running Avg Accuracy: 0.9679\n",
      "Episode 1500/2000, Running Avg Accuracy: 0.9683\n",
      "Episode 1600/2000, Running Avg Accuracy: 0.9691\n",
      "Episode 1700/2000, Running Avg Accuracy: 0.9674\n",
      "Episode 1800/2000, Running Avg Accuracy: 0.9669\n",
      "Episode 1900/2000, Running Avg Accuracy: 0.9666\n",
      "Episode 2000/2000, Running Avg Accuracy: 0.9655\n",
      "\n",
      "Final Average Accuracy over 2000 episodes: 0.9655\n",
      "Average accuracy over 2000 episodes: 0.9655\n",
      "\n",
      "Epoch 36/50\n"
     ]
    },
    {
     "name": "stderr",
     "output_type": "stream",
     "text": [
      "  0%|          | 1/313 [00:01<05:24,  1.04s/it]"
     ]
    },
    {
     "name": "stdout",
     "output_type": "stream",
     "text": [
      "Batch [0/313], Loss: 0.0008, Class Loss: 0.0008, G Loss: 0.0000\n"
     ]
    },
    {
     "name": "stderr",
     "output_type": "stream",
     "text": [
      " 32%|███▏      | 101/313 [00:43<01:30,  2.34it/s]"
     ]
    },
    {
     "name": "stdout",
     "output_type": "stream",
     "text": [
      "Batch [100/313], Loss: 0.0017, Class Loss: 0.0017, G Loss: 0.0000\n"
     ]
    },
    {
     "name": "stderr",
     "output_type": "stream",
     "text": [
      " 64%|██████▍   | 201/313 [01:26<00:47,  2.34it/s]"
     ]
    },
    {
     "name": "stdout",
     "output_type": "stream",
     "text": [
      "Batch [200/313], Loss: 0.0001, Class Loss: 0.0001, G Loss: 0.0000\n"
     ]
    },
    {
     "name": "stderr",
     "output_type": "stream",
     "text": [
      " 96%|█████████▌| 301/313 [02:09<00:05,  2.34it/s]"
     ]
    },
    {
     "name": "stdout",
     "output_type": "stream",
     "text": [
      "Batch [300/313], Loss: 0.2809, Class Loss: 0.2809, G Loss: 0.0000\n"
     ]
    },
    {
     "name": "stderr",
     "output_type": "stream",
     "text": [
      "100%|██████████| 313/313 [02:14<00:00,  2.33it/s]\n"
     ]
    },
    {
     "name": "stdout",
     "output_type": "stream",
     "text": [
      "Average loss: 0.0262\n",
      "\n",
      "Evaluating 2-way tasks...\n",
      "Episode 100/2000, Running Avg Accuracy: 0.9600\n",
      "Episode 200/2000, Running Avg Accuracy: 0.9575\n",
      "Episode 300/2000, Running Avg Accuracy: 0.9617\n",
      "Episode 400/2000, Running Avg Accuracy: 0.9625\n",
      "Episode 500/2000, Running Avg Accuracy: 0.9660\n",
      "Episode 600/2000, Running Avg Accuracy: 0.9667\n",
      "Episode 700/2000, Running Avg Accuracy: 0.9643\n",
      "Episode 800/2000, Running Avg Accuracy: 0.9631\n",
      "Episode 900/2000, Running Avg Accuracy: 0.9628\n",
      "Episode 1000/2000, Running Avg Accuracy: 0.9650\n",
      "Episode 1100/2000, Running Avg Accuracy: 0.9641\n",
      "Episode 1200/2000, Running Avg Accuracy: 0.9642\n",
      "Episode 1300/2000, Running Avg Accuracy: 0.9638\n",
      "Episode 1400/2000, Running Avg Accuracy: 0.9650\n",
      "Episode 1500/2000, Running Avg Accuracy: 0.9657\n",
      "Episode 1600/2000, Running Avg Accuracy: 0.9663\n",
      "Episode 1700/2000, Running Avg Accuracy: 0.9674\n",
      "Episode 1800/2000, Running Avg Accuracy: 0.9669\n",
      "Episode 1900/2000, Running Avg Accuracy: 0.9674\n",
      "Episode 2000/2000, Running Avg Accuracy: 0.9670\n",
      "\n",
      "Final Average Accuracy over 2000 episodes: 0.9670\n",
      "Average accuracy over 2000 episodes: 0.9670\n",
      "\n",
      "Epoch 37/50\n"
     ]
    },
    {
     "name": "stderr",
     "output_type": "stream",
     "text": [
      "  0%|          | 1/313 [00:01<05:37,  1.08s/it]"
     ]
    },
    {
     "name": "stdout",
     "output_type": "stream",
     "text": [
      "Batch [0/313], Loss: 0.0733, Class Loss: 0.0733, G Loss: 0.0000\n"
     ]
    },
    {
     "name": "stderr",
     "output_type": "stream",
     "text": [
      " 32%|███▏      | 101/313 [00:43<01:30,  2.33it/s]"
     ]
    },
    {
     "name": "stdout",
     "output_type": "stream",
     "text": [
      "Batch [100/313], Loss: 0.0001, Class Loss: 0.0001, G Loss: 0.0000\n"
     ]
    },
    {
     "name": "stderr",
     "output_type": "stream",
     "text": [
      " 64%|██████▍   | 201/313 [01:26<00:47,  2.34it/s]"
     ]
    },
    {
     "name": "stdout",
     "output_type": "stream",
     "text": [
      "Batch [200/313], Loss: 0.0136, Class Loss: 0.0136, G Loss: 0.0000\n"
     ]
    },
    {
     "name": "stderr",
     "output_type": "stream",
     "text": [
      " 96%|█████████▌| 301/313 [02:09<00:05,  2.33it/s]"
     ]
    },
    {
     "name": "stdout",
     "output_type": "stream",
     "text": [
      "Batch [300/313], Loss: 0.0010, Class Loss: 0.0010, G Loss: 0.0000\n"
     ]
    },
    {
     "name": "stderr",
     "output_type": "stream",
     "text": [
      "100%|██████████| 313/313 [02:14<00:00,  2.33it/s]\n"
     ]
    },
    {
     "name": "stdout",
     "output_type": "stream",
     "text": [
      "Average loss: 0.0364\n",
      "\n",
      "Evaluating 2-way tasks...\n",
      "Episode 100/2000, Running Avg Accuracy: 0.9500\n",
      "Episode 200/2000, Running Avg Accuracy: 0.9475\n",
      "Episode 300/2000, Running Avg Accuracy: 0.9450\n",
      "Episode 400/2000, Running Avg Accuracy: 0.9500\n",
      "Episode 500/2000, Running Avg Accuracy: 0.9530\n",
      "Episode 600/2000, Running Avg Accuracy: 0.9567\n",
      "Episode 700/2000, Running Avg Accuracy: 0.9586\n",
      "Episode 800/2000, Running Avg Accuracy: 0.9600\n",
      "Episode 900/2000, Running Avg Accuracy: 0.9606\n",
      "Episode 1000/2000, Running Avg Accuracy: 0.9610\n",
      "Episode 1100/2000, Running Avg Accuracy: 0.9595\n",
      "Episode 1200/2000, Running Avg Accuracy: 0.9613\n",
      "Episode 1300/2000, Running Avg Accuracy: 0.9623\n",
      "Episode 1400/2000, Running Avg Accuracy: 0.9625\n",
      "Episode 1500/2000, Running Avg Accuracy: 0.9627\n",
      "Episode 1600/2000, Running Avg Accuracy: 0.9631\n",
      "Episode 1700/2000, Running Avg Accuracy: 0.9632\n",
      "Episode 1800/2000, Running Avg Accuracy: 0.9622\n",
      "Episode 1900/2000, Running Avg Accuracy: 0.9626\n",
      "Episode 2000/2000, Running Avg Accuracy: 0.9623\n",
      "\n",
      "Final Average Accuracy over 2000 episodes: 0.9623\n",
      "Average accuracy over 2000 episodes: 0.9623\n",
      "\n",
      "Epoch 38/50\n"
     ]
    },
    {
     "name": "stderr",
     "output_type": "stream",
     "text": [
      "  0%|          | 1/313 [00:01<05:32,  1.07s/it]"
     ]
    },
    {
     "name": "stdout",
     "output_type": "stream",
     "text": [
      "Batch [0/313], Loss: 0.0058, Class Loss: 0.0058, G Loss: 0.0000\n"
     ]
    },
    {
     "name": "stderr",
     "output_type": "stream",
     "text": [
      " 32%|███▏      | 101/313 [00:43<01:30,  2.34it/s]"
     ]
    },
    {
     "name": "stdout",
     "output_type": "stream",
     "text": [
      "Batch [100/313], Loss: 0.0006, Class Loss: 0.0006, G Loss: 0.0000\n"
     ]
    },
    {
     "name": "stderr",
     "output_type": "stream",
     "text": [
      " 64%|██████▍   | 201/313 [01:26<00:47,  2.34it/s]"
     ]
    },
    {
     "name": "stdout",
     "output_type": "stream",
     "text": [
      "Batch [200/313], Loss: 0.0050, Class Loss: 0.0050, G Loss: 0.0000\n"
     ]
    },
    {
     "name": "stderr",
     "output_type": "stream",
     "text": [
      " 96%|█████████▌| 301/313 [02:09<00:05,  2.34it/s]"
     ]
    },
    {
     "name": "stdout",
     "output_type": "stream",
     "text": [
      "Batch [300/313], Loss: 0.0004, Class Loss: 0.0004, G Loss: 0.0000\n"
     ]
    },
    {
     "name": "stderr",
     "output_type": "stream",
     "text": [
      "100%|██████████| 313/313 [02:14<00:00,  2.33it/s]\n"
     ]
    },
    {
     "name": "stdout",
     "output_type": "stream",
     "text": [
      "Average loss: 0.0137\n",
      "\n",
      "Evaluating 2-way tasks...\n",
      "Episode 100/2000, Running Avg Accuracy: 0.9800\n",
      "Episode 200/2000, Running Avg Accuracy: 0.9800\n",
      "Episode 300/2000, Running Avg Accuracy: 0.9817\n",
      "Episode 400/2000, Running Avg Accuracy: 0.9788\n",
      "Episode 500/2000, Running Avg Accuracy: 0.9810\n",
      "Episode 600/2000, Running Avg Accuracy: 0.9783\n",
      "Episode 700/2000, Running Avg Accuracy: 0.9743\n",
      "Episode 800/2000, Running Avg Accuracy: 0.9744\n",
      "Episode 900/2000, Running Avg Accuracy: 0.9744\n",
      "Episode 1000/2000, Running Avg Accuracy: 0.9760\n",
      "Episode 1100/2000, Running Avg Accuracy: 0.9782\n",
      "Episode 1200/2000, Running Avg Accuracy: 0.9771\n",
      "Episode 1300/2000, Running Avg Accuracy: 0.9777\n",
      "Episode 1400/2000, Running Avg Accuracy: 0.9754\n",
      "Episode 1500/2000, Running Avg Accuracy: 0.9757\n",
      "Episode 1600/2000, Running Avg Accuracy: 0.9753\n",
      "Episode 1700/2000, Running Avg Accuracy: 0.9741\n",
      "Episode 1800/2000, Running Avg Accuracy: 0.9742\n",
      "Episode 1900/2000, Running Avg Accuracy: 0.9737\n",
      "Episode 2000/2000, Running Avg Accuracy: 0.9740\n",
      "\n",
      "Final Average Accuracy over 2000 episodes: 0.9740\n",
      "Average accuracy over 2000 episodes: 0.9740\n",
      "\n",
      "Epoch 39/50\n"
     ]
    },
    {
     "name": "stderr",
     "output_type": "stream",
     "text": [
      "  0%|          | 1/313 [00:01<05:39,  1.09s/it]"
     ]
    },
    {
     "name": "stdout",
     "output_type": "stream",
     "text": [
      "Batch [0/313], Loss: 0.0008, Class Loss: 0.0008, G Loss: 0.0000\n"
     ]
    },
    {
     "name": "stderr",
     "output_type": "stream",
     "text": [
      " 32%|███▏      | 101/313 [00:43<01:30,  2.34it/s]"
     ]
    },
    {
     "name": "stdout",
     "output_type": "stream",
     "text": [
      "Batch [100/313], Loss: 0.0003, Class Loss: 0.0003, G Loss: 0.0000\n"
     ]
    },
    {
     "name": "stderr",
     "output_type": "stream",
     "text": [
      " 64%|██████▍   | 201/313 [01:26<00:47,  2.34it/s]"
     ]
    },
    {
     "name": "stdout",
     "output_type": "stream",
     "text": [
      "Batch [200/313], Loss: 0.0014, Class Loss: 0.0014, G Loss: 0.0000\n"
     ]
    },
    {
     "name": "stderr",
     "output_type": "stream",
     "text": [
      " 96%|█████████▌| 301/313 [02:09<00:05,  2.34it/s]"
     ]
    },
    {
     "name": "stdout",
     "output_type": "stream",
     "text": [
      "Batch [300/313], Loss: 0.0688, Class Loss: 0.0688, G Loss: 0.0000\n"
     ]
    },
    {
     "name": "stderr",
     "output_type": "stream",
     "text": [
      "100%|██████████| 313/313 [02:14<00:00,  2.33it/s]\n"
     ]
    },
    {
     "name": "stdout",
     "output_type": "stream",
     "text": [
      "Average loss: 0.0209\n",
      "\n",
      "Evaluating 2-way tasks...\n",
      "Episode 100/2000, Running Avg Accuracy: 0.9600\n",
      "Episode 200/2000, Running Avg Accuracy: 0.9550\n",
      "Episode 300/2000, Running Avg Accuracy: 0.9600\n",
      "Episode 400/2000, Running Avg Accuracy: 0.9575\n",
      "Episode 500/2000, Running Avg Accuracy: 0.9600\n",
      "Episode 600/2000, Running Avg Accuracy: 0.9567\n",
      "Episode 700/2000, Running Avg Accuracy: 0.9579\n",
      "Episode 800/2000, Running Avg Accuracy: 0.9563\n",
      "Episode 900/2000, Running Avg Accuracy: 0.9567\n",
      "Episode 1000/2000, Running Avg Accuracy: 0.9580\n",
      "Episode 1100/2000, Running Avg Accuracy: 0.9559\n",
      "Episode 1200/2000, Running Avg Accuracy: 0.9558\n",
      "Episode 1300/2000, Running Avg Accuracy: 0.9558\n",
      "Episode 1400/2000, Running Avg Accuracy: 0.9575\n",
      "Episode 1500/2000, Running Avg Accuracy: 0.9580\n",
      "Episode 1600/2000, Running Avg Accuracy: 0.9581\n",
      "Episode 1700/2000, Running Avg Accuracy: 0.9576\n",
      "Episode 1800/2000, Running Avg Accuracy: 0.9569\n",
      "Episode 1900/2000, Running Avg Accuracy: 0.9563\n",
      "Episode 2000/2000, Running Avg Accuracy: 0.9563\n",
      "\n",
      "Final Average Accuracy over 2000 episodes: 0.9563\n",
      "Average accuracy over 2000 episodes: 0.9563\n",
      "\n",
      "Epoch 40/50\n"
     ]
    },
    {
     "name": "stderr",
     "output_type": "stream",
     "text": [
      "  0%|          | 1/313 [00:01<05:39,  1.09s/it]"
     ]
    },
    {
     "name": "stdout",
     "output_type": "stream",
     "text": [
      "Batch [0/313], Loss: 0.1700, Class Loss: 0.1700, G Loss: 0.0000\n"
     ]
    },
    {
     "name": "stderr",
     "output_type": "stream",
     "text": [
      " 32%|███▏      | 101/313 [00:43<01:30,  2.34it/s]"
     ]
    },
    {
     "name": "stdout",
     "output_type": "stream",
     "text": [
      "Batch [100/313], Loss: 0.0009, Class Loss: 0.0009, G Loss: 0.0000\n"
     ]
    },
    {
     "name": "stderr",
     "output_type": "stream",
     "text": [
      " 64%|██████▍   | 201/313 [01:26<00:47,  2.34it/s]"
     ]
    },
    {
     "name": "stdout",
     "output_type": "stream",
     "text": [
      "Batch [200/313], Loss: 0.0056, Class Loss: 0.0056, G Loss: 0.0000\n"
     ]
    },
    {
     "name": "stderr",
     "output_type": "stream",
     "text": [
      " 96%|█████████▌| 301/313 [02:09<00:05,  2.34it/s]"
     ]
    },
    {
     "name": "stdout",
     "output_type": "stream",
     "text": [
      "Batch [300/313], Loss: 0.0094, Class Loss: 0.0094, G Loss: 0.0000\n"
     ]
    },
    {
     "name": "stderr",
     "output_type": "stream",
     "text": [
      "100%|██████████| 313/313 [02:14<00:00,  2.33it/s]\n"
     ]
    },
    {
     "name": "stdout",
     "output_type": "stream",
     "text": [
      "Average loss: 0.0372\n",
      "\n",
      "Evaluating 2-way tasks...\n",
      "Episode 100/2000, Running Avg Accuracy: 0.9500\n",
      "Episode 200/2000, Running Avg Accuracy: 0.9600\n",
      "Episode 300/2000, Running Avg Accuracy: 0.9567\n",
      "Episode 400/2000, Running Avg Accuracy: 0.9587\n",
      "Episode 500/2000, Running Avg Accuracy: 0.9600\n",
      "Episode 600/2000, Running Avg Accuracy: 0.9533\n",
      "Episode 700/2000, Running Avg Accuracy: 0.9571\n",
      "Episode 800/2000, Running Avg Accuracy: 0.9569\n",
      "Episode 900/2000, Running Avg Accuracy: 0.9533\n",
      "Episode 1000/2000, Running Avg Accuracy: 0.9520\n",
      "Episode 1100/2000, Running Avg Accuracy: 0.9505\n",
      "Episode 1200/2000, Running Avg Accuracy: 0.9492\n",
      "Episode 1300/2000, Running Avg Accuracy: 0.9454\n",
      "Episode 1400/2000, Running Avg Accuracy: 0.9479\n",
      "Episode 1500/2000, Running Avg Accuracy: 0.9487\n",
      "Episode 1600/2000, Running Avg Accuracy: 0.9497\n",
      "Episode 1700/2000, Running Avg Accuracy: 0.9512\n",
      "Episode 1800/2000, Running Avg Accuracy: 0.9517\n",
      "Episode 1900/2000, Running Avg Accuracy: 0.9516\n",
      "Episode 2000/2000, Running Avg Accuracy: 0.9523\n",
      "\n",
      "Final Average Accuracy over 2000 episodes: 0.9523\n",
      "Average accuracy over 2000 episodes: 0.9523\n",
      "\n",
      "Epoch 41/50\n"
     ]
    },
    {
     "name": "stderr",
     "output_type": "stream",
     "text": [
      "  0%|          | 1/313 [00:01<05:30,  1.06s/it]"
     ]
    },
    {
     "name": "stdout",
     "output_type": "stream",
     "text": [
      "Batch [0/313], Loss: 0.0034, Class Loss: 0.0034, G Loss: 0.0000\n"
     ]
    },
    {
     "name": "stderr",
     "output_type": "stream",
     "text": [
      " 32%|███▏      | 101/313 [00:43<01:30,  2.33it/s]"
     ]
    },
    {
     "name": "stdout",
     "output_type": "stream",
     "text": [
      "Batch [100/313], Loss: 0.1465, Class Loss: 0.1465, G Loss: 0.0000\n"
     ]
    },
    {
     "name": "stderr",
     "output_type": "stream",
     "text": [
      " 64%|██████▍   | 201/313 [01:26<00:47,  2.34it/s]"
     ]
    },
    {
     "name": "stdout",
     "output_type": "stream",
     "text": [
      "Batch [200/313], Loss: 0.0038, Class Loss: 0.0038, G Loss: 0.0000\n"
     ]
    },
    {
     "name": "stderr",
     "output_type": "stream",
     "text": [
      " 96%|█████████▌| 301/313 [02:09<00:05,  2.34it/s]"
     ]
    },
    {
     "name": "stdout",
     "output_type": "stream",
     "text": [
      "Batch [300/313], Loss: 0.0545, Class Loss: 0.0545, G Loss: 0.0000\n"
     ]
    },
    {
     "name": "stderr",
     "output_type": "stream",
     "text": [
      "100%|██████████| 313/313 [02:14<00:00,  2.33it/s]\n"
     ]
    },
    {
     "name": "stdout",
     "output_type": "stream",
     "text": [
      "Average loss: 0.0317\n",
      "\n",
      "Evaluating 2-way tasks...\n",
      "Episode 100/2000, Running Avg Accuracy: 0.9750\n",
      "Episode 200/2000, Running Avg Accuracy: 0.9600\n",
      "Episode 300/2000, Running Avg Accuracy: 0.9650\n",
      "Episode 400/2000, Running Avg Accuracy: 0.9625\n",
      "Episode 500/2000, Running Avg Accuracy: 0.9620\n",
      "Episode 600/2000, Running Avg Accuracy: 0.9608\n",
      "Episode 700/2000, Running Avg Accuracy: 0.9614\n",
      "Episode 800/2000, Running Avg Accuracy: 0.9631\n",
      "Episode 900/2000, Running Avg Accuracy: 0.9639\n",
      "Episode 1000/2000, Running Avg Accuracy: 0.9625\n",
      "Episode 1100/2000, Running Avg Accuracy: 0.9609\n",
      "Episode 1200/2000, Running Avg Accuracy: 0.9596\n",
      "Episode 1300/2000, Running Avg Accuracy: 0.9588\n",
      "Episode 1400/2000, Running Avg Accuracy: 0.9579\n",
      "Episode 1500/2000, Running Avg Accuracy: 0.9590\n",
      "Episode 1600/2000, Running Avg Accuracy: 0.9597\n",
      "Episode 1700/2000, Running Avg Accuracy: 0.9591\n",
      "Episode 1800/2000, Running Avg Accuracy: 0.9603\n",
      "Episode 1900/2000, Running Avg Accuracy: 0.9608\n",
      "Episode 2000/2000, Running Avg Accuracy: 0.9613\n",
      "\n",
      "Final Average Accuracy over 2000 episodes: 0.9613\n",
      "Average accuracy over 2000 episodes: 0.9613\n",
      "\n",
      "Epoch 42/50\n"
     ]
    },
    {
     "name": "stderr",
     "output_type": "stream",
     "text": [
      "  0%|          | 1/313 [00:01<05:36,  1.08s/it]"
     ]
    },
    {
     "name": "stdout",
     "output_type": "stream",
     "text": [
      "Batch [0/313], Loss: 0.0129, Class Loss: 0.0129, G Loss: 0.0000\n"
     ]
    },
    {
     "name": "stderr",
     "output_type": "stream",
     "text": [
      " 32%|███▏      | 101/313 [00:43<01:30,  2.35it/s]"
     ]
    },
    {
     "name": "stdout",
     "output_type": "stream",
     "text": [
      "Batch [100/313], Loss: 0.0548, Class Loss: 0.0548, G Loss: 0.0000\n"
     ]
    },
    {
     "name": "stderr",
     "output_type": "stream",
     "text": [
      " 64%|██████▍   | 201/313 [01:26<00:48,  2.33it/s]"
     ]
    },
    {
     "name": "stdout",
     "output_type": "stream",
     "text": [
      "Batch [200/313], Loss: 0.0146, Class Loss: 0.0146, G Loss: 0.0000\n"
     ]
    },
    {
     "name": "stderr",
     "output_type": "stream",
     "text": [
      " 96%|█████████▌| 301/313 [02:09<00:05,  2.34it/s]"
     ]
    },
    {
     "name": "stdout",
     "output_type": "stream",
     "text": [
      "Batch [300/313], Loss: 0.0034, Class Loss: 0.0034, G Loss: 0.0000\n"
     ]
    },
    {
     "name": "stderr",
     "output_type": "stream",
     "text": [
      "100%|██████████| 313/313 [02:14<00:00,  2.33it/s]\n"
     ]
    },
    {
     "name": "stdout",
     "output_type": "stream",
     "text": [
      "Average loss: 0.0274\n",
      "\n",
      "Evaluating 2-way tasks...\n",
      "Episode 100/2000, Running Avg Accuracy: 0.9700\n",
      "Episode 200/2000, Running Avg Accuracy: 0.9775\n",
      "Episode 300/2000, Running Avg Accuracy: 0.9750\n",
      "Episode 400/2000, Running Avg Accuracy: 0.9738\n",
      "Episode 500/2000, Running Avg Accuracy: 0.9720\n",
      "Episode 600/2000, Running Avg Accuracy: 0.9733\n",
      "Episode 700/2000, Running Avg Accuracy: 0.9721\n",
      "Episode 800/2000, Running Avg Accuracy: 0.9731\n",
      "Episode 900/2000, Running Avg Accuracy: 0.9717\n",
      "Episode 1000/2000, Running Avg Accuracy: 0.9705\n",
      "Episode 1100/2000, Running Avg Accuracy: 0.9709\n",
      "Episode 1200/2000, Running Avg Accuracy: 0.9721\n",
      "Episode 1300/2000, Running Avg Accuracy: 0.9727\n",
      "Episode 1400/2000, Running Avg Accuracy: 0.9718\n",
      "Episode 1500/2000, Running Avg Accuracy: 0.9717\n",
      "Episode 1600/2000, Running Avg Accuracy: 0.9712\n",
      "Episode 1700/2000, Running Avg Accuracy: 0.9703\n",
      "Episode 1800/2000, Running Avg Accuracy: 0.9714\n",
      "Episode 1900/2000, Running Avg Accuracy: 0.9711\n",
      "Episode 2000/2000, Running Avg Accuracy: 0.9720\n",
      "\n",
      "Final Average Accuracy over 2000 episodes: 0.9720\n",
      "Average accuracy over 2000 episodes: 0.9720\n",
      "\n",
      "Epoch 43/50\n"
     ]
    },
    {
     "name": "stderr",
     "output_type": "stream",
     "text": [
      "  0%|          | 1/313 [00:01<05:37,  1.08s/it]"
     ]
    },
    {
     "name": "stdout",
     "output_type": "stream",
     "text": [
      "Batch [0/313], Loss: 0.0251, Class Loss: 0.0251, G Loss: 0.0000\n"
     ]
    },
    {
     "name": "stderr",
     "output_type": "stream",
     "text": [
      " 32%|███▏      | 101/313 [00:43<01:30,  2.34it/s]"
     ]
    },
    {
     "name": "stdout",
     "output_type": "stream",
     "text": [
      "Batch [100/313], Loss: 0.0039, Class Loss: 0.0039, G Loss: 0.0000\n"
     ]
    },
    {
     "name": "stderr",
     "output_type": "stream",
     "text": [
      " 64%|██████▍   | 201/313 [01:26<00:47,  2.34it/s]"
     ]
    },
    {
     "name": "stdout",
     "output_type": "stream",
     "text": [
      "Batch [200/313], Loss: 0.0016, Class Loss: 0.0016, G Loss: 0.0000\n"
     ]
    },
    {
     "name": "stderr",
     "output_type": "stream",
     "text": [
      " 96%|█████████▌| 301/313 [02:09<00:05,  2.34it/s]"
     ]
    },
    {
     "name": "stdout",
     "output_type": "stream",
     "text": [
      "Batch [300/313], Loss: 0.0002, Class Loss: 0.0002, G Loss: 0.0000\n"
     ]
    },
    {
     "name": "stderr",
     "output_type": "stream",
     "text": [
      "100%|██████████| 313/313 [02:14<00:00,  2.33it/s]\n"
     ]
    },
    {
     "name": "stdout",
     "output_type": "stream",
     "text": [
      "Average loss: 0.0166\n",
      "\n",
      "Evaluating 2-way tasks...\n",
      "Episode 100/2000, Running Avg Accuracy: 0.9550\n",
      "Episode 200/2000, Running Avg Accuracy: 0.9700\n",
      "Episode 300/2000, Running Avg Accuracy: 0.9717\n",
      "Episode 400/2000, Running Avg Accuracy: 0.9750\n",
      "Episode 500/2000, Running Avg Accuracy: 0.9720\n",
      "Episode 600/2000, Running Avg Accuracy: 0.9692\n",
      "Episode 700/2000, Running Avg Accuracy: 0.9707\n",
      "Episode 800/2000, Running Avg Accuracy: 0.9725\n",
      "Episode 900/2000, Running Avg Accuracy: 0.9739\n",
      "Episode 1000/2000, Running Avg Accuracy: 0.9705\n",
      "Episode 1100/2000, Running Avg Accuracy: 0.9700\n",
      "Episode 1200/2000, Running Avg Accuracy: 0.9692\n",
      "Episode 1300/2000, Running Avg Accuracy: 0.9681\n",
      "Episode 1400/2000, Running Avg Accuracy: 0.9675\n",
      "Episode 1500/2000, Running Avg Accuracy: 0.9680\n",
      "Episode 1600/2000, Running Avg Accuracy: 0.9691\n",
      "Episode 1700/2000, Running Avg Accuracy: 0.9676\n",
      "Episode 1800/2000, Running Avg Accuracy: 0.9678\n",
      "Episode 1900/2000, Running Avg Accuracy: 0.9671\n",
      "Episode 2000/2000, Running Avg Accuracy: 0.9675\n",
      "\n",
      "Final Average Accuracy over 2000 episodes: 0.9675\n",
      "Average accuracy over 2000 episodes: 0.9675\n",
      "\n",
      "Epoch 44/50\n"
     ]
    },
    {
     "name": "stderr",
     "output_type": "stream",
     "text": [
      "  0%|          | 1/313 [00:01<05:41,  1.09s/it]"
     ]
    },
    {
     "name": "stdout",
     "output_type": "stream",
     "text": [
      "Batch [0/313], Loss: 0.0664, Class Loss: 0.0664, G Loss: 0.0000\n"
     ]
    },
    {
     "name": "stderr",
     "output_type": "stream",
     "text": [
      " 32%|███▏      | 101/313 [00:43<01:30,  2.34it/s]"
     ]
    },
    {
     "name": "stdout",
     "output_type": "stream",
     "text": [
      "Batch [100/313], Loss: 0.0015, Class Loss: 0.0015, G Loss: 0.0000\n"
     ]
    },
    {
     "name": "stderr",
     "output_type": "stream",
     "text": [
      " 64%|██████▍   | 201/313 [01:26<00:48,  2.33it/s]"
     ]
    },
    {
     "name": "stdout",
     "output_type": "stream",
     "text": [
      "Batch [200/313], Loss: 0.0104, Class Loss: 0.0104, G Loss: 0.0000\n"
     ]
    },
    {
     "name": "stderr",
     "output_type": "stream",
     "text": [
      " 96%|█████████▌| 301/313 [02:09<00:05,  2.33it/s]"
     ]
    },
    {
     "name": "stdout",
     "output_type": "stream",
     "text": [
      "Batch [300/313], Loss: 0.1044, Class Loss: 0.1044, G Loss: 0.0000\n"
     ]
    },
    {
     "name": "stderr",
     "output_type": "stream",
     "text": [
      "100%|██████████| 313/313 [02:14<00:00,  2.33it/s]\n"
     ]
    },
    {
     "name": "stdout",
     "output_type": "stream",
     "text": [
      "Average loss: 0.0382\n",
      "\n",
      "Evaluating 2-way tasks...\n",
      "Episode 100/2000, Running Avg Accuracy: 0.9550\n",
      "Episode 200/2000, Running Avg Accuracy: 0.9625\n",
      "Episode 300/2000, Running Avg Accuracy: 0.9667\n",
      "Episode 400/2000, Running Avg Accuracy: 0.9625\n",
      "Episode 500/2000, Running Avg Accuracy: 0.9620\n",
      "Episode 600/2000, Running Avg Accuracy: 0.9600\n",
      "Episode 700/2000, Running Avg Accuracy: 0.9586\n",
      "Episode 800/2000, Running Avg Accuracy: 0.9600\n",
      "Episode 900/2000, Running Avg Accuracy: 0.9539\n",
      "Episode 1000/2000, Running Avg Accuracy: 0.9555\n",
      "Episode 1100/2000, Running Avg Accuracy: 0.9568\n",
      "Episode 1200/2000, Running Avg Accuracy: 0.9575\n",
      "Episode 1300/2000, Running Avg Accuracy: 0.9592\n",
      "Episode 1400/2000, Running Avg Accuracy: 0.9600\n",
      "Episode 1500/2000, Running Avg Accuracy: 0.9600\n",
      "Episode 1600/2000, Running Avg Accuracy: 0.9597\n",
      "Episode 1700/2000, Running Avg Accuracy: 0.9600\n",
      "Episode 1800/2000, Running Avg Accuracy: 0.9600\n",
      "Episode 1900/2000, Running Avg Accuracy: 0.9597\n",
      "Episode 2000/2000, Running Avg Accuracy: 0.9593\n",
      "\n",
      "Final Average Accuracy over 2000 episodes: 0.9593\n",
      "Average accuracy over 2000 episodes: 0.9593\n",
      "\n",
      "Epoch 45/50\n"
     ]
    },
    {
     "name": "stderr",
     "output_type": "stream",
     "text": [
      "  0%|          | 1/313 [00:01<05:35,  1.08s/it]"
     ]
    },
    {
     "name": "stdout",
     "output_type": "stream",
     "text": [
      "Batch [0/313], Loss: 0.0499, Class Loss: 0.0499, G Loss: 0.0000\n"
     ]
    },
    {
     "name": "stderr",
     "output_type": "stream",
     "text": [
      " 32%|███▏      | 101/313 [00:43<01:30,  2.35it/s]"
     ]
    },
    {
     "name": "stdout",
     "output_type": "stream",
     "text": [
      "Batch [100/313], Loss: 0.0010, Class Loss: 0.0010, G Loss: 0.0000\n"
     ]
    },
    {
     "name": "stderr",
     "output_type": "stream",
     "text": [
      " 64%|██████▍   | 201/313 [01:26<00:47,  2.34it/s]"
     ]
    },
    {
     "name": "stdout",
     "output_type": "stream",
     "text": [
      "Batch [200/313], Loss: 0.0008, Class Loss: 0.0008, G Loss: 0.0000\n"
     ]
    },
    {
     "name": "stderr",
     "output_type": "stream",
     "text": [
      " 96%|█████████▌| 301/313 [02:09<00:05,  2.34it/s]"
     ]
    },
    {
     "name": "stdout",
     "output_type": "stream",
     "text": [
      "Batch [300/313], Loss: 0.0005, Class Loss: 0.0005, G Loss: 0.0000\n"
     ]
    },
    {
     "name": "stderr",
     "output_type": "stream",
     "text": [
      "100%|██████████| 313/313 [02:14<00:00,  2.33it/s]\n"
     ]
    },
    {
     "name": "stdout",
     "output_type": "stream",
     "text": [
      "Average loss: 0.0118\n",
      "\n",
      "Evaluating 2-way tasks...\n",
      "Episode 100/2000, Running Avg Accuracy: 0.9650\n",
      "Episode 200/2000, Running Avg Accuracy: 0.9600\n",
      "Episode 300/2000, Running Avg Accuracy: 0.9633\n",
      "Episode 400/2000, Running Avg Accuracy: 0.9637\n",
      "Episode 500/2000, Running Avg Accuracy: 0.9650\n",
      "Episode 600/2000, Running Avg Accuracy: 0.9692\n",
      "Episode 700/2000, Running Avg Accuracy: 0.9707\n",
      "Episode 800/2000, Running Avg Accuracy: 0.9688\n",
      "Episode 900/2000, Running Avg Accuracy: 0.9683\n",
      "Episode 1000/2000, Running Avg Accuracy: 0.9660\n",
      "Episode 1100/2000, Running Avg Accuracy: 0.9650\n",
      "Episode 1200/2000, Running Avg Accuracy: 0.9654\n",
      "Episode 1300/2000, Running Avg Accuracy: 0.9654\n",
      "Episode 1400/2000, Running Avg Accuracy: 0.9654\n",
      "Episode 1500/2000, Running Avg Accuracy: 0.9647\n",
      "Episode 1600/2000, Running Avg Accuracy: 0.9641\n",
      "Episode 1700/2000, Running Avg Accuracy: 0.9629\n",
      "Episode 1800/2000, Running Avg Accuracy: 0.9636\n",
      "Episode 1900/2000, Running Avg Accuracy: 0.9653\n",
      "Episode 2000/2000, Running Avg Accuracy: 0.9637\n",
      "\n",
      "Final Average Accuracy over 2000 episodes: 0.9637\n",
      "Average accuracy over 2000 episodes: 0.9637\n",
      "\n",
      "Epoch 46/50\n"
     ]
    },
    {
     "name": "stderr",
     "output_type": "stream",
     "text": [
      "  0%|          | 1/313 [00:01<05:19,  1.02s/it]"
     ]
    },
    {
     "name": "stdout",
     "output_type": "stream",
     "text": [
      "Batch [0/313], Loss: 0.0112, Class Loss: 0.0112, G Loss: 0.0000\n"
     ]
    },
    {
     "name": "stderr",
     "output_type": "stream",
     "text": [
      " 32%|███▏      | 101/313 [00:43<01:30,  2.34it/s]"
     ]
    },
    {
     "name": "stdout",
     "output_type": "stream",
     "text": [
      "Batch [100/313], Loss: 0.0007, Class Loss: 0.0007, G Loss: 0.0000\n"
     ]
    },
    {
     "name": "stderr",
     "output_type": "stream",
     "text": [
      " 64%|██████▍   | 201/313 [01:26<00:47,  2.34it/s]"
     ]
    },
    {
     "name": "stdout",
     "output_type": "stream",
     "text": [
      "Batch [200/313], Loss: 0.0965, Class Loss: 0.0965, G Loss: 0.0000\n"
     ]
    },
    {
     "name": "stderr",
     "output_type": "stream",
     "text": [
      " 96%|█████████▌| 301/313 [02:09<00:05,  2.34it/s]"
     ]
    },
    {
     "name": "stdout",
     "output_type": "stream",
     "text": [
      "Batch [300/313], Loss: 0.0017, Class Loss: 0.0017, G Loss: 0.0000\n"
     ]
    },
    {
     "name": "stderr",
     "output_type": "stream",
     "text": [
      "100%|██████████| 313/313 [02:14<00:00,  2.33it/s]\n"
     ]
    },
    {
     "name": "stdout",
     "output_type": "stream",
     "text": [
      "Average loss: 0.0251\n",
      "\n",
      "Evaluating 2-way tasks...\n",
      "Episode 100/2000, Running Avg Accuracy: 0.9600\n",
      "Episode 200/2000, Running Avg Accuracy: 0.9650\n",
      "Episode 300/2000, Running Avg Accuracy: 0.9667\n",
      "Episode 400/2000, Running Avg Accuracy: 0.9650\n",
      "Episode 500/2000, Running Avg Accuracy: 0.9630\n",
      "Episode 600/2000, Running Avg Accuracy: 0.9633\n",
      "Episode 700/2000, Running Avg Accuracy: 0.9614\n",
      "Episode 800/2000, Running Avg Accuracy: 0.9619\n",
      "Episode 900/2000, Running Avg Accuracy: 0.9639\n",
      "Episode 1000/2000, Running Avg Accuracy: 0.9620\n",
      "Episode 1100/2000, Running Avg Accuracy: 0.9614\n",
      "Episode 1200/2000, Running Avg Accuracy: 0.9621\n",
      "Episode 1300/2000, Running Avg Accuracy: 0.9627\n",
      "Episode 1400/2000, Running Avg Accuracy: 0.9614\n",
      "Episode 1500/2000, Running Avg Accuracy: 0.9623\n",
      "Episode 1600/2000, Running Avg Accuracy: 0.9619\n",
      "Episode 1700/2000, Running Avg Accuracy: 0.9618\n",
      "Episode 1800/2000, Running Avg Accuracy: 0.9622\n",
      "Episode 1900/2000, Running Avg Accuracy: 0.9616\n",
      "Episode 2000/2000, Running Avg Accuracy: 0.9597\n",
      "\n",
      "Final Average Accuracy over 2000 episodes: 0.9597\n",
      "Average accuracy over 2000 episodes: 0.9597\n",
      "\n",
      "Epoch 47/50\n"
     ]
    },
    {
     "name": "stderr",
     "output_type": "stream",
     "text": [
      "  0%|          | 1/313 [00:01<06:43,  1.29s/it]"
     ]
    },
    {
     "name": "stdout",
     "output_type": "stream",
     "text": [
      "Batch [0/313], Loss: 0.0956, Class Loss: 0.0956, G Loss: 0.0000\n"
     ]
    },
    {
     "name": "stderr",
     "output_type": "stream",
     "text": [
      " 32%|███▏      | 101/313 [00:44<01:30,  2.34it/s]"
     ]
    },
    {
     "name": "stdout",
     "output_type": "stream",
     "text": [
      "Batch [100/313], Loss: 0.0003, Class Loss: 0.0003, G Loss: 0.0000\n"
     ]
    },
    {
     "name": "stderr",
     "output_type": "stream",
     "text": [
      " 64%|██████▍   | 201/313 [01:26<00:47,  2.34it/s]"
     ]
    },
    {
     "name": "stdout",
     "output_type": "stream",
     "text": [
      "Batch [200/313], Loss: 0.0022, Class Loss: 0.0022, G Loss: 0.0000\n"
     ]
    },
    {
     "name": "stderr",
     "output_type": "stream",
     "text": [
      " 96%|█████████▌| 301/313 [02:09<00:05,  2.33it/s]"
     ]
    },
    {
     "name": "stdout",
     "output_type": "stream",
     "text": [
      "Batch [300/313], Loss: 0.1393, Class Loss: 0.1393, G Loss: 0.0000\n"
     ]
    },
    {
     "name": "stderr",
     "output_type": "stream",
     "text": [
      "100%|██████████| 313/313 [02:14<00:00,  2.32it/s]\n"
     ]
    },
    {
     "name": "stdout",
     "output_type": "stream",
     "text": [
      "Average loss: 0.0163\n",
      "\n",
      "Evaluating 2-way tasks...\n",
      "Episode 100/2000, Running Avg Accuracy: 0.9450\n",
      "Episode 200/2000, Running Avg Accuracy: 0.9650\n",
      "Episode 300/2000, Running Avg Accuracy: 0.9683\n",
      "Episode 400/2000, Running Avg Accuracy: 0.9675\n",
      "Episode 500/2000, Running Avg Accuracy: 0.9640\n",
      "Episode 600/2000, Running Avg Accuracy: 0.9642\n",
      "Episode 700/2000, Running Avg Accuracy: 0.9657\n",
      "Episode 800/2000, Running Avg Accuracy: 0.9663\n",
      "Episode 900/2000, Running Avg Accuracy: 0.9656\n",
      "Episode 1000/2000, Running Avg Accuracy: 0.9660\n",
      "Episode 1100/2000, Running Avg Accuracy: 0.9650\n",
      "Episode 1200/2000, Running Avg Accuracy: 0.9642\n",
      "Episode 1300/2000, Running Avg Accuracy: 0.9642\n",
      "Episode 1400/2000, Running Avg Accuracy: 0.9646\n",
      "Episode 1500/2000, Running Avg Accuracy: 0.9650\n",
      "Episode 1600/2000, Running Avg Accuracy: 0.9659\n",
      "Episode 1700/2000, Running Avg Accuracy: 0.9644\n",
      "Episode 1800/2000, Running Avg Accuracy: 0.9636\n",
      "Episode 1900/2000, Running Avg Accuracy: 0.9637\n",
      "Episode 2000/2000, Running Avg Accuracy: 0.9630\n",
      "\n",
      "Final Average Accuracy over 2000 episodes: 0.9630\n",
      "Average accuracy over 2000 episodes: 0.9630\n",
      "\n",
      "Epoch 48/50\n"
     ]
    },
    {
     "name": "stderr",
     "output_type": "stream",
     "text": [
      "  0%|          | 1/313 [00:01<05:55,  1.14s/it]"
     ]
    },
    {
     "name": "stdout",
     "output_type": "stream",
     "text": [
      "Batch [0/313], Loss: 0.0020, Class Loss: 0.0020, G Loss: 0.0000\n"
     ]
    },
    {
     "name": "stderr",
     "output_type": "stream",
     "text": [
      " 32%|███▏      | 101/313 [00:43<01:30,  2.33it/s]"
     ]
    },
    {
     "name": "stdout",
     "output_type": "stream",
     "text": [
      "Batch [100/313], Loss: 0.0002, Class Loss: 0.0002, G Loss: 0.0000\n"
     ]
    },
    {
     "name": "stderr",
     "output_type": "stream",
     "text": [
      " 64%|██████▍   | 201/313 [01:26<00:47,  2.34it/s]"
     ]
    },
    {
     "name": "stdout",
     "output_type": "stream",
     "text": [
      "Batch [200/313], Loss: 0.0035, Class Loss: 0.0035, G Loss: 0.0000\n"
     ]
    },
    {
     "name": "stderr",
     "output_type": "stream",
     "text": [
      " 96%|█████████▌| 301/313 [02:09<00:05,  2.33it/s]"
     ]
    },
    {
     "name": "stdout",
     "output_type": "stream",
     "text": [
      "Batch [300/313], Loss: 0.0072, Class Loss: 0.0072, G Loss: 0.0000\n"
     ]
    },
    {
     "name": "stderr",
     "output_type": "stream",
     "text": [
      "100%|██████████| 313/313 [02:14<00:00,  2.33it/s]\n"
     ]
    },
    {
     "name": "stdout",
     "output_type": "stream",
     "text": [
      "Average loss: 0.0291\n",
      "\n",
      "Evaluating 2-way tasks...\n",
      "Episode 100/2000, Running Avg Accuracy: 0.9550\n",
      "Episode 200/2000, Running Avg Accuracy: 0.9650\n",
      "Episode 300/2000, Running Avg Accuracy: 0.9583\n",
      "Episode 400/2000, Running Avg Accuracy: 0.9587\n",
      "Episode 500/2000, Running Avg Accuracy: 0.9570\n",
      "Episode 600/2000, Running Avg Accuracy: 0.9575\n",
      "Episode 700/2000, Running Avg Accuracy: 0.9564\n",
      "Episode 800/2000, Running Avg Accuracy: 0.9544\n",
      "Episode 900/2000, Running Avg Accuracy: 0.9539\n",
      "Episode 1000/2000, Running Avg Accuracy: 0.9545\n",
      "Episode 1100/2000, Running Avg Accuracy: 0.9555\n",
      "Episode 1200/2000, Running Avg Accuracy: 0.9563\n",
      "Episode 1300/2000, Running Avg Accuracy: 0.9550\n",
      "Episode 1400/2000, Running Avg Accuracy: 0.9568\n",
      "Episode 1500/2000, Running Avg Accuracy: 0.9580\n",
      "Episode 1600/2000, Running Avg Accuracy: 0.9581\n",
      "Episode 1700/2000, Running Avg Accuracy: 0.9594\n",
      "Episode 1800/2000, Running Avg Accuracy: 0.9600\n",
      "Episode 1900/2000, Running Avg Accuracy: 0.9597\n",
      "Episode 2000/2000, Running Avg Accuracy: 0.9590\n",
      "\n",
      "Final Average Accuracy over 2000 episodes: 0.9590\n",
      "Average accuracy over 2000 episodes: 0.9590\n",
      "\n",
      "Epoch 49/50\n"
     ]
    },
    {
     "name": "stderr",
     "output_type": "stream",
     "text": [
      "  0%|          | 1/313 [00:01<05:37,  1.08s/it]"
     ]
    },
    {
     "name": "stdout",
     "output_type": "stream",
     "text": [
      "Batch [0/313], Loss: 0.0007, Class Loss: 0.0007, G Loss: 0.0000\n"
     ]
    },
    {
     "name": "stderr",
     "output_type": "stream",
     "text": [
      " 32%|███▏      | 101/313 [00:43<01:30,  2.34it/s]"
     ]
    },
    {
     "name": "stdout",
     "output_type": "stream",
     "text": [
      "Batch [100/313], Loss: 0.0103, Class Loss: 0.0103, G Loss: 0.0000\n"
     ]
    },
    {
     "name": "stderr",
     "output_type": "stream",
     "text": [
      " 64%|██████▍   | 201/313 [01:26<00:47,  2.34it/s]"
     ]
    },
    {
     "name": "stdout",
     "output_type": "stream",
     "text": [
      "Batch [200/313], Loss: 0.0140, Class Loss: 0.0140, G Loss: 0.0000\n"
     ]
    },
    {
     "name": "stderr",
     "output_type": "stream",
     "text": [
      " 96%|█████████▌| 301/313 [02:09<00:05,  2.34it/s]"
     ]
    },
    {
     "name": "stdout",
     "output_type": "stream",
     "text": [
      "Batch [300/313], Loss: 0.0203, Class Loss: 0.0203, G Loss: 0.0000\n"
     ]
    },
    {
     "name": "stderr",
     "output_type": "stream",
     "text": [
      "100%|██████████| 313/313 [02:14<00:00,  2.33it/s]\n"
     ]
    },
    {
     "name": "stdout",
     "output_type": "stream",
     "text": [
      "Average loss: 0.0325\n",
      "\n",
      "Evaluating 2-way tasks...\n",
      "Episode 100/2000, Running Avg Accuracy: 0.9700\n",
      "Episode 200/2000, Running Avg Accuracy: 0.9750\n",
      "Episode 300/2000, Running Avg Accuracy: 0.9650\n",
      "Episode 400/2000, Running Avg Accuracy: 0.9650\n",
      "Episode 500/2000, Running Avg Accuracy: 0.9650\n",
      "Episode 600/2000, Running Avg Accuracy: 0.9667\n",
      "Episode 700/2000, Running Avg Accuracy: 0.9650\n",
      "Episode 800/2000, Running Avg Accuracy: 0.9656\n",
      "Episode 900/2000, Running Avg Accuracy: 0.9650\n",
      "Episode 1000/2000, Running Avg Accuracy: 0.9650\n",
      "Episode 1100/2000, Running Avg Accuracy: 0.9645\n",
      "Episode 1200/2000, Running Avg Accuracy: 0.9654\n",
      "Episode 1300/2000, Running Avg Accuracy: 0.9638\n",
      "Episode 1400/2000, Running Avg Accuracy: 0.9643\n",
      "Episode 1500/2000, Running Avg Accuracy: 0.9627\n",
      "Episode 1600/2000, Running Avg Accuracy: 0.9625\n",
      "Episode 1700/2000, Running Avg Accuracy: 0.9626\n",
      "Episode 1800/2000, Running Avg Accuracy: 0.9628\n",
      "Episode 1900/2000, Running Avg Accuracy: 0.9616\n",
      "Episode 2000/2000, Running Avg Accuracy: 0.9615\n",
      "\n",
      "Final Average Accuracy over 2000 episodes: 0.9615\n",
      "Average accuracy over 2000 episodes: 0.9615\n",
      "\n",
      "Epoch 50/50\n"
     ]
    },
    {
     "name": "stderr",
     "output_type": "stream",
     "text": [
      "  0%|          | 1/313 [00:01<05:44,  1.10s/it]"
     ]
    },
    {
     "name": "stdout",
     "output_type": "stream",
     "text": [
      "Batch [0/313], Loss: 0.0438, Class Loss: 0.0438, G Loss: 0.0000\n"
     ]
    },
    {
     "name": "stderr",
     "output_type": "stream",
     "text": [
      " 32%|███▏      | 101/313 [00:43<01:30,  2.34it/s]"
     ]
    },
    {
     "name": "stdout",
     "output_type": "stream",
     "text": [
      "Batch [100/313], Loss: 0.0095, Class Loss: 0.0095, G Loss: 0.0000\n"
     ]
    },
    {
     "name": "stderr",
     "output_type": "stream",
     "text": [
      " 64%|██████▍   | 201/313 [01:26<00:47,  2.34it/s]"
     ]
    },
    {
     "name": "stdout",
     "output_type": "stream",
     "text": [
      "Batch [200/313], Loss: 0.0020, Class Loss: 0.0020, G Loss: 0.0000\n"
     ]
    },
    {
     "name": "stderr",
     "output_type": "stream",
     "text": [
      " 96%|█████████▌| 301/313 [02:09<00:05,  2.34it/s]"
     ]
    },
    {
     "name": "stdout",
     "output_type": "stream",
     "text": [
      "Batch [300/313], Loss: 0.0123, Class Loss: 0.0123, G Loss: 0.0000\n"
     ]
    },
    {
     "name": "stderr",
     "output_type": "stream",
     "text": [
      "100%|██████████| 313/313 [02:14<00:00,  2.33it/s]\n"
     ]
    },
    {
     "name": "stdout",
     "output_type": "stream",
     "text": [
      "Average loss: 0.0161\n",
      "\n",
      "Evaluating 2-way tasks...\n",
      "Episode 100/2000, Running Avg Accuracy: 0.9450\n",
      "Episode 200/2000, Running Avg Accuracy: 0.9600\n",
      "Episode 300/2000, Running Avg Accuracy: 0.9567\n",
      "Episode 400/2000, Running Avg Accuracy: 0.9587\n",
      "Episode 500/2000, Running Avg Accuracy: 0.9590\n",
      "Episode 600/2000, Running Avg Accuracy: 0.9583\n",
      "Episode 700/2000, Running Avg Accuracy: 0.9614\n",
      "Episode 800/2000, Running Avg Accuracy: 0.9606\n",
      "Episode 900/2000, Running Avg Accuracy: 0.9617\n",
      "Episode 1000/2000, Running Avg Accuracy: 0.9645\n",
      "Episode 1100/2000, Running Avg Accuracy: 0.9641\n",
      "Episode 1200/2000, Running Avg Accuracy: 0.9621\n",
      "Episode 1300/2000, Running Avg Accuracy: 0.9627\n",
      "Episode 1400/2000, Running Avg Accuracy: 0.9636\n",
      "Episode 1500/2000, Running Avg Accuracy: 0.9647\n",
      "Episode 1600/2000, Running Avg Accuracy: 0.9631\n",
      "Episode 1700/2000, Running Avg Accuracy: 0.9629\n",
      "Episode 1800/2000, Running Avg Accuracy: 0.9639\n",
      "Episode 1900/2000, Running Avg Accuracy: 0.9642\n",
      "Episode 2000/2000, Running Avg Accuracy: 0.9640\n",
      "\n",
      "Final Average Accuracy over 2000 episodes: 0.9640\n",
      "Average accuracy over 2000 episodes: 0.9640\n"
     ]
    }
   ],
   "source": [
    "import torch\n",
    "import random\n",
    "import torch.nn as nn\n",
    "import torch.nn.functional as F\n",
    "from torchvision import models, transforms\n",
    "from torch.utils.data import Dataset, DataLoader\n",
    "import numpy as np\n",
    "import os\n",
    "from PIL import Image\n",
    "from tqdm import tqdm\n",
    "\n",
    "class FeatureExtractor(nn.Module):\n",
    "    def __init__(self, pretrained=True):\n",
    "        super(FeatureExtractor, self).__init__()\n",
    "        # Using ResNet as base feature extractor\n",
    "        resnet = models.resnet50(pretrained=pretrained)\n",
    "        self.features = nn.Sequential(*list(resnet.children())[:-2])\n",
    "        \n",
    "    def forward(self, x):\n",
    "        return self.features(x)\n",
    "\n",
    "class GRUSkipConnection(nn.Module):\n",
    "    def __init__(self, input_dim, hidden_dim=256):\n",
    "        super(GRUSkipConnection, self).__init__()\n",
    "        self.gru = nn.GRU(input_dim, hidden_dim, batch_first=True)\n",
    "        self.transform = nn.Conv2d(input_dim, hidden_dim, 1)\n",
    "        \n",
    "    def forward(self, x):\n",
    "        batch, channels, height, width = x.size()\n",
    "        # Transform spatial features to sequence\n",
    "        spatial_features = x.view(batch, channels, -1).permute(0, 2, 1)\n",
    "        \n",
    "        # GRU processing\n",
    "        gru_out, _ = self.gru(spatial_features)\n",
    "        \n",
    "        # Reshape back to spatial form\n",
    "        gru_out = gru_out.permute(0, 2, 1).view(batch, -1, height, width)\n",
    "        \n",
    "        # Skip connection with dimension matching\n",
    "        skip = self.transform(x)\n",
    "        \n",
    "        return gru_out + skip\n",
    "        \n",
    "class AttentionModule(nn.Module):\n",
    "    def __init__(self, in_channels, hidden_dim=256):\n",
    "        super(AttentionModule, self).__init__()\n",
    "        self.conv1 = nn.Conv2d(in_channels, hidden_dim, kernel_size=1)\n",
    "        self.conv2 = nn.Conv2d(hidden_dim, in_channels, kernel_size=1)\n",
    "        \n",
    "    def forward(self, x):\n",
    "        attention = F.relu(self.conv1(x))\n",
    "        attention = torch.sigmoid(self.conv2(attention))\n",
    "        return x * attention\n",
    "\n",
    "class Discriminator(nn.Module):\n",
    "    def __init__(self, input_channels, hidden_dim=256):\n",
    "        super(Discriminator, self).__init__()\n",
    "        self.conv1 = nn.Conv2d(input_channels, hidden_dim, kernel_size=3, stride=1, padding=1)\n",
    "        self.conv2 = nn.Conv2d(hidden_dim, hidden_dim, kernel_size=3, stride=1, padding=1)\n",
    "        self.conv3 = nn.Conv2d(hidden_dim, hidden_dim, kernel_size=3, stride=1, padding=1)\n",
    "        \n",
    "        self.fc = nn.Linear(hidden_dim * 7 * 7, 1)\n",
    "        \n",
    "        self.bn1 = nn.BatchNorm2d(hidden_dim)\n",
    "        self.bn2 = nn.BatchNorm2d(hidden_dim)\n",
    "        self.bn3 = nn.BatchNorm2d(hidden_dim)\n",
    "        \n",
    "        # Add GRU skip connections\n",
    "        self.gru_skip1 = GRUSkipConnection(hidden_dim)\n",
    "        self.gru_skip2 = GRUSkipConnection(hidden_dim)\n",
    "        \n",
    "    def forward(self, x):\n",
    "        # Initial dimension reduction to hidden_dim\n",
    "        x = self.conv1(x)\n",
    "        x = self.bn1(F.leaky_relu(x, 0.2))\n",
    "        x = self.gru_skip1(x)\n",
    "        \n",
    "        x = self.conv2(x)\n",
    "        x = self.bn2(F.leaky_relu(x, 0.2))\n",
    "        x = self.gru_skip2(x)\n",
    "        \n",
    "        x = self.conv3(x)\n",
    "        x = self.bn3(F.leaky_relu(x, 0.2))\n",
    "        \n",
    "        x = x.view(x.size(0), -1)\n",
    "        return torch.sigmoid(self.fc(x))\n",
    "\n",
    "class MTUNetPlusPlus(nn.Module):\n",
    "    def __init__(self, num_classes, feature_dim=2048, hidden_dim=256):\n",
    "        super(MTUNetPlusPlus, self).__init__()\n",
    "        self.feature_extractor = FeatureExtractor()\n",
    "        \n",
    "        # Dimension reduction after feature extraction\n",
    "        self.dim_reduction = nn.Conv2d(feature_dim, hidden_dim, 1)\n",
    "        \n",
    "        # GRU skip connections\n",
    "        self.gru_skip1 = GRUSkipConnection(hidden_dim)\n",
    "        self.gru_skip2 = GRUSkipConnection(hidden_dim)\n",
    "        \n",
    "        self.attention = AttentionModule(hidden_dim)\n",
    "        \n",
    "        # Prototype learning with reduced dimension\n",
    "        self.prototype_vectors = nn.Parameter(torch.randn(num_classes, hidden_dim))\n",
    "        \n",
    "        # Classification head with optimized dimensions\n",
    "        self.classifier = nn.Sequential(\n",
    "            nn.Linear(hidden_dim, hidden_dim),\n",
    "            nn.ReLU(),\n",
    "            nn.Dropout(0.5),\n",
    "            nn.Linear(hidden_dim, hidden_dim),\n",
    "            nn.ReLU(),\n",
    "            nn.Dropout(0.5),\n",
    "            nn.Linear(hidden_dim, num_classes)\n",
    "        )\n",
    "        \n",
    "    def forward(self, x, return_features=False):\n",
    "        # Extract and reduce features dimension\n",
    "        features = self.feature_extractor(x)\n",
    "        features = self.dim_reduction(features)\n",
    "        \n",
    "        # Apply GRU skip connections\n",
    "        features = self.gru_skip1(features)\n",
    "        features = self.gru_skip2(features)\n",
    "        \n",
    "        # Apply attention\n",
    "        attended_features = self.attention(features)\n",
    "        \n",
    "        # Global average pooling\n",
    "        pooled_features = F.adaptive_avg_pool2d(attended_features, (1, 1))\n",
    "        pooled_features = pooled_features.view(pooled_features.size(0), -1)\n",
    "        \n",
    "        # Prototype matching\n",
    "        prototype_distances = torch.cdist(pooled_features, self.prototype_vectors)\n",
    "        \n",
    "        # Classification\n",
    "        logits = self.classifier(pooled_features)\n",
    "        \n",
    "        if return_features:\n",
    "            return logits, pooled_features, prototype_distances, attended_features\n",
    "        return logits\n",
    "\n",
    "\n",
    "class GradCAM:\n",
    "    def __init__(self, model, target_layer):\n",
    "        self.model = model\n",
    "        self.target_layer = target_layer\n",
    "        self.gradients = None\n",
    "        self.features = None\n",
    "        \n",
    "        # Register hooks\n",
    "        target_layer.register_forward_hook(self._save_features)\n",
    "        target_layer.register_backward_hook(self._save_gradients)\n",
    "    \n",
    "    def _save_features(self, module, input, output):\n",
    "        self.features = output\n",
    "    \n",
    "    def _save_gradients(self, module, grad_input, grad_output):\n",
    "        self.gradients = grad_output[0]\n",
    "    \n",
    "    def generate_cam(self, input_image, target_class):\n",
    "        # Forward pass\n",
    "        model_output = self.model(input_image)\n",
    "        \n",
    "        # Zero gradients\n",
    "        self.model.zero_grad()\n",
    "        \n",
    "        # Backward pass for target class\n",
    "        one_hot = torch.zeros_like(model_output)\n",
    "        one_hot[0][target_class] = 1\n",
    "        model_output.backward(gradient=one_hot, retain_graph=True)\n",
    "        \n",
    "        # Generate CAM\n",
    "        pooled_gradients = torch.mean(self.gradients, dim=[0, 2, 3])\n",
    "        for i in range(self.features.shape[1]):\n",
    "            self.features[:, i, :, :] *= pooled_gradients[i]\n",
    "        \n",
    "        cam = torch.mean(self.features, dim=1, keepdim=True)\n",
    "        cam = F.relu(cam)\n",
    "        cam = F.interpolate(cam, size=input_image.shape[2:], mode='bilinear', align_corners=False)\n",
    "        \n",
    "        # Normalize\n",
    "        cam = (cam - cam.min()) / (cam.max() - cam.min())\n",
    "        \n",
    "        return cam\n",
    "\n",
    "def train_step(model, discriminator, batch, optimizer_G, optimizer_D):\n",
    "    # Training logic for one step\n",
    "    real_images, labels = batch\n",
    "    \n",
    "    # Train Discriminator\n",
    "    optimizer_D.zero_grad()\n",
    "    features = model.feature_extractor(real_images)\n",
    "    d_loss_real = F.binary_cross_entropy(discriminator(features), torch.ones_like(features))\n",
    "    d_loss_real.backward()\n",
    "    optimizer_D.step()\n",
    "    \n",
    "    # Train Generator (Feature Extractor)\n",
    "    optimizer_G.zero_grad()\n",
    "    features = model.feature_extractor(real_images)\n",
    "    g_loss = F.binary_cross_entropy(discriminator(features), torch.ones_like(features))\n",
    "    \n",
    "    # Classification loss\n",
    "    logits = model(real_images)\n",
    "    cls_loss = F.cross_entropy(logits, labels)\n",
    "    \n",
    "    # Combined loss\n",
    "    total_loss = cls_loss + 0.1 * g_loss\n",
    "    total_loss.backward()\n",
    "    optimizer_G.step()\n",
    "    \n",
    "    return total_loss.item()\n",
    "\n",
    "class HAM10000Dataset(Dataset):\n",
    "    def __init__(self, root_dir, transform=None):\n",
    "        \"\"\"\n",
    "        Args:\n",
    "            root_dir (string): Directory with all the images organized in class folders\n",
    "            transform (callable, optional): Optional transform to be applied on a sample\n",
    "        \"\"\"\n",
    "        self.root_dir = root_dir\n",
    "        self.transform = transform\n",
    "        self.classes = sorted(os.listdir(root_dir))  # Get class folders\n",
    "        self.class_to_idx = {cls_name: i for i, cls_name in enumerate(self.classes)}\n",
    "        \n",
    "        self.images = []\n",
    "        self.labels = []\n",
    "        \n",
    "        # Load all image paths and labels\n",
    "        for class_name in self.classes:\n",
    "            class_path = os.path.join(root_dir, class_name)\n",
    "            if os.path.isdir(class_path):\n",
    "                for img_name in os.listdir(class_path):\n",
    "                    if img_name.endswith(('.jpg', '.jpeg', '.png')):\n",
    "                        self.images.append(os.path.join(class_path, img_name))\n",
    "                        self.labels.append(self.class_to_idx[class_name])\n",
    "\n",
    "    def __len__(self):\n",
    "        return len(self.images)\n",
    "\n",
    "    def __getitem__(self, idx):\n",
    "        img_path = self.images[idx]\n",
    "        image = Image.open(img_path).convert('RGB')\n",
    "        label = self.labels[idx]\n",
    "\n",
    "        if self.transform:\n",
    "            image = self.transform(image)\n",
    "\n",
    "        return image, label\n",
    "\n",
    "def train_epoch(model, discriminator, train_loader, optimizer_G, optimizer_D, device):\n",
    "    model.train()\n",
    "    discriminator.train()\n",
    "    total_loss = 0\n",
    "    \n",
    "    for batch_idx, (images, labels) in enumerate(tqdm(train_loader)):\n",
    "        images, labels = images.to(device), labels.to(device)\n",
    "        batch_size = images.size(0)\n",
    "        \n",
    "        # Train Discriminator\n",
    "        optimizer_D.zero_grad()\n",
    "        features = model.feature_extractor(images)\n",
    "        d_real = discriminator(features.detach())\n",
    "        # Use proper target shape\n",
    "        real_labels = torch.ones(batch_size, 1).to(device)\n",
    "        d_loss_real = F.binary_cross_entropy(d_real, real_labels)\n",
    "        d_loss_real.backward()\n",
    "        optimizer_D.step()\n",
    "        \n",
    "        # Train Generator (Feature Extractor) and Classifier\n",
    "        optimizer_G.zero_grad()\n",
    "        features = model.feature_extractor(images)\n",
    "        d_fake = discriminator(features)\n",
    "        g_loss = F.binary_cross_entropy(d_fake, real_labels)\n",
    "        \n",
    "        # Classification loss\n",
    "        logits = model(images)\n",
    "        cls_loss = F.cross_entropy(logits, labels)\n",
    "        \n",
    "        # Combined loss\n",
    "        total_g_loss = cls_loss + 0.1 * g_loss\n",
    "        total_g_loss.backward()\n",
    "        optimizer_G.step()\n",
    "        \n",
    "        total_loss += total_g_loss.item()\n",
    "        \n",
    "        if batch_idx % 100 == 0:\n",
    "            print(f'Batch [{batch_idx}/{len(train_loader)}], '\n",
    "                  f'Loss: {total_g_loss.item():.4f}, '\n",
    "                  f'Class Loss: {cls_loss.item():.4f}, '\n",
    "                  f'G Loss: {g_loss.item():.4f}')\n",
    "    \n",
    "    return total_loss / len(train_loader)\n",
    "\n",
    "def evaluate_episodes(model, dataset, num_episodes=2000, n_way=2, k_shot=1, device='cuda'):\n",
    "    \"\"\"\n",
    "    Evaluate model on n-way k-shot tasks\n",
    "    Args:\n",
    "        model: trained model\n",
    "        dataset: dataset to sample episodes from\n",
    "        num_episodes: number of episodes to evaluate\n",
    "        n_way: number of classes per episode (2 for 2-way tasks)\n",
    "        k_shot: number of support examples per class\n",
    "        device: device to run evaluation on\n",
    "    \"\"\"\n",
    "    model.eval()\n",
    "    accuracies = []\n",
    "    \n",
    "    # Get all available classes\n",
    "    all_classes = list(set(dataset.labels))\n",
    "    \n",
    "    with torch.no_grad():\n",
    "        for episode in range(num_episodes):\n",
    "            # Randomly sample n classes\n",
    "            episode_classes = random.sample(all_classes, n_way)\n",
    "            \n",
    "            # Get indices for each class\n",
    "            support_indices = []\n",
    "            query_indices = []\n",
    "            \n",
    "            for class_idx in episode_classes:\n",
    "                class_indices = [i for i, label in enumerate(dataset.labels) if label == class_idx]\n",
    "                # Sample k examples for support set\n",
    "                support = random.sample(class_indices, k_shot)\n",
    "                # Sample 1 example for query set (from remaining examples)\n",
    "                remaining = list(set(class_indices) - set(support))\n",
    "                query = random.sample(remaining, 1)\n",
    "                \n",
    "                support_indices.extend(support)\n",
    "                query_indices.extend(query)\n",
    "            \n",
    "            # Prepare support and query sets\n",
    "            support_images = torch.stack([dataset[idx][0] for idx in support_indices]).to(device)\n",
    "            support_labels = torch.tensor([dataset[idx][1] for idx in support_indices]).to(device)\n",
    "            query_images = torch.stack([dataset[idx][0] for idx in query_indices]).to(device)\n",
    "            query_labels = torch.tensor([dataset[idx][1] for idx in query_indices]).to(device)\n",
    "            \n",
    "            # Get model predictions\n",
    "            support_features = model(support_images, return_features=True)[1]  # Get pooled features\n",
    "            query_features = model(query_images, return_features=True)[1]\n",
    "            \n",
    "            # Calculate prototypes for each class\n",
    "            prototypes = {}\n",
    "            for cls in episode_classes:\n",
    "                cls_mask = support_labels == cls\n",
    "                cls_features = support_features[cls_mask]\n",
    "                prototypes[cls] = cls_features.mean(0)\n",
    "            \n",
    "            # Calculate distances to prototypes\n",
    "            accuracies_episode = []\n",
    "            for i, query_feat in enumerate(query_features):\n",
    "                distances = {cls: torch.norm(query_feat - proto) for cls, proto in prototypes.items()}\n",
    "                predicted_cls = min(distances, key=distances.get)\n",
    "                correct = (predicted_cls == query_labels[i].item())\n",
    "                accuracies_episode.append(correct)\n",
    "            \n",
    "            # Calculate accuracy for this episode\n",
    "            accuracy = sum(accuracies_episode) / len(accuracies_episode)\n",
    "            accuracies.append(accuracy)\n",
    "            \n",
    "            if (episode + 1) % 100 == 0:\n",
    "                print(f'Episode {episode + 1}/{num_episodes}, Running Avg Accuracy: {np.mean(accuracies):.4f}')\n",
    "    \n",
    "    final_accuracy = np.mean(accuracies)\n",
    "    print(f'\\nFinal Average Accuracy over {num_episodes} episodes: {final_accuracy:.4f}')\n",
    "    return final_accuracy\n",
    "\n",
    "def main():\n",
    "    # Model configuration\n",
    "    config = {\n",
    "        'num_classes': 7,\n",
    "        'feature_dim': 2048,\n",
    "        'hidden_dim': 256  # Optimal hidden dimension\n",
    "    }\n",
    "    \n",
    "    # Set device\n",
    "    device = torch.device(\"cuda\" if torch.cuda.is_available() else \"cpu\")\n",
    "    print(f\"Using device: {device}\")\n",
    "    \n",
    "    # Initialize models with optimal hidden dimension\n",
    "    model = MTUNetPlusPlus(\n",
    "        num_classes=config['num_classes'],\n",
    "        feature_dim=config['feature_dim'],\n",
    "        hidden_dim=config['hidden_dim']\n",
    "    ).to(device)\n",
    "    \n",
    "    discriminator = Discriminator(\n",
    "        input_channels=config['feature_dim'],\n",
    "        hidden_dim=config['hidden_dim']\n",
    "    ).to(device)\n",
    "    \n",
    "    # Define transforms\n",
    "    transform = transforms.Compose([\n",
    "        transforms.Resize((224, 224)),\n",
    "        transforms.ToTensor(),\n",
    "        transforms.Normalize(mean=[0.485, 0.456, 0.406], std=[0.229, 0.224, 0.225])\n",
    "    ])\n",
    "\n",
    "    # Create dataset and dataloader\n",
    "    dataset = HAM10000Dataset(\n",
    "        root_dir='/kaggle/input/ham10000-and-gan/synthetic_images',\n",
    "        transform=transform\n",
    "    )\n",
    "    \n",
    "    train_loader = DataLoader(\n",
    "        dataset,\n",
    "        batch_size=32,\n",
    "        shuffle=True,\n",
    "        num_workers=4\n",
    "    )\n",
    "\n",
    "    # Initialize optimizers\n",
    "    optimizer_G = torch.optim.Adam(model.parameters(), lr=0.0001)\n",
    "    optimizer_D = torch.optim.Adam(discriminator.parameters(), lr=0.0001)\n",
    "\n",
    "    # Training loop\n",
    "    num_epochs = 50\n",
    "    for epoch in range(num_epochs):\n",
    "        print(f'\\nEpoch {epoch+1}/{num_epochs}')\n",
    "        avg_loss = train_epoch(\n",
    "            model, discriminator, train_loader,\n",
    "            optimizer_G, optimizer_D, device\n",
    "        )\n",
    "        print(f'Average loss: {avg_loss:.4f}')\n",
    "        \n",
    "        # Evaluate episodes after each epoch\n",
    "        print(\"\\nEvaluating 2-way tasks...\")\n",
    "        avg_accuracy = evaluate_episodes(\n",
    "            model,\n",
    "            dataset,\n",
    "            num_episodes=2000,\n",
    "            n_way=2,\n",
    "            k_shot=1,\n",
    "            device=device\n",
    "        )\n",
    "        print(f'Average accuracy over 2000 episodes: {avg_accuracy:.4f}')\n",
    "\n",
    "        # Save checkpoint\n",
    "        if (epoch + 1) % 5 == 0:\n",
    "            torch.save({\n",
    "                'epoch': epoch,\n",
    "                'model_state_dict': model.state_dict(),\n",
    "                'discriminator_state_dict': discriminator.state_dict(),\n",
    "                'optimizer_G_state_dict': optimizer_G.state_dict(),\n",
    "                'optimizer_D_state_dict': optimizer_D.state_dict(),\n",
    "                'episode_accuracy': avg_accuracy\n",
    "            }, f'checkpoint_epoch_{epoch+1}.pth')\n",
    "\n",
    "if __name__ == \"__main__\":\n",
    "    main()"
   ]
  },
  {
   "cell_type": "code",
   "execution_count": null,
   "id": "5f23439b",
   "metadata": {
    "papermill": {
     "duration": 0.833661,
     "end_time": "2025-01-03T17:24:29.711078",
     "exception": false,
     "start_time": "2025-01-03T17:24:28.877417",
     "status": "completed"
    },
    "tags": []
   },
   "outputs": [],
   "source": []
  }
 ],
 "metadata": {
  "kaggle": {
   "accelerator": "gpu",
   "dataSources": [
    {
     "datasetId": 6329760,
     "sourceId": 10237231,
     "sourceType": "datasetVersion"
    }
   ],
   "dockerImageVersionId": 30805,
   "isGpuEnabled": true,
   "isInternetEnabled": true,
   "language": "python",
   "sourceType": "notebook"
  },
  "kernelspec": {
   "display_name": "Python 3",
   "language": "python",
   "name": "python3"
  },
  "language_info": {
   "codemirror_mode": {
    "name": "ipython",
    "version": 3
   },
   "file_extension": ".py",
   "mimetype": "text/x-python",
   "name": "python",
   "nbconvert_exporter": "python",
   "pygments_lexer": "ipython3",
   "version": "3.10.14"
  },
  "papermill": {
   "default_parameters": {},
   "duration": 15802.491814,
   "end_time": "2025-01-03T17:24:32.879647",
   "environment_variables": {},
   "exception": null,
   "input_path": "__notebook__.ipynb",
   "output_path": "__notebook__.ipynb",
   "parameters": {},
   "start_time": "2025-01-03T13:01:10.387833",
   "version": "2.6.0"
  }
 },
 "nbformat": 4,
 "nbformat_minor": 5
}
